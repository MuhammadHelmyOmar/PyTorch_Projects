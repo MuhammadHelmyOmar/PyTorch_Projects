{
  "nbformat": 4,
  "nbformat_minor": 0,
  "metadata": {
    "colab": {
      "provenance": [],
      "toc_visible": true,
      "authorship_tag": "ABX9TyPy0QLCCiLiWwz802TNidNO",
      "include_colab_link": true
    },
    "kernelspec": {
      "name": "python3",
      "display_name": "Python 3"
    },
    "language_info": {
      "name": "python"
    },
        "fff73c7caf0e4c61898902843d35e9c2": {
          "model_module": "@jupyter-widgets/controls",
          "model_name": "HTMLModel",
          "model_module_version": "1.5.0",
          "state": {
            "_dom_classes": [],
            "_model_module": "@jupyter-widgets/controls",
            "_model_module_version": "1.5.0",
            "_model_name": "HTMLModel",
            "_view_count": null,
            "_view_module": "@jupyter-widgets/controls",
            "_view_module_version": "1.5.0",
            "_view_name": "HTMLView",
            "description": "",
            "description_tooltip": null,
            "layout": "IPY_MODEL_3ffe03e7a6c8400daa9b7d713a1f0086",
            "placeholder": "​",
            "style": "IPY_MODEL_d884d05ef7754580aa2c724db1e872c0",
            "value": "100%"
          }
        },
        "ffe547a82785429483e36379564ada23": {
          "model_module": "@jupyter-widgets/controls",
          "model_name": "FloatProgressModel",
          "model_module_version": "1.5.0",
          "state": {
            "_dom_classes": [],
            "_model_module": "@jupyter-widgets/controls",
            "_model_module_version": "1.5.0",
            "_model_name": "FloatProgressModel",
            "_view_count": null,
            "_view_module": "@jupyter-widgets/controls",
            "_view_module_version": "1.5.0",
            "_view_name": "ProgressView",
            "bar_style": "success",
            "description": "",
            "description_tooltip": null,
            "layout": "IPY_MODEL_79b1a3e1054244dca62bb36da60455f3",
            "max": 3,
            "min": 0,
            "orientation": "horizontal",
            "style": "IPY_MODEL_11812be16b0b40eaa326103436f303c7",
            "value": 3
          }
        },
        "e146f98d9c164bc6b6539d35f664e3aa": {
          "model_module": "@jupyter-widgets/controls",
          "model_name": "HTMLModel",
          "model_module_version": "1.5.0",
          "state": {
            "_dom_classes": [],
            "_model_module": "@jupyter-widgets/controls",
            "_model_module_version": "1.5.0",
            "_model_name": "HTMLModel",
            "_view_count": null,
            "_view_module": "@jupyter-widgets/controls",
            "_view_module_version": "1.5.0",
            "_view_name": "HTMLView",
            "description": "",
            "description_tooltip": null,
            "layout": "IPY_MODEL_752d6e9c78bc4a9590dc9933ef4a7dcc",
            "placeholder": "​",
            "style": "IPY_MODEL_c0904bc76cee41e3b4daa8b385732f64",
            "value": " 3/3 [00:36&lt;00:00, 12.44s/it]"
          }
        },
        "89e35baf7706452b97708983fd45d2c9": {
          "model_module": "@jupyter-widgets/base",
          "model_name": "LayoutModel",
          "model_module_version": "1.2.0",
          "state": {
            "_model_module": "@jupyter-widgets/base",
            "_model_module_version": "1.2.0",
            "_model_name": "LayoutModel",
            "_view_count": null,
            "_view_module": "@jupyter-widgets/base",
            "_view_module_version": "1.2.0",
            "_view_name": "LayoutView",
            "align_content": null,
            "align_items": null,
            "align_self": null,
            "border": null,
            "bottom": null,
            "display": null,
            "flex": null,
            "flex_flow": null,
            "grid_area": null,
            "grid_auto_columns": null,
            "grid_auto_flow": null,
            "grid_auto_rows": null,
            "grid_column": null,
            "grid_gap": null,
            "grid_row": null,
            "grid_template_areas": null,
            "grid_template_columns": null,
            "grid_template_rows": null,
            "height": null,
            "justify_content": null,
            "justify_items": null,
            "left": null,
            "margin": null,
            "max_height": null,
            "max_width": null,
            "min_height": null,
            "min_width": null,
            "object_fit": null,
            "object_position": null,
            "order": null,
            "overflow": null,
            "overflow_x": null,
            "overflow_y": null,
            "padding": null,
            "right": null,
            "top": null,
            "visibility": null,
            "width": null
          }
        },
        "3ffe03e7a6c8400daa9b7d713a1f0086": {
          "model_module": "@jupyter-widgets/base",
          "model_name": "LayoutModel",
          "model_module_version": "1.2.0",
          "state": {
            "_model_module": "@jupyter-widgets/base",
            "_model_module_version": "1.2.0",
            "_model_name": "LayoutModel",
            "_view_count": null,
            "_view_module": "@jupyter-widgets/base",
            "_view_module_version": "1.2.0",
            "_view_name": "LayoutView",
            "align_content": null,
            "align_items": null,
            "align_self": null,
            "border": null,
            "bottom": null,
            "display": null,
            "flex": null,
            "flex_flow": null,
            "grid_area": null,
            "grid_auto_columns": null,
            "grid_auto_flow": null,
            "grid_auto_rows": null,
            "grid_column": null,
            "grid_gap": null,
            "grid_row": null,
            "grid_template_areas": null,
            "grid_template_columns": null,
            "grid_template_rows": null,
            "height": null,
            "justify_content": null,
            "justify_items": null,
            "left": null,
            "margin": null,
            "max_height": null,
            "max_width": null,
            "min_height": null,
            "min_width": null,
            "object_fit": null,
            "object_position": null,
            "order": null,
            "overflow": null,
            "overflow_x": null,
            "overflow_y": null,
            "padding": null,
            "right": null,
            "top": null,
            "visibility": null,
            "width": null
          }
        },
        "d884d05ef7754580aa2c724db1e872c0": {
          "model_module": "@jupyter-widgets/controls",
          "model_name": "DescriptionStyleModel",
          "model_module_version": "1.5.0",
          "state": {
            "_model_module": "@jupyter-widgets/controls",
            "_model_module_version": "1.5.0",
            "_model_name": "DescriptionStyleModel",
            "_view_count": null,
            "_view_module": "@jupyter-widgets/base",
            "_view_module_version": "1.2.0",
            "_view_name": "StyleView",
            "description_width": ""
          }
        },
        "79b1a3e1054244dca62bb36da60455f3": {
          "model_module": "@jupyter-widgets/base",
          "model_name": "LayoutModel",
          "model_module_version": "1.2.0",
          "state": {
            "_model_module": "@jupyter-widgets/base",
            "_model_module_version": "1.2.0",
            "_model_name": "LayoutModel",
            "_view_count": null,
            "_view_module": "@jupyter-widgets/base",
            "_view_module_version": "1.2.0",
            "_view_name": "LayoutView",
            "align_content": null,
            "align_items": null,
            "align_self": null,
            "border": null,
            "bottom": null,
            "display": null,
            "flex": null,
            "flex_flow": null,
            "grid_area": null,
            "grid_auto_columns": null,
            "grid_auto_flow": null,
            "grid_auto_rows": null,
            "grid_column": null,
            "grid_gap": null,
            "grid_row": null,
            "grid_template_areas": null,
            "grid_template_columns": null,
            "grid_template_rows": null,
            "height": null,
            "justify_content": null,
            "justify_items": null,
            "left": null,
            "margin": null,
            "max_height": null,
            "max_width": null,
            "min_height": null,
            "min_width": null,
            "object_fit": null,
            "object_position": null,
            "order": null,
            "overflow": null,
            "overflow_x": null,
            "overflow_y": null,
            "padding": null,
            "right": null,
            "top": null,
            "visibility": null,
            "width": null
          }
        },
        "11812be16b0b40eaa326103436f303c7": {
          "model_module": "@jupyter-widgets/controls",
          "model_name": "ProgressStyleModel",
          "model_module_version": "1.5.0",
          "state": {
            "_model_module": "@jupyter-widgets/controls",
            "_model_module_version": "1.5.0",
            "_model_name": "ProgressStyleModel",
            "_view_count": null,
            "_view_module": "@jupyter-widgets/base",
            "_view_module_version": "1.2.0",
            "_view_name": "StyleView",
            "bar_color": null,
            "description_width": ""
          }
        },
        "752d6e9c78bc4a9590dc9933ef4a7dcc": {
          "model_module": "@jupyter-widgets/base",
          "model_name": "LayoutModel",
          "model_module_version": "1.2.0",
          "state": {
            "_model_module": "@jupyter-widgets/base",
            "_model_module_version": "1.2.0",
            "_model_name": "LayoutModel",
            "_view_count": null,
            "_view_module": "@jupyter-widgets/base",
            "_view_module_version": "1.2.0",
            "_view_name": "LayoutView",
            "align_content": null,
            "align_items": null,
            "align_self": null,
            "border": null,
            "bottom": null,
            "display": null,
            "flex": null,
            "flex_flow": null,
            "grid_area": null,
            "grid_auto_columns": null,
            "grid_auto_flow": null,
            "grid_auto_rows": null,
            "grid_column": null,
            "grid_gap": null,
            "grid_row": null,
            "grid_template_areas": null,
            "grid_template_columns": null,
            "grid_template_rows": null,
            "height": null,
            "justify_content": null,
            "justify_items": null,
            "left": null,
            "margin": null,
            "max_height": null,
            "max_width": null,
            "min_height": null,
            "min_width": null,
            "object_fit": null,
            "object_position": null,
            "order": null,
            "overflow": null,
            "overflow_x": null,
            "overflow_y": null,
            "padding": null,
            "right": null,
            "top": null,
            "visibility": null,
            "width": null
          }
        },
        "c0904bc76cee41e3b4daa8b385732f64": {
          "model_module": "@jupyter-widgets/controls",
          "model_name": "DescriptionStyleModel",
          "model_module_version": "1.5.0",
          "state": {
            "_model_module": "@jupyter-widgets/controls",
            "_model_module_version": "1.5.0",
            "_model_name": "DescriptionStyleModel",
            "_view_count": null,
            "_view_module": "@jupyter-widgets/base",
            "_view_module_version": "1.2.0",
            "_view_name": "StyleView",
            "description_width": ""
          }
        },
        "eeed479ae2d045aca9a0ca7ff24452dd": {
          "model_module": "@jupyter-widgets/controls",
          "model_name": "HBoxModel",
          "model_module_version": "1.5.0",
          "state": {
            "_dom_classes": [],
            "_model_module": "@jupyter-widgets/controls",
            "_model_module_version": "1.5.0",
            "_model_name": "HBoxModel",
            "_view_count": null,
            "_view_module": "@jupyter-widgets/controls",
            "_view_module_version": "1.5.0",
            "_view_name": "HBoxView",
            "box_style": "",
            "children": [
              "IPY_MODEL_71ec5ff267a64ba1bca28d6b73167e14",
              "IPY_MODEL_807d8bdec506448fab79b1f83496b422",
              "IPY_MODEL_25f93dc63de94baca81301ef250ebefd"
            ],
            "layout": "IPY_MODEL_3a2999cf3c224f1090af12be42543e2b"
          }
        },
        "71ec5ff267a64ba1bca28d6b73167e14": {
          "model_module": "@jupyter-widgets/controls",
          "model_name": "HTMLModel",
          "model_module_version": "1.5.0",
          "state": {
            "_dom_classes": [],
            "_model_module": "@jupyter-widgets/controls",
            "_model_module_version": "1.5.0",
            "_model_name": "HTMLModel",
            "_view_count": null,
            "_view_module": "@jupyter-widgets/controls",
            "_view_module_version": "1.5.0",
            "_view_name": "HTMLView",
            "description": "",
            "description_tooltip": null,
            "layout": "IPY_MODEL_633002034e8c4e839fea40c541ca694b",
            "placeholder": "​",
            "style": "IPY_MODEL_a53c7446708b4ffcb3f6a25af0285954",
            "value": "  0%"
          }
        },
        "807d8bdec506448fab79b1f83496b422": {
          "model_module": "@jupyter-widgets/controls",
          "model_name": "FloatProgressModel",
          "model_module_version": "1.5.0",
          "state": {
            "_dom_classes": [],
            "_model_module": "@jupyter-widgets/controls",
            "_model_module_version": "1.5.0",
            "_model_name": "FloatProgressModel",
            "_view_count": null,
            "_view_module": "@jupyter-widgets/controls",
            "_view_module_version": "1.5.0",
            "_view_name": "ProgressView",
            "bar_style": "",
            "description": "",
            "description_tooltip": null,
            "layout": "IPY_MODEL_d53f616163764207b58e759b571f3f9d",
            "max": 3,
            "min": 0,
            "orientation": "horizontal",
            "style": "IPY_MODEL_c9af68f43de444648332cd2d1250551f",
            "value": 0
          }
        },
        "25f93dc63de94baca81301ef250ebefd": {
          "model_module": "@jupyter-widgets/controls",
          "model_name": "HTMLModel",
          "model_module_version": "1.5.0",
          "state": {
            "_dom_classes": [],
            "_model_module": "@jupyter-widgets/controls",
            "_model_module_version": "1.5.0",
            "_model_name": "HTMLModel",
            "_view_count": null,
            "_view_module": "@jupyter-widgets/controls",
            "_view_module_version": "1.5.0",
            "_view_name": "HTMLView",
            "description": "",
            "description_tooltip": null,
            "layout": "IPY_MODEL_df56c32def1542fbbe83c5bfd490487d",
            "placeholder": "​",
            "style": "IPY_MODEL_99ea5c2c593242b6b0f51fca9a6abc81",
            "value": " 0/3 [00:00&lt;?, ?it/s]"
          }
        },
        "3a2999cf3c224f1090af12be42543e2b": {
          "model_module": "@jupyter-widgets/base",
          "model_name": "LayoutModel",
          "model_module_version": "1.2.0",
          "state": {
            "_model_module": "@jupyter-widgets/base",
            "_model_module_version": "1.2.0",
            "_model_name": "LayoutModel",
            "_view_count": null,
            "_view_module": "@jupyter-widgets/base",
            "_view_module_version": "1.2.0",
            "_view_name": "LayoutView",
            "align_content": null,
            "align_items": null,
            "align_self": null,
            "border": null,
            "bottom": null,
            "display": null,
            "flex": null,
            "flex_flow": null,
            "grid_area": null,
            "grid_auto_columns": null,
            "grid_auto_flow": null,
            "grid_auto_rows": null,
            "grid_column": null,
            "grid_gap": null,
            "grid_row": null,
            "grid_template_areas": null,
            "grid_template_columns": null,
            "grid_template_rows": null,
            "height": null,
            "justify_content": null,
            "justify_items": null,
            "left": null,
            "margin": null,
            "max_height": null,
            "max_width": null,
            "min_height": null,
            "min_width": null,
            "object_fit": null,
            "object_position": null,
            "order": null,
            "overflow": null,
            "overflow_x": null,
            "overflow_y": null,
            "padding": null,
            "right": null,
            "top": null,
            "visibility": null,
            "width": null
          }
        },
        "633002034e8c4e839fea40c541ca694b": {
          "model_module": "@jupyter-widgets/base",
          "model_name": "LayoutModel",
          "model_module_version": "1.2.0",
          "state": {
            "_model_module": "@jupyter-widgets/base",
            "_model_module_version": "1.2.0",
            "_model_name": "LayoutModel",
            "_view_count": null,
            "_view_module": "@jupyter-widgets/base",
            "_view_module_version": "1.2.0",
            "_view_name": "LayoutView",
            "align_content": null,
            "align_items": null,
            "align_self": null,
            "border": null,
            "bottom": null,
            "display": null,
            "flex": null,
            "flex_flow": null,
            "grid_area": null,
            "grid_auto_columns": null,
            "grid_auto_flow": null,
            "grid_auto_rows": null,
            "grid_column": null,
            "grid_gap": null,
            "grid_row": null,
            "grid_template_areas": null,
            "grid_template_columns": null,
            "grid_template_rows": null,
            "height": null,
            "justify_content": null,
            "justify_items": null,
            "left": null,
            "margin": null,
            "max_height": null,
            "max_width": null,
            "min_height": null,
            "min_width": null,
            "object_fit": null,
            "object_position": null,
            "order": null,
            "overflow": null,
            "overflow_x": null,
            "overflow_y": null,
            "padding": null,
            "right": null,
            "top": null,
            "visibility": null,
            "width": null
          }
        },
        "a53c7446708b4ffcb3f6a25af0285954": {
          "model_module": "@jupyter-widgets/controls",
          "model_name": "DescriptionStyleModel",
          "model_module_version": "1.5.0",
          "state": {
            "_model_module": "@jupyter-widgets/controls",
            "_model_module_version": "1.5.0",
            "_model_name": "DescriptionStyleModel",
            "_view_count": null,
            "_view_module": "@jupyter-widgets/base",
            "_view_module_version": "1.2.0",
            "_view_name": "StyleView",
            "description_width": ""
          }
        },
        "d53f616163764207b58e759b571f3f9d": {
          "model_module": "@jupyter-widgets/base",
          "model_name": "LayoutModel",
          "model_module_version": "1.2.0",
          "state": {
            "_model_module": "@jupyter-widgets/base",
            "_model_module_version": "1.2.0",
            "_model_name": "LayoutModel",
            "_view_count": null,
            "_view_module": "@jupyter-widgets/base",
            "_view_module_version": "1.2.0",
            "_view_name": "LayoutView",
            "align_content": null,
            "align_items": null,
            "align_self": null,
            "border": null,
            "bottom": null,
            "display": null,
            "flex": null,
            "flex_flow": null,
            "grid_area": null,
            "grid_auto_columns": null,
            "grid_auto_flow": null,
            "grid_auto_rows": null,
            "grid_column": null,
            "grid_gap": null,
            "grid_row": null,
            "grid_template_areas": null,
            "grid_template_columns": null,
            "grid_template_rows": null,
            "height": null,
            "justify_content": null,
            "justify_items": null,
            "left": null,
            "margin": null,
            "max_height": null,
            "max_width": null,
            "min_height": null,
            "min_width": null,
            "object_fit": null,
            "object_position": null,
            "order": null,
            "overflow": null,
            "overflow_x": null,
            "overflow_y": null,
            "padding": null,
            "right": null,
            "top": null,
            "visibility": null,
            "width": null
          }
        },
        "c9af68f43de444648332cd2d1250551f": {
          "model_module": "@jupyter-widgets/controls",
          "model_name": "ProgressStyleModel",
          "model_module_version": "1.5.0",
          "state": {
            "_model_module": "@jupyter-widgets/controls",
            "_model_module_version": "1.5.0",
            "_model_name": "ProgressStyleModel",
            "_view_count": null,
            "_view_module": "@jupyter-widgets/base",
            "_view_module_version": "1.2.0",
            "_view_name": "StyleView",
            "bar_color": null,
            "description_width": ""
          }
        },
        "df56c32def1542fbbe83c5bfd490487d": {
          "model_module": "@jupyter-widgets/base",
          "model_name": "LayoutModel",
          "model_module_version": "1.2.0",
          "state": {
            "_model_module": "@jupyter-widgets/base",
            "_model_module_version": "1.2.0",
            "_model_name": "LayoutModel",
            "_view_count": null,
            "_view_module": "@jupyter-widgets/base",
            "_view_module_version": "1.2.0",
            "_view_name": "LayoutView",
            "align_content": null,
            "align_items": null,
            "align_self": null,
            "border": null,
            "bottom": null,
            "display": null,
            "flex": null,
            "flex_flow": null,
            "grid_area": null,
            "grid_auto_columns": null,
            "grid_auto_flow": null,
            "grid_auto_rows": null,
            "grid_column": null,
            "grid_gap": null,
            "grid_row": null,
            "grid_template_areas": null,
            "grid_template_columns": null,
            "grid_template_rows": null,
            "height": null,
            "justify_content": null,
            "justify_items": null,
            "left": null,
            "margin": null,
            "max_height": null,
            "max_width": null,
            "min_height": null,
            "min_width": null,
            "object_fit": null,
            "object_position": null,
            "order": null,
            "overflow": null,
            "overflow_x": null,
            "overflow_y": null,
            "padding": null,
            "right": null,
            "top": null,
            "visibility": null,
            "width": null
          }
        },
        "99ea5c2c593242b6b0f51fca9a6abc81": {
          "model_module": "@jupyter-widgets/controls",
          "model_name": "DescriptionStyleModel",
          "model_module_version": "1.5.0",
          "state": {
            "_model_module": "@jupyter-widgets/controls",
            "_model_module_version": "1.5.0",
            "_model_name": "DescriptionStyleModel",
            "_view_count": null,
            "_view_module": "@jupyter-widgets/base",
            "_view_module_version": "1.2.0",
            "_view_name": "StyleView",
            "description_width": ""
          }
        }
      }
    }
  },
  "cells": [
    {
      "cell_type": "markdown",
      "metadata": {
        "id": "view-in-github",
        "colab_type": "text"
      },
      "source": [
        "<a href=\"https://colab.research.google.com/github/MuhammadHelmyOmar/PyTorch_Projects/blob/main/Computer_Vision.ipynb\" target=\"_parent\"><img src=\"https://colab.research.google.com/assets/colab-badge.svg\" alt=\"Open In Colab\"/></a>"
      ]
    },
    {
      "cell_type": "markdown",
      "source": [
        "# Intro"
      ],
      "metadata": {
        "id": "gMPqHeI6KW28"
      }
    },
    {
      "cell_type": "markdown",
      "source": [
        " - We can define computer vision as the art of teaching a computer to see.\n",
        " - Types of Computer Vision tasks:\n",
        "  - Binary Classification\n",
        "  - Multi-class Classification\n",
        "  - Object Detection\n",
        "  - Panoptic segmentation"
      ],
      "metadata": {
        "id": "bvtGZMCEMpVq"
      }
    },
    {
      "cell_type": "markdown",
      "source": [
        "# CV Libraries in PyTorch"
      ],
      "metadata": {
        "id": "XAI_-BwlJWFX"
      }
    },
    {
      "cell_type": "markdown",
      "source": [
        "- ***torchvision*** contains:\n",
        "  - Datasets\n",
        "  - Model architectures\n",
        "  - Image transformations\n",
        "- ***torchvision.datasets*** contains:\n",
        "  - CV datasets\n",
        "  - series of base classes for making custom datasets\n",
        "- ***torchvision.models*** contains:\n",
        "  - CV model architectures\n",
        "- ***torchvision.transforms*** contains:\n",
        "  - common image transformations (turning images into numbers, or processing or augmenting images)\n",
        "---\n",
        "- ***torch.utils.data.Dataset***: base dataset class for PyTorch\n",
        "- ***torch.utils.data.Dataloader***: creates a Python iterable over a dataset\n",
        "\n",
        "These last two classes aren't only for CV tasks, but they can deal with many different data types."
      ],
      "metadata": {
        "id": "0DYLs3IyJbmL"
      }
    },
    {
      "cell_type": "code",
      "execution_count": null,
      "metadata": {
        "colab": {
          "base_uri": "https://localhost:8080/"
        },
        "id": "adJBl6dJKTHG",
        "outputId": "a6a0d648-6175-4431-ee62-cae44e889790"
      },
      "outputs": [
        {
          "output_type": "stream",
          "name": "stdout",
          "text": [
            "torch version: 2.5.1+cu124\n",
            "torchvision version: 0.20.1+cu124\n"
          ]
        }
      ],
      "source": [
        "# import dependencies\n",
        "\n",
        "import torch\n",
        "from torch import nn\n",
        "import torchvision\n",
        "from torchvision import datasets\n",
        "from torchvision.transforms import ToTensor\n",
        "import matplotlib.pyplot as plt\n",
        "\n",
        "print(f\"torch version: {torch.__version__}\\ntorchvision version: {torchvision.__version__}\")"
      ]
    },
    {
      "cell_type": "markdown",
      "source": [
        "# Getting a dataset"
      ],
      "metadata": {
        "id": "dWU9Kf1Neowm"
      }
    },
    {
      "cell_type": "markdown",
      "source": [
        "- CV dataset: FashionMNIST contains grayscale images of 10 different kinds of clothing.\n",
        "- MNIST: Modified National Institute of Standards and Technology\n",
        "- Multiclass problem\n",
        "- Our task is to identify the type of clothing in an image.\n"
      ],
      "metadata": {
        "id": "5DUdib25eq84"
      }
    },
    {
      "cell_type": "code",
      "source": [
        "# Training data\n",
        "train_data = datasets.FashionMNIST(\n",
        "    root = \"data\", # root directory\n",
        "    download= True, # download data to the root directory\n",
        "    train= True, # get the training set\n",
        "    transform= ToTensor(), # transform a PIL image to tensor\n",
        "    target_transform= None # if you want to transform the labels too\n",
        ")\n",
        "\n",
        "test_data = datasets.FashionMNIST(\n",
        "    root=\"data\",\n",
        "    download=True,\n",
        "    train= False,\n",
        "    transform= ToTensor()\n",
        ")"
      ],
      "metadata": {
        "id": "08xqQcGwuCug",
        "outputId": "0d278a9f-2351-47a4-9b9d-fb6116eb4afc",
        "colab": {
          "base_uri": "https://localhost:8080/"
        }
      },
      "execution_count": null,
      "outputs": [
        {
          "output_type": "stream",
          "name": "stdout",
          "text": [
            "Downloading http://fashion-mnist.s3-website.eu-central-1.amazonaws.com/train-images-idx3-ubyte.gz\n",
            "Downloading http://fashion-mnist.s3-website.eu-central-1.amazonaws.com/train-images-idx3-ubyte.gz to data/FashionMNIST/raw/train-images-idx3-ubyte.gz\n"
          ]
        },
        {
          "output_type": "stream",
          "name": "stderr",
          "text": [
            "100%|██████████| 26.4M/26.4M [00:02<00:00, 13.0MB/s]\n"
          ]
        },
        {
          "output_type": "stream",
          "name": "stdout",
          "text": [
            "Extracting data/FashionMNIST/raw/train-images-idx3-ubyte.gz to data/FashionMNIST/raw\n",
            "\n",
            "Downloading http://fashion-mnist.s3-website.eu-central-1.amazonaws.com/train-labels-idx1-ubyte.gz\n",
            "Downloading http://fashion-mnist.s3-website.eu-central-1.amazonaws.com/train-labels-idx1-ubyte.gz to data/FashionMNIST/raw/train-labels-idx1-ubyte.gz\n"
          ]
        },
        {
          "output_type": "stream",
          "name": "stderr",
          "text": [
            "100%|██████████| 29.5k/29.5k [00:00<00:00, 206kB/s]\n"
          ]
        },
        {
          "output_type": "stream",
          "name": "stdout",
          "text": [
            "Extracting data/FashionMNIST/raw/train-labels-idx1-ubyte.gz to data/FashionMNIST/raw\n",
            "\n",
            "Downloading http://fashion-mnist.s3-website.eu-central-1.amazonaws.com/t10k-images-idx3-ubyte.gz\n",
            "Downloading http://fashion-mnist.s3-website.eu-central-1.amazonaws.com/t10k-images-idx3-ubyte.gz to data/FashionMNIST/raw/t10k-images-idx3-ubyte.gz\n"
          ]
        },
        {
          "output_type": "stream",
          "name": "stderr",
          "text": [
            "100%|██████████| 4.42M/4.42M [00:01<00:00, 3.91MB/s]\n"
          ]
        },
        {
          "output_type": "stream",
          "name": "stdout",
          "text": [
            "Extracting data/FashionMNIST/raw/t10k-images-idx3-ubyte.gz to data/FashionMNIST/raw\n",
            "\n",
            "Downloading http://fashion-mnist.s3-website.eu-central-1.amazonaws.com/t10k-labels-idx1-ubyte.gz\n",
            "Downloading http://fashion-mnist.s3-website.eu-central-1.amazonaws.com/t10k-labels-idx1-ubyte.gz to data/FashionMNIST/raw/t10k-labels-idx1-ubyte.gz\n"
          ]
        },
        {
          "output_type": "stream",
          "name": "stderr",
          "text": [
            "100%|██████████| 5.15k/5.15k [00:00<00:00, 5.52MB/s]"
          ]
        },
        {
          "output_type": "stream",
          "name": "stdout",
          "text": [
            "Extracting data/FashionMNIST/raw/t10k-labels-idx1-ubyte.gz to data/FashionMNIST/raw\n",
            "\n"
          ]
        },
        {
          "output_type": "stream",
          "name": "stderr",
          "text": [
            "\n"
          ]
        }
      ]
    },
    {
      "cell_type": "code",
      "source": [
        "image, label = train_data[0]\n",
        "image, label"
      ],
      "metadata": {
        "colab": {
          "base_uri": "https://localhost:8080/"
        },
        "id": "2pLqYKfsTaNn",
        "outputId": "51fefe67-0765-4e6c-cd99-f59f1a741869"
      },
      "execution_count": null,
      "outputs": [
        {
          "output_type": "execute_result",
          "data": {
            "text/plain": [
              "(tensor([[[0.0000, 0.0000, 0.0000, 0.0000, 0.0000, 0.0000, 0.0000, 0.0000,\n",
              "           0.0000, 0.0000, 0.0000, 0.0000, 0.0000, 0.0000, 0.0000, 0.0000,\n",
              "           0.0000, 0.0000, 0.0000, 0.0000, 0.0000, 0.0000, 0.0000, 0.0000,\n",
              "           0.0000, 0.0000, 0.0000, 0.0000],\n",
              "          [0.0000, 0.0000, 0.0000, 0.0000, 0.0000, 0.0000, 0.0000, 0.0000,\n",
              "           0.0000, 0.0000, 0.0000, 0.0000, 0.0000, 0.0000, 0.0000, 0.0000,\n",
              "           0.0000, 0.0000, 0.0000, 0.0000, 0.0000, 0.0000, 0.0000, 0.0000,\n",
              "           0.0000, 0.0000, 0.0000, 0.0000],\n",
              "          [0.0000, 0.0000, 0.0000, 0.0000, 0.0000, 0.0000, 0.0000, 0.0000,\n",
              "           0.0000, 0.0000, 0.0000, 0.0000, 0.0000, 0.0000, 0.0000, 0.0000,\n",
              "           0.0000, 0.0000, 0.0000, 0.0000, 0.0000, 0.0000, 0.0000, 0.0000,\n",
              "           0.0000, 0.0000, 0.0000, 0.0000],\n",
              "          [0.0000, 0.0000, 0.0000, 0.0000, 0.0000, 0.0000, 0.0000, 0.0000,\n",
              "           0.0000, 0.0000, 0.0000, 0.0000, 0.0039, 0.0000, 0.0000, 0.0510,\n",
              "           0.2863, 0.0000, 0.0000, 0.0039, 0.0157, 0.0000, 0.0000, 0.0000,\n",
              "           0.0000, 0.0039, 0.0039, 0.0000],\n",
              "          [0.0000, 0.0000, 0.0000, 0.0000, 0.0000, 0.0000, 0.0000, 0.0000,\n",
              "           0.0000, 0.0000, 0.0000, 0.0000, 0.0118, 0.0000, 0.1412, 0.5333,\n",
              "           0.4980, 0.2431, 0.2118, 0.0000, 0.0000, 0.0000, 0.0039, 0.0118,\n",
              "           0.0157, 0.0000, 0.0000, 0.0118],\n",
              "          [0.0000, 0.0000, 0.0000, 0.0000, 0.0000, 0.0000, 0.0000, 0.0000,\n",
              "           0.0000, 0.0000, 0.0000, 0.0000, 0.0235, 0.0000, 0.4000, 0.8000,\n",
              "           0.6902, 0.5255, 0.5647, 0.4824, 0.0902, 0.0000, 0.0000, 0.0000,\n",
              "           0.0000, 0.0471, 0.0392, 0.0000],\n",
              "          [0.0000, 0.0000, 0.0000, 0.0000, 0.0000, 0.0000, 0.0000, 0.0000,\n",
              "           0.0000, 0.0000, 0.0000, 0.0000, 0.0000, 0.0000, 0.6078, 0.9255,\n",
              "           0.8118, 0.6980, 0.4196, 0.6118, 0.6314, 0.4275, 0.2510, 0.0902,\n",
              "           0.3020, 0.5098, 0.2824, 0.0588],\n",
              "          [0.0000, 0.0000, 0.0000, 0.0000, 0.0000, 0.0000, 0.0000, 0.0000,\n",
              "           0.0000, 0.0000, 0.0000, 0.0039, 0.0000, 0.2706, 0.8118, 0.8745,\n",
              "           0.8549, 0.8471, 0.8471, 0.6392, 0.4980, 0.4745, 0.4784, 0.5725,\n",
              "           0.5529, 0.3451, 0.6745, 0.2588],\n",
              "          [0.0000, 0.0000, 0.0000, 0.0000, 0.0000, 0.0000, 0.0000, 0.0000,\n",
              "           0.0000, 0.0039, 0.0039, 0.0039, 0.0000, 0.7843, 0.9098, 0.9098,\n",
              "           0.9137, 0.8980, 0.8745, 0.8745, 0.8431, 0.8353, 0.6431, 0.4980,\n",
              "           0.4824, 0.7686, 0.8980, 0.0000],\n",
              "          [0.0000, 0.0000, 0.0000, 0.0000, 0.0000, 0.0000, 0.0000, 0.0000,\n",
              "           0.0000, 0.0000, 0.0000, 0.0000, 0.0000, 0.7176, 0.8824, 0.8471,\n",
              "           0.8745, 0.8941, 0.9216, 0.8902, 0.8784, 0.8706, 0.8784, 0.8667,\n",
              "           0.8745, 0.9608, 0.6784, 0.0000],\n",
              "          [0.0000, 0.0000, 0.0000, 0.0000, 0.0000, 0.0000, 0.0000, 0.0000,\n",
              "           0.0000, 0.0000, 0.0000, 0.0000, 0.0000, 0.7569, 0.8941, 0.8549,\n",
              "           0.8353, 0.7765, 0.7059, 0.8314, 0.8235, 0.8275, 0.8353, 0.8745,\n",
              "           0.8627, 0.9529, 0.7922, 0.0000],\n",
              "          [0.0000, 0.0000, 0.0000, 0.0000, 0.0000, 0.0000, 0.0000, 0.0000,\n",
              "           0.0000, 0.0039, 0.0118, 0.0000, 0.0471, 0.8588, 0.8627, 0.8314,\n",
              "           0.8549, 0.7529, 0.6627, 0.8902, 0.8157, 0.8549, 0.8784, 0.8314,\n",
              "           0.8863, 0.7725, 0.8196, 0.2039],\n",
              "          [0.0000, 0.0000, 0.0000, 0.0000, 0.0000, 0.0000, 0.0000, 0.0000,\n",
              "           0.0000, 0.0000, 0.0235, 0.0000, 0.3882, 0.9569, 0.8706, 0.8627,\n",
              "           0.8549, 0.7961, 0.7765, 0.8667, 0.8431, 0.8353, 0.8706, 0.8627,\n",
              "           0.9608, 0.4667, 0.6549, 0.2196],\n",
              "          [0.0000, 0.0000, 0.0000, 0.0000, 0.0000, 0.0000, 0.0000, 0.0000,\n",
              "           0.0000, 0.0157, 0.0000, 0.0000, 0.2157, 0.9255, 0.8941, 0.9020,\n",
              "           0.8941, 0.9412, 0.9098, 0.8353, 0.8549, 0.8745, 0.9176, 0.8510,\n",
              "           0.8510, 0.8196, 0.3608, 0.0000],\n",
              "          [0.0000, 0.0000, 0.0039, 0.0157, 0.0235, 0.0275, 0.0078, 0.0000,\n",
              "           0.0000, 0.0000, 0.0000, 0.0000, 0.9294, 0.8863, 0.8510, 0.8745,\n",
              "           0.8706, 0.8588, 0.8706, 0.8667, 0.8471, 0.8745, 0.8980, 0.8431,\n",
              "           0.8549, 1.0000, 0.3020, 0.0000],\n",
              "          [0.0000, 0.0118, 0.0000, 0.0000, 0.0000, 0.0000, 0.0000, 0.0000,\n",
              "           0.0000, 0.2431, 0.5686, 0.8000, 0.8941, 0.8118, 0.8353, 0.8667,\n",
              "           0.8549, 0.8157, 0.8275, 0.8549, 0.8784, 0.8745, 0.8588, 0.8431,\n",
              "           0.8784, 0.9569, 0.6235, 0.0000],\n",
              "          [0.0000, 0.0000, 0.0000, 0.0000, 0.0706, 0.1725, 0.3216, 0.4196,\n",
              "           0.7412, 0.8941, 0.8627, 0.8706, 0.8510, 0.8863, 0.7843, 0.8039,\n",
              "           0.8275, 0.9020, 0.8784, 0.9176, 0.6902, 0.7373, 0.9804, 0.9725,\n",
              "           0.9137, 0.9333, 0.8431, 0.0000],\n",
              "          [0.0000, 0.2235, 0.7333, 0.8157, 0.8784, 0.8667, 0.8784, 0.8157,\n",
              "           0.8000, 0.8392, 0.8157, 0.8196, 0.7843, 0.6235, 0.9608, 0.7569,\n",
              "           0.8078, 0.8745, 1.0000, 1.0000, 0.8667, 0.9176, 0.8667, 0.8275,\n",
              "           0.8627, 0.9098, 0.9647, 0.0000],\n",
              "          [0.0118, 0.7922, 0.8941, 0.8784, 0.8667, 0.8275, 0.8275, 0.8392,\n",
              "           0.8039, 0.8039, 0.8039, 0.8627, 0.9412, 0.3137, 0.5882, 1.0000,\n",
              "           0.8980, 0.8667, 0.7373, 0.6039, 0.7490, 0.8235, 0.8000, 0.8196,\n",
              "           0.8706, 0.8941, 0.8824, 0.0000],\n",
              "          [0.3843, 0.9137, 0.7765, 0.8235, 0.8706, 0.8980, 0.8980, 0.9176,\n",
              "           0.9765, 0.8627, 0.7608, 0.8431, 0.8510, 0.9451, 0.2549, 0.2863,\n",
              "           0.4157, 0.4588, 0.6588, 0.8588, 0.8667, 0.8431, 0.8510, 0.8745,\n",
              "           0.8745, 0.8784, 0.8980, 0.1137],\n",
              "          [0.2941, 0.8000, 0.8314, 0.8000, 0.7569, 0.8039, 0.8275, 0.8824,\n",
              "           0.8471, 0.7255, 0.7725, 0.8078, 0.7765, 0.8353, 0.9412, 0.7647,\n",
              "           0.8902, 0.9608, 0.9373, 0.8745, 0.8549, 0.8314, 0.8196, 0.8706,\n",
              "           0.8627, 0.8667, 0.9020, 0.2627],\n",
              "          [0.1882, 0.7961, 0.7176, 0.7608, 0.8353, 0.7725, 0.7255, 0.7451,\n",
              "           0.7608, 0.7529, 0.7922, 0.8392, 0.8588, 0.8667, 0.8627, 0.9255,\n",
              "           0.8824, 0.8471, 0.7804, 0.8078, 0.7294, 0.7098, 0.6941, 0.6745,\n",
              "           0.7098, 0.8039, 0.8078, 0.4510],\n",
              "          [0.0000, 0.4784, 0.8588, 0.7569, 0.7020, 0.6706, 0.7176, 0.7686,\n",
              "           0.8000, 0.8235, 0.8353, 0.8118, 0.8275, 0.8235, 0.7843, 0.7686,\n",
              "           0.7608, 0.7490, 0.7647, 0.7490, 0.7765, 0.7529, 0.6902, 0.6118,\n",
              "           0.6549, 0.6941, 0.8235, 0.3608],\n",
              "          [0.0000, 0.0000, 0.2902, 0.7412, 0.8314, 0.7490, 0.6863, 0.6745,\n",
              "           0.6863, 0.7098, 0.7255, 0.7373, 0.7412, 0.7373, 0.7569, 0.7765,\n",
              "           0.8000, 0.8196, 0.8235, 0.8235, 0.8275, 0.7373, 0.7373, 0.7608,\n",
              "           0.7529, 0.8471, 0.6667, 0.0000],\n",
              "          [0.0078, 0.0000, 0.0000, 0.0000, 0.2588, 0.7843, 0.8706, 0.9294,\n",
              "           0.9373, 0.9490, 0.9647, 0.9529, 0.9569, 0.8667, 0.8627, 0.7569,\n",
              "           0.7490, 0.7020, 0.7137, 0.7137, 0.7098, 0.6902, 0.6510, 0.6588,\n",
              "           0.3882, 0.2275, 0.0000, 0.0000],\n",
              "          [0.0000, 0.0000, 0.0000, 0.0000, 0.0000, 0.0000, 0.0000, 0.1569,\n",
              "           0.2392, 0.1725, 0.2824, 0.1608, 0.1373, 0.0000, 0.0000, 0.0000,\n",
              "           0.0000, 0.0000, 0.0000, 0.0000, 0.0000, 0.0000, 0.0000, 0.0000,\n",
              "           0.0000, 0.0000, 0.0000, 0.0000],\n",
              "          [0.0000, 0.0000, 0.0000, 0.0000, 0.0000, 0.0000, 0.0000, 0.0000,\n",
              "           0.0000, 0.0000, 0.0000, 0.0000, 0.0000, 0.0000, 0.0000, 0.0000,\n",
              "           0.0000, 0.0000, 0.0000, 0.0000, 0.0000, 0.0000, 0.0000, 0.0000,\n",
              "           0.0000, 0.0000, 0.0000, 0.0000],\n",
              "          [0.0000, 0.0000, 0.0000, 0.0000, 0.0000, 0.0000, 0.0000, 0.0000,\n",
              "           0.0000, 0.0000, 0.0000, 0.0000, 0.0000, 0.0000, 0.0000, 0.0000,\n",
              "           0.0000, 0.0000, 0.0000, 0.0000, 0.0000, 0.0000, 0.0000, 0.0000,\n",
              "           0.0000, 0.0000, 0.0000, 0.0000]]]),\n",
              " 9)"
            ]
          },
          "metadata": {},
          "execution_count": 3
        }
      ]
    },
    {
      "cell_type": "markdown",
      "source": [
        "### Shapes of input and output"
      ],
      "metadata": {
        "id": "lPV_ZuA_k-L5"
      }
    },
    {
      "cell_type": "markdown",
      "source": [
        "- We have a tensor leading to one lablel.\n"
      ],
      "metadata": {
        "id": "CtN7hy9-lKKh"
      }
    },
    {
      "cell_type": "code",
      "source": [
        "image.shape"
      ],
      "metadata": {
        "colab": {
          "base_uri": "https://localhost:8080/"
        },
        "id": "hgYmAMVhTjqa",
        "outputId": "76d4ddb3-8431-4c4f-d9a0-3e0be058706d"
      },
      "execution_count": null,
      "outputs": [
        {
          "output_type": "execute_result",
          "data": {
            "text/plain": [
              "torch.Size([1, 28, 28])"
            ]
          },
          "metadata": {},
          "execution_count": 4
        }
      ]
    },
    {
      "cell_type": "markdown",
      "source": [
        "- This corresponds to: [color_channels=1, height=28, width=28]; referred to as CHW\n",
        "- Sometimes images are represented as HWC instead.\n",
        "- N stands for number of images in NCHW or NHWC.\n",
        "- NCHW is the default that PyTorch generally expects.\n",
        "- However, PyTorch states that NHWC is the best practice for better performance when data is large."
      ],
      "metadata": {
        "id": "HSaBRncMlbHl"
      }
    },
    {
      "cell_type": "code",
      "source": [
        "train_data, test_data"
      ],
      "metadata": {
        "colab": {
          "base_uri": "https://localhost:8080/"
        },
        "id": "bpm3VK_4lmaT",
        "outputId": "9eab6a10-3359-4865-b075-31b60b963bda"
      },
      "execution_count": null,
      "outputs": [
        {
          "output_type": "execute_result",
          "data": {
            "text/plain": [
              "(Dataset FashionMNIST\n",
              "     Number of datapoints: 60000\n",
              "     Root location: data\n",
              "     Split: Train\n",
              "     StandardTransform\n",
              " Transform: ToTensor(),\n",
              " Dataset FashionMNIST\n",
              "     Number of datapoints: 10000\n",
              "     Root location: data\n",
              "     Split: Test\n",
              "     StandardTransform\n",
              " Transform: ToTensor())"
            ]
          },
          "metadata": {},
          "execution_count": 5
        }
      ]
    },
    {
      "cell_type": "code",
      "source": [
        "len(train_data.data), len(train_data.targets)"
      ],
      "metadata": {
        "colab": {
          "base_uri": "https://localhost:8080/"
        },
        "id": "jlsVVwKM0fId",
        "outputId": "29a0d031-053b-4498-b07a-e7a16544af48"
      },
      "execution_count": null,
      "outputs": [
        {
          "output_type": "execute_result",
          "data": {
            "text/plain": [
              "(60000, 60000)"
            ]
          },
          "metadata": {},
          "execution_count": 6
        }
      ]
    },
    {
      "cell_type": "code",
      "source": [
        "len(test_data.data), len(test_data.targets)"
      ],
      "metadata": {
        "colab": {
          "base_uri": "https://localhost:8080/"
        },
        "id": "6rr0fFvm0fnx",
        "outputId": "b5db456e-df25-4d9a-acee-25457188760c"
      },
      "execution_count": null,
      "outputs": [
        {
          "output_type": "execute_result",
          "data": {
            "text/plain": [
              "(10000, 10000)"
            ]
          },
          "metadata": {},
          "execution_count": 7
        }
      ]
    },
    {
      "cell_type": "code",
      "source": [
        "train_data.classes"
      ],
      "metadata": {
        "colab": {
          "base_uri": "https://localhost:8080/"
        },
        "id": "WDyb2PtmZQ3d",
        "outputId": "c0b3b908-061d-408e-d47f-abb5e2dfb342"
      },
      "execution_count": null,
      "outputs": [
        {
          "output_type": "execute_result",
          "data": {
            "text/plain": [
              "['T-shirt/top',\n",
              " 'Trouser',\n",
              " 'Pullover',\n",
              " 'Dress',\n",
              " 'Coat',\n",
              " 'Sandal',\n",
              " 'Shirt',\n",
              " 'Sneaker',\n",
              " 'Bag',\n",
              " 'Ankle boot']"
            ]
          },
          "metadata": {},
          "execution_count": 8
        }
      ]
    },
    {
      "cell_type": "markdown",
      "source": [
        "### Data Visualization"
      ],
      "metadata": {
        "id": "xCGTqApR5DHC"
      }
    },
    {
      "cell_type": "code",
      "source": [
        "import matplotlib.pyplot as plt"
      ],
      "metadata": {
        "id": "eyBvLfz_5lGp"
      },
      "execution_count": null,
      "outputs": []
    },
    {
      "cell_type": "code",
      "source": [
        "image, label = train_data[1]\n",
        "print(f\"Image shape: {image.shape}\")\n",
        "plt.imshow(image.squeeze())\n",
        "plt.title(label)"
      ],
      "metadata": {
        "colab": {
          "base_uri": "https://localhost:8080/",
          "height": 489
        },
        "id": "IAj01toF5L5_",
        "outputId": "32936f86-39ad-4a7c-dcca-6bd0b972cc83"
      },
      "execution_count": null,
      "outputs": [
        {
          "output_type": "stream",
          "name": "stdout",
          "text": [
            "Image shape: torch.Size([1, 28, 28])\n"
          ]
        },
        {
          "output_type": "execute_result",
          "data": {
            "text/plain": [
              "Text(0.5, 1.0, '0')"
            ]
          },
          "metadata": {},
          "execution_count": 10
        },
        {
          "output_type": "display_data",
          "data": {
            "text/plain": [
              "<Figure size 640x480 with 1 Axes>"
            ],
            "image/png": "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\n"
          },
          "metadata": {}
        }
      ]
    },
    {
      "cell_type": "code",
      "source": [
        "# using the grayscale\n",
        "\n",
        "plt.imshow(image.squeeze(), cmap=\"gray\")\n",
        "plt.title(train_data.classes[label])"
      ],
      "metadata": {
        "colab": {
          "base_uri": "https://localhost:8080/",
          "height": 470
        },
        "id": "kpGHmhYO6osD",
        "outputId": "7b827c97-9ecd-410f-d625-8f2b545916cb"
      },
      "execution_count": null,
      "outputs": [
        {
          "output_type": "execute_result",
          "data": {
            "text/plain": [
              "Text(0.5, 1.0, 'T-shirt/top')"
            ]
          },
          "metadata": {},
          "execution_count": 11
        },
        {
          "output_type": "display_data",
          "data": {
            "text/plain": [
              "<Figure size 640x480 with 1 Axes>"
            ],
            "image/png": "iVBORw0KGgoAAAANSUhEUgAAAaAAAAGzCAYAAABpdMNsAAAAOnRFWHRTb2Z0d2FyZQBNYXRwbG90bGliIHZlcnNpb24zLjEwLjAsIGh0dHBzOi8vbWF0cGxvdGxpYi5vcmcvlHJYcgAAAAlwSFlzAAAPYQAAD2EBqD+naQAAJulJREFUeJzt3Xt0lHV+x/HP5DYkkAshkAsGNqCCiMSzESJHQFhyAtmuFWG7eGkX3F1RNvFUqdVNjwq0u03LeqzHLeJuL6AteOsROFqLRdyEtRIVhENxa4RsWEJDAlJyBZKQefoH6+zOJlx+Pyfzm4T365znHOaZ5zvPN0+e8MkzM/mOz/M8TwAARFiM6wYAAFcmAggA4AQBBABwggACADhBAAEAnCCAAABOEEAAACcIIACAEwQQAMAJAggwcPjwYfl8Pj311FOX3HbVqlXy+XwR6AoYmAggDCo+n++ylsrKStethjh9+rRWrVp10b5OnTqluLg4vfrqq5Kkv/7rv9aWLVsi0yDQD+JcNwCE07/8y7+E3H7xxRe1ffv2Xuuvu+66fu/l8ccf1w9+8IPL2vb06dNavXq1JGn27Nl9bvP222/L5/OpuLhY0vkA+uY3v6kFCxaEo10g4gggDCp//Md/HHK7urpa27dv77U+EuLi4hQXd/EfsUAgoK6urst6vLfeeku33HKL0tLSwtAd4B5PwQG/Y/fu3Zo3b54yMjKUmJiovLw8fec73+lz25/97GcaP368/H6/pk6dqo8++ijk/r5eA/L5fCorK9PGjRt1/fXXy+/36/nnn9fIkSMlSatXrw4+Tbhq1apgXSAQ0LZt2/QHf/AHwcfp6OjQCy+8ENx+6dKlwe337t2rkpISpaSkaNiwYZo7d66qq6tDetmwYYN8Pp927typ+++/XyNGjFBKSoq+/e1v69SpU7aHELhsXAEBv3H8+HEVFxdr5MiR+sEPfqC0tDQdPnxYr7/+eq9tN23apLa2Nt1///3y+Xxas2aNFi5cqF/96leKj4+/6H7effddvfrqqyorK1NGRoby8/O1bt06LV++XHfccYcWLlwoSZoyZUqw5qOPPtKJEyf09a9/XdL5pxq/973vadq0aVq2bJkkafz48ZKkTz75RDNnzlRKSooeffRRxcfH66c//almz56tqqoqFRYWhvRTVlamtLQ0rVq1SjU1NVq3bp1+/etfq7KykjdRoH95wCBWWlrqXe5pvnnzZk+S99FHH11wm7q6Ok+SN2LECO///u//guu3bt3qSfLeeOON4LqVK1f22rckLyYmxvvkk09C1p84ccKT5K1cubLP/T7xxBPe2LFjQ9YNHTrUW7JkSa9tFyxY4CUkJHi1tbXBdQ0NDV5ycrI3a9as4Lr169d7kryCggKvq6sruH7NmjWeJG/r1q0XPA5AOPAUHPAbX7y28uabb6q7u/ui2y5evFjDhw8P3p45c6Yk6Ve/+tUl93Prrbdq0qRJRr299dZbwaffLqanp0f/+Z//qQULFmjcuHHB9dnZ2br77rv13nvvqbW1NaRm2bJlIVdty5cvV1xcnN566y2jHgFTBBCuOO3t7WpsbAwuJ06ckHQ+GBYtWqTVq1crIyNDt99+u9avX6/Ozs5ejzFmzJiQ21+E0eW8dpKXl2fUb2Njoz7++OPLCqATJ07o9OnTmjBhQq/7rrvuOgUCAdXX14esv+aaa0JuDxs2TNnZ2Tp8+LBRn4ApAghXnKeeekrZ2dnBZerUqZLOv7D/b//2b9q1a5fKysr0v//7v/rOd76jgoICtbe3hzxGbGxsn4/tXcYn3CcmJhr1+x//8R8aMmSI5syZY1QHRDsCCFecb3/729q+fXtw2bhxY8j9N998s370ox9p9+7d2rhxoz755BO9/PLL/drTxV7s//d//3fNmTOnV3D1VTNy5EglJSWppqam132ffvqpYmJilJubG7L+4MGDIbfb29t17NgxfeUrXzH4CgBzvAsOV5xx48aFvD7yhVOnTiktLS3kP/Ybb7xRkvp8Gi6ckpKSJEnNzc0h67u7u7V9+3ZVVFT0qhk6dGiv7WNjY1VcXKytW7fq8OHDwRBpamrSpk2bNGPGDKWkpITU/OxnP9O9994bfB1o3bp1OnfunEpKSsLzxQEXQAABv/HCCy/oueee0x133KHx48erra1N//AP/6CUlJTg25/7S2JioiZNmqRXXnlF1157rdLT0zV58mSdOHFCra2tfb7+U1BQoHfeeUdPP/20cnJylJeXp8LCQv3whz/U9u3bNWPGDH3/+99XXFycfvrTn6qzs1Nr1qzp9ThdXV2aO3euvvWtb6mmpkbPPfecZsyYoT/8wz/s168ZIICA37j11lv14Ycf6uWXX1ZTU5NSU1M1bdo0bdy40fiNAzb+8R//UQ8++KAefvhhdXV1aeXKlero6NCkSZM0duzYXts//fTTWrZsmR5//HGdOXNGS5YsUWFhoa6//nr94he/UHl5uSoqKhQIBFRYWKh//dd/7fU3QJL093//99q4caOefPJJdXd366677tKzzz7L3wCh3/m8y3nVFIATkyZN0je+8Y0+r1y+rA0bNujee+/VRx99pJtuuinsjw9cCldAQJTq6urS4sWL9a1vfct1K0C/IICAKJWQkKCVK1e6bgPoN7wNGwDgBK8BAQCc4AoIAOAEAQQAcCLq3oQQCATU0NCg5ORk/g4BAAYgz/PU1tamnJwcxcRc+Don6gKooaGh16wqAMDAU19fr6uuuuqC90ddACUnJ7tuAVHm9z8u4HI89dRTVvvasmWLcc3+/fuNa7q6uoxrLvUZRX0x/dyhL3zjG98wrqmrqzOuefbZZ41rWlpajGvgxqX+P++3AFq7dq1+/OMfq7GxUfn5+frJT36iadOmXbKOp91+y+ZYDMY3NV7oow8uZujQoVb7SkhIMK6x6c+mJhAIGNdc6uPBL+SL4agmhgwZYlzDz/vgdqnvb7+8CeGVV17RihUrtHLlSn388cfKz8/XvHnzdPz48f7YHQBgAOqXAHr66ad133336d5779WkSZP0/PPPKykpSf/8z//cH7sDAAxAYQ+grq4u7dmzR0VFRb/dSUyMioqKtGvXrl7bd3Z2qrW1NWQBAAx+YQ+gzz//XD09PcrMzAxZn5mZqcbGxl7bV1RUKDU1NbjwDjgAuDI4/0PU8vJytbS0BJf6+nrXLQEAIiDs74LLyMhQbGysmpqaQtY3NTUpKyur1/Z+v19+vz/cbQAAolzYr4ASEhJUUFCgHTt2BNcFAgHt2LFD06dPD/fuAAADVL/8HdCKFSu0ZMkS3XTTTZo2bZqeeeYZdXR06N577+2P3QEABqB+CaDFixfrxIkTevLJJ9XY2Kgbb7xR27Zt6/XGBADAlSvqPg+otbVVqamprtu4qME2oeDGG2+0qrvzzjuNaxYtWmRc09PTY1xjOwkhMTHRuGbEiBFW+4pmn332mXGNzaSGCRMmGNf8/uvLl+Ptt982rpHsRjodOHDAal+DUUtLi1JSUi54v/N3wQEArkwEEADACQIIAOAEAQQAcIIAAgA4QQABAJwggAAAThBAAAAnCCAAgBMEEADACQIIAOAEAQQAcIJhpFHsYkP8LuTFF180rpkyZYpxjSTFxJj//tLW1mZcc/bsWeOa7u5u4xrJbvBpfHy8cY3NOd7R0WFcYzMgVIru4blDhgwxrrEZMiud/3wzU7/4xS+Ma/7kT/7EuGYgYBgpACAqEUAAACcIIACAEwQQAMAJAggA4AQBBABwggACADhBAAEAnCCAAABOEEAAACcIIACAEwQQAMAJAggA4ESc6wZwYa+//rpxzdixY41rjh8/blwj2U1ajoszP+XOnTtnXOPz+YxrJLv+bPb1+eefG9fExsYa19iymXQeKWfOnDGusZmoLtlNBZ81a5ZxzcSJE41rPv30U+OaaBO9ZxkAYFAjgAAAThBAAAAnCCAAgBMEEADACQIIAOAEAQQAcIIAAgA4QQABAJwggAAAThBAAAAnCCAAgBMMI42QgoIC4xqbwaI2Qy5tBnBKdsMxhwwZYlwzevRo45qkpCTjGsluCGd3d7dxjc0x7+npMa6xHcoaHx9vXGMzNLatrc245ujRo8Y1Nr3Zsvk+fe973zOueeSRR4xrog1XQAAAJwggAIATBBAAwAkCCADgBAEEAHCCAAIAOEEAAQCcIIAAAE4QQAAAJwggAIATBBAAwAkCCADgBMNII2TOnDnGNX6/PyI1gUDAuEayG0ba2dlpXPPYY48Z1zQ0NBjXSHaDLnNycoxrjh07ZlxjMyi1q6vLuEayO4+GDRtmXPPVr37VuObBBx80rrEZ0ivZDY21+Xn65je/aVzDMFIAACwRQAAAJ8IeQKtWrZLP5wtZJk6cGO7dAAAGuH55Dej666/XO++889udWH7gGQBg8OqXZIiLi1NWVlZ/PDQAYJDol9eADh48qJycHI0bN0733HOPjhw5csFtOzs71draGrIAAAa/sAdQYWGhNmzYoG3btmndunWqq6vTzJkzL/jZ7xUVFUpNTQ0uubm54W4JABCFwh5AJSUl+qM/+iNNmTJF8+bN01tvvaXm5ma9+uqrfW5fXl6ulpaW4FJfXx/ulgAAUajf3x2Qlpama6+9VocOHerzfr/fb/VHbwCAga3f/w6ovb1dtbW1ys7O7u9dAQAGkLAH0COPPKKqqiodPnxY77//vu644w7FxsbqrrvuCveuAAADWNifgjt69KjuuusunTx5UiNHjtSMGTNUXV2tkSNHhntXAIABzOd5nue6id/V2tqq1NRU122EXXV1tXHNqFGjjGsu9G7Di7EdWGkzfLKlpcW45uabbzauKS4uNq6RpNGjRxvXrF+/3rjm/vvvN645cOCAcU1iYqJxjWQ3aLapqcm4Zt++fcY1Bw8eNK6x+bmQpCFDhhjXnDt3zrjGZlrM5MmTjWsk6bPPPrOqs9HS0qKUlJQL3s8sOACAEwQQAMAJAggA4AQBBABwggACADhBAAEAnCCAAABOEEAAACcIIACAEwQQAMAJAggA4AQBBABwot8/kA7n5efnG9fYfDpsTIz57xSR/EDAiw0mDKdt27ZZ1XV0dBjXTJo0ybjmkUceMa7ZvHmzcc1tt91mXCNJcXHm/zV8/PHHxjUFBQXGNTbDPocOHWpcI0k9PT3GNYFAwLjmyJEjxjXTp083rpEiO4z0UrgCAgA4QQABAJwggAAAThBAAAAnCCAAgBMEEADACQIIAOAEAQQAcIIAAgA4QQABAJwggAAAThBAAAAnCCAAgBNMw7YwefJk45oTJ04Y19hM/Y2NjTWu8fl8xjWSlJiYaFxz8uRJq32ZsvkeSVJnZ6dxTXZ2tnHNj370I+Mam+9Td3e3cY3tvmynM5tqaGgwrhk9erTVviI1DfvMmTPGNTNnzjSukaQXXnjBqq4/cAUEAHCCAAIAOEEAAQCcIIAAAE4QQAAAJwggAIATBBAAwAkCCADgBAEEAHCCAAIAOEEAAQCcIIAAAE4wjNTCY489ZlxjM7izvb3duMZmeKJNb5J09uxZ4xqbAas33XSTcc2IESOMayQpPT3duCY+Pt64JjMz07jGZrCozfdIkhISEoxr0tLSjGsWL15sXDN8+HDjGpthn5KUmpoakX3ZHG+bn4towxUQAMAJAggA4AQBBABwggACADhBAAEAnCCAAABOEEAAACcIIACAEwQQAMAJAggA4AQBBABwggACADjBMFIL77//vnFNVlaWcc3VV19tXJOSkmJcM3ToUOMaSTp48KBxjc2w1OrqauOaQCBgXGNbZ/M1xcbGGtfExZn/uPp8PuMaye5riokx/322ra3NuOazzz4zrklKSjKukey+TzbHoaGhwbhmy5YtxjXRhisgAIATBBAAwAnjANq5c6duu+025eTkyOfz9boM9DxPTz75pLKzs5WYmKiioiKrp2oAAIObcQB1dHQoPz9fa9eu7fP+NWvW6Nlnn9Xzzz+vDz74QEOHDtW8efOsPxgLADA4Gb+qWVJSopKSkj7v8zxPzzzzjB5//HHdfvvtkqQXX3xRmZmZ2rJli+68884v1y0AYNAI62tAdXV1amxsVFFRUXBdamqqCgsLtWvXrj5rOjs71draGrIAAAa/sAZQY2OjpN6fd5+ZmRm87/dVVFQoNTU1uOTm5oazJQBAlHL+Lrjy8nK1tLQEl/r6etctAQAiIKwB9MUfWzY1NYWsb2pquuAfYvr9fqWkpIQsAIDBL6wBlJeXp6ysLO3YsSO4rrW1VR988IGmT58ezl0BAAY443fBtbe369ChQ8HbdXV12rdvn9LT0zVmzBg99NBD+uEPf6hrrrlGeXl5euKJJ5STk6MFCxaEs28AwABnHEC7d+/WnDlzgrdXrFghSVqyZIk2bNigRx99VB0dHVq2bJmam5s1Y8YMbdu2TUOGDAlf1wCAAc/neZ7nuonf1draqtTUVNdtRIXhw4cb11xzzTXGNcuXLzeukaRbb73VuMbmTSY250Nzc7NxjSTFx8cb19gMrIx2NkNMbYZw2vyBus358N///d/GNZJ0zz33WNXhvJaWlou+ru/8XXAAgCsTAQQAcIIAAgA4QQABAJwggAAAThBAAAAnCCAAgBMEEADACQIIAOAEAQQAcIIAAgA4QQABAJwggAAAThh/HAMi59SpU8Y1H374oXFNZ2encY0kfe1rXzOusRm+npCQYFwzdOhQ4xrJbrJ1IBCw2pcpmwnVNjWS3dfk9/uNa7q6uoxrbD7a5f333zeuQf/jCggA4AQBBABwggACADhBAAEAnCCAAABOEEAAACcIIACAEwQQAMAJAggA4AQBBABwggACADhBAAEAnGAYaYTYDIWMj483rrEZ7mgzIFSSWltbjWtshn329PQY19h+TTZsvreR7C+a2ZwPNpqbmyOyHylyA20HwznEFRAAwAkCCADgBAEEAHCCAAIAOEEAAQCcIIAAAE4QQAAAJwggAIATBBAAwAkCCADgBAEEAHCCAAIAOMEw0gixGRzY3d3dD530Vltba1VnM4w0Ls78lLMZsGrL5vsUzcNIbXqzZfN9shm4a8PmXLUVE2P+e73NwN3BgCsgAIATBBAAwAkCCADgBAEEAHCCAAIAOEEAAQCcIIAAAE4QQAAAJwggAIATBBAAwAkCCADgBAEEAHCCYaRRLFJDDc+cOWNcI9kNn/T7/cY1586dM66xGXoqRW6wqM1+bGpsziHJ7mvq7Ow0rklKSjKusTkONucQ+h9XQAAAJwggAIATxgG0c+dO3XbbbcrJyZHP59OWLVtC7l+6dKl8Pl/IMn/+/HD1CwAYJIwDqKOjQ/n5+Vq7du0Ft5k/f76OHTsWXF566aUv1SQAYPAxfqW2pKREJSUlF93G7/crKyvLuikAwODXL68BVVZWatSoUZowYYKWL1+ukydPXnDbzs5Otba2hiwAgMEv7AE0f/58vfjii9qxY4f+9m//VlVVVSopKbng24MrKiqUmpoaXHJzc8PdEgAgCoX974DuvPPO4L9vuOEGTZkyRePHj1dlZaXmzp3ba/vy8nKtWLEieLu1tZUQAoArQL+/DXvcuHHKyMjQoUOH+rzf7/crJSUlZAEADH79HkBHjx7VyZMnlZ2d3d+7AgAMIMZPwbW3t4dczdTV1Wnfvn1KT09Xenq6Vq9erUWLFikrK0u1tbV69NFHdfXVV2vevHlhbRwAMLAZB9Du3bs1Z86c4O0vXr9ZsmSJ1q1bp/379+uFF15Qc3OzcnJyVFxcrL/6q7+ymgEGABi8jANo9uzZFx1U+Pbbb3+phvBbNgMhbQQCAas6m8GnNl+TTY3tEE4bNscvNja2HzrpzWZwp2R3/Gy+TzbHLlK92YrkvgY6ZsEBAJwggAAAThBAAAAnCCAAgBMEEADACQIIAOAEAQQAcIIAAgA4QQABAJwggAAAThBAAAAnCCAAgBMEEADAibB/JDeuHKNHjzauOXXqlHGNzeRo24nENpOWbSdODzY2x667u9u4xuZ4R2r6OMxwBQQAcIIAAgA4QQABAJwggAAAThBAAAAnCCAAgBMEEADACQIIAOAEAQQAcIIAAgA4QQABAJwggAAATjCMNIrZDtSMlHPnzkVkPwkJCcY1PT09VvuyGXQZqRqb88F2UGogEDCuiY+PN67p7Ow0rrE5Dja92Yr2n9towhUQAMAJAggA4AQBBABwggACADhBAAEAnCCAAABOEEAAACcIIACAEwQQAMAJAggA4AQBBABwggACADjBMFJYsxkkGRsba1xjM/TUZj+S3RBOm+GTNv11dXUZ19gOxoyLM/+vwWZfp0+fNq6xkZaWFpH9wAxXQAAAJwggAIATBBAAwAkCCADgBAEEAHCCAAIAOEEAAQCcIIAAAE4QQAAAJwggAIATBBAAwAkCCADgBMNIYc1mcGek+Hw+qzrb4Z2mYmLMf/ez/Zps2BwHm/5s9mMznDYxMdG4xlakzqHBgCsgAIATBBAAwAmjAKqoqNDUqVOVnJysUaNGacGCBaqpqQnZ5uzZsyotLdWIESM0bNgwLVq0SE1NTWFtGgAw8BkFUFVVlUpLS1VdXa3t27eru7tbxcXF6ujoCG7z8MMP64033tBrr72mqqoqNTQ0aOHChWFvHAAwsBm9CWHbtm0htzds2KBRo0Zpz549mjVrllpaWvRP//RP2rRpk772ta9JktavX6/rrrtO1dXVuvnmm8PXOQBgQPtSrwG1tLRIktLT0yVJe/bsUXd3t4qKioLbTJw4UWPGjNGuXbv6fIzOzk61traGLACAwc86gAKBgB566CHdcsstmjx5siSpsbFRCQkJvT5/PTMzU42NjX0+TkVFhVJTU4NLbm6ubUsAgAHEOoBKS0t14MABvfzyy1+qgfLycrW0tASX+vr6L/V4AICBweoPUcvKyvTmm29q586duuqqq4Lrs7Ky1NXVpebm5pCroKamJmVlZfX5WH6/X36/36YNAMAAZnQF5HmeysrKtHnzZr377rvKy8sLub+goEDx8fHasWNHcF1NTY2OHDmi6dOnh6djAMCgYHQFVFpaqk2bNmnr1q1KTk4Ovq6TmpqqxMREpaam6rvf/a5WrFih9PR0paSk6MEHH9T06dN5BxwAIIRRAK1bt06SNHv27JD169ev19KlSyVJf/d3f6eYmBgtWrRInZ2dmjdvnp577rmwNAsAGDyMAuhyhuwNGTJEa9eu1dq1a62bwsBgM1AzUqJ9IORgHEZq8zVFahhpUlKScQ36X/T+DwIAGNQIIACAEwQQAMAJAggA4AQBBABwggACADhBAAEAnCCAAABOEEAAACcIIACAEwQQAMAJAggA4AQBBABwwuoTUREZ0T7R2UZsbKzrFi7K5phHakp1JI9dpM49mwnaPT09xjXRft5dqbgCAgA4QQABAJwggAAAThBAAAAnCCAAgBMEEADACQIIAOAEAQQAcIIAAgA4QQABAJwggAAAThBAAAAnGEYaxWyGXEZygGlXV5dxTVJSUj90Ej6BQMC4xmbQ5blz54xrov18iJRoH0Y6GI95f+EKCADgBAEEAHCCAAIAOEEAAQCcIIAAAE4QQAAAJwggAIATBBAAwAkCCADgBAEEAHCCAAIAOEEAAQCcYBgpIiomxvx3HpvhkzaDOyW7/iJVYzMo1fY42LAZwmlzHGxEchgpLh9XQAAAJwggAIATBBAAwAkCCADgBAEEAHCCAAIAOEEAAQCcIIAAAE4QQAAAJwggAIATBBAAwAkCCADgBMNIo5jNcMdIamhoMK659tprjWvOnTtnXGMzuNO2Lj4+PiL7samxPYdsBsDGxUXmvxObrymSw0ij/ec2mnAFBABwggACADhhFEAVFRWaOnWqkpOTNWrUKC1YsEA1NTUh28yePVs+ny9keeCBB8LaNABg4DMKoKqqKpWWlqq6ulrbt29Xd3e3iouL1dHREbLdfffdp2PHjgWXNWvWhLVpAMDAZ/Sq4bZt20Jub9iwQaNGjdKePXs0a9as4PqkpCRlZWWFp0MAwKD0pV4DamlpkSSlp6eHrN+4caMyMjI0efJklZeX6/Tp0xd8jM7OTrW2toYsAIDBz/p9k4FAQA899JBuueUWTZ48Obj+7rvv1tixY5WTk6P9+/frscceU01NjV5//fU+H6eiokKrV6+2bQMAMEBZB1BpaakOHDig9957L2T9smXLgv++4YYblJ2drblz56q2tlbjx4/v9Tjl5eVasWJF8HZra6tyc3Nt2wIADBBWAVRWVqY333xTO3fu1FVXXXXRbQsLCyVJhw4d6jOA/H6//H6/TRsAgAHMKIA8z9ODDz6ozZs3q7KyUnl5eZes2bdvnyQpOzvbqkEAwOBkFEClpaXatGmTtm7dquTkZDU2NkqSUlNTlZiYqNraWm3atElf//rXNWLECO3fv18PP/ywZs2apSlTpvTLFwAAGJiMAmjdunWSzv+x6e9av369li5dqoSEBL3zzjt65pln1NHRodzcXC1atEiPP/542BoGAAwOxk/BXUxubq6qqqq+VEMAgCsD07BhLS0tzbhm6NChxjU2U5YzMjKMayQpJsb8T+NsamwmaEeSzTRsm4nT9fX1xjVJSUnGNX29Aaq/2JwPttPbBzqGkQIAnCCAAABOEEAAACcIIACAEwQQAMAJAggA4AQBBABwggACADhBAAEAnCCAAABOEEAAACcIIACAEwwjjWI+n8+45lITy8Np7969xjW//OUvjWuam5uNayI57NNm+GR7e7txjc331uYckqRz584Z19gM1Ozq6jKuGT58uHHNhx9+aFxj60odLGqDKyAAgBMEEADACQIIAOAEAQQAcIIAAgA4QQABAJwggAAAThBAAAAnCCAAgBMEEADACQIIAOBE1M2Ci+Qss2gX7cfi7NmzxjU2c7Js9tPT02NcY8tmFlxnZ6dxDbPgzrM5H7q7u41r8OVd6pz1eVH2v9zRo0eVm5vrug0AwJdUX1+vq6666oL3R10ABQIBNTQ0KDk5uddvb62trcrNzVV9fb1SUlIcdegex+E8jsN5HIfzOA7nRcNx8DxPbW1tysnJuegzBFH3FFxMTMxFE1OSUlJSrugT7Asch/M4DudxHM7jOJzn+jikpqZechvehAAAcIIAAgA4MaACyO/3a+XKlfL7/a5bcYrjcB7H4TyOw3kch/MG0nGIujchAACuDAPqCggAMHgQQAAAJwggAIATBBAAwAkCCADgxIAJoLVr1+orX/mKhgwZosLCQn344YeuW4q4VatWyefzhSwTJ0503Va/27lzp2677Tbl5OTI5/Npy5YtIfd7nqcnn3xS2dnZSkxMVFFRkQ4ePOim2X50qeOwdOnSXufH/Pnz3TTbTyoqKjR16lQlJydr1KhRWrBggWpqakK2OXv2rEpLSzVixAgNGzZMixYtUlNTk6OO+8flHIfZs2f3Oh8eeOABRx33bUAE0CuvvKIVK1Zo5cqV+vjjj5Wfn6958+bp+PHjrluLuOuvv17Hjh0LLu+9957rlvpdR0eH8vPztXbt2j7vX7NmjZ599lk9//zz+uCDDzR06FDNmzfPampyNLvUcZCk+fPnh5wfL730UgQ77H9VVVUqLS1VdXW1tm/fru7ubhUXF6ujoyO4zcMPP6w33nhDr732mqqqqtTQ0KCFCxc67Dr8Luc4SNJ9990Xcj6sWbPGUccX4A0A06ZN80pLS4O3e3p6vJycHK+iosJhV5G3cuVKLz8/33UbTknyNm/eHLwdCAS8rKws78c//nFwXXNzs+f3+72XXnrJQYeR8fvHwfM8b8mSJd7tt9/upB9Xjh8/7knyqqqqPM87/72Pj4/3XnvtteA2//M//+NJ8nbt2uWqzX73+8fB8zzv1ltv9f70T//UXVOXIeqvgLq6urRnzx4VFRUF18XExKioqEi7du1y2JkbBw8eVE5OjsaNG6d77rlHR44ccd2SU3V1dWpsbAw5P1JTU1VYWHhFnh+VlZUaNWqUJkyYoOXLl+vkyZOuW+pXLS0tkqT09HRJ0p49e9Td3R1yPkycOFFjxowZ1OfD7x+HL2zcuFEZGRmaPHmyysvLdfr0aRftXVDUTcP+fZ9//rl6enqUmZkZsj4zM1Offvqpo67cKCws1IYNGzRhwgQdO3ZMq1ev1syZM3XgwAElJye7bs+JxsZGSerz/PjivivF/PnztXDhQuXl5am2tlZ/8Rd/oZKSEu3atUuxsbGu2wu7QCCghx56SLfccosmT54s6fz5kJCQoLS0tJBtB/P50NdxkKS7775bY8eOVU5Ojvbv36/HHntMNTU1ev311x12GyrqAwi/VVJSEvz3lClTVFhYqLFjx+rVV1/Vd7/7XYedIRrceeedwX/fcMMNmjJlisaPH6/KykrNnTvXYWf9o7S0VAcOHLgiXge9mAsdh2XLlgX/fcMNNyg7O1tz585VbW2txo8fH+k2+xT1T8FlZGQoNja217tYmpqalJWV5air6JCWlqZrr71Whw4dct2KM1+cA5wfvY0bN04ZGRmD8vwoKyvTm2++qZ///Ochnx+WlZWlrq4uNTc3h2w/WM+HCx2HvhQWFkpSVJ0PUR9ACQkJKigo0I4dO4LrAoGAduzYoenTpzvszL329nbV1tYqOzvbdSvO5OXlKSsrK+T8aG1t1QcffHDFnx9Hjx7VyZMnB9X54XmeysrKtHnzZr377rvKy8sLub+goEDx8fEh50NNTY2OHDkyqM6HSx2Hvuzbt0+Sout8cP0uiMvx8ssve36/39uwYYP3y1/+0lu2bJmXlpbmNTY2um4tov7sz/7Mq6ys9Orq6rz/+q//8oqKiryMjAzv+PHjrlvrV21tbd7evXu9vXv3epK8p59+2tu7d6/361//2vM8z/ubv/kbLy0tzdu6dau3f/9+7/bbb/fy8vK8M2fOOO48vC52HNra2rxHHnnE27Vrl1dXV+e988473le/+lXvmmuu8c6ePeu69bBZvny5l5qa6lVWVnrHjh0LLqdPnw5u88ADD3hjxozx3n33XW/37t3e9OnTvenTpzvsOvwudRwOHTrk/eVf/qW3e/dur66uztu6das3btw4b9asWY47DzUgAsjzPO8nP/mJN2bMGC8hIcGbNm2aV11d7bqliFu8eLGXnZ3tJSQkeKNHj/YWL17sHTp0yHVb/e7nP/+5J6nXsmTJEs/zzr8V+4knnvAyMzM9v9/vzZ0716upqXHbdD+42HE4ffq0V1xc7I0cOdKLj4/3xo4d6913332D7pe0vr5+Sd769euD25w5c8b7/ve/7w0fPtxLSkry7rjjDu/YsWPumu4HlzoOR44c8WbNmuWlp6d7fr/fu/rqq70///M/91paWtw2/nv4PCAAgBNR/xoQAGBwIoAAAE4QQAAAJwggAIATBBAAwAkCCADgBAEEAHCCAAIAOEEAAQCcIIAAAE4QQAAAJ/4fuwGiCdCN9GoAAAAASUVORK5CYII=\n"
          },
          "metadata": {}
        }
      ]
    },
    {
      "cell_type": "code",
      "source": [
        "# plotting more images\n",
        "\n",
        "torch.manual_seed(42)\n",
        "\n",
        "fig = plt.figure(figsize=(9,9))\n",
        "rows, cols = 4, 4\n",
        "\n",
        "for i in range(1, rows*cols+1):\n",
        "    random_idx = torch.randint(0, len(train_data), size=[1]).item()\n",
        "    img, label = train_data[random_idx]\n",
        "    fig.add_subplot(rows, cols, i)\n",
        "    plt.imshow(img.squeeze(), cmap=\"gray\")\n",
        "    plt.title(train_data.classes[label])\n",
        "    plt.axis(False);"
      ],
      "metadata": {
        "colab": {
          "base_uri": "https://localhost:8080/",
          "height": 663
        },
        "id": "ijFChqeSamEn",
        "outputId": "a628f6e6-5699-44e9-b7a9-ae65dced1b58"
      },
      "execution_count": null,
      "outputs": [
        {
          "output_type": "display_data",
          "data": {
            "text/plain": [
              "<Figure size 900x900 with 16 Axes>"
            ],
            "image/png": "iVBORw0KGgoAAAANSUhEUgAAAswAAALfCAYAAAB1k5QvAAAAOnRFWHRTb2Z0d2FyZQBNYXRwbG90bGliIHZlcnNpb24zLjEwLjAsIGh0dHBzOi8vbWF0cGxvdGxpYi5vcmcvlHJYcgAAAAlwSFlzAAAPYQAAD2EBqD+naQAAplVJREFUeJzs3Xd8VVW+//9PDCSEhIQWCAmQQOhFUECwIEUQFUQdUGHUAWyMimXGGb+WO1edUceKqFjn5ygiDpYBK6ioqCPoYAMFpfcaSuhNYf/+8EGuYb3XZh8SSHs9H4953MuHtc7eZ5+111ke9md94oIgCAwAAACAdExJnwAAAABQmrFgBgAAAEKwYAYAAABCsGAGAAAAQrBgBgAAAEKwYAYAAABCsGAGAAAAQrBgBgAAAEKwYAYAAABCVPgF89ChQy0lJeWQ7bp3727du3cvtuN2797d2rRpU2yvBxRVXFycjRgx4pDtnn/+eYuLi7OlS5ce+ZMCgHKOdUjZUCYXzE888YTFxcVZ586dS/pUyqR77rnHXn/99ZI+DRxF33//vQ0cONCys7OtSpUqlpWVZb1797bHHnvsiB+b8Yaj4cB/yP36f3Xq1LEePXrY5MmTS/r0UM6wDimasvi9UCYXzOPGjbOcnBybMWOGLVy4sKRPp8wpiwMVh2/69OnWsWNHmzVrll1xxRU2evRou/zyy+2YY46xRx55JObXu+SSS2zXrl2WnZ0dqT3jDUfTX//6Vxs7dqy98MILdtNNN9n69evtrLPOsrfffrukTw3lCOuQoimL3wuVSvoEYrVkyRKbPn26TZgwwYYPH27jxo2z22+/vaRPCyi17r77bktLS7Mvv/zSqlevXujv8vLyYn69+Ph4i4+PD20TBIHt3r3bkpKSYn59oCjOPPNM69ixY8GfL7vsMqtbt67961//sn79+pXgmaG8YB1SMZW5X5jHjRtnNWrUsL59+9rAgQNt3LhxTpulS5daXFycPfjgg/bMM89Ybm6uJSYmWqdOnezLL7885DFmzpxp6enp1r17d9u+fbu33Z49e+z222+3Jk2aWGJiojVo0MBuuukm27NnT+T38/XXX9tJJ51kSUlJ1qhRI3vqqaecNnl5eQWTfpUqVaxdu3Y2ZswYp92OHTvsxhtvtAYNGlhiYqI1b97cHnzwQQuCoKBNXFyc7dixw8aMGVPwz5ZDhw6NfL4oexYtWmStW7d2FstmZnXq1HFir7/+urVp08YSExOtdevW9u677xb6e/UMc05OjvXr18/ee+8969ixoyUlJdnTTz/NeEOJq169uiUlJVmlSv/3+9CDDz5oJ510ktWqVcuSkpKsQ4cO9tprrzl9d+3aZdddd53Vrl3bqlWrZv3797dVq1ZZXFyc3XHHHUfxXaA0YR1SQdchQRnTokWL4LLLLguCIAg+/fTTwMyCGTNmFGqzZMmSwMyC4447LmjSpElw3333Bffff39Qu3btoH79+sHevXsL2g4ZMiRITk4u+POMGTOCGjVqBL179w527txZEO/WrVvQrVu3gj/v27cvOP3004OqVasGN9xwQ/D0008HI0aMCCpVqhScc845h3wf3bp1CzIzM4M6deoEI0aMCB599NHglFNOCcwsePbZZwva7dy5M2jZsmVQuXLl4A9/+EPw6KOPBl27dg3MLBg1alRBu/379wc9e/YM4uLigssvvzwYPXp0cPbZZwdmFtxwww0F7caOHRskJiYGXbt2DcaOHRuMHTs2mD59+qEvPMqs008/PahWrVrw/fffh7Yzs6Bdu3ZBvXr1gr/97W/BqFGjgsaNGwdVq1YNNmzYUNDuueeeC8wsWLJkSUEsOzs7aNKkSVCjRo3g5ptvDp566qlg6tSpjDccNQfG5QcffBCsX78+yMvLC2bPnh0MHz48OOaYY4L333+/oG39+vWDq6++Ohg9enQwcuTI4IQTTgjMLHj77bcLveYFF1wQmFlwySWXBI8//nhwwQUXBO3atQvMLLj99tuP8jtEacE6pGKuQ8rUgvmrr74KzCyYMmVKEAS/fDj169cPrr/++kLtDgzUWrVqBZs2bSqIv/HGG4GZBW+99VZB7NcD9bPPPgtSU1ODvn37Brt37y70mgcP1LFjxwbHHHNM8J///KdQu6eeeiows2DatGmh76Vbt26BmQUPPfRQQWzPnj1B+/btgzp16hTcTKNGjQrMLHjxxRcL2u3duzc48cQTg5SUlGDr1q1BEATB66+/HphZcNdddxU6zsCBA4O4uLhg4cKFBbHk5ORgyJAhoeeH8uP9998P4uPjg/j4+ODEE08MbrrppuC9994rNGEHwS8L5oSEhEJjZdasWYGZBY899lhBzLdgNrPg3XffdY7PeMPRcGBcHvy/xMTE4Pnnny/U9teLkCD4ZU5t06ZN0LNnz4LY119/7XzRB0EQDB06lAVzBcY65BcVcR1Sph7JGDdunNWtW9d69OhhZr/8rH/hhRfa+PHjbd++fU77Cy+80GrUqFHw565du5qZ2eLFi522U6dOtT59+thpp51mEyZMsMTExNBzefXVV61ly5bWokUL27BhQ8H/evbsWfB6h1KpUiUbPnx4wZ8TEhJs+PDhlpeXZ19//bWZmU2aNMkyMjJs8ODBBe0qV65s1113nW3fvt0++eSTgnbx8fF23XXXFTrGjTfeaEEQkCVegfXu3ds+//xz69+/v82aNcvuv/9+69Onj2VlZdmbb75ZqG2vXr0sNze34M/HHnuspaamynvmYI0aNbI+ffoU+/kDsXj88cdtypQpNmXKFHvxxRetR48edvnll9uECRMK2vz62fr8/HzbsmWLde3a1b755puC+IFHka6++upCr3/ttdce4XeA0ox1yC8q4jqkzCyY9+3bZ+PHj7cePXrYkiVLbOHChbZw4ULr3LmzrVu3zj788EOnT8OGDQv9+cCgzc/PLxTfvXu39e3b14477jh75ZVXLCEh4ZDns2DBApszZ46lp6cX+l+zZs3MLFoyVWZmpiUnJxeKHeh/4PnQZcuWWdOmTe2YYwp/VC1btiz4+wP/NzMz06pVqxbaDhVTp06dbMKECZafn28zZsywW265xbZt22YDBw60H374oaDdwfeM2S/3zcH3jNKoUaNiPWfgcJxwwgnWq1cv69Wrl1100UX2zjvvWKtWrWzEiBG2d+9eMzN7++23rUuXLlalShWrWbOmpaen25NPPmlbtmwpeJ1ly5bZMccc44zrJk2aHNX3g9KDdUjFXoeUmV0yPvroI1uzZo2NHz/exo8f7/z9uHHj7PTTTy8U82XyB796+NzMLDEx0c466yx744037N13342USb1//35r27atjRw5Uv59gwYNDvkawNGWkJBgnTp1sk6dOlmzZs1s2LBh9uqrrxZkeEe9ZxR2xEBpdMwxx1iPHj3skUcesQULFtimTZusf//+duqpp9oTTzxh9erVs8qVK9tzzz1nL730UkmfLkox1iEVW5lZMI8bN87q1Kljjz/+uPN3EyZMsIkTJ9pTTz11WF/acXFxNm7cODvnnHPs/PPPt8mTJx+ymk5ubq7NmjXLTjvtNIuLi4v5mGZmq1evth07dhT6r7v58+eb2S+7DpiZZWdn23fffWf79+8v9F93c+fOLfj7A//3gw8+sG3bthX6r7uD2x14v8CBrbfWrFlzRI/DeENJ+/nnn83MbPv27fbvf//bqlSpYu+9916hf/J+7rnnCvXJzs62/fv325IlS6xp06YFcfbcrbhYh1TsdUiZeCRj165dNmHCBOvXr58NHDjQ+d+IESNs27ZtzvOYsUhISLAJEyZYp06d7Oyzz7YZM2aEtr/gggts1apV9o9//EOe744dOw55zJ9//tmefvrpgj/v3bvXnn76aUtPT7cOHTqYmdlZZ51la9eutZdffrlQv8cee8xSUlKsW7duBe327dtno0ePLnSMhx9+2OLi4uzMM88siCUnJ9vmzZsPeX4oH6ZOnSp/IZ40aZKZmTVv3vyIHp/xhpL0008/2fvvv28JCQnWsmVLi4+Pt7i4uELPmy5dutQponDgefwnnniiUPxoVMdE6cM6hHVImfiF+c0337Rt27ZZ//795d936dLF0tPTbdy4cXbhhRce9nGSkpLs7bfftp49e9qZZ55pn3zyibfO+iWXXGKvvPKK/f73v7epU6faySefbPv27bO5c+faK6+8UrAfbZjMzEy77777bOnSpdasWTN7+eWXbebMmfbMM89Y5cqVzczsyiuvtKefftqGDh1qX3/9teXk5Nhrr71m06ZNs1GjRhX8V9zZZ59tPXr0sNtuu82WLl1q7dq1s/fff9/eeOMNu+GGGwolcnXo0ME++OADGzlypGVmZlqjRo0o71mOXXvttbZz504777zzrEWLFrZ3716bPn26vfzyy5aTk2PDhg07osdnvOFomjx5csEvWnl5efbSSy/ZggUL7Oabb7bU1FTr27evjRw50s444wz77W9/a3l5efb4449bkyZN7Lvvvit4nQ4dOtiAAQNs1KhRtnHjRuvSpYt98sknBb++lcVfyHD4WIewDikT28qdffbZQZUqVYIdO3Z42wwdOjSoXLlysGHDhoLtXB544AGnnR20HdDB+x8GQRBs2LAhaNWqVZCRkREsWLAgCAJ3O5cg+GVblfvuuy9o3bp1kJiYGNSoUSPo0KFDcOeddwZbtmwJfU/dunULWrduHXz11VfBiSeeGFSpUiXIzs4ORo8e7bRdt25dMGzYsKB27dpBQkJC0LZt2+C5555z2m3bti34wx/+EGRmZgaVK1cOmjZtGjzwwAPB/v37C7WbO3ducOqppwZJSUmBmZW5rV0Qm8mTJweXXnpp0KJFiyAlJSVISEgImjRpElx77bXBunXrCtqZWXDNNdc4/bOzswuNEd+2cn379pXHZ7zhaFDbylWpUiVo37598OSTTxaaB5999tmgadOmQWJiYtCiRYvgueeeC26//fbg4K/EHTt2BNdcc01Qs2bNICUlJTj33HODefPmBWYW3HvvvUf7LaIEsQ5hHRIXBBGyeQAAgM2cOdOOO+44e/HFF+2iiy4q6dMBcJSUiWeYAQA42nbt2uXERo0aZcccc4ydeuqpJXBGAEpKmXiGGQCAo+3++++3r7/+2nr06GGVKlWyyZMn2+TJk+3KK69kyy6gguGRDAAAhClTptidd95pP/zwg23fvt0aNmxol1xyid12221WqRK/NwEVCQtmAAAAIATPMAMAAAAhWDADAAAAIVgwAwAAACEiZy1Q1QhHSkk+Rl8exrV6D+qaJicny/6DBg1yYtu3b3di+fn5sn9GRoYT27Ztm2w7ceJEGS+PGNcojxjXKI+ijGt+YQYAAABCsGAGAAAAQrBgBgAAAEKwYAYAAABCUKoIKIWiJvKFxQ/Wt29fGa9Ro4YTq1y5shNTyX1mZm3btnViLVu2lG2PZtJfLNcQAIAw/MIMAAAAhGDBDAAAAIRgwQwAAACEYMEMAAAAhGDBDAAAAISICyKmjVOSUmvevLkTS09Pl2137drlxNRuBGZme/fujdR23759sv/+/fsjxXzHOuYY97+lVMxMj41q1arJtt9++60TU2WYj5byMK5TU1Od2IABA5xYx44dZf/p06c7sf/3//6fE1O7YZiZrV692on97W9/k21Vee5ly5Y5sSlTpsj+W7ZskfHSiBLCKI8Y1+WP77qWxl2FMjMzZVzt4uRb88ycOdOJURobAAAAKCIWzAAAAEAIFswAAABACBbMAAAAQAiS/gRfcpt6gPzuu+92YvXq1ZP99+zZ48R8JYRVgl/VqlWdmErYM9Pljn12797txCpVcqumr1y5UvZXQ8j3sP2jjz7qxCZNmnSoUzxiSuu4PvbYY53YcccdJ9uqz/rnn392Yg0bNpT91VhT1yU3N1f2f//9953YggULZNsmTZpEOr4vaXT9+vVOzJcguHDhQhk/WkoyYUbNYbGcTyz3RWlMDMKRQ9Jf0aj3UNR7U8V838Hq+6JRo0ay7bx585zYjh07DnWKobKzs2W8bt26TkwlifukpaU5MZUQb2b22muvObEo74tfmAEAAIAQLJgBAACAECyYAQAAgBAsmAEAAIAQLJgBAACAEO5WCIgpY1XtfKF2nTDTpbHnz58v21apUsWJxcfHO7FNmzbJ/rVq1XJivt0/EhISIh3Ld11++uknJ5aYmCjbLlq0SMYrqgsuuEDGW7Vq5cSWLFki2+bn5zsxNS7U52Sms4tVhvWHH34o+6sdOWrXri3bqjLo6rxUuW0zs+rVqzuxIUOGyLb//ve/nZgqiVrRqXt93759kfursarGhI9vpx91DmpHFd+8pt6X2v2nOHZeUHOjivnONZbrpe7NpKSkyK+p2s6dO1e2VfcrSlZRdylp3ry5E0tPT5dtd+7c6cR8Y0UZMGBA5LZqFzA1htV3gJkeq2ptY+Zfox0KvzADAAAAIVgwAwAAACFYMAMAAAAhWDADAAAAIUj6KyKVsOJLmFEPoPseSleJKKptVlaW7K8SQ1TCi5lOjlHJKb5Sm6qtSs4xO/yH7cuDjIwMJ+YrjT5nzhwn5ktOUp+fSuzxXXuVNKiSRrdu3Sr7q4QRX8KRujfUeflKY6u2ixcvlm3bt2/vxCpK0l8siUGxJPidfvrpTqxv375ObOnSpbL/hg0bnFjbtm1lW5XEoxKnfXOoSshW95AvES+WZMCor+u71lET+cx0aWN1vdW1MtPl6adNmybbvv766zKOw3ckSour1/SNXzU3+5L0U1JSnFidOnWc2GWXXSb7q7m5Zs2asq1an6h7WyUimun7xXe/He5nwC/MAAAAQAgWzAAAAEAIFswAAABACBbMAAAAQAiS/opIJSGpJCwzncjkewBeJc2pB9V9VbJiSThR56te13csda6ZmZmyre+B/YqgRYsWTmzz5s2ybSzV87Zs2eLEYhkr6vNT5+WrsKTGlS/BVCU3qaqWvkSsbdu2OTFfgqA6X5UIcySScMq6e+65R8ZVIp1KzlNVFs305++bE0488UQnpqpCxjLfqrHquy/UufoSn5Wo86qZTm5S19rMbN68eU5MXW9f4u3VV1/txLp16ybbfvTRRzKO0s83B6uk0R07dsi26h5SSX8rV66U/VUVWd+x1L2hNjXw9Vf3tm9uOFz8wgwAAACEYMEMAAAAhGDBDAAAAIRgwQwAAACEYMEMAAAAhGCXjCJKTk52Yr4ykyqLU2X9m+lMVpXh7yt/qrKufRmjKptatfVlbatdFnyZrKo0bkXhKxeuxJJhX7VqVSemxoWvNLYar2o3Al8JYrVzgG+sKOq6+Ma1ui6+XRZUhrbaaWT9+vWHOsUyR11T9ZmamX3wwQdO7PHHH5dt1Y4mAwYMcGJXXXWV7F+vXj0ntnr1atlWjaEzzzzTiaky8mZ6XKvdV3w7X6j5uqildlWpYTO9o4GvvHh2drYT69q1a+RzUu/Bd283bdpUxlFyou70o3aYMDNr1KiRE/PNgeo7Iz093Ylt2rRJ9s/IyHBivrWBmps3btzoxHxjVd3bvu883w4ih8IvzAAAAEAIFswAAABACBbMAAAAQAgWzAAAAEAIkv6KSJWO9CWRqAfzVVlZM53IpB6K9yUYpqamOjFfqVQVVw/L+5LOVDKR72H7ikwl/KxZs0a2VYkZy5Ytk21VIpxKgPAlOkRN0PMlhtSqVSvS8X1xlUjmS4ZVbVXirZkeryphqjwm/al7snv37rJt3bp1ndjEiRNl25dfftmJqXGVm5sr+6vPKicnR7YdOXKkE1Pz2sknnyz7qxLSam72JfKpuVUlXJnpca3ea35+vuz/448/OjFfkmarVq2cmEqEimW+V4nDYeeA0s+XYKqSoX1zoLoHfAnZilof+ZIRo87DvmTWWBLV1aYKUfALMwAAABCCBTMAAAAQggUzAAAAEIIFMwAAABCCBTMAAAAQgl0yhKhlTs10hrWvBLXK8PdlaCvqdX1ZzCquMlbNdOb55s2bnZhvNwK1I4bvWBWZ2k1i0aJFsm27du2cmC+LWO0ooUoj+zL8FTXWVHa1r61v5w2Vja92SfjPf/4j+x977LGRj6XGsCrNXFEMGzZMxq+99trIr9GwYUMntnbt2sj91VitXr26bHvZZZc5sb/97W9OzLcjT4sWLZyYmoN91Bzqu4eWL1/uxNatW+fEtm7dKvur3TN8u4eoMbxgwQIn5ttBSX2/NWvWTLb1lZ1HyYlaGtu3Q4S6X3xzu5pD1ZqlcePGsr8qje27X2vWrOnE1PjzldZW1Peg2eHv/sIvzAAAAEAIFswAAABACBbMAAAAQAgWzAAAAECICp/0F/UBeh+VgOFL+tuyZYsT85WbVol4n332mRPzlTtWx/Ilkah4UlKSE9uwYYPsn5mZ6cS+/fZb2bYiUwlvviQgVRpblc8185dij0r1V2M4ltLavrYq4WPmzJlOzFfWNS8vz4n57jeV9OJLXC1vVOnX/v37y7ZDhgyJ/LpqXlDzpe/zV5/V0qVLZdsOHTo4scGDBzuxWbNmyf4fffSREzvhhBOc2OLFi2V/Nbdv3LhRtj377LOd2LRp05yYbw5WiVTqvZqZffjhh05MjWtfgqK631Vyl5l+XygbfMl1K1eudGLZ2dmyrUroVfPq9u3bZX+V/K/mEDOzuXPnOjGVuOrbKEHFY2kbBb8wAwAAACFYMAMAAAAhWDADAAAAIVgwAwAAACFI+iti0p9K2vJV2FEJfr5jqaSnVq1aRT6vVatWObGff/5ZtlXVt1SCmko6NDPr16+fE/vmm28OdYrlmqqcdMwx7n+f+pKjVGKEL1FBvW4sVf1Uf3UsXxKJb7wrqvJSLMka6h5KT0+XbVUiky/hpLz53e9+58QmT54cub9v/Piqx0Wl5js1/sx0FczTTjvNifkqDarKmqpS4ddffy37v/DCC07MlyCpklHVWF22bJnsf/nllzsxlQxrFr1aoW9uUdXTfPdbmzZtIh0LR0/U9cmKFStkXCX4+ZI+VfK5Ss7zJV5Pnz7difmS1NX6RM3XvsRtVb3P9910uN8D/MIMAAAAhGDBDAAAAIRgwQwAAACEYMEMAAAAhGDBDAAAAIQolbtkFHXniiNFndeuXbucmCoHaabL1foyPlXGqCqX7csCrVu3buRjKSprtnPnzpH7L1iwIHLb8kiV1VVjRWX2munP2kdlHavx49slJeouG74y3nXq1Il0Tr5jqWx+37mq1/Xt3KDKtVavXl22LW9UdvuYMWMi9/fNtypDXu2w4MuaV3y7PkQt4XzFFVfI/lOmTHFi8+fPd2K++frWW291Yr45VI21Pn36ODFVmtvM7PPPP3diquS8WfRdaXz3oNqpRu2cYaZ3+kDRRF3f+Haqidrfdw+qHbh8x1LfT2q+VWsbMz3WfPLz851YzZo1nVhWVpbsv3DhQie2Y8cO2da3s9Kh8AszAAAAEIIFMwAAABCCBTMAAAAQggUzAAAAEKJUJv0dzQS/WEoIq+QU9QC9KittFr0ssJlOjlLH8pUrVkkcvgfglQYNGkQ6vo8viaSiUIkR6rP2JbepZAuVyGmmSwirxCBfqVyVXKTui8zMTNlfJTz57gGViKTGui9hSSXtZWRkyLbfffedE1Ofiy8xxZeQWRaoRMx58+ZF7u9LGIplvlRiSW5SY0Aloa1cuVL2P+WUU5yYKonrS2b98ccfnZivVLS63hs2bHBiH3/8seyv7k3fZxD1foklacx3rNKQbF/eRL2mvnZR78HGjRvLuJrv09LSZFuVqK6+s3znFEtCsErEU+/BV15+48aNkV7TzP+9eyj8wgwAAACEYMEMAAAAhGDBDAAAAIRgwQwAAACEKJVJf0dTLEkNTZs2dWLqAXZfcp16MN5XtUkldhS16lIsSQTLly93Yr7kKHUNVKW7ikRVBFMJEL5rumbNGiemEpbMoo9hXyKd+vzU+Iul8pjvWIo6f1+CokrE8yW+qmsbS8KLStoqK9T1Uwk8Pr4ETzVWYpmXYkn6U23V56/GqplZXl6eE4s61s30fO9LEFSJSOq+8N3vsSRTqoQl9R5ime999yuV/opfUSsZq89Kjav69evL/tu2bXNivuQ4VWlPVfH1JUirc/WtDVTy9g8//ODEfEm+KvHWV9l1yZIlMn4o/MIMAAAAhGDBDAAAAIRgwQwAAACEYMEMAAAAhGDBDAAAAISoULtkxFKCV+ndu7cTUxmn1apVk/1VhnYs2ckqE9VXgliVsVZlgX2vobLsfbsRqF1B2rdvL9u+9dZbMl7eRN05wveZqEx4Xxl1Na5iKX+rzkvFfJ+/2hHEV3pU3YNRY2Z6lwtfhrk6L3VdVMn7sk59VrHsxODbkUVR1784dmhQc5AaV75xrcSyG4HaVSSWnYLUWPXtiqTme9/npY6l5oZYdh/xXRd2yYgmlp0vot6HsfQ/4YQTnJhvVyO1NvB9t8yePTvS6/p2FGrdurUT833nffvttzJ+sCZNmsi4mvM2b94s2x7uuOYXZgAAACAEC2YAAAAgBAtmAAAAIAQLZgAAACDEEUn6iyW5JJYkjKh8ZXV9D7Yf7LzzzpNxVWZRvaYvsUMljPjOKWrSni9hScV9SQAqkUY9QL9z507ZXyVo+UpSVhTqHoglkU+19SWTqrYqQdSXsBQ1GdaXCKb6x5LcpJKYfIlc6nr5rqG6B9S18iWhlGUqGdlXvlaJZazEUvK9qMlpUcud+15XjQlfyfCopbnN9P0SdQ4w09fFlwwZS5Ksos4hlsRLuIpa2lrxfabNmjVzYmq+3bhxo+yfk5PjxHzJcWoebtSokRPzleFW/RctWhS5rXpf+fn5sr+aG3xzeyyJwr/GL8wAAABACBbMAAAAQAgWzAAAAEAIFswAAABACBbMAAAAQIjIKbCxlH5UcV/GZ9TsXt+xVMapLxNZ6dGjhxM79thjZduVK1c6MVUCukaNGrK/2mXCt/OByuZWGdq+7FaVSeq7hqo0tso49Z2rGhs1a9aUbSuKqJ+fL1tX3Re+ca2OFbXctS+usuN956rGtS87WY0VdV182fmqv2+XhczMTCe2fft2J3a4GdOlmZqrrrzyStn273//uxPzjbWoGf6+nUvUuPZ9flF3johlhwj1+ccyB/usW7fOicWyc4Jq67su6hqoa+W7h9T9Fst3ZkmKZR0Stb/PkdjBy8wsNTXViam5Su1mYabPa8eOHU6sefPmsr/6ble76pjpXY3UWPPNoep11T1opj8bdSy1g5iZ2aZNm5zYmjVrZNuo89jB+IUZAAAACMGCGQAAAAjBghkAAAAIwYIZAAAACHFEkv6Uw33I+nD4Svj269fPiTVp0sSJqYfHzcxq167txNTD9rFcl61bt8q4KmuprmEsiZe+xA71YH+DBg2cWCzJOSqJoSKJmojnS8yJZQyp8qGqtLnvNVXSlEraW7t2reyvkkh8pbFVPJZyyWqs+u4hNQZVguLRnJuOlu+++86JPfXUU7KtSvrzXdPs7GwnNnv2bCfmSwKKWho9LH4w37hWyW116tRxYr7S2Hl5eU5Mnb+ZWUZGhhNTCdm+5KpYktGi8iVeqlLivmvoKztemsRSWr2oiXy+BNPk5GQn1rhxY9m2evXqTkyNC1/Cmuqvvm/U2sQsts9fzY1169Z1Yr7vBrVmUveKWfQk28WLF8u4er+vvPKKbJubmxvpWAfjF2YAAAAgBAtmAAAAIAQLZgAAACAEC2YAAAAgROSkP/Xwd61atWTbli1bugeKoeqQeohfJRaZ6QfQ1YPmvtdQD6urxBAznTQ3d+5cJ6YS9szM6tWrF+k1zXTioor5khBiqeakXkMlPvo+A5XIpY5fkahrre4BVWXRzGzFihVOTCWsmUWvKhhLwovq76uIppKLfMlCvgqAUamx6ksWiZoI4/sMyrJ33nnHiX3//fey7UknneTEpk+fLtuqMazmBd9YU3O77/MravU51V99Z1100UWy/8yZMyMf63/+53+cWJ8+fZyYSiQ009fQl7Tnm4ejUsmUKknYzJ/8WVKKWtVPJcyZ6cq06enpTsw3f0VNnDbT83j9+vWdmC8Zdf369U4sLS3NiW3ZskX2V4mr6jXNzDp16uTE1PeAb82lvgd8awM1BtU6JJaq0b575XDnFn5hBgAAAEKwYAYAAABCsGAGAAAAQrBgBgAAAEKwYAYAAABCRN4lQ2natKmMq/Kpvkz0ou4GsWHDBifmyy7dvn27E1OZtKqdWfQMcVUS1Uxnh/oyadXuH7Gcq8qEVbt0mJmlpqY6sdWrVzsx32eoMmGLmsld1qlsbnWdUlJSZH+1o4FvVxqVIa3GoG+nGjWu1K44vs80agljM30PqHs7ltLYvjLc6j2oXTIqyli96aabZPwPf/iDE/PtkvH22287sWOPPdaJqex2M70jhi9jvajloqPuXKB2pDHT94vvXNVuEupYvp0v1HWJ5X5V96DvXNXc5Pt+/c9//iPjpUmNGjVkXM2tvrlKfS7Lly93Yr7S6IrvmqpzUN+tvvGv5ju15vHtcKLWAV26dJFt1VosKyvLiak1hJnZkiVLnJhvtyc1X6tr5Sutrb4zP//8c9nWt3Y9FH5hBgAAAEKwYAYAAABCsGAGAAAAQrBgBgAAAEJETvpT5aK7du0q265bt86J+R5gV0k427Ztc2LJycmyvyp16Uuki1ou2JeIpRID1MPuvlKvKmHAl0SgHoz3Jfgp6hxiSY5QiQUqAcB3XioxwMxfQrO8UeNKJTX4PpNPPvnEiXXo0EG2VcmAURMofG3VvaLa+fgSllQijDov33yh2qrkHDOzJk2aODH1Hoparrs0Utdv9uzZsq1KEH3zzTdlWzUHquvnu89VIpovOUp9Vur4sZSQXrZsmRM7/fTTZf8ff/zRifkS6dT30+LFi52Yb6yp9+q7hxR1v/qSWVXSlEqeNzP77LPPIp9DSWnVqpWMZ2ZmOjFfWWaVNKe+A33f12od42urxooaw77vWzUu1Pe9772q7wvfuaqS3eq85syZI/ur8tyqtLaZTl5X36O+99WwYUMn9vjjj8u2vqTmQ+EXZgAAACAEC2YAAAAgBAtmAAAAIAQLZgAAACAEC2YAAAAgROQ03M6dOzuxfv36ybY//PCDE/OVaVTZmWqXjVWrVsn+KovTt5uEyq5UO0SozEwznTWrspvVLh9mOjtWnb+ZzhiNJbtV8ZUQVpnfavcG3y4J6nV9metqt5XySF0Tlcns2w1i48aNTsy3y4XaZcCXYa2o+0Kdq+8z9WUtK2qXANVflRE30+PSl6F94oknOjE1hnfv3i37l2Uqk973Of33v/91YieccIJsu3TpUiemPivfLhnq8/fNYWpcq5hvXlP3lpqbR4wYIfurbH61m4KZ3iVBxXwlhH07hShqHlD9fSWIP/30Uyd25513Rj5+aeObF9Wawzcvqnkhll2p6tat68R833X5+flOTL0H333RsWNHJ6ZKa69evVr2V/eg2lHETM/58+fPd2K+HV3U9fa9L3Vvqtf13SvqXNXOGb7zioJfmAEAAIAQLJgBAACAECyYAQAAgBAsmAEAAIAQkZP+3nrrLSfmS7Y499xznVizZs1kW5VwppJw1q5dK/urB8V9D+urRCpVPtRXhlvFVWlulQBgpkuS+pIh1TUYO3asE7vgggtkf5XM6Cvr6ivlfTBfMqRKWFBJCGb6epVHaqype8CXAKH6+5Id1BhWCRC++1W9rnpNX8n4NWvWODFf+VNFjR9fIo9KWPGVfFaJwiqZdsGCBYc6xTLHd68qaqypss4+ar71ff5qDPnaqnGpPn91/mZ6DKn7Ytq0abK/mi99Cd2+8XowNf7MdDKhL0lT3W+qjPf3338v+/u+cxRfUnJJUfNSVlaWbKu+a9avXy/bZmdnOzGVYOz7nGMpAa2+G6N+B/uo0uY1a9aUbdVY862vVDJky5YtnZhvTKn7JZaS32oe831nqrHq+7x8CeyHwi/MAAAAQAgWzAAAAEAIFswAAABACBbMAAAAQIjISX/Kv//978jxFi1ayLaDBw92Yo0bN3ZiTZs2lf3VA/S+B71VEoV6UNyX6KDimzdvdmK+ymN/+ctfnJgv4SSqhx9+WMbVefmSIaMmx/gq/anr6kswbNCggYyXN1EryvmSiBRf0p9K5oslkU5RSSi+pEH1+fuSzqLeb773quK+Sn0qiUQdS803ZrpiaVnhu/+UDz/80Il99NFHsq1KjlLjwlfRTiVO+xKE1XhVn18s73XFihVOzJc0Wl7FUlXQN+eXlObNmzsxX/XF5cuXOzHfd7v6vlRjxTcHKr55ybepwMFUgqOZTrBT78tXLVV9pr77Vd1b6jvcl8gXSyVidb+raxjLd0ssa8Eo+IUZAAAACMGCGQAAAAjBghkAAAAIwYIZAAAACMGCGQAAAAhRpF0yfFmcKgNx7ty5su3tt98e6Vi+7FaVNVuvXj3Ztnbt2k5MZdL7ykSuXr3aic2bN0+2PVp+//vfy/i6deucmCqfaaazZlWGrS8bWWXC+kpl5uXlObHx48fLtmWZ2hVGlXD1lfVVZs6cKePt27d3Ympc+zKW1eevsot9/dWOGr7sZPUaKmu/Vq1asr/KZvdR55CZmVmk16wofJnoS5cuPbongmJX2na+iIX6/hgwYIBsq+ZA384RajeIWHaKUnOYr616XbX7hm/3GLUjhWqrysj7+M5Vzdc7d+50Yr5dJ2K5hjt27HBi6j0UR7lr3/x2KPzCDAAAAIRgwQwAAACEYMEMAAAAhGDBDAAAAISICyI+/exLugOK6nAfwC8OR2pcqySO6tWrOzFfAoQvQVPp3bu3EzvttNOc2KpVqyIfKyMjw4n5znXlypVOLCUlRbZVyTHVqlVzYiqxxMzshRdecGKxlF9Vn/eRGn/lcVwDpW1cq6RjM53gW6NGDdlWlYZWiWy+EtAq7ktCU5slqGP5Sr6r+W7btm1OzDdfq2vo28BBJU762haVul4q+TuW65Kfny/bzpgxw4lFGdf8wgwAAACEYMEMAAAAhGDBDAAAAIRgwQwAAACEYMEMAAAAhGCXDJS40pZ1XR6o7OI2bdrItjVr1nRiKmvctxuF2tHCl0mtssFVefm5c+fK/mUJ4xrlEeMa5RG7ZAAAAABFxIIZAAAACMGCGQAAAAjBghkAAAAIETnpDwAAAKiI+IUZAAAACMGCGQAAAAjBghkAAAAIwYIZAAAACMGCGQAAAAjBghkAAAAIwYIZAAAACMGCGUCxef755y0uLs6WLl0ac9+hQ4daTk5OsZ8TAMDFfB2bcr1gjouLi/S/jz/+uKRPFThs33//vQ0cONCys7OtSpUqlpWVZb1797bHHnuspE8NOCoWLVpkw4cPt8aNG1uVKlUsNTXVTj75ZHvkkUds165dR+SYL730ko0aNeqIvDbKL+brsqtSSZ/AkTR27NhCf37hhRdsypQpTrxly5ZH87SAYjN9+nTr0aOHNWzY0K644grLyMiwFStW2BdffGGPPPKIXXvttSV9isAR9c4779j5559viYmJ9rvf/c7atGlje/futc8++8z+/Oc/25w5c+yZZ54p9uO+9NJLNnv2bLvhhhuK/bVRPjFfl23lesF88cUXF/rzF198YVOmTHHiB9u5c6dVrVr1SJ7aEbFjxw5LTk4u6dPAUXT33XdbWlqaffnll1a9evVCf5eXl1cyJwUcJUuWLLFBgwZZdna2ffTRR1avXr2Cv7vmmmts4cKF9s4775TgGQL/h/m6bCvXj2RE0b17d2vTpo19/fXXduqpp1rVqlXt1ltvNbNfBvBll11mdevWtSpVqli7du1szJgxhfp//PHH8rGOpUuXWlxcnD3//PMFsbVr19qwYcOsfv36lpiYaPXq1bNzzjnHeX5o8uTJ1rVrV0tOTrZq1apZ3759bc6cOYXaDB061FJSUmzRokV21llnWbVq1eyiiy4qtuuCsmHRokXWunVrZ/I1M6tTp07B///cc89Zz549rU6dOpaYmGitWrWyJ5980umTk5Nj/fr1s88++8xOOOEEq1KlijVu3NheeOEFp+2cOXOsZ8+elpSUZPXr17e77rrL9u/f77R74403rG/fvpaZmWmJiYmWm5trf/vb32zfvn1Fe/Oo8O6//37bvn27Pfvss4UWywc0adLErr/+ejMz+/nnn+1vf/ub5ebmWmJiouXk5Nitt95qe/bsKdQnynjt3r27vfPOO7Zs2bKCR/sq2vOciB3zddlWrn9hjmrjxo125pln2qBBg+ziiy+2unXr2q5du6x79+62cOFCGzFihDVq1MheffVVGzp0qG3evLlgEo7FgAEDbM6cOXbttddaTk6O5eXl2ZQpU2z58uUFk+3YsWNtyJAh1qdPH7vvvvts586d9uSTT9opp5xi3377baFJ+eeff7Y+ffrYKaecYg8++GCZ/FUcRZOdnW2ff/65zZ4929q0aeNt9+STT1rr1q2tf//+VqlSJXvrrbfs6quvtv3799s111xTqO3ChQtt4MCBdtlll9mQIUPsn//8pw0dOtQ6dOhgrVu3NrNf/uOvR48e9vPPP9vNN99sycnJ9swzz1hSUpJz7Oeff95SUlLsj3/8o6WkpNhHH31k//u//2tbt261Bx54oHgvCCqUt956yxo3bmwnnXTSIdtefvnlNmbMGBs4cKDdeOON9t///tf+/ve/248//mgTJ04saBdlvN522222ZcsWW7lypT388MNmZpaSknJk3iTKDebrMi6oQK655prg4LfcrVu3wMyCp556qlB81KhRgZkFL774YkFs7969wYknnhikpKQEW7duDYIgCKZOnRqYWTB16tRC/ZcsWRKYWfDcc88FQRAE+fn5gZkFDzzwgPf8tm3bFlSvXj244oorCsXXrl0bpKWlFYoPGTIkMLPg5ptvjvz+Uf68//77QXx8fBAfHx+ceOKJwU033RS89957wd69ewu127lzp9O3T58+QePGjQvFsrOzAzMLPv3004JYXl5ekJiYGNx4440FsRtuuCEws+C///1voXZpaWmBmQVLliwJPfbw4cODqlWrBrt37y6IDRkyJMjOzo783lGxbdmyJTCz4Jxzzjlk25kzZwZmFlx++eWF4n/6058CMws++uijgljU8dq3b1/GK2LCfF22VfhHMszMEhMTbdiwYYVikyZNsoyMDBs8eHBBrHLlynbdddfZ9u3b7ZNPPonpGElJSZaQkGAff/yx5efnyzZTpkyxzZs32+DBg23Dhg0F/4uPj7fOnTvb1KlTnT5XXXVVTOeB8qV37972+eefW//+/W3WrFl2//33W58+fSwrK8vefPPNgna//iVhy5YttmHDBuvWrZstXrzYtmzZUug1W7VqZV27di34c3p6ujVv3twWL15cEJs0aZJ16dLFTjjhhELt1GNBvz72tm3bbMOGDda1a1fbuXOnzZ07t2gXABXW1q1bzcysWrVqh2w7adIkMzP74x//WCh+4403mpkVes6Z8Yojhfm6bGPBbGZZWVmWkJBQKLZs2TJr2rSpHXNM4Ut0YEeNZcuWxXSMxMREu++++2zy5MlWt25dO/XUU+3++++3tWvXFrRZsGCBmZn17NnT0tPTC/3v/fffd5ICKlWqZPXr14/pPFD+dOrUySZMmGD5+fk2Y8YMu+WWW2zbtm02cOBA++GHH8zMbNq0adarVy9LTk626tWrW3p6esGz+gdPwA0bNnSOUaNGjUL/oXfg/jhY8+bNndicOXPsvPPOs7S0NEtNTbX09PSCxNuDjw1ElZqaama/fKkfyrJly+yYY46xJk2aFIpnZGRY9erVC83njFccSczXZRfPMJvJ53iiiouLk3H1gPwNN9xgZ599tr3++uv23nvv2V/+8hf7+9//bh999JEdd9xxBQ/gjx071jIyMpz+lSoV/rgSExOdBT0qroSEBOvUqZN16tTJmjVrZsOGDbNXX33VLr74YjvttNOsRYsWNnLkSGvQoIElJCTYpEmT7OGHH3YSP+Lj4+XrB0EQ8zlt3rzZunXrZqmpqfbXv/7VcnNzrUqVKvbNN9/Y//t//08mnQBRpKamWmZmps2ePTtyH998fQDjFUcL83XZw4LZIzs727777jvbv39/oUXpgX+SyM7ONrNf/kvO7JeB9mu+X6Bzc3PtxhtvtBtvvNEWLFhg7du3t4ceeshefPFFy83NNbNfsmV79epV3G8JFUjHjh3NzGzNmjX21ltv2Z49e+zNN98s9GuEesQnquzs7IJ/Efm1efPmFfrzxx9/bBs3brQJEybYqaeeWhBfsmTJYR8bOKBfv372zDPP2Oeff24nnniit112drbt37/fFixYUGjf/XXr1tnmzZsL5vNYxuuhFt9AVMzXZQM/T3qcddZZtnbtWnv55ZcLYj///LM99thjlpKSYt26dTOzXwZifHy8ffrpp4X6P/HEE4X+vHPnTtu9e3ehWG5urlWrVq1gW6M+ffpYamqq3XPPPfbTTz8557R+/fpieW8oP6ZOnSp/STjwzGbz5s0LfoH4dbstW7bYc889d9jHPeuss+yLL76wGTNmFMTWr19v48aNK9ROHXvv3r3O/QEcjptuusmSk5Pt8ssvt3Xr1jl/v2jRInvkkUfsrLPOMjNzKvONHDnSzMz69u1rZrGN1+Tk5Ar/T9SIDfN12cYvzB5XXnmlPf300zZ06FD7+uuvLScnx1577TWbNm2ajRo1qiDRJC0tzc4//3x77LHHLC4uznJzc+3tt992njeeP3++nXbaaXbBBRdYq1atrFKlSjZx4kRbt26dDRo0yMx++SfGJ5980i655BI7/vjjbdCgQZaenm7Lly+3d955x04++WQbPXr0Ub8WKL2uvfZa27lzp5133nnWokUL27t3r02fPt1efvlly8nJsWHDhtm6dessISHBzj77bBs+fLht377d/vGPf1idOnVszZo1h3Xcm266ycaOHWtnnHGGXX/99QXbFB34l5kDTjrpJKtRo4YNGTLErrvuOouLi7OxY8ce1j8XAgfLzc21l156yS688EJr2bJloUp/06dPL9gK9Prrr7chQ4bYM888U/DPzjNmzLAxY8bYueeeaz169DCz2MZrhw4d7OWXX7Y//vGP1qlTJ0tJSbGzzz77aF8ClCHM12VcyWzOUTJ828q1bt1atl+3bl0wbNiwoHbt2kFCQkLQtm3bgm3ifm39+vXBgAEDgqpVqwY1atQIhg8fHsyePbvQtnIbNmwIrrnmmqBFixZBcnJykJaWFnTu3Dl45ZVXnNebOnVq0KdPnyAtLS2oUqVKkJubGwwdOjT46quvCtoMGTIkSE5OPvyLgXJh8uTJwaWXXhq0aNEiSElJCRISEoImTZoE1157bbBu3bqCdm+++WZw7LHHBlWqVAlycnKC++67L/jnP//pbCmUnZ0d9O3b1zlOt27dgm7duhWKfffdd0G3bt2CKlWqBFlZWcHf/va34Nlnn3Vec9q0aUGXLl2CpKSkIDMzs2ArJTtoO8aKuE0Risf8+fODK664IsjJyQkSEhKCatWqBSeffHLw2GOPFWyF9dNPPwV33nln0KhRo6By5cpBgwYNgltuuaXQVllBEH28bt++Pfjtb38bVK9ePTAzxi4Oifm6bIsLAv7TAQAAAPDhGWYAAAAgBAtmAAAAIAQLZgAAACAEC2YAAAAgBAtmAAAAIAQLZgAAACAEC2YAAAAgRORKf3FxcUfyPErMxo0bndiGDRtk2/379zuxlJQUJzZ//nzZv0aNGk6scuXKsu327dudWM2aNZ3YzJkzZf8LL7xQxkujktwKvLyOa5Q8xvXRceqpp8p4z549nVjVqlWdWJUqVWR/VfZ6+fLlsu2zzz7rxNT3RXnAuEZ5FGVc8wszAAAAEIIFMwAAABCCBTMAAAAQIi6I+EBSaX12SJ2X7y01b97cic2dO9eJrVy5UvaPj493YomJiU7M9+zamjVrIvX3xbdt2+bE9u7dK/t36NBBxksjnolDecS4dsUyXyurVq1yYmpeNtPz8DHHuL8RJScny/4qv8V3rPr16zuxU045xYlNmzZN9i9LGNcoj3iGGQAAACgiFswAAABACBbMAAAAQAgWzAAAAEAIFswAAABAiMiV/kqrWDJ2//nPfzqx1atXO7EVK1bI/ipDV1X6S0hIkP137tzpxHxZ12r3C/VefccCgOKmKpP+9NNPkfur+WrPnj2y7dChQ52Y2j1I7T5kpne/UMdatmyZ7K/mdl9VwCVLljixjz/+2In5KrsqakcPs/JbQRAo7fiFGQAAAAjBghkAAAAIwYIZAAAACMGCGQAAAAhR5pP+YnHSSSc5sYULFzqxmjVrRn5NX2KGohJefEkgP//8c6SYKskKAEeCSvCLpdy1L8FPyc7OdmJbtmxxYtWrV5f9q1Wr5sTS0tKcmO9cd+3a5cTUHOyLf//997JtVCT3AaULvzADAAAAIVgwAwAAACFYMAMAAAAhWDADAAAAIVgwAwAAACHK5S4ZHTp0kPGNGzc6MZXdrLK+zXQZa5WhvW/fPtnfF4/atlIl9+PyZYirsrA7duyIfHwAiMK3y4Si5qXHHntMtj377LOd2IoVK5xYZmam7J+UlOTEXnrpJSemdt4wMzv//POdmG8HpcWLFzsxVcb7k08+kf1vvfVWJzZt2jTZVollpxIAh4dfmAEAAIAQLJgBAACAECyYAQAAgBAsmAEAAIAQ5TLp74QTTpBxVYZalWqtUaOG7K9KW6vkPF+57NTUVBlX1Ln6yrIqKuGEpD8ARaESn9Uc6EuOU4ls6enpsu2aNWucmJrD8vLyZH/1unPnznVi3333new/ePBgJ5afny/b7t6924mpOTwrK0v2f/PNN53YsGHDIrdVx9q7d6/sD+Dw8AszAAAAEIIFMwAAABCCBTMAAAAQggUzAAAAEKJcJv2dc845Mh61qt/WrVtlf1U5qmrVqpHPS1Xq279/v2yrqjT5kgkV33sAgMMVtVrpZZddJuNVqlRxYuvWrYt8fJXMrBLuzHSC3xlnnOHEunfvLvurOXjp0qWyrUq6UwmSvkS8TZs2ObErrrhCtlVJfyT4AUcevzADAAAAIVgwAwAAACFYMAMAAAAhWDADAAAAIVgwAwAAACHK5S4ZDRo0kPGffvrJicWy84TKhFZltFUmt5nZxo0bnZiv3LXaUUPt6OHLMI+ljDaOjljGmsrQV7Gj6fjjj5dxtVPMZ599Fvl11bj2UddA3Stm0e+BatWqyfi2bdsinxcKU2Wlzcx27drlxHw7b6jPT8USEhJkfzXfJycnO7GmTZvK/mpu9Y1V9T2g3pcq7e1rm5GRIdtG5ZtvfDszAQjHL8wAAABACBbMAAAAQAgWzAAAAEAIFswAAABAiHKZ9JeTkyPjW7ZscWIqYUkli5jpsq6qJOmoUaNk/5tvvtmJrVixQrZVySXqXL/66ivZH6XP0Uy2UePHlzSoEqEuvfRSJ+ZLQlq+fLkTa9u2rWz77LPPOrFYyvqqBD9fcl9WVpYTe/TRR53Y5s2bZf8FCxY4sddee022XbhwoYxXBLGMNVUu2pf050uQO5gvyXr79u2R2i5btkz2V+8hPT1dtlXnqpJGfQmKSlpamoyrUt4ff/xx5NcFipsvGbaoieoffvihExszZoxs+8ILLxTpWFHwCzMAAAAQggUzAAAAEIIFMwAAABCCBTMAAAAQggUzAAAAEKLM75IRdTcJM7O8vLxIr+nL7KxTp44Tu/rqq53Y008/LfurXTJiKeurMsznzJkj+6NkRd054EhlF8fSf+fOnU5M7QijSsObmW3atMmJ1apVS7Z95JFHnNhdd93lxFatWiX7q/uiRYsWkY9Vt25dJzZ+/HjZv2bNmk7s5JNPlm0r8i4ZzZs3d2JJSUmyrRqXvp0j1GuoOdC3+4za/UUdS411M7M9e/Y4Md+OLlu3bnVi6r36yrCrHT1899spp5zixNglA0dLLDsVKaeddpqMT5w40Ylt2LDBiakdnMzMJkyY4MTUfWWm55Eo+IUZAAAACMGCGQAAAAjBghkAAAAIwYIZAAAACFHmk/46dOgQua0qea0SRho1aiT7q8SKJ598MvLxYxE1Qez7778/IsdH0URNuitqcl9x6NmzpxPr37+/E1NJdGZmF1xwgRP79NNPZVuVMHL33Xc7MV8S08yZM53YddddJ9uqkt3qWM2aNZP9VWltX4JhRabKoPvKVatEOl/is6LmcN89pObLXbt2OTFfYpDiSxY65hj3tycVU+dvps/Vl8zYrVs3J6YSZ339gaJQCX6+xN3/+Z//cWKXX365bDtt2jQntmXLFifWu3dv2f++++5zYtdcc41sq+7NKPiFGQAAAAjBghkAAAAIwYIZAAAACMGCGQAAAAhR5pP+OnbsGLmtelh93759Tsz3AHufPn0iHcdXaVDxPXyukkB2797txD7//PPIx0I0vup7sbRViUyqSpiqkmZmVr16dSfmS0ZVSU8vv/yybKuoxAx1/kOGDJH9VbKFSpgz00lT69evd2InnHCC7N+5c2cnNmnSJNlWVXA799xznZjvflXXwNc2ljFT3nTq1MmJ+RLO1Hznm29VpTsV8yXSqQQ/9Zn6jq/uK/V9YRa9MqZvvo86X5j5k1RRvKImcvr47oGSTsaMWoXWRyV5jxkzRradPXu2E1u2bJlsqyp7qu/BZ599Vva/6aabZFyJpTLhr/ELMwAAABCCBTMAAAAQggUzAAAAEIIFMwAAABCCBTMAAAAQoszvkpGTk+PEfFmoKsM5JSXFif3nP/+R/X1ZywfbuXNnpHZm/ux6Fa9du7YTmzt3buRjwaWus+8zUZnEvgx7taOJGqsnnnii7L9t27ZIr2lm1rp1ayfWpk0bJ9a4cWPZX72ve++914ldffXVsv8tt9zixHw7erRs2dKJqaznRYsWyf4ZGRlO7PTTT5dtVda12uUiPz9f9le7L/h2yahWrZqMVwT16tVzYr4sdDU316pVS7ZVZbTVWPUdS+3IonY58O18ofh2SVDnpe7XOnXqyP6bN292Yr7vMbWrTEUWyw41vt0g1FhR4+Jo7nARy1hTu6z4do+JZUeMN99804m1bdvWifnWITt27HBivu9MVfJ95MiRTiyW3TCKG78wAwAAACFYMAMAAAAhWDADAAAAIVgwAwAAACHKfNKfKsu6ceNG2VY9sK9Kmj7zzDNFPzFBJbHEkrCwffv24jwdeMSSFOFLxFNUssKcOXNk2y+//NKJqcQUM50Id/755zsxXxLJAw884MTS09Od2OLFi2X/vn37OrG3335btr3hhhucmEpGVCWwfefgS2ZU71clUyYmJsr+KpFPlVv2HauiyMzMdGK+BGl1ndasWSPbrlu3zompZFL1mZrpRCiVIKhKWJvpecA3X6vk8by8PCe2atUq2V/db773pcZl3bp1nZi6fuVRLPO1T9TETzXXmZkNGDDAiakxYWb20EMPObH//ve/TiyWBENfgp/yhz/8wYmp5DozXdpajeu0tDTZX62vfNflN7/5jRObOHGibFtUhztmKu4sDwAAAETAghkAAAAIwYIZAAAACMGCGQAAAAhR5pP+GjZs6MRUdRkzndyjEqaO1IPmW7ZsidxWJaysXbu2OE8HppN4fMkWKtnGl5hz3nnnObGsrCwn5hsTf//7351YjRo1ZNuPP/7YianEkv79+8v+6j2oJKQ//vGPsv9f/vIXJ9a9e3fZViXXrF692on5PgNV1VDdK77XaNKkiRPzJZ2NGTPGib3xxhuRj1VRqDnYl3jdtGlTJ+abb1UFxuOOO86JrVixQvZX97ZKOowl8dqXHKaSm1RFvq+++kr2v/32253Yd999J9uqSmmq2mJ5TPqLJblWtfVVhWzQoIETe+KJJ5yYStw303OYLyH8f//3f53YvHnznJgaE2Zm1atXd2IDBw50Ytddd53sr75zLrnkEtlWJQhmZ2c7Md/93qJFCyfmq247Y8YMGS9N+IUZAAAACMGCGQAAAAjBghkAAAAIwYIZAAAACMGCGQAAAAhR5nfJUOWia9asKduqXTJUduvOnTuLfmKCyppVGc9mOsP3xx9/LPZzquhi2d3AtyOGonZzUFnvvtLYagz6dtT45JNPIrX17QbQtm1bJ6ZKtd56662yf5cuXZyY77pGzdxXuw6Y6TLGvsx1db/fc889Tsy384Xiu4YVuTS22r1F7RBhpsvibtq0SbZV95sqD++79r7dU6JS5XN95emj9v/0009lWzWufDs6qHNQ883MmTMPcYZlj7qmvjLHscztaqefKVOmOLFHH31U9j/llFOcmCqXbWaWk5PjxNTuPcOHD5f91b21ZMkSJ/bMM8/I/itXrnRivjl06tSpTkztyHLSSSfJ/gsXLnRiixYtkm3btGnjxKpWrerETjvtNNm/fv36TkztfmJmNmzYMBk/lIo7ywMAAAARsGAGAAAAQrBgBgAAAEKwYAYAAABClPmkP/UAue9B7127djkxX2LFkaDKR/rOVSWBLF++vNjPqaJTiQaqfK+Z2YcffujEtm7dKtvOmjXLianEjvnz58v+48ePl3ElLS3NiXXo0MGJqfKrZjo5JTk52Yn5kg7ffPNNJ6YS7sx0GWVValXdq2Y6ydeX9PPll186sVgS/FQymS+RyHcOFUFSUlLktuqabtiwQbbNyMhwYqo0tS8RM2rZe18iXyyf/08//eTEVHKUaucTS8n39u3bO7Fx48ZFPlZZoe6z9PR02VbNYUuXLpVtP/vsMyd2+eWXO7HevXvL/h07dnRia9eulW1fe+01J6YS+VSCs5lOnK1WrZoTU99tZmZnnHFG5GN9++23kWK+RD5FJZSb6e9M9Z3VuXNn2V+dg0qGNDNr3rx52Cl68QszAAAAEIIFMwAAABCCBTMAAAAQggUzAAAAEIIFMwAAABCizO+S8fnnnzuxrl27yrYqw9aXYX0kqGxe3y4dqjSwyo71Ue+rImfy+/Ts2dOJqYxnM7NBgwY5MV+Gv/r81C4Tf/7zn2X/O++804m1bNlStlXZ9KrUaVZWluy/ePFiJxa1JKqZWf/+/Z2YylA30+eqdhpRu2GYme3YsUPGlbp16zoxlSU/d+5c2X/VqlVOrEWLFrLtX//618jnVZZlZmY6MTXWffPq7t27nZhvrKgdVTZv3uzEfLtcHIn5zleGW5X3Vrt8+LLz1Q5KsbyvRo0aybblTW5urhMbMWKEbDtjxgwnVrNmTdlWfS75+flOzLfLyeTJk52Yb4cGtdOGmq/V/GWm7y21S4Zv5wr1vny7v6hdadRn4NsVSd0X6lqZ6bWQ2oHnP//5j+yvzrVZs2ayrW+3lEPhF2YAAAAgBAtmAAAAIAQLZgAAACAEC2YAAAAgRJlP+lPlomMplepLrDgSVLnf1NTUyP337t1bnKcDM3v00Ucjtz399NOdmCpJa2Z23nnnOTGV8ORL+rz77rudmC+JpHbt2k5MJfj5Sls3btzYiV1//fVOTCWmmJlVrVrViSUkJMi23333nRNTiVy+JCZfMqCiXleVC/7qq69k/7y8PCfmSxqKpTRsWVa/fn0nppJtfMlxqgTw7373O9lWjVeVIHqkkv7U+1IJjmY6aUolqPoS1FQyme/81ZzhS+gtb9LS0pyYGpNm+pr6NgRQ96+aq3zzvfoeV6W1zcx+/PFHJ/b0009HPpZKRlbJcTk5ObK/SkZViYBm+hqq+9L33aD41mdRy9ar71Ezs+OOO86JzZkzR7ZdvXp12Cl68QszAAAAEIIFMwAAABCCBTMAAAAQggUzAAAAEKLMJ/199tlnTsz3ALpKolBJKEdKLAl+KmlGVc1B0bRr186JqapJZmaffPKJE3v//fdl2/vvvz/S8X3JUdWrV3divqpFqgKfqryk3mss5+W7r1QSiu9YqqLZ999/H6mdmdns2bOd2LJly2Tbot7bVMt0qWql6pr4EnNUIp0vaUslbarEIF+VMXVevopmiroHfAlLlStXdmIqQVUlrZnpCpi+Y6lrqKoilkfffPONE7vyyitlW5Wk3aFDB9n2lFNOcWIq4c2X9Dt//nwn9sYbb8i2KhmvU6dOTsz33XDOOedEauubr1XSni9JWyWY1qpVy4mpMWmm7zff+1Lnq+7tpk2byv4qIfiuu+6SbQ8XvzADAAAAIVgwAwAAACFYMAMAAAAhWDADAAAAIVgwAwAAACHK/C4Za9ascWK+rGuVTZ+cnFzs5+Sjyqr6sslVdqkvExWHT+3Q0KNHD9lWlbX17Vyiyph//fXXTmzevHmyv3rdL774QraNavz48UXqX9GoXRZ8OxdUFKoMeyy7iahsfF/JdjUHqtf1zYsqG99XRluJpeS3yvBX71XtOmCm32ssOxfUrVtXtq0IfGWdX3755Ugxnzp16jixzMxM2bZRo0ZOrE2bNrKt2r1H7Yqkdk4xM3vzzTedWNRdWsz0PVS1alXZVlHnqr7vzPSOGr4dkNS1Vffb66+/Lvs/9dRTMq4c7jzOL8wAAABACBbMAAAAQAgWzAAAAEAIFswAAABAiDKf9KcsXLhQxtVD9Ophd18Cxbp164p0XrGU1S1qWVdEo67phx9+KNuquC+JSJWGbtmypRO76qqrZH+VCLVt2zbZViWOqrHqG38bNmxwYllZWZGOY2aWlJTkxHxJFSqRSbX1lRBWibO+pDF1Xuo9+BJeVP8VK1bItrEkE5Vl6lqpEsK++0KNwVgSBBVfIp4vHlUspbHV+1X9fUl/Ku4r+a0SrNTxU1NTZX9VQhiuvLy8SDEzs5kzZzqxiRMnFvcpoZjEshb7NX5hBgAAAEKwYAYAAABCsGAGAAAAQrBgBgAAAEKwYAYAAABClMtdMnyZyCrrWsV8GfpF3SVDZTL7sjVVNrbaIQAly1eW95tvvokUI5MaZUlKSooTi2X3nljmMLWrkZrbfTtXRC2j7duNIhbqHGIpw12zZk0n5tvNIuouF+3bt5fxTz/9NPJ5Afg//MIMAAAAhGDBDAAAAIRgwQwAAACEYMEMAAAAhCiXSX/169eX8c2bNzsxlaxRuXLl4j4lM9NJLL6EmVjKqgLA0aDmMDVXVatWTfZX850vEVAdS/El1xU1EU/xJWmr11Vl2LOzs2X///73v04sNzdXtlWJ6iohvU6dOrI/gMPDL8wAAABACBbMAAAAQAgWzAAAAEAIFswAAABAiHKZ9KeS+8x0csrRrKi3YMECJ6YqPJnp89q7d2+xnxMARFWjRg0ntmrVKifmq5b6zjvvODGVHGdmNmLECCc2c+ZMJ+ZLDoyavO1L5IulgqGqIKgSAVNTU2X/Xr16ObHp06fLthkZGU5MfbfVqlVL9gdwePiFGQAAAAjBghkAAAAIwYIZAAAACMGCGQAAAAjBghkAAAAIUS53ycjPz5dxleGtyk3Xq1ev2M/JTO98EQuVCR3LsXzZ4AAQRdOmTZ2YmpeSkpJkf7UjxrXXXivbql0yGjRo4MR27dol+6tdhdR875tX1S4XvtLaVatWdWLVq1d3Ys8//7zsr87r+++/l21zcnJkPMo5ATh8/MIMAAAAhGDBDAAAAIRgwQwAAACEYMEMAAAAhCiXSX++5DpVhjohIcGJtW3bVvZ/++23i3ReKmHEV9ZVxWNJ+gOA4qaS7lRZ6J9++kn2/+abbyIfSyWtjR492omdeuqpsr9Kjlu6dKkTi2VeVe/VzGzt2rVO7MYbb3Ri48ePj3ysxx57TMbPOOMMJ6aSLFu1ahX5WAAOjRUYAAAAEIIFMwAAABCCBTMAAAAQggUzAAAAEIIFMwAAABCiXO6S8dJLL8n4cccd58Q2bNjgxKZMmVLs52RmtmXLFifmy9Detm2bE5s9e3bkY1EGG0Bx69ixoxNTuxIlJibK/qo0to8qeX3ZZZdF7h9V5cqVZbxatWpOTM3hZv7dM4pi5syZMq7Kk6elpTmxNWvWFPcpARUavzADAAAAIVgwAwAAACFYMAMAAAAhWDADAAAAIeICssMAAAAAL35hBgAAAEKwYAYAAABCsGAGAAAAQrBgBgAAAEKwYAYAAABCsGAGAAAAQrBgBgAAAEKwYAYAAABCsGCOKC4uzu64446CPz///PMWFxdnS5cuLbFzAkqTpUuXWlxcnD344IMlfSqowJirURHExcXZiBEjDtmO8V98yu2C+cAgOfC/KlWqWLNmzWzEiBG2bt26kj494LB8//33NnDgQMvOzrYqVapYVlaW9e7d2x577LGSPjXgsDBXA4WV5Dx/zz332Ouvv37Ej1MWVSrpEzjS/vrXv1qjRo1s9+7d9tlnn9mTTz5pkyZNstmzZ1vVqlVL+vSAyKZPn249evSwhg0b2hVXXGEZGRm2YsUK++KLL+yRRx6xa6+9tqRPEThszNVA8c/zl1xyiQ0aNMgSExMjtb/nnnts4MCBdu655x7G2Zdv5X7BfOaZZ1rHjh3NzOzyyy+3WrVq2ciRI+2NN96wwYMHl/DZHTk7duyw5OTkkj4NFKO7777b0tLS7Msvv7Tq1asX+ru8vLySOamjbOfOnSyeyinmaqD45/n4+HiLj48PbRMEge3evduSkpJifv2KpNw+kuHTs2dPMzNbsmSJde/e3bp37+60GTp0qOXk5BzW6z/xxBPWunVrS0xMtMzMTLvmmmts8+bNBX8/YsQIS0lJsZ07dzp9Bw8ebBkZGbZv376C2OTJk61r166WnJxs1apVs759+9qcOXOc801JSbFFixbZWWedZdWqVbOLLrrosM4fpdeiRYusdevWziRqZlanTp2C///As22vv/66tWnTxhITE61169b27rvvOv1WrVpll156qdWtW7eg3T//+c9Cbfbu3Wv/+7//ax06dLC0tDRLTk62rl272tSpUw95zkEQ2JVXXmkJCQk2YcKEgviLL75oHTp0sKSkJKtZs6YNGjTIVqxYUahv9+7drU2bNvb111/bqaeealWrVrVbb731kMdE+cBcjYoo6jx/wKHmefUMc05OjvXr18/ee+8969ixoyUlJdnTTz9tcXFxtmPHDhszZkzBI1JDhw4t5ndYdlW4BfOiRYvMzKxWrVrF/tp33HGHXXPNNZaZmWkPPfSQDRgwwJ5++mk7/fTT7aeffjIzswsvvNB27Nhh77zzTqG+O3futLfeessGDhxY8F+DY8eOtb59+1pKSordd9999pe//MV++OEHO+WUU5wH+H/++Wfr06eP1alTxx588EEbMGBAsb8/lKzs7Gz7+uuvbfbs2Yds+9lnn9nVV19tgwYNsvvvv992795tAwYMsI0bNxa0WbdunXXp0sU++OADGzFihD3yyCPWpEkTu+yyy2zUqFEF7bZu3Wr/3//3/1n37t3tvvvuszvuuMPWr19vffr0sZkzZ3rPYd++fTZ06FB74YUXbOLEifab3/zGzH75BeV3v/udNW3a1EaOHGk33HCDffjhh3bqqacWWrCYmW3cuNHOPPNMa9++vY0aNcp69OgR0zVD2cVcjYqouOd5n3nz5tngwYOtd+/e9sgjj1j79u1t7NixlpiYaF27drWxY8fa2LFjbfjw4cXxtsqHoJx67rnnAjMLPvjgg2D9+vXBihUrgvHjxwe1atUKkpKSgpUrVwbdunULunXr5vQdMmRIkJ2dXShmZsHtt9/uvP6SJUuCIAiCvLy8ICEhITj99NODffv2FbQbPXp0YGbBP//5zyAIgmD//v1BVlZWMGDAgEKv/8orrwRmFnz66adBEATBtm3bgurVqwdXXHFFoXZr164N0tLSCsWHDBkSmFlw8803x3qZUIa8//77QXx8fBAfHx+ceOKJwU033RS89957wd69ewu1M7MgISEhWLhwYUFs1qxZgZkFjz32WEHssssuC+rVqxds2LChUP9BgwYFaWlpwc6dO4MgCIKff/452LNnT6E2+fn5Qd26dYNLL720ILZkyZLAzIIHHngg+Omnn4ILL7wwSEpKCt57772CNkuXLg3i4+ODu+++u9Drff/990GlSpUKxbt16xaYWfDUU0/FeqlQhjBXA/+nuOf5g8d/EARBdnZ2YGbBu+++6xw/OTk5GDJkSLG/r/Kg3P/C3KtXL0tPT7cGDRrYoEGDLCUlxSZOnGhZWVnFepwPPvjA9u7dazfccIMdc8z/XdYrrrjCUlNTC36liIuLs/PPP98mTZpk27dvL2j38ssvW1ZWlp1yyilmZjZlyhTbvHmzDR482DZs2FDwv/j4eOvcubP85/CrrrqqWN8TSpfevXvb559/bv3797dZs2bZ/fffb3369LGsrCx78803C7Xt1auX5ebmFvz52GOPtdTUVFu8eLGZ/fKoxL///W87++yzLQiCQmOsT58+tmXLFvvmm2/M7Jdn4BISEszMbP/+/bZp0yb7+eefrWPHjgVtfm3v3r12/vnn29tvv22TJk2y008/veDvJkyYYPv377cLLrig0DEzMjKsadOmzrhOTEy0YcOGFc8FRKnGXA0U7zwfplGjRtanT59iP//yrNwn/T3++OPWrFkzq1SpktWtW9eaN29eaJIsLsuWLTMzs+bNmxeKJyQkWOPGjQv+3uyXf+obNWqUvfnmm/bb3/7Wtm/fbpMmTbLhw4dbXFycmZktWLDAzP7vOb6DpaamFvpzpUqVrH79+sX2flA6derUySZMmGB79+61WbNm2cSJE+3hhx+2gQMH2syZM61Vq1ZmZtawYUOnb40aNSw/P9/MzNavX2+bN2+2Z555xp555hl5rF8nmIwZM8Yeeughmzt3bsE/WZv9Muke7O9//7tt377dJk+e7Dx3umDBAguCwJo2bSqPWbly5UJ/zsrKKliso3xjrgZ+UVzzfBg1dyNcuV8wn3DCCQWZ1weLi4uzIAic+K8TOY6ELl26WE5Ojr3yyiv229/+1t566y3btWuXXXjhhQVt9u/fb2a/PBuXkZHhvEalSoU/usTExCPy5YLSKSEhwTp16mSdOnWyZs2a2bBhw+zVV1+122+/3czMmxV9YLwfGF8XX3yxDRkyRLY99thjzeyXBL2hQ4faueeea3/+85+tTp06Fh8fb3//+98LnjP9tT59+ti7775r999/v3Xv3t2qVKlS8Hf79++3uLg4mzx5sjzHlJSUQn8ma7viYK4GCivqPB+GuTV25X7BHKZGjRryny5+/QtDVNnZ2Wb2y4P0jRs3Lojv3bvXlixZYr169SrU/oILLrBHHnnEtm7dai+//LLl5ORYly5dCv7+wD+z1KlTx+kL/NqBRcaaNWsi90lPT7dq1arZvn37Djm+XnvtNWvcuLFNmDCh4Fc1MyuYtA/WpUsX+/3vf2/9+vWz888/3yZOnFiwaMjNzbUgCKxRo0bWrFmzyOeLio25GhXd4czzh+PXczwKq9D/mZubm2tz58619evXF8RmzZpl06ZNi/m1evXqZQkJCfboo48W+q+7Z5991rZs2WJ9+/Yt1P7CCy+0PXv22JgxY+zdd9+1Cy64oNDf9+nTx1JTU+2ee+4p9E/gB/z6nFExTJ06Vf5yMGnSJDNz/4k5THx8vA0YMMD+/e9/y2zsX4+vA79i/PrY//3vf+3zzz/3vn6vXr1s/Pjx9u6779oll1xS8Cvcb37zG4uPj7c777zTeS9BEETK7kbFw1yNiqI45/nDkZyc7OxWhF9U6F+YL730Uhs5cqT16dPHLrvsMsvLy7OnnnrKWrdubVu3bo3ptdLT0+2WW26xO++808444wzr37+/zZs3z5544gnr1KmTXXzxxYXaH3/88dakSRO77bbbbM+ePYX+ic/sl+fennzySbvkkkvs+OOPt0GDBll6erotX77c3nnnHTv55JNt9OjRRb4GKDuuvfZa27lzp5133nnWokUL27t3r02fPr3gV69Yk+Puvfdemzp1qnXu3NmuuOIKa9WqlW3atMm++eYb++CDD2zTpk1mZtavXz+bMGGCnXfeeda3b19bsmSJPfXUU9aqVatCyVAHO/fcc+25556z3/3ud5aammpPP/205ebm2l133WW33HKLLV261M4991yrVq2aLVmyxCZOnGhXXnml/elPfyrSdUL5w1yNiqK45/lYdejQwT744AMbOXKkZWZmWqNGjaxz585H9JhlRgnszHFUHNhK5csvvwxt9+KLLwaNGzcOEhISgvbt2wfvvffeYW1VdMDo0aODFi1aBJUrVw7q1q0bXHXVVUF+fr489m233RaYWdCkSRPv+U2dOjXo06dPkJaWFlSpUiXIzc0Nhg4dGnz11VcFbYYMGRIkJyeHvk+UfZMnTw4uvfTSoEWLFkFKSkqQkJAQNGnSJLj22muDdevWFbQzs+Caa65x+mdnZzvbBa1bty645pprggYNGgSVK1cOMjIygtNOOy145plnCtrs378/uOeee4Ls7OwgMTExOO6444K3337buU9+va3crz3xxBOBmQV/+tOfCmL//ve/g1NOOSVITk4OkpOTgxYtWgTXXHNNMG/evII23bp1C1q3bn24lwtlBHM18H+Ke573bSvXt29fefy5c+cGp556apCUlBSYGVvM/UpcEER4OhwAAACooCr0M8wAAADAobBgBgAAAEKwYAYAAABCsGAGAAAAQrBgBgAAAEKwYAYAAABCsGAGAAAAQkSu9FeW6ounp6fL+DnnnOPEtmzZ4sRWrFgR+VgrV650YpUq6cuakJDgxFJSUmTbbt26ObFPPvnEiX3zzTeHOsVSryS3Ai9L4xplC+O6+DVs2NCJrVq1Srbdt29fsR9/wIABMv7vf/+72I9V1M/wSI0/xnXJOv30051YgwYNnJgq025m1rZtWyf2j3/8Q7adP3++E1OfQXko5xHlPfALMwAAABCCBTMAAAAQggUzAAAAECIuiPjwSUk/O9SmTRsZ79u3rxPzPUOsnhdWsfj4eNk/Pz/fie3Zs8eJ7dy5U/ZPS0tzYr5zVbZv3+7EKleuLNvOmzfPif3rX/+KfKyjiWfiUB6Vx3Fd1OcX27dv78R27dol22ZmZjqxl19+2Yn5clYeeOABJ7Z+/XonlpubK/tfdNFFTuyYY/RvTBMmTHBiL730khMbPny47H/uuefKuKK+n9RnsH///sivGYvyOK5LI5XHZGY2evRoJ7Z69Won5lsb9OjRw4nNnDlTtj3uuONCzvDQ1P1ypMZlUfEMMwAAAFBELJgBAACAECyYAQAAgBAsmAEAAIAQLJgBAACAEGVml4xbbrlFxlWG9bJly2RblXWdnZ3txNRuGGY6E7VZs2aR2pnpXS4aNWok26rdN+bMmePEkpOTZf+6des6MbVzhpnZ5MmTndjRzG4l6xrlUXkc10WdFzZs2ODEFixYEPlYqr9vlwsVj+X81ffId999J9vWrFnTiVWtWjXS8c303Kx26fA5mtXXyuO4Lo0ee+wxGe/evbsTU7tcqHvFzGzQoEFO7KOPPpJt33//fSc2ZswY2basY5cMAAAAoIhYMAMAAAAhWDADAAAAIVgwAwAAACFKZdJf/fr1ndgNN9wg265cudKJ/fTTT7KtSrpTx6pRo4bsP3fu3Eiv6ZORkeHEGjZsKNvOmjXLicVShrtx48ZOLDU1Vbb961//KuNHC0kkKI8q8rj2JSypcr9qDjczq1SpUqRjqXLXZjqZr0qVKk7MN4cqvjLcqgyxSrpKSEiQ/Vu3bu3EnnvuOdn2vvvuc2LqWv3888+yf1FV5HEdi2HDhsn48ccf78RUkn5KSorsv2/fPidWu3btyP2VtWvXynhiYqIT27x5sxPbtGmT7H/TTTc5sby8PNm2pMtok/QHAAAAFBELZgAAACAEC2YAAAAgBAtmAAAAIAQLZgAAACBEqdwlo127dk7sxhtvlG0XLlzoxHylqbds2eLE4uPjnVi9evVk/7S0NCe2ZMkSJ+bLTlVluH/88UfZNuruG+r8zXTJbh92yQCKX0Ue11999ZWMq/lq27Ztsq3avSKW96V2idixY4cTq1atmuyvztWXta9eNykpyYmp3TTMzJKTk52Y73uoUaNGMn4w37Uq6risyOPa5+STT3Zid9xxh2y7d+9eJ6Z2wFKl1c30zhVqlwy1I4yZ2fz5852Yb/cXtQ5Rn4FvzTNjxgwnds0118i2JY1dMgAAAIAiYsEMAAAAhGDBDAAAAIRgwQwAAACEiFZ79ChTSRi+JDiVAOErvagelldlJpcuXSr7q/KVLVq0cGK+c/3uu+8iHd9Mn6tKLGnSpInsrx7iX7ZsmWwLAIdLzUE1a9aUbVXitW8OVMlFKjHHl4in+qt58aeffpL9VdKgL2lPJV2tW7fOiTVt2lT2V+fgS/qKWkL4SCX9wTVw4EAntmrVKtlWJeOpz8pXsn3jxo1OTCXO+vqre1OVcTeLPtZ85elzcnKc2CmnnCLbfvbZZ04s6hxwtPALMwAAABCCBTMAAAAQggUzAAAAEIIFMwAAABCiVCb9qQpHa9eulW1VhZ2TTjpJtv3Xv/7lxNQD+OpBdzP9sP3mzZtlW0UldvgSVipVcj8a9RC/r+qTOlcAKG6qgqkv4UwldO/atUu2VcnTKuarMqaq5+3evduJ+eZ7leC3detW2VZVgY0lIVwlPq5cuVK2VXP+okWLnBjJfcXPl2SvNgRQCa4+ah3iuy9q1KjhxNasWePEVEVBM7PMzEwn5ksQVBsNqLWJ7x5SibMXXXSRbKuS/krbGOYXZgAAACAEC2YAAAAgBAtmAAAAIAQLZgAAACAEC2YAAAAgRKncJUNlgfqyOOfOnevEunfvLts+88wzTiw+Pt6J+Uq1qqxp1V+VtTYzS0pKcmK+TNglS5Y4MZVh7sva/fHHH52YyuQ2i17+EgAOdvzxx0duq3YKqlOnjmyrdpRQGfq+OVTNzWoOVpn8vrhvVyLVVn2PqOOb6d03EhISZNvc3FwnpnbJoDR28evdu7eMq10ufOsItbNWLOsItRaqXr26E9uzZ4/sn5+f78R85eHVOkCNS9+OHOoapKamyrZlAb8wAwAAACFYMAMAAAAhWDADAAAAIVgwAwAAACFKZdJf1apVnZjvAfi8vDwnduyxx8q25557rhNTJaR95UvVw/IqEdBHtfUl7WVkZDgx9bC9KktrphNhfMk1JP2hKFQJ4pycHNm2bdu2Tmz8+PGRj1XUsaoSoUiCKppWrVo5Md81VZ+fSngyM6tdu7YTU/N9LMnM6ntEzeu+tr7vhlq1ajmx9evXOzFf0uCGDRucmO+6qJLb77//vhNjXBe/bt26ybj6vvUlt6ly0yoRUCX5m+lS8Crp1FeuWiX4+RJf1dyq3qsvwVAluapNHcz0uFabOpQkfmEGAAAAQrBgBgAAAEKwYAYAAABCsGAGAAAAQrBgBgAAAEKUyl0yFF8mvIrPnj1btlXZmSrr2XcslQmqdr7wZaeqrGdfJq16XZUdqzKxzfR78GVdqwzvdevWybaouG6++WYZv+iii5zYihUrZNvWrVs7MTXWpk6dKvvHsiNGLGXvFbXLQK9evWTbDz/8MPLrljeZmZlOzLdDg8qa97VV5X7VjhirV6+W/dWuQmqHAF9ZX1XuWO1eZKZ3uVDvVe38YWa2fPnyyOfVvn17GT8Yu2QUP9/3tfoeVrt9mfnLUB9M7aZhpsd11J03zMyaNm3qxLZt2ybb+nYnO5hvzaPma1/bjh07OjF2yQAAAADKEBbMAAAAQAgWzAAAAEAIFswAAABAiFKZ9KeS0NauXSvbqgfgp0yZItuqhA1f0pyiHtaPmghoZlapknu5Fy1aJNuq19i5c6cT++yzz2R/leDoS3iKpbw3So4q62xW9OSe9PR0JzZt2jQnppJFzMz+53/+x4k1bNhQtlVJfx988IETe/PNN2X/P/zhD05s6dKlsm3UBD/ffKGSZjp16iTbVuSkv9zcXCfmK7WrxpqvrK5KHFVJc40bN5b9VRltNQdnZ2fL/qo0sXpNM30PqqRTlUhoFj1B0UyXEEbxUwlvvjlFJbL5ktvU920sc7g6h+TkZCfm+75Q/dV94RNL4rU6L981VEl/L774YuRjHQ38wgwAAACEYMEMAAAAhGDBDAAAAIRgwQwAAACEKJVJf+pBcV9iSOfOnZ3YvffeK9teddVVTkw9gO6riKcq96hEvFge9leVBs3M6tSpE+m8Vq1aJfurhJWNGzdGPtbKlStlW0SjEi5UYkcsiXyxJIaoilR33nmnbDts2DAn9tBDDzmxK6+8Uvb//e9/H/m81P2ixpqvot6SJUuc2EcffSTbjh8/3okNHjzYidWrV0/2V+fVs2dP2dY351QEKsHYVylUVSTbtGmTbKvmS5WkrY5vpudrX/U8RSX4+RKe1JyvjuW7h1Wiu2++VkmWKH7qOvs+PzUufGNFfY+r+8K3DlHnELUin5lOyPWtWVRblSDo+x6LunmBmT95tzThF2YAAAAgBAtmAAAAIAQLZgAAACAEC2YAAAAgBAtmAAAAIESp3CVDlQ/1lQlVu1yokrZmOutUxXylon3ZnQfz7eihsrZ9mbAqa3Xbtm1ObPbs2bL/JZdc4sR+/PFH2bZ+/fpO7JtvvpFtKzL1mfgyoaPuaBHLzhc5OTky/txzzzmx7t27OzG1S4yZWdu2bZ3YmjVrnJjaTcNM7zKxbNky2Vbt3qKuq2/3F3UP+XauUHG1K43vWGq3nnbt2sm2FcXxxx/vxNQY9s2hCxcudGK+66/KkO/atcuJ+XbZUJ+1OldfWWAV992vUcuw+85VjWtfW/Wdocp7++5BRFOzZk0n5iv5Hss8vnv3biemdpnw7Vyhyqjn5+dHipmZNWvWzImpXTrM9FhT6yDfTjXqHvIdq0GDBjJemvALMwAAABCCBTMAAAAQggUzAAAAEIIFMwAAABCixJP+VGKNSvDzJdypUqnNmzeXbVNSUiIdSz1UH4tYyq/6qIQVVe7Y92D/nDlznJiv1KpKGKkoopawNvMn+B0J119/vRPzJe2p97BgwQIn9vHHH8v+d9xxhxO79NJLndiMGTNk/8zMTCdWt25d2VaNV1XW1VfqVSXMfPvtt7KtSi5RSYdJSUmyv7qPGzVqJNv65pzyRiXmqIS32rVry/7vvPOOE/MlAZ166qlOTN2DvrK8voTqqNTn7zuW+s5Q3y2++VrNwb5kSJWQG0viLaJRc0Us5a5j+b5Q3+1qDWCmx6VKrlPnb6Y3JfDdK6qtut9994W6Br7vVzXe1XXZunWr7H808AszAAAAEIIFMwAAABCCBTMAAAAQggUzAAAAEKLEk/5UVT/1sLsvCUhVpPMlHKnEQZWY4avmo0StHujjqzKlHmxXCTe+xIK8vDwnphKmzPzXtiJQCQhNmjSRbc8//3wnpqovmpkdd9xxkY7vq5DUtGlTJ/aXv/xFtj333HOd2ODBg52Yr9Kjut9GjRrlxP7whz/I/mPHjnViF198sWy7du1aJ6Y+g1gqKPqqyqmEYsWXpBtL9a6iJpiVFar6mfqsfPOamq9V9T4zXenMV/FVUfO4+r7xfc6xjDV1DVT1Pl8inmqrYmY6wapjx45O7IsvvpD9EY0aK74qvrEkwqkkY9XWNweqe0Al+KnzN9Pj2jcHqnNQsS1btsj+vnNQ1Bxap04dJ0bSHwAAAFBKsWAGAAAAQrBgBgAAAEKwYAYAAABCsGAGAAAAQpT4Lhm1atWK1M6XnbphwwYn1q5dO9lW7QaQlpbmxFTGq5nODlWZ3D4qu1WV6zYzW716daTzUqUjzfS5+jJW09PTZbyimjhxooyrXUoef/xx2Xb27NlO7KSTTnJiqqy0mdnKlSudWL9+/WTb9u3bO7F169Y5MV8JYrUrSIsWLZyYL8Nf3QO+sq7Vq1d3Yio72rfLQlF3TlA7xfh2SVD3m2+nGXW9yyM1X6rr79s1RO0qs3nzZtk2atl633yt+vt2Loja37dzgYqr77Zp06bJ/ps2bXJiJ554omyr7i3fzj44fOq72TfXqDGovsPN9He2ui9iKcOt5nbfmkntdOObA9Wx1DrCtwOT2n1DfQeY6bk9IyPDiS1cuFD2Pxr4hRkAAAAIwYIZAAAACMGCGQAAAAjBghkAAAAIUeJJf6pMpHqw3pcEpB4qV6/pe131sL7vYXtVQlr195XWVskavnNVD9ur/r5jbdy40YnVr19ftvW934pAJe3l5ubKtjNnznRigwYNkm1VwogaK77yzb5SpYoqN62SQHzva9GiRU5MJSyphC8zXdrYV75UjVdf0pcSy1hVx1KljX0JaioRJpbSuOWRrzT0wXzJdaqEryoDb6Y/a3V8X8KSmq9VW9+5qu8c3+evzlV93/iuX15enhOrXbu2bKvKEPuSv3H4VHKb7/tWfY+redlMJ3qr72vfhgIqvnPnTiemEknN9LiKJelPjbWlS5dG7t+lSxfZVt1Dar4oSfzCDAAAAIRgwQwAAACEYMEMAAAAhGDBDAAAAIRgwQwAAACEKPFdMqKWtfVlsufn5zsxXyay2mVCZfj7duSImiHuy5hXOx+o45vp8pHr16+PfE6+MsiKyrBVmbjlcTeNCRMmOLH+/fvLtlFLUJvpbHo11n1Z1wkJCU7Ml8mssp7VWJs7d67sr8b7mjVrnNi8efNkfzUufOeqRL2vzPSOBrGUp4+lNLK6j6tWrSrbtmvXLvLrlmVRP2vfZ7J8+XIn1rFjR9lWzY1qXPuOpb4zYimXreK+sarGipqDfSWs1b0Zy3wbyz2EaNS86PtuV5+V2s3ETJfBVmNF7bRkpr9H1HeAbwcm9d0Uyy5kderUiXROZnqnELV7jZm+Br4y2iWFX5gBAACAECyYAQAAgBAsmAEAAIAQLJgBAACAECWe9KfKT6oHyH1JfyppylduWpWfjFqa20wnDaokIF9iUCzlc1VpYpX0V7NmTdnfl4ym+Mq9VgQffvihE2vQoIFse9NNNzmxiy++WLZt27Zt0U5MiCUJSI01X3KUSuxQSSAkFvmdccYZJX0KR4Uag2pc+ZI+1XzbqFEj2VbNt7GMa/WdEUtpbMWXHKWui5pXfaV+1XzhK22s7sPymJBd0lTitS9JW32u3377beS2sZQ2V5+1msN96w01fmJZm/iS9pQFCxY4sbp160Zum56eHvlYRwO/MAMAAAAhWDADAAAAIVgwAwAAACFYMAMAAAAhSjzpTyW3qWQJ9VC7WWzVuFavXu3E1AP0aWlpsn9eXp4TUwknvuQo1dZXzUddA9Xflyzw7rvvOjFfNTJ1DdTD9rEkEpZH999/f6SYj6qQ1KpVK9lWVT+rV6+ebBu1GpLvHlKJTFETS8x0RTZfIqmK796924n5ErHUefkSntT9ot6DL7lKVanyHWvq1KlO7Oabb5ZtyzL1/lVynW+snH322U7Ml9ijxkXUsRrLefnGmkoQ9B1Lzfkq5rsuWVlZMq5EHdcoGpXc5tt8QH3WW7dujdw2atKomd4oQW0IoCr4mpkde+yxTmzDhg2yraLul4yMDNlWVfaM5X5TiZcliV+YAQAAgBAsmAEAAIAQLJgBAACAECyYAQAAgBAsmAEAAIAQJb5LRtQy2Js3b5b9VVtf1vXChQsjnVN+fr6Mq3NQmdw7duyQ/dW5+rJuVYauivmytlWGrW/3DvUZxFL+EtGoXVZUzMzs448/PsJnA8ROzSsq6903rnv37u3E5s+fL9tGLU0cS2nrqGXgzfRuFL5jqeui5lBfCeKNGzc6MbWrjpme82vWrCnb4vCp3Sh839eKb1yp11Djyvd9rfrXqFHDifnGhCo57ysvr+JqfdO8eXPZf/r06U7Mt/uH2iXDd14lpXSdDQAAAFDKsGAGAAAAQrBgBgAAAEKwYAYAAABClHjSn3qwXSVLqOQ6n++//17G1cPuqqxwZmam7N+gQQMnps7V96C6KiGsEu7M/ImHB0tKSpJxVXJbvX9fW195cQAVl0rMUTGVnGemE/nq168v26qkJTUvquOb6aQtdV6++dr3uopK5ktNTY18LPU94EsQVEl/sSQ+Ihp1nX2JeIqvrLP6vlXJqLEk3qvx4ztXNa58yYwqrpL+atWqdahTPCR1b5D0BwAAAJQhLJgBAACAECyYAQAAgBAsmAEAAIAQLJgBAACAECW+S4bKWlY7P6gdJsx0FuWgQYNk25UrVzqxVatWOTFfuemdO3c6MVUu25fZqbJWfWW8mzRp4sTUjh6+8qkPP/xw5PNS2dy+awCg4lK7FandJHxZ96os7rRp02Tb5OTkSP19O0T4dik4mG8HpljKaEctbbx+/XrZ/+STT3ZiDRs2lG3VbkdqBycUzZYtW5yY2uHCzGzTpk1OrG3btpGPpdZBvl1aou4ipsqtm5k1a9bMiamdL3zULhu+XbUaN27sxPLy8mRbNWeonW5KEr8wAwAAACFYMAMAAAAhWDADAAAAIVgwAwAAACFKPOlPJVGoBD9fctsXX3zhxC677DLZViW9ZWRkRD6WeuA/ljKT69atc2IqscRMJxGoJIR58+bJ/oqv1ObWrVudmC+5AUDFpZLbVMKSb6559tlnndi9995b9BMr49R31n333Sfbqu8RlRCOotmwYYMTU0mnZjpJ/pRTTpFt1fe4Wpv4SqOrzQeqVavmxHyJeL4kVyXq+kadk5nZWWed5cRUGW8zneRb2vALMwAAABCCBTMAAAAQggUzAAAAEIIFMwAAABCixJP+VJU59aC5aufz1VdfFemcyitftURVbTAzM9OJffPNN8V+TgDKDpVclJ+f78R8SWhqXvFRiVC+6mdF4asUGMux1Guo81cJkmZmOTk5kY8ftaogikZV8fVdZ1Wd+JlnnpFtf/vb3zqxWrVqOTFfZV6VYJiWlubEfNX7VPU831hTCX7qGvgSCSdNmuTEunXrJtuqhMr//ve/sm1J4RdmAAAAIAQLZgAAACAEC2YAAAAgBAtmAAAAIAQLZgAAACBEie+SoXZoUHzZxbFQZbiL43WPFpU1qzJmY+kf62sAqLiilvD1zSmxlL89WvNScey8UdTXWL9+vRPzlUZWpYVXrFjhxNTOCWa6NDNcy5Ytc2KxfM5vv/125Hj79u2d2LHHHiv716hRw4nVq1fPian1jpnZ3r17nZivjLYalx9++KET++KLL2R/pUuXLjKudu9Qxy9J/MIMAAAAhGDBDAAAAIRgwQwAAACEYMEMAAAAhCjxpD9FPfydmJhY5NctSwl+SlGTYHzXUCUHqFKfACq2zp07OzGVCKhK6pr5E5nKI1/JbUUlbfkSsVTipCpX3KtXL9n/3//+d+Tzqshyc3OdWMOGDWXb5cuXOzGVnGemS8nPnDkzUqw88JUXV/dAzZo1j/TpxIRfmAEAAIAQLJgBAACAECyYAQAAgBAsmAEAAIAQLJgBAACAECW+S8a6deucmMqiVFmoiM38+fNlvFGjRk5s8+bNR/hsAJQ106ZNc2Jq14atW7fK/t98802xn1NpFcsuGU899ZQT85URV7saLVq0yIm98cYbkY8P13vvvefEmjdvLtuuXbvWiandMHzUTjNHqzR8GDWGVSyWc506daqML1iwwIn95z//ify6RwO/MAMAAAAhWDADAAAAIVgwAwAAACFYMAMAAAAh4oIgCEr6JAAAAIDSil+YAQAAgBAsmAEAAIAQLJgBAACAECyYAQAAgBAsmAEAAIAQLJgBAACAECyYAQAAgBAsmCOKi4uzO+64o+DPzz//vMXFxdnSpUtL7JwAn6FDh1pKSsoh23Xv3t26d+9ebMft3r27tWnTptheD/g1xjXwi7i4OBsxYsQh27FWKT7ldsF8YJAc+F+VKlWsWbNmNmLECFu3bl1Jnx7geOKJJywuLs46d+5c0qdSJt1zzz32+uuvl/Rp4CCM66JhXFc833//vQ0cONCys7OtSpUqlpWVZb1797bHHnvsiB+b8eZXbhfMB/z1r3+1sWPH2ujRo+2kk06yJ5980k488UTbuXNnSZ8aUMi4ceMsJyfHZsyYYQsXLizp0ylzmOhLJ8Z10TCuK5bp06dbx44dbdasWXbFFVfY6NGj7fLLL7djjjnGHnnkkZhf75JLLrFdu3ZZdnZ2pPaMN79KJX0CR9qZZ55pHTt2NDOzyy+/3GrVqmUjR460N954wwYPHlzCZ3fk7Nixw5KTk0v6NBDRkiVLbPr06TZhwgQbPny4jRs3zm6//faSPi2gSBjXQGzuvvtuS0tLsy+//NKqV69e6O/y8vJifr34+HiLj48PbRMEge3evduSkpJifv2KpNz/wnywnj17mtkvE7nvObehQ4daTk7OYb3+E088Ya1bt7bExETLzMy0a665xjZv3lzw9yNGjLCUlBT5C/fgwYMtIyPD9u3bVxCbPHmyde3a1ZKTk61atWrWt29fmzNnjnO+KSkptmjRIjvrrLOsWrVqdtFFFx3W+aNkjBs3zmrUqGF9+/a1gQMH2rhx45w2S5cutbi4OHvwwQftmWeesdzcXEtMTLROnTrZl19+echjzJw509LT06179+62fft2b7s9e/bY7bffbk2aNLHExERr0KCB3XTTTbZnz57I7+frr7+2k046yZKSkqxRo0b21FNPOW3y8vLssssus7p161qVKlWsXbt2NmbMGKfdjh077MYbb7QGDRpYYmKiNW/e3B588EELgqCgTVxcnO3YscPGjBlT8BjW0KFDI58vjgzGNeMasVm0aJG1bt3aWSybmdWpU8eJvf7669amTRtLTEy01q1b27vvvlvo79UzzDk5OdavXz977733rGPHjpaUlGRPP/004+0QKtyCedGiRWZmVqtWrWJ/7TvuuMOuueYay8zMtIceesgGDBhgTz/9tJ1++un2008/mZnZhRdeaDt27LB33nmnUN+dO3faW2+9ZQMHDiz4r8GxY8da3759LSUlxe677z77y1/+Yj/88IOdcsopzgP8P//8s/Xp08fq1KljDz74oA0YMKDY3x+OnHHjxtlvfvMbS0hIsMGDB9uCBQu8i4WXXnrJHnjgARs+fLjdddddtnTpUvvNb35TMMaUL7/80nr27GnHHXecTZ482Zs4tX//fuvfv789+OCDdvbZZ9tjjz1m5557rj388MN24YUXRnov+fn5dtZZZ1mHDh3s/vvvt/r169tVV11l//znPwva7Nq1y7p3725jx461iy66yB544AFLS0uzoUOHFvpnxyAIrH///vbwww/bGWecYSNHjrTmzZvbn//8Z/vjH/9Y0G7s2LGWmJhoXbt2tbFjx9rYsWNt+PDhkc4XRw7jmnGN2GRnZ9vXX39ts2fPPmTbzz77zK6++mobNGiQ3X///bZ7924bMGCAbdy48ZB9582bZ4MHD7bevXvbI488Yu3bt2e8HUpQTj333HOBmQUffPBBsH79+mDFihXB+PHjg1q1agVJSUnBypUrg27dugXdunVz+g4ZMiTIzs4uFDOz4Pbbb3def8mSJUEQBEFeXl6QkJAQnH766cG+ffsK2o0ePTows+Cf//xnEARBsH///iArKysYMGBAodd/5ZVXAjMLPv300yAIgmDbtm1B9erVgyuuuKJQu7Vr1wZpaWmF4kOGDAnMLLj55ptjvUwoBb766qvAzIIpU6YEQfDLGKlfv35w/fXXF2q3ZMmSwMyCWrVqBZs2bSqIv/HGG4GZBW+99VZBbMiQIUFycnIQBEHw2WefBampqUHfvn2D3bt3F3rNg++BsWPHBsccc0zwn//8p1C7p556KjCzYNq0aaHvpVu3boGZBQ899FBBbM+ePUH79u2DOnXqBHv37g2CIAhGjRoVmFnw4osvFrTbu3dvcOKJJwYpKSnB1q1bgyAIgtdffz0ws+Cuu+4qdJyBAwcGcXFxwcKFCwtiycnJwZAhQ0LPD0cP4/oXjGvE4v333w/i4+OD+Pj44MQTTwxuuumm4L333isYYweYWZCQkFBorMyaNSsws+Cxxx4riB28VgmCIMjOzg7MLHj33Xed4zPe/Mr9L8y9evWy9PR0a9CggQ0aNMhSUlJs4sSJlpWVVazH+eCDD2zv3r12ww032DHH/N9lveKKKyw1NbXgF+W4uDg7//zzbdKkSYX++fDll1+2rKwsO+WUU8zMbMqUKbZ582YbPHiwbdiwoeB/8fHx1rlzZ5s6dapzDldddVWxviccHePGjbO6detajx49zOyXMXLhhRfa+PHjCz2ec8CFF15oNWrUKPhz165dzcxs8eLFTtupU6danz597LTTTrMJEyZYYmJi6Lm8+uqr1rJlS2vRokWhcXfgUSY17g5WqVKlQr9KJCQk2PDhwy0vL8++/vprMzObNGmSZWRkFMojqFy5sl133XW2fft2++STTwraxcfH23XXXVfoGDfeeKMFQWCTJ08+5PmgZDCuf8G4Rix69+5tn3/+ufXv399mzZpl999/v/Xp08eysrLszTffLNS2V69elpubW/DnY4891lJTU+U9c7BGjRpZnz59iv38y7Nyv2B+/PHHbcqUKTZ16lT74YcfbPHixUdkkCxbtszMzJo3b14onpCQYI0bNy74e7Nfvhh27dpVMPi3b99ukyZNsvPPP9/i4uLMzGzBggVm9ssz1+np6YX+9/777zsP/1eqVMnq169f7O8LR9a+ffts/Pjx1qNHD1uyZIktXLjQFi5caJ07d7Z169bZhx9+6PRp2LBhoT8fWGTk5+cXiu/evdv69u1rxx13nL3yyiuWkJBwyPNZsGCBzZkzxxlzzZo1M7NoSSeZmZlOwumB/gceJVq2bJk1bdq00H9cmpm1bNmy4O8P/N/MzEyrVq1aaDuULoxrxjUOX6dOnWzChAmWn59vM2bMsFtuucW2bdtmAwcOtB9++KGg3cH3jNkv983B94zSqFGjYj3niqDc75JxwgknFOyScbC4uLhCCRYHqF8/ilOXLl0sJyfHXnnlFfvtb39rb731lu3atavQs3T79+83s1+eYcvIyHBeo1Klwh9dYmKiM0mj9Pvoo49szZo1Nn78eBs/frzz9+PGjbPTTz+9UMyX8XzwWE5MTLSzzjrL3njjDXv33XetX79+hzyf/fv3W9u2bW3kyJHy7xs0aHDI1wAY10DRJSQkWKdOnaxTp07WrFkzGzZsmL366qsFO81EvWcUdsSIXblfMIepUaOG/KeLw/mv+wN7HM6bN88aN25cEN+7d68tWbLEevXqVaj9BRdcYI888oht3brVXn75ZcvJybEuXboU/P2Bf2apU6eO0xflx7hx46xOnTr2+OOPO383YcIEmzhxoj311FOHNbnFxcXZuHHj7JxzzrHzzz/fJk+efMjqZ7m5uTZr1iw77bTTCv61I1arV692tjWcP3++mVnB7jPZ2dn23Xff2f79+wv9h97cuXML/v7A//3ggw9s27ZthX6NO7jdgfeL0oFxzbhG8Trww9+aNWuO6HEYb34V+ifJ3Nxcmzt3rq1fv74gNmvWLJs2bVrMr9WrVy9LSEiwRx99tNB/3T377LO2ZcsW69u3b6H2F154oe3Zs8fGjBlj7777rl1wwQWF/r5Pnz6Wmppq99xzj8wS//U5o2zatWuXTZgwwfr162cDBw50/jdixAjbtm2b89xaLBISEmzChAnWqVMnO/vss23GjBmh7S+44AJbtWqV/eMf/5Dnu2PHjkMe8+eff7ann3664M979+61p59+2tLT061Dhw5mZnbWWWfZ2rVr7eWXXy7U77HHHrOUlBTr1q1bQbt9+/bZ6NGjCx3j4Ycftri4ODvzzDMLYsnJyYW2cETJYFwzrnH4pk6dKn8hnjRpkpm5j30WN8abX4X+hfnSSy+1kSNHWp8+feyyyy6zvLw8e+qpp6x169a2devWmF4rPT3dbrnlFrvzzjvtjDPOsP79+9u8efPsiSeesE6dOtnFF19cqP3xxx9vTZo0sdtuu8327NnjbG2UmppqTz75pF1yySV2/PHH26BBgyw9Pd2WL19u77zzjp188snOZIuy5c0337Rt27ZZ//795d936dLF0tPTbdy4cZG3vlKSkpLs7bfftp49e9qZZ55pn3zyibVp00a2veSSS+yVV16x3//+9zZ16lQ7+eSTbd++fTZ37lx75ZVXCvbtDJOZmWn33XefLV261Jo1a2Yvv/yyzZw505555hmrXLmymZldeeWV9vTTT9vQoUPt66+/tpycHHvttdds2rRpNmrUqIJf3c4++2zr0aOH3XbbbbZ06VJr166dvf/++/bGG2/YDTfcUCjhpUOHDvbBBx/YyJEjLTMz0xo1akQ55hLAuGZc4/Bde+21tnPnTjvvvPOsRYsWtnfvXps+fXrBv0QPGzbsiB6f8Rai5DboOLIObKXy5ZdfhrZ78cUXg8aNGwcJCQlB+/btg/fee++wtpU7YPTo0UGLFi2CypUrB3Xr1g2uuuqqID8/Xx77tttuC8wsaNKkiff8pk6dGvTp0ydIS0sLqlSpEuTm5gZDhw4Nvvrqq4I2v95qCWXH2WefHVSpUiXYsWOHt83QoUODypUrBxs2bCjYfuuBBx5w2h08PtWY2LBhQ9CqVasgIyMjWLBgQRAE7vZbQfDLNlj33Xdf0Lp16yAxMTGoUaNG0KFDh+DOO+8MtmzZEvqeunXrFrRu3Tr46quvghNPPDGoUqVKkJ2dHYwePdppu27dumDYsGFB7dq1g4SEhKBt27bBc88957Tbtm1b8Ic//CHIzMwMKleuHDRt2jR44IEHgv379xdqN3fu3ODUU08NkpKSAjNja6QSwrhmXOPwTZ48Obj00kuDFi1aBCkpKUFCQkLQpEmT4Nprrw3WrVtX0M7Mgmuuucbpn52dXWiM+LaV69u3rzw+480vLggiPB0OAAAAVFAV+hlmAAAA4FBYMAMAAAAhWDADAAAAIVgwAwAAACFYMAMAAAAhWDADAAAAIVgwAwAAACEiV/qjvjiOlJLcCrw8jOv4+Hgntm/fviK9ZqVK7tTQrFkz2bZBgwZOrH79+rKtKutar149J5acnCz7q7YbNmyQbT/55BMn9sQTTzixnTt3yv5FxbhGecS4Ln5qXhw8eLBs+8MPPzixk046yYnNmzdP9l++fLkT69Spk2z7wQcfOLHPPvtMti3rooxrfmEGAAAAQrBgBgAAAEKwYAYAAABCsGAGAAAAQsQFEZ/gL60P28dyXlGTFVQSlZnZq6++6sTUA/SVK1eW/Xft2uXEevXqJdtecMEFTmz+/PmyrXLMMe5/C/nef0kmcZT08UvruFbUZ2pmtn//fidWpUoVJ3bzzTfL/u3atXNi7du3d2I1a9aU/VNTU2W8KNasWSPj6t7csmWLbKviK1eudGLnnXee7K/GRixjlXGN8ohx7erYsaMTy87Olm27dOnixNR87bvOixcvdmIpKSlO7Pvvv5f9q1atKuNKVlaWE0tLS3Nin376qez/5ZdfOrHNmzdHPv7RRNIfAAAAUEQsmAEAAIAQLJgBAACAECyYAQAAgBAsmAEAAIAQZWaXjFh2CIiFyvxX5XPNzBISEpyYui7VqlWT/X/++Wcntnv3btl227ZtTuzOO+90YgsXLpT9yxKyrqNJTEyU8T179jixQYMGObGxY8fK/moMqXHp241C3Rc1atSQbdU9oHbZ8N1D6r5Yu3atbJuRkeHENm7c6MSOP/542b+oGNc4ElTZenVfHSllZVwXdZebiy66yImpOcXMLDk52Yn55qVFixY5MbVLxr59+yIfS83BvjGhros6vpnemUu9rirtbabncd/3yKZNm5zYe++9J9seCeySAQAAABQRC2YAAAAgBAtmAAAAIAQLZgAAACCEmz1QSsWS3KfKVJqZnX/++U4sMzPTiamH6s30Q/gbNmxwYiopw8wsPz8/cluVjHjfffc5MV+57HHjxjmx2bNny7YoG3766afIbVUSx/bt22VblUinxuWsWbNkf5Vw4iujXatWrUjH9yVgqHlAlfY209dAvS9fae+tW7fKOMoulTzuG2tFTW4788wznZgvwfSMM85wYqossZn+zrnllluc2I8//ij7r169WsbLm1g+v0suucSJnX766U7stddek/2XLl3qxJKSkiIfXyXC+dY8qrS0Wsf4kv7UvObbVEFdQ/W+FixYIPur96DKeJuZde/e3YmpJO2vvvpK9j8a+IUZAAAACMGCGQAAAAjBghkAAAAIwYIZAAAACMGCGQAAAAhRZkpj+6hy0c2aNZNt9+7d68R27NjhxHzvVe0GoMo5Nm3aVPZfsWKFE/Nl0qoyyCrD31cuOT4+3on98MMPsq3KsD6aykqp1ZIWS3n4Rx55xIkNHDhQ9p8zZ44Tq1+/vhP7/vvvZf/atWs7Md/uL/Xq1XNiq1atcmJVq1aV/evWrevEfGW01W436r74y1/+Ivvfe++9Mh4V47r0UfdQLDswnXfeeTL+6KOPOjF1D/l2E1Dj0ndealxXrlzZian70kx/D3Tu3Fm2VTvrlOVxrXbpMTM766yznFidOnWc2Lx582R/tY5QOzyY+ctQH6yo5c59pbV3794d+ZzUZ63m5l27dsn+amcntY4y098Z6rwWL14s+xd19xdKYwMAAABFxIIZAAAACMGCGQAAAAjBghkAAAAIUWaS/i6++GIZV0kY69atOyLnoB5WV0l3vpK6vkQoRb2uSgJQySJmOrlFJVyZmc2cOdOJ3XTTTYc4w+JTlpNIjibfuarrN378eCfmKxmvkihatmzpxGJJ+vOVP1Xnqkr9+pJQWrVq5cRUaW0zsxo1akR+XaWoY4NxXfqoJGtfwtKVV17pxFSSuZlZfn6+E1NzsC/hSSXtqRLIZrqUuxprKhHNTCe+paWlybbqepXlcX3SSSfJeG5urhNTn59vrCxfvtyJ+b7v1WetkuN8SX8qrs5VbXLg45sX1bHU+1LJob62vmOpZNZly5Y5MZWMaWY2ffp0GY+KpD8AAACgiFgwAwAAACFYMAMAAAAhWDADAAAAIaJnoZUwXyUiX8JPVCqJwPfwt6q8tGfPHifmq96nHuz3JQaoY6mYr796D77KQ8cff7yMo3SJJdlGVXnyJaz4xuvBfMkWqvKTSmwxM9u5c6cTU4lQvkp/qn/16tVl21tvvdWJPfzww07siy++kP2HDh3qxJ5//nnZFqWPmhvVPdClSxfZ/3/+53+cmC8RT91DqgKlGr9mOnnbV8VV3VsqwSsrK0v2X7p0qRNT32NmZiNGjJDxsqpBgwYyrhLRVBVflXBpphOfVUU9X9w3X0alkvOKmsjna6v4+qtz8H2PqEp9as0USzJjceMXZgAAACAEC2YAAAAgBAtmAAAAIAQLZgAAACAEC2YAAAAgRJnZJcOXnaoyTn0Zm1FLXfoyVqPuUhBLJrWv1KeKq5jKIjXT79WX8VrUDF0Uv1h2b1EaNmzoxHxZ9774wWIpd+3LEFdjUI0/tSOMmc6Q9u3ysWDBAhk/2FlnnSXj77zzjhNjl4zyR5W1NtM7R/juFfWdo3bE8GX4q7LAvnEdy85MitqRIz09PfKxyrJ69erJ+JYtW5yYKiHu+/xVGXLfrkTqs/aNQUWNIbUO8H2vx7LLhGqrxrqvtLrarUnFzPSuMur4qp2ZHsPr16+XbQ8XvzADAAAAIVgwAwAAACFYMAMAAAAhWDADAAAAIcpM0p+vzKN62N33UPiGDRucWCyJVCqRTiVn+R5qV219yU3qvNTxfclV6gF433tViVg1atRwYrEkJqBo1GflSxBVbVXC2kUXXST7q4Qhda/4kmlVcokaq2b6XGNJ1ohaqtXMrE+fPk7s7bffdmKqBK6Z2QsvvBD5WCh9fPPwwebNmyfjKjkulnLDaqz7zknNrbGMdXVevuQulbjmO69//OMfTuyZZ56JfF4lqW7duk7MN4epa6Wuk6+0tlqHbNy4UbZVcfVZ+z5/9R6iJm6bxbaOUG1VTJVbNzNr1KiRE1NJj2b6uqj3um3bNtm/VatWTuyTTz6RbQ8XvzADAAAAIVgwAwAAACFYMAMAAAAhWDADAAAAIVgwAwAAACHKzC4ZvjKPaueAjIwM2TYvLy9Sf9/OFSprWmUX+8p4q2PFspuAOr4vE1rtcrF161bZVmWiZmdnOzF2ySg77r333kgxM71LQPXq1Z2Yb+cKVQLYR41hNf6mTp0q+/fq1cuJ+cbl0KFDndi11157iDP8P08++WTktih9YtkBSVE7xaiS82a6tLJvblfUd45vN4Gotm/fLuNqRwX13VjWnXjiiU6sW7dusu1LL73kxBo3buzE+vbtK/s/+OCDTsy3c4T6XGMpVx11XPnaqR1VfGW81Q5C6r5ISEiQ/dVOHz169JBtv/76ayf27rvvOrEOHTrI/uo7i10yAAAAgKOIBTMAAAAQggUzAAAAEIIFMwAAABCiVCb9paSkODGVLGSmEzt8SXfqdX2JcIo6B5Ws4SthHEsSiKLeqy9BsU6dOk5sx44dsq06X9UfJauoSUw+qjR2WlpapJiZHj8qMcRMj9cZM2Y4MZW0aqYTO3xJfzk5OU6sX79+TkyVyzaLnuSL8mnhwoVO7LjjjpNt16xZ48SqVq3qxHzljlXcl0yr7qHatWs7MZWIaGZWq1YtJ/bDDz/ItmXZ66+/7sR8iXhDhgxxYjfccIMT+/LLL2V/9d2anp4u20Yt9+xL+vR9jx/MtzZQ6yNfaWw1hn2vq6gxnJubK9v+7ne/c2K33nqrE/vvf/8r+7/zzjuRz+tw8QszAAAAEIIFMwAAABCCBTMAAAAQggUzAAAAEKJUJv2pJKRYKuL5qIftVbKFr2qNqsajKhD6zkklDPmSiNT7VTFfMqRKAlm+fLls+9NPPzkx9bA/SieVdKfGhS/hSFX5Ugmy6v7xtd28ebNsq6oFqrHapEkT2V/dA6pymZlOZHnhhRecWM2aNWV/Evwqtm+++caJnX/++bKtGitRk7PMdPU13/22ceNGJ6a+s/bs2SP7q2Q0Ve2zPJo5c2bkuPq+XLRokez/29/+1omNGTNGtvXNVwfzzddqzaGS63ybH6jvBt+aR1FzsBq/ZjrxWiXymZldeOGFTuyRRx6JfF5HA78wAwAAACFYMAMAAAAhWDADAAAAIVgwAwAAACFYMAMAAAAhSuUuGaokpG+XDJVx6svQX7FihROrW7euE/NlN6vsUrUjhi+7NWp/H3UNfCUt1c4HvlKbitr5AKVTLGNQWb16tRNr1KiRE9u0aZPsr8rqzpkzR7ZV5bVVGXZVvtdMZ2P77leVOa5et1evXrL/Bx98IOMou9Qc6iv1q3aj8O2cosa12r3GR41L39yudnVR8/2uXbsiH//HH3+M3LasiOWzVh5++OHIbQcOHOjEmjVrJtuq9Yn6rHznqspoq50zfONH9a9Xr55sq15X9fd932RlZTmxV155Rbb96quvZPxgsdxXsayvouAXZgAAACAEC2YAAAAgBAtmAAAAIAQLZgAAACBEmUn68z1UrpL+fA96q/KfTZs2dWJbt26V/VXCkUoCUQ/Km+kkhFhKY6vylevWrZP9Z8+e7cSaN28u26pkLl+SJcqfqCXbfWNVjcs2bdrItu+//74TmzZtmhO77bbbZH+VCKNKu5vp+1UljKiSrGYk/ZVHsSR9qe8hXwnhvXv3OjE11nzlrlVb33deLK8ble97pCwr7oSvML6NBqK2VePHV9pcjYukpCQn5kv6U/03bNgg26pkRHWsqlWryv6+1y0KtXmCmf/7qTixKgIAAABCsGAGAAAAQrBgBgAAAEKwYAYAAABClMqkP1VlzvdAt0rs2bJli2y7atUqJ6aSBn3HippE4OuvEk5ieVBdJXv4klDUw/adO3eWbVWlN9+D9Sh9ola08n2mKkFPJZz4EqZUlTNVZc/MLD093Ym1bNnSialqZma6opnvfalEKJVw40tYQcXWrVs3J+ZL7lL3S/Xq1Z1YtWrVZH+VuOpL+oslITeq/Pz8IvWv6NT18303q7lRzWG1a9eW/X0VVw/mm6/VGPQljar1lUom9G0S4EtcjEqteXzv62gkefILMwAAABCCBTMAAAAQggUzAAAAEIIFMwAAABCCBTMAAAAQolTukqEyM1XpSDOzunXrOrFFixbJtiq7U+2S4csYVVmYKpM5lvKnsWR2qra+/tu2bXNiqqSlmb62aucDlE5Ry/3ed999Ml6nTh0npkrl+krGq3HtK1fdunVrJ9auXTsnpsav73V9u1ysXLnSiams7aKWFUbZpkpgm5l1797diamdlszMUlNTnZj6HvPtnKDuLd8OA2pHBXUPxrL7i9p9pqw7mqWx1c4Vvu9QteZQaxPfHKo+fzWHqTFppseaGqtm/p1aDuZbW/h2LCuKWMrbFzd+YQYAAABCsGAGAAAAQrBgBgAAAEKwYAYAAABClJlsF18ChEpsUGWhzcwqV67sxGJJDFAP1vsezFdUYoY6JzP9YL9KFvAldqgkBF8J4V27djkxVZ4cZVu/fv1kXCVmqFKnvrE2c+ZMJ7Zx40bZtkWLFk5MlRv2JawovoRgdb80b97cid1///2Rj4WjJ2qStGrna6v89a9/lfFY5ntVBluVQPaVsI4ledxXdv5gKpHM56STTpLxb775JvJrVGTq+9b3+UX9XHzf11HLoPuOo8aar61KBlT3gO9e861vyip+YQYAAABCsGAGAAAAQrBgBgAAAEKwYAYAAABCsGAGAAAAQpTKXTJUmUVfJrTKwvTtklGtWjUnpjKOfaUXVXapivn6q6xZXyasorJTfaVW165d68Tq1asn26r3EEtZVRwdsewGcO655zqxrKws2V+VkFb3lbp/zMzeffddJzZ//nzZ9oorrnBiXbp0cWK+3QjU7h2+rPH09HQntmTJEif2yiuvyP4VWVF3njhS1OcfS6nca6+91on98Y9/lG2//fZbJ1arVi3ZVl0XFfPtcKHivpLdarzHsnvI6tWrndhpp50m244ePVrGcWhqrJrpz0p9j/vuNbWjhdrNwrdLh7pffG2VqOug8ohfmAEAAIAQLJgBAACAECyYAQAAgBAsmAEAAIAQpTLpLyMjw4nFkgS0cOFC2VYlLakH4FVJXd85qIf1Y0lC8b0v9bqqBLAvOU8lXfnOS11DlUSAkhVLwtXEiROd2HfffSfbqs+/fv36kV7TTCf9HX/88bKtel2V+Oord634kptUcszy5csjv25547tOsSQeR00481FjzXdeRT1W3759ndj111/vxM455xzZ/9lnn3Vi+fn5sq1K2lNj2Jf0pxJUfZ+LuoaqNLcvIXzbtm1OTJWsR3Rbt251YnXr1pVtMzMzI7XdvHmz7K8S9NQ6IGoJbTOzNm3ayLh6Xyoh3JegWtQk4ZJOMj4YvzADAAAAIVgwAwAAACFYMAMAAAAhWDADAAAAIcpM0p/v4e/WrVs7sf/85z+y7fnnnx/p+LEkW6gH8H1Vb2KpUqUerFf9a9asKfuraoe+81LJIaraIoqfrxpULImjmzZtcmKqStm//vUv2f/ee+91YjNmzHBiu3btkv2HDRvmxLp16ybbquQS9bq+ylPqesVyv7333nuybdT+sXwupY1vDj2aVbqOxPUbPHiwjN98881OrF27dk7sT3/6k+yfkpLixBYtWiTbqu8slfSn2pnpxEdfQrhKXlexPXv2yP7qM6hRo4Zsi8J8CaoXX3yxE5syZYpsq+Y29bo7duyQ/dWmBA0bNnRiGzdulP23b9/uxHzJrCqZUI1LX4KhSv6ePHmybFsW5lZ+YQYAAABCsGAGAAAAQrBgBgAAAEKwYAYAAABCsGAGAAAAQpTKXTLUDg2+DG9V/taXHZqamhrp+LGUkI6lndp9w9fWlyF9MF9285YtW5yYKolqpstg+zKsUZgva1plQqtxFUv50lGjRsm4GgNq95SpU6fK/moMPvroo05MZVebmV166aVOzFdaXV0DdV/6SlirHV18n4EqQ/z+++/LthVZ7dq1nZhv/lHzypHSpUsXJ3bLLbc4sUaNGsn+Dz/8sBO7++67nZgql21mtn79eifWtGlT2VbtNKLKBfvuC3Vv+XYqUjsXqO9H37HUfeEro11RqDlEXVPf7j/KkiVLZPzMM890YitWrHBieXl5sn9WVpYTU+fvu1fVfOv7/NU6QK251K5cZmb169d3YmrnDDOzr776SsZLE35hBgAAAEKwYAYAAABCsGAGAAAAQrBgBgAAAEKUyqQ/lSyhSkWbma1atSry69apU8eJqWQNXyJWLAlaikp48iUYqoQDlYijEkDMdILfypUrZVuVMOC73ijMl4waNWlTJVyZ6XK/w4cPl21VqdG//OUvTqxt27ay/9atW53YlVde6cTWrl0r+2/evNmJ+RJs09PTnZgqy6oSk8z03OAr2a3uge+++062VcpCqdZYqBLmZma//e1vndjixYtlW1UuWs2LDRo0kP1VCefs7GzZVo0hlbSpysCbmd1xxx2Rzss3Lyrq/H1xlUzrS7xWbX1zyJo1a5yY736JypcgWFH45vGDNWnSRMbVZ+L7/GrVquXE1DrGtyFATk6OE1Nl2NW9aqaT9nzUvamSYX1zsEo89CXOkvQHAAAAlHEsmAEAAIAQLJgBAACAECyYAQAAgBAsmAEAAIAQpXKXDLVDgy+Ld/78+ZFfV5ULVtmdqoS1md5NQmWn+rLr1fvylaRUx1Kv6+uv2s6dO1e2rV69uhNTOycgurPPPtuJpaWlOTFf1rUqwfrNN9/Itq1atXJivXr1cmLr1q2T/X/88UcnprK+fbvEnHfeeU7Md7/u2LHDiamywG3atJH9ValWtfuNmdkrr7wi4xXVddddJ+Nq5wg1V5rpHU02bdrkxHxjVX2uvs9JlXxX5bI7deok+6udI9RuBL6dL9SOLL7y8AsXLnRiqrSxbzcGdSw11s30Lgdq5wXfzgWqbXnbEeZIyczMlHH1WasduMz0zkjt2rVzYp9//rnsX69ePSemdl/xzfdqzaDGn5lZ586dnZhac/l2H8rIyHBi6vvKzKxSJXc56ruGJYVfmAEAAIAQLJgBAACAECyYAQAAgBAsmAEAAIAQpTLpTyUM+RLxZs2aFfl1VWlglbDiS5ZQpSqjltQ004l8KhaL7t27y7gqma2Su8x0Ig2lsaOZM2eOjG/cuNGJqSQmXyKdSuxISkqSbX1JSwfLysqS8Q0bNjixli1bOjFfCWN1b/qSo9S4atSokRNTiUlmZj179nRixx57rGyrSiMrKtnErPQlnBTVF198IeOqBLX6/M10Ip36rFu0aCH7q2t9+umny7YqOUmdl68stJoD1XeLbw5W86WvtLUaw+q+VPeaWfRzNdMJmao8/YoVK2R/leB31113ybZlmfpcY/m+Vp+Jbw6eOXOmE/N9fmq+zM3NdWJqQwEzs8TERCcWy+YF6vP3vS9VXlvd7771grqH1Vg1098vixYtkm2Von7eUfALMwAAABCCBTMAAAAQggUzAAAAEIIFMwAAABCiVCb9qQe1fZWIfBWllMmTJzsx9VD6Tz/9JPurpCn1YL3vXGN5AF1VWlNJCC+++KLsrxJhFi9eLNt27drViVH5ydW+fXsnlpOTI9uqa636b9myRfZXlZN8CUe+5J6DHX/88TLevHlzJ6aqifnGrxorvmRGVVXyjTfecGIqGdfM7LXXXosUi0V5S+7zueqqq/7/9u7XJbIwCuP42SZoMYhlUINJxWJxiggGu8lmUTRYBLEoEycIJpPRZvRPsAgaBUHE4A8MKoIgmN28e55z9r07q+s43088vHfmzsydmZcLzzmyrn5XosDkysqKq6nQoHpMMz29LgoYqt9m9VlFoU11varAkQpzm+mQeERdw+o7EL3Wy8tLV4umyqlApQp9nZ6eyuNVIHlvb0+ubWfq868S8FVT6qKGAGraqPoNNdPv/8DAQPFzqcmcqhZN9lXfq2hicF9fn6up77CaXhiJAuEq6K5Cf1FI918H/BTuMAMAAAAJNswAAABAgg0zAAAAkGDDDAAAACTYMAMAAACJL9klQ3UDUGlNM7Pr6+vix200Gn99Tt9BNGZSJYSjhG8n29racrWom4jqiKHWRslelXC+urqSa1Wnllqt5mpR9xeVelajUqPOF+p1RaOtHx8fXW1xcVGuVVSau0pXmug1fDdRklxRHXU2NjbkWlWfn593tfX1dXn8xMRE8Xmpz6/K6yoVdWTZ2dlxte3tbbn26enJ1ZaXl11tbm5OHt/f3+9qagS2mdnh4aGrqY4aY2Nj8vjd3V1Z7wRVOuKMj4+7WtSpSHV+iEZbq+tNdUnp7u6Wx5+dnbma+q5Eo7FVp5DouW5ublxNdfBS47rN9PsV/eepLmTKZ3TDiHCHGQAAAEiwYQYAAAASbJgBAACABBtmAAAAIPElQ38qmKNG6pqZ3d/fFz+uGoHa7iOgq4yJjEJjKlxS5X3tFMfHx642Ozsr16oQhfqs1EhTM7PV1dXi81Kf9evrq6tFo1ZVkE5dE+oxzXSQ5uXlRa6dmZlxtefnZ7lWiYI0+FWVYIy6Lqscf3BwUFSLTE9Py7oKCEZBOEWNjD86OnK1aIRwq9S46ZOTE7lWhaNUGNPMrKenx9VU6Ozh4eFPp/ittXpdq+tPjSU3079LFxcXcq0agz04OOhqaty2mdno6Kirqf1RFHBUa6PAnfpvmJqaKn6urq4uV4u+w9F/xlfCHWYAAAAgwYYZAAAASLBhBgAAABJsmAEAAIAEG2YAAAAg8eO9MDb6ESNJI2tra642MjIi1y4tLRU/bqd3yYjs7++7muqSsbm5WX5iFfzPUZetXtcq3WxmNjk56WrDw8NFNTOz3t5eV4vGl0Yjr38XdZh4e3tzNZXwjkarq+4hd3d3RedUVavJ98/Uztc1EOnk63poaEjWVeeS8/NzubZWq7nawsKCqzWbTXm8ev/VGO/b21t5fL1eLzonM/0a1GjsaLy86oih/m/MqnVL+ggl1zV3mAEAAIAEG2YAAAAgwYYZAAAASLBhBgAAABLFoT8AAACgE3GHGQAAAEiwYQYAAAASbJgBAACABBtmAAAAIMGGGQAAAEiwYQYAAAASbJgBAACABBtmAAAAIMGGGQAAAEj8BN7bHvUDFPWfAAAAAElFTkSuQmCC\n"
          },
          "metadata": {}
        }
      ]
    },
    {
      "cell_type": "markdown",
      "source": [
        "- Find patterns based on the pixels values.\n",
        "- 60,000 is considered a small dataset in deep learning.\n",
        "- Goal: classify each image."
      ],
      "metadata": {
        "id": "6zwxRYigsGsz"
      }
    },
    {
      "cell_type": "markdown",
      "source": [
        "# Create DataLoader"
      ],
      "metadata": {
        "id": "iCNiYNnO2Jtp"
      }
    },
    {
      "cell_type": "markdown",
      "source": [
        "- DataLoader helps load data into a model for training and inference.\n",
        "- Large dataset are turned into smaller chunks called mini-batches.\n",
        "- This is computationally more efficient while dealing with large datasets.\n",
        "- *batch_size* Hyperparameter: You can use it to adjust the mini-batches size. 32 is a good start and powers of 2 are used often."
      ],
      "metadata": {
        "id": "A1EjGR1a2OFq"
      }
    },
    {
      "cell_type": "code",
      "source": [
        "from torch.utils.data import DataLoader"
      ],
      "metadata": {
        "id": "nhOAOicSr94L"
      },
      "execution_count": null,
      "outputs": []
    },
    {
      "cell_type": "code",
      "source": [
        "BATCH_SIZE = 32\n",
        "\n",
        "train_dataloader = DataLoader(\n",
        "    dataset=train_data,\n",
        "    batch_size=BATCH_SIZE,\n",
        "    shuffle=True\n",
        ")\n",
        "\n",
        "test_dataloader = DataLoader(\n",
        "    dataset=test_data,\n",
        "    batch_size=BATCH_SIZE,\n",
        "    shuffle=False\n",
        ")"
      ],
      "metadata": {
        "id": "4J9JbUswr9pS"
      },
      "execution_count": null,
      "outputs": []
    },
    {
      "cell_type": "code",
      "execution_count": null,
      "metadata": {
        "colab": {
          "base_uri": "https://localhost:8080/"
        },
        "outputId": "3363e92e-0811-451c-d1aa-6d766b29c956",
        "id": "2JVuP9BosFee"
      },
      "outputs": [
        {
          "output_type": "stream",
          "name": "stdout",
          "text": [
            "<torch.utils.data.dataloader.DataLoader object at 0x79850cccd790> <torch.utils.data.dataloader.DataLoader object at 0x79850ce7af50>\n"
          ]
        }
      ],
      "source": [
        "print(train_dataloader, test_dataloader)"
      ]
    },
    {
      "cell_type": "code",
      "execution_count": null,
      "metadata": {
        "colab": {
          "base_uri": "https://localhost:8080/"
        },
        "id": "DQWjOhMrZ6Lj",
        "outputId": "669f5d8f-25ed-4dbd-d877-fb9ab5fb5da1"
      },
      "outputs": [
        {
          "output_type": "stream",
          "name": "stdout",
          "text": [
            "1875 32\n",
            "313 32\n"
          ]
        }
      ],
      "source": [
        "print(len(train_dataloader), BATCH_SIZE)\n",
        "print(len(test_dataloader), BATCH_SIZE)"
      ]
    },
    {
      "cell_type": "code",
      "execution_count": null,
      "metadata": {
        "colab": {
          "base_uri": "https://localhost:8080/"
        },
        "id": "Hm-kCOBGaPSl",
        "outputId": "82265acf-9e12-4c65-a2e3-0e483be3d916"
      },
      "outputs": [
        {
          "output_type": "execute_result",
          "data": {
            "text/plain": [
              "(torch.Size([32, 1, 28, 28]), torch.Size([32]))"
            ]
          },
          "metadata": {},
          "execution_count": 17
        }
      ],
      "source": [
        "train_features_batch, train_labels_batch = next(iter(train_dataloader))\n",
        "train_features_batch.shape, train_labels_batch.shape"
      ]
    },
    {
      "cell_type": "code",
      "execution_count": null,
      "metadata": {
        "colab": {
          "base_uri": "https://localhost:8080/",
          "height": 465
        },
        "id": "W8kb1kXljo_n",
        "outputId": "fef4462e-2844-4aa8-b734-f6c07500cbdc"
      },
      "outputs": [
        {
          "output_type": "stream",
          "name": "stdout",
          "text": [
            "Image size: torch.Size([1, 28, 28])\n",
            "Label: 6\n"
          ]
        },
        {
          "output_type": "display_data",
          "data": {
            "text/plain": [
              "<Figure size 640x480 with 1 Axes>"
            ],
            "image/png": "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\n"
          },
          "metadata": {}
        }
      ],
      "source": [
        "# Check one sample\n",
        "\n",
        "torch.manual_seed(42)\n",
        "\n",
        "rand_idx = torch.randint(0, len(train_features_batch), size=[1]).item()\n",
        "img, label = train_features_batch[rand_idx], train_labels_batch[rand_idx]\n",
        "plt.imshow(img.squeeze(), cmap=\"gray\")\n",
        "plt.title(train_data.classes[label])\n",
        "plt.axis(\"off\");\n",
        "print(f\"Image size: {img.shape}\")\n",
        "print(f\"Label: {label}\")"
      ]
    },
    {
      "cell_type": "markdown",
      "metadata": {
        "id": "8huySYGLi0ET"
      },
      "source": [
        "# Baseline Model"
      ]
    },
    {
      "cell_type": "markdown",
      "metadata": {
        "id": "9g4uk3a3i7En"
      },
      "source": [
        "- Using *nn.Module* to build the baseline model (simplest imagined model).\n",
        "- Start with the baseline model then add more complications to it subsequently as needed.\n",
        "- *nn.Flaten()* layer is used to compress the dimensions of image data (tensor) into a single long vector."
      ]
    },
    {
      "cell_type": "code",
      "execution_count": null,
      "metadata": {
        "colab": {
          "base_uri": "https://localhost:8080/"
        },
        "id": "FJwl7rVMPsjD",
        "outputId": "c42518e0-f47c-44a2-dabc-6b43d4681f6f"
      },
      "outputs": [
        {
          "output_type": "stream",
          "name": "stdout",
          "text": [
            "Shape before flattening: torch.Size([1, 28, 28]) -> [color_channels, height, width]\n",
            "Shape before flattening: torch.Size([1, 784]) -> [color_channels, height*width]\n"
          ]
        }
      ],
      "source": [
        "# Try nn.Flaten()\n",
        "\n",
        "x = train_features_batch[0]\n",
        "\n",
        "output = nn.Flatten()(x)\n",
        "\n",
        "print(f\"Shape before flattening: {x.shape} -> [color_channels, height, width]\")\n",
        "print(f\"Shape before flattening: {output.shape} -> [color_channels, height*width]\")"
      ]
    },
    {
      "cell_type": "code",
      "source": [
        "from torch import nn"
      ],
      "metadata": {
        "id": "qh-ZafQP96EJ"
      },
      "execution_count": null,
      "outputs": []
    },
    {
      "cell_type": "code",
      "source": [
        "class FashionMNISTModelV0(nn.Module):\n",
        "    def __init__(self, input_shape:int, hidden_units:int, output_shape:int):\n",
        "        super().__init__()\n",
        "        self.layers_stack= nn.Sequential(\n",
        "            nn.Flatten(),\n",
        "            nn.Linear(in_features= input_shape, out_features= hidden_units),\n",
        "            nn.Linear(in_features= hidden_units, out_features= output_shape)\n",
        "        )\n",
        "\n",
        "    def forward(self, x):\n",
        "        return self.layers_stack(x)"
      ],
      "metadata": {
        "id": "s_KSpiGd-9uG"
      },
      "execution_count": null,
      "outputs": []
    },
    {
      "cell_type": "code",
      "source": [
        "class_names= train_data.classes\n",
        "class_names"
      ],
      "metadata": {
        "colab": {
          "base_uri": "https://localhost:8080/"
        },
        "id": "oipg-6_lP_un",
        "outputId": "56a2f8bb-b98d-482b-f00a-5283535fbbd7"
      },
      "execution_count": null,
      "outputs": [
        {
          "output_type": "execute_result",
          "data": {
            "text/plain": [
              "['T-shirt/top',\n",
              " 'Trouser',\n",
              " 'Pullover',\n",
              " 'Dress',\n",
              " 'Coat',\n",
              " 'Sandal',\n",
              " 'Shirt',\n",
              " 'Sneaker',\n",
              " 'Bag',\n",
              " 'Ankle boot']"
            ]
          },
          "metadata": {},
          "execution_count": 22
        }
      ]
    },
    {
      "cell_type": "code",
      "source": [
        "# Instantiate a model\n",
        "torch.manual_seed(42)\n",
        "\n",
        "model_0= FashionMNISTModelV0(\n",
        "    input_shape= 784,\n",
        "    hidden_units= 10,\n",
        "    output_shape= len(class_names)\n",
        ")\n",
        "\n",
        "model_0.to(\"cpu\")"
      ],
      "metadata": {
        "colab": {
          "base_uri": "https://localhost:8080/"
        },
        "id": "5CiNpSCTPvSk",
        "outputId": "947e57c7-08ed-45c4-991f-2db6f7e4af2b"
      },
      "execution_count": null,
      "outputs": [
        {
          "output_type": "execute_result",
          "data": {
            "text/plain": [
              "FashionMNISTModelV0(\n",
              "  (layers_stack): Sequential(\n",
              "    (0): Flatten(start_dim=1, end_dim=-1)\n",
              "    (1): Linear(in_features=784, out_features=10, bias=True)\n",
              "    (2): Linear(in_features=10, out_features=10, bias=True)\n",
              "  )\n",
              ")"
            ]
          },
          "metadata": {},
          "execution_count": 23
        }
      ]
    },
    {
      "cell_type": "markdown",
      "source": [
        "### Setup loss, optimizer, and evaluation metrics"
      ],
      "metadata": {
        "id": "VFlZ-EtMQmhx"
      }
    },
    {
      "cell_type": "markdown",
      "source": [
        "- Summon helper functions."
      ],
      "metadata": {
        "id": "F0A59A4iWej9"
      }
    },
    {
      "cell_type": "code",
      "source": [
        "import requests\n",
        "from pathlib import Path"
      ],
      "metadata": {
        "id": "iVGy4c4QQlFb"
      },
      "execution_count": null,
      "outputs": []
    },
    {
      "cell_type": "code",
      "source": [
        "if Path(\"helper_functions.py\").is_file():\n",
        "    print(\"helper_funtions.py already exists.\")\n",
        "else:\n",
        "    print(\"Downloading helper_functions.py\")\n",
        "    request= requests.get(\"https://raw.githubusercontent.com/mrdbourke/pytorch-deep-learning/main/helper_functions.py\") # raw github url\n",
        "    with open(\"helper_functions.py\", \"wb\") as f:\n",
        "        f.write(request.content)"
      ],
      "metadata": {
        "colab": {
          "base_uri": "https://localhost:8080/"
        },
        "id": "Xw8WrXq9WpOh",
        "outputId": "b8314118-1cfd-4137-93fa-8be613db490d"
      },
      "execution_count": null,
      "outputs": [
        {
          "output_type": "stream",
          "name": "stdout",
          "text": [
            "Downloading helper_functions.py\n"
          ]
        }
      ]
    },
    {
      "cell_type": "code",
      "source": [
        "!pip install -q torchmetrics"
      ],
      "metadata": {
        "id": "IZUt_EVliUdk",
        "outputId": "33d3faf5-1ac9-442b-b33e-2722746a250d",
        "colab": {
          "base_uri": "https://localhost:8080/"
        }
      },
      "execution_count": null,
      "outputs": [
        {
          "output_type": "stream",
          "name": "stdout",
          "text": [
            "\u001b[2K   \u001b[90m━━━━━━━━━━━━━━━━━━━━━━━━━━━━━━━━━━━━━━━━\u001b[0m \u001b[32m927.3/927.3 kB\u001b[0m \u001b[31m21.7 MB/s\u001b[0m eta \u001b[36m0:00:00\u001b[0m\n",
            "\u001b[2K   \u001b[90m━━━━━━━━━━━━━━━━━━━━━━━━━━━━━━━━━━━━━━━━\u001b[0m \u001b[32m363.4/363.4 MB\u001b[0m \u001b[31m3.9 MB/s\u001b[0m eta \u001b[36m0:00:00\u001b[0m\n",
            "\u001b[2K   \u001b[90m━━━━━━━━━━━━━━━━━━━━━━━━━━━━━━━━━━━━━━━━\u001b[0m \u001b[32m13.8/13.8 MB\u001b[0m \u001b[31m70.4 MB/s\u001b[0m eta \u001b[36m0:00:00\u001b[0m\n",
            "\u001b[2K   \u001b[90m━━━━━━━━━━━━━━━━━━━━━━━━━━━━━━━━━━━━━━━━\u001b[0m \u001b[32m24.6/24.6 MB\u001b[0m \u001b[31m40.2 MB/s\u001b[0m eta \u001b[36m0:00:00\u001b[0m\n",
            "\u001b[2K   \u001b[90m━━━━━━━━━━━━━━━━━━━━━━━━━━━━━━━━━━━━━━━━\u001b[0m \u001b[32m883.7/883.7 kB\u001b[0m \u001b[31m24.8 MB/s\u001b[0m eta \u001b[36m0:00:00\u001b[0m\n",
            "\u001b[2K   \u001b[90m━━━━━━━━━━━━━━━━━━━━━━━━━━━━━━━━━━━━━━━━\u001b[0m \u001b[32m664.8/664.8 MB\u001b[0m \u001b[31m2.7 MB/s\u001b[0m eta \u001b[36m0:00:00\u001b[0m\n",
            "\u001b[2K   \u001b[90m━━━━━━━━━━━━━━━━━━━━━━━━━━━━━━━━━━━━━━━━\u001b[0m \u001b[32m211.5/211.5 MB\u001b[0m \u001b[31m6.2 MB/s\u001b[0m eta \u001b[36m0:00:00\u001b[0m\n",
            "\u001b[2K   \u001b[90m━━━━━━━━━━━━━━━━━━━━━━━━━━━━━━━━━━━━━━━━\u001b[0m \u001b[32m56.3/56.3 MB\u001b[0m \u001b[31m14.8 MB/s\u001b[0m eta \u001b[36m0:00:00\u001b[0m\n",
            "\u001b[2K   \u001b[90m━━━━━━━━━━━━━━━━━━━━━━━━━━━━━━━━━━━━━━━━\u001b[0m \u001b[32m127.9/127.9 MB\u001b[0m \u001b[31m7.7 MB/s\u001b[0m eta \u001b[36m0:00:00\u001b[0m\n",
            "\u001b[2K   \u001b[90m━━━━━━━━━━━━━━━━━━━━━━━━━━━━━━━━━━━━━━━━\u001b[0m \u001b[32m207.5/207.5 MB\u001b[0m \u001b[31m6.1 MB/s\u001b[0m eta \u001b[36m0:00:00\u001b[0m\n",
            "\u001b[2K   \u001b[90m━━━━━━━━━━━━━━━━━━━━━━━━━━━━━━━━━━━━━━━━\u001b[0m \u001b[32m21.1/21.1 MB\u001b[0m \u001b[31m64.1 MB/s\u001b[0m eta \u001b[36m0:00:00\u001b[0m\n",
            "\u001b[?25h"
          ]
        }
      ]
    },
    {
      "cell_type": "code",
      "source": [
        "import torchmetrics"
      ],
      "metadata": {
        "id": "vnWUdqVliJq2"
      },
      "execution_count": null,
      "outputs": []
    },
    {
      "cell_type": "code",
      "source": [
        "loss_fn= nn.CrossEntropyLoss()\n",
        "optimizer= torch.optim.SGD(params= model_0.parameters(), lr= 0.1)\n",
        "accuracy_fn= torchmetrics.Accuracy(task= \"multiclass\", num_classes= len(class_names)).to(\"cpu\")"
      ],
      "metadata": {
        "id": "48CmCTDKXkoY"
      },
      "execution_count": null,
      "outputs": []
    },
    {
      "cell_type": "markdown",
      "source": [
        "### Measure time of our experiments"
      ],
      "metadata": {
        "id": "BkGbZvWPjDUb"
      }
    },
    {
      "cell_type": "markdown",
      "source": [
        "- We can compare time of training on CPU vs GPU."
      ],
      "metadata": {
        "id": "s3hf62PQ9TAO"
      }
    },
    {
      "cell_type": "code",
      "source": [
        "from timeit import default_timer as timer"
      ],
      "metadata": {
        "id": "nXNPKPbXjCnb"
      },
      "execution_count": null,
      "outputs": []
    },
    {
      "cell_type": "code",
      "source": [
        "def print_train_time(start: float, end:float, device: torch.device= None):\n",
        "    \"\"\"Prints difference between start and end time.\n",
        "\n",
        "    Args:\n",
        "        start (float): start time of computation.\n",
        "        end (float): end time of computation.\n",
        "        device ([type], optional): device in which the computation is running on (None is the default).\n",
        "    \"\"\"\n",
        "\n",
        "    total_time= end - start\n",
        "    print(f\"\\nTrain time on {device}: {total_time:.3f} seconds\")\n",
        "    return total_time"
      ],
      "metadata": {
        "id": "WTQWWgsB9sEG"
      },
      "execution_count": null,
      "outputs": []
    },
    {
      "cell_type": "markdown",
      "source": [
        "### Training"
      ],
      "metadata": {
        "id": "VoI7-zGRsrbY"
      }
    },
    {
      "cell_type": "markdown",
      "source": [
        "- Since we are dealing with batches, there will be nested loops.\n",
        "- Loss and evaluation metrics will be calculated per batch instead of the whole dataset. So, at the end, we divide the loss and evaluation metric by the number of batches (normalization)."
      ],
      "metadata": {
        "id": "TAEozyWms_VG"
      }
    },
    {
      "cell_type": "code",
      "source": [
        "from tqdm.auto import tqdm # Gives progress bar"
      ],
      "metadata": {
        "id": "7mE0rizv-SEJ"
      },
      "execution_count": null,
      "outputs": []
    },
    {
      "cell_type": "code",
      "source": [
        "torch.manual_seed(42)\n",
        "train_start_time_cpu = timer()\n",
        "\n",
        "EPOCHS= 3 # small number for faster training\n",
        "\n",
        "for epoch in range(EPOCHS):\n",
        "\n",
        "    print(f\"Epoch: {epoch}\\n-------\")\n",
        "\n",
        "    ### Training ###\n",
        "\n",
        "    train_loss= 0\n",
        "\n",
        "    for batch, (X,y) in enumerate(train_dataloader):\n",
        "\n",
        "        model_0.train()\n",
        "\n",
        "        train_pred = model_0(X)\n",
        "\n",
        "        curr_loss = loss_fn(train_pred, y)\n",
        "        train_loss += curr_loss\n",
        "\n",
        "        optimizer.zero_grad()\n",
        "\n",
        "        curr_loss.backward()\n",
        "\n",
        "        optimizer.step()\n",
        "\n",
        "        if batch % 400 == 0:\n",
        "            print(f\"Looked at {batch*len(X)}/{len(train_dataloader.dataset)} samples\")\n",
        "\n",
        "    # Calculate average train loss per batch\n",
        "    train_loss /= len(train_dataloader)\n",
        "\n",
        "    ### Testing ###\n",
        "\n",
        "    test_loss, test_acc = 0, 0  # to accumulate tesing loss and accuracy\n",
        "\n",
        "    model_0.eval()\n",
        "\n",
        "    with torch.inference_mode():\n",
        "\n",
        "        for X,y in test_dataloader:\n",
        "\n",
        "            test_pred = model_0(X)\n",
        "\n",
        "            test_loss += loss_fn(test_pred, y)\n",
        "\n",
        "            test_acc += accuracy_fn(\n",
        "                preds = test_pred,\n",
        "                target = y\n",
        "            )\n",
        "\n",
        "        # Calculate avergae test loss per batch\n",
        "        test_loss /= len(test_dataloader)\n",
        "\n",
        "        # Calculate average accuracy per batch\n",
        "        test_acc /= len(test_dataloader)\n",
        "\n",
        "    print(f\"\\nTrain loss: {train_loss:.5f} | Test loss: {test_loss:0.5f} | Accuracy: {test_acc:0.5f}\")\n",
        "\n",
        "train_end_time_cpu = timer()\n",
        "\n",
        "total_train_time_model_0 = print_train_time(\n",
        "    start = train_start_time_cpu,\n",
        "    end = train_end_time_cpu,\n",
        "    device = str(next(model_0.parameters()).device)\n",
        ")"
      ],
      "metadata": {
        "id": "D1NCg3q00Jzr",
        "colab": {
          "base_uri": "https://localhost:8080/"
        },
        "outputId": "c9e8fd1e-489e-4f57-94a8-e32bdfaa6890"
      },
      "execution_count": null,
      "outputs": [
        {
          "output_type": "stream",
          "name": "stdout",
          "text": [
            "Epoch: 0\n",
            "-------\n",
            "Looked at 0/60000 samples\n",
            "Looked at 12800/60000 samples\n",
            "Looked at 25600/60000 samples\n",
            "Looked at 38400/60000 samples\n",
            "Looked at 51200/60000 samples\n",
            "\n",
            "Train loss: 0.59039 | Test loss: 0.50954 | Accuracy: 0.82039\n",
            "Epoch: 1\n",
            "-------\n",
            "Looked at 0/60000 samples\n",
            "Looked at 12800/60000 samples\n",
            "Looked at 25600/60000 samples\n",
            "Looked at 38400/60000 samples\n",
            "Looked at 51200/60000 samples\n",
            "\n",
            "Train loss: 0.47633 | Test loss: 0.47989 | Accuracy: 0.83197\n",
            "Epoch: 2\n",
            "-------\n",
            "Looked at 0/60000 samples\n",
            "Looked at 12800/60000 samples\n",
            "Looked at 25600/60000 samples\n",
            "Looked at 38400/60000 samples\n",
            "Looked at 51200/60000 samples\n",
            "\n",
            "Train loss: 0.45503 | Test loss: 0.47664 | Accuracy: 0.83427\n",
            "\n",
            "Train time on cpu: 32.224 seconds\n"
          ]
        }
      ]
    },
    {
      "cell_type": "markdown",
      "source": [
        "### Inference and evaluation"
      ],
      "metadata": {
        "id": "EWVLkIUrAyfI"
      }
    },
    {
      "cell_type": "markdown",
      "source": [
        "- Create a function that takes:\n",
        "  1. a trained model\n",
        "  2. dataloader\n",
        "  3. loss function\n",
        "  4. accuracy function\n",
        "- The function should use the data in the dataloader and the model to make predictions and then evaluate those predictions with the loss and accuracy functions.\n",
        "- Use the results of this function to compare different models.\n"
      ],
      "metadata": {
        "id": "UrQV2VxyBaFK"
      }
    },
    {
      "cell_type": "code",
      "source": [
        "import torch"
      ],
      "metadata": {
        "id": "VmpmoA1LKx3q"
      },
      "execution_count": null,
      "outputs": []
    },
    {
      "cell_type": "code",
      "source": [
        "# Turning the code to the device-agnostic mode\n",
        "\n",
        "device= torch.device(\"cuda\" if torch.cuda.is_available() else \"cpu\")\n",
        "device"
      ],
      "metadata": {
        "id": "glP3gvZ0dVVR",
        "colab": {
          "base_uri": "https://localhost:8080/"
        },
        "outputId": "955f5d4a-fdb2-4be5-8fe9-f08b1d98b43f"
      },
      "execution_count": null,
      "outputs": [
        {
          "output_type": "execute_result",
          "data": {
            "text/plain": [
              "device(type='cuda')"
            ]
          },
          "metadata": {},
          "execution_count": 34
        }
      ]
    },
    {
      "cell_type": "code",
      "source": [
        "torch.manual_seed(42)\n",
        "\n",
        "def eval_model(model: torch.nn.Module,\n",
        "               data_loader: torch.utils.data.DataLoader,\n",
        "               loss_fn: torch.nn.Module,\n",
        "               accuracy_fn: torchmetrics,\n",
        "               device: torch.device = device):\n",
        "\n",
        "    \"\"\"Returns a dictionary contains the model's predictions on the data_loader.\n",
        "\n",
        "    Args:\n",
        "        model (torch.nn.Module): A PyTorch model capable of making predictions on the data_loader\n",
        "        data_loader (torch.utils.data.DataLoader): The target dataset to predict on.\n",
        "        loss_fn (torch.nn.Module): A function to calculate the loss for the model's predictions.\n",
        "        accuracy_fn (torchmetrics): A function to calculate accuracy between the model's predictions and the true labels.\n",
        "        device (str, optional): Target device to compute on. Default is device.\n",
        "\n",
        "    Returns:\n",
        "        (dict): The resulting predictions of the model on the dataloader.\n",
        "    \"\"\"\n",
        "\n",
        "    loss, acc = 0, 0\n",
        "\n",
        "    model.eval()\n",
        "\n",
        "    model.to(device)\n",
        "    loss_fn.to(device)\n",
        "    accuracy_fn.to(device)\n",
        "\n",
        "    with torch.inference_mode():\n",
        "        for X, y in data_loader:\n",
        "            X, y = X.to(device), y.to(device)\n",
        "            preds = model(X)\n",
        "            loss += loss_fn(preds, y)\n",
        "            acc += accuracy_fn(\n",
        "                preds = preds,\n",
        "                target = y\n",
        "            )\n",
        "\n",
        "        # Average loss and accuracy per batch\n",
        "        loss /= len(data_loader)\n",
        "        acc /= len(data_loader)\n",
        "\n",
        "    return {\n",
        "        \"model_name\": model.__class__.__name__,\n",
        "        \"model_loss\": loss.item(),\n",
        "        \"model_accuracy\": acc.item()\n",
        "    }"
      ],
      "metadata": {
        "id": "Zy_f-RHGXn_p"
      },
      "execution_count": null,
      "outputs": []
    },
    {
      "cell_type": "code",
      "source": [
        "# Evaluate model_0\n",
        "\n",
        "model_0_eval_results = eval_model(\n",
        "    model = model_0,\n",
        "    data_loader = test_dataloader,\n",
        "    loss_fn = loss_fn,\n",
        "    accuracy_fn = accuracy_fn\n",
        ")\n",
        "\n",
        "model_0_eval_results"
      ],
      "metadata": {
        "colab": {
          "base_uri": "https://localhost:8080/"
        },
        "id": "W_blxD-TFd6C",
        "outputId": "752fc793-c89c-49ec-aa06-0430cb6d6d01"
      },
      "execution_count": null,
      "outputs": [
        {
          "output_type": "execute_result",
          "data": {
            "text/plain": [
              "{'model_name': 'FashionMNISTModelV0',\n",
              " 'model_loss': 0.47663894295692444,\n",
              " 'model_accuracy': 0.8342651724815369}"
            ]
          },
          "metadata": {},
          "execution_count": 36
        }
      ]
    },
    {
      "cell_type": "markdown",
      "source": [
        "# Non-linear Model"
      ],
      "metadata": {
        "id": "-tZyARB_GPk_"
      }
    },
    {
      "cell_type": "markdown",
      "source": [
        "- Does our data need non-linearity?\n",
        "  - Linear = straight\n",
        "  - Non-linear = non-straight"
      ],
      "metadata": {
        "id": "fT8ZBMNZsWG4"
      }
    },
    {
      "cell_type": "code",
      "source": [
        "class FashionMNISTModelV1(nn.Module):\n",
        "\n",
        "    def __init__(self, input_shape:int, hidden_units:int, output_shape:int):\n",
        "        super().__init__()\n",
        "        self.layers_stack = nn.Sequential(\n",
        "            nn.Flatten(),\n",
        "            nn.Linear(in_features=input_shape, out_features=hidden_units),\n",
        "            nn.ReLU(),\n",
        "            nn.Linear(in_features=hidden_units, out_features=output_shape),\n",
        "            nn.ReLU()\n",
        "        )\n",
        "\n",
        "    def forward(self, x:torch.Tensor):\n",
        "        return self.layers_stack(x)"
      ],
      "metadata": {
        "id": "2fmv4r6ReZcS"
      },
      "execution_count": null,
      "outputs": []
    },
    {
      "cell_type": "markdown",
      "source": [
        "- In ML, it is a good practice to start with a baseline model then experiment changing one thing after another.\n",
        "- This time, we added non-linear functions."
      ],
      "metadata": {
        "id": "xCiWQW6kRZLJ"
      }
    },
    {
      "cell_type": "code",
      "source": [
        "# Instantiate model_1\n",
        "\n",
        "torch.manual_seed(42)\n",
        "\n",
        "model_1 = FashionMNISTModelV1(\n",
        "    input_shape = 784,\n",
        "    hidden_units = 10,\n",
        "    output_shape = len(class_names)\n",
        ").to(device)\n",
        "\n",
        "next(model_1.parameters()).device"
      ],
      "metadata": {
        "id": "WNEMiUqSRLGG",
        "outputId": "8e87d099-0d07-4567-aac5-0bd6c6d0fe15",
        "colab": {
          "base_uri": "https://localhost:8080/"
        }
      },
      "execution_count": null,
      "outputs": [
        {
          "output_type": "execute_result",
          "data": {
            "text/plain": [
              "device(type='cuda', index=0)"
            ]
          },
          "metadata": {},
          "execution_count": 38
        }
      ]
    },
    {
      "cell_type": "markdown",
      "source": [
        "### Setup loss, optimizer, and evaluation metrics"
      ],
      "metadata": {
        "id": "uFTbDmcig820"
      }
    },
    {
      "cell_type": "code",
      "source": [
        "loss_fn = nn.CrossEntropyLoss()\n",
        "\n",
        "optimizer = torch.optim.SGD(\n",
        "    params = model_1.parameters(),\n",
        "    lr = 0.1\n",
        ")\n",
        "\n",
        "accuracy_fn = torchmetrics.Accuracy(\n",
        "    task = \"multiclass\",\n",
        "    num_classes = len(class_names)\n",
        ").to(device)"
      ],
      "metadata": {
        "id": "CLdO2ygPhN_N"
      },
      "execution_count": null,
      "outputs": []
    },
    {
      "cell_type": "markdown",
      "source": [
        "### Wrapping up training and testing loops"
      ],
      "metadata": {
        "id": "SV8_T8sb1Irq"
      }
    },
    {
      "cell_type": "markdown",
      "source": [
        "- Create functions that can be repeatedly called:\n",
        "  - train_step() will take:\n",
        "    - model\n",
        "    - DataLoader\n",
        "    - loss function\n",
        "    - optimizer\n",
        "  - test_step() will take:\n",
        "    - model\n",
        "    - DataLoader\n",
        "    - loss function\n",
        "    - evaluation function"
      ],
      "metadata": {
        "id": "ad5WqmLP3c0h"
      }
    },
    {
      "cell_type": "code",
      "source": [
        "def train_step(model: torch.nn.Module,\n",
        "          data_loader: torch.utils.data.DataLoader,\n",
        "          loss_fn: torch.nn.Module,\n",
        "          optimizer: torch.optim.Optimizer,\n",
        "          accuracy_fn: torchmetrics.Metric,\n",
        "          device: torch.device = device):\n",
        "      \"\"\"Loop through train data to train your model\"\"\"\n",
        "\n",
        "      train_loss, train_acc = 0,0\n",
        "      model.to(device)\n",
        "\n",
        "      for batch, (X,y) in enumerate(data_loader):\n",
        "\n",
        "          X, y = X.to(device), y.to(device)\n",
        "\n",
        "          train_preds = model(X)\n",
        "\n",
        "          curr_loss = loss_fn(train_preds, y)\n",
        "          train_loss += curr_loss\n",
        "          train_acc += accuracy_fn(preds = train_preds,\n",
        "                                   target = y)\n",
        "\n",
        "          optimizer.zero_grad()\n",
        "\n",
        "          curr_loss.backward()\n",
        "\n",
        "          optimizer.step()\n",
        "\n",
        "      # Average loss and accuracy\n",
        "\n",
        "      train_loss /= len(data_loader)\n",
        "      train_acc /= len(data_loader)\n",
        "\n",
        "      print(f\"Train Loss: {train_loss:.5f} | Train accuracy:  {train_acc:.2f}%\")"
      ],
      "metadata": {
        "id": "Phn0FtoV3b1k"
      },
      "execution_count": null,
      "outputs": []
    },
    {
      "cell_type": "code",
      "source": [
        "def test_step(model: torch.nn.Module,\n",
        "         data_loader: torch.utils.data.DataLoader,\n",
        "         loss_fn: torch.nn.Module,\n",
        "         accuracy_fn: torchmetrics.Metric,\n",
        "         device: torch.device = device):\n",
        "      \"\"\"Testing loop\"\"\"\n",
        "\n",
        "      test_loss, test_acc = 0, 0\n",
        "      model.to(device)\n",
        "      model.eval()\n",
        "\n",
        "      with torch.inference_mode():\n",
        "\n",
        "          for X, y in data_loader:\n",
        "\n",
        "              X, y = X.to(device), y.to(device)\n",
        "\n",
        "              test_preds = model(X)\n",
        "\n",
        "              test_loss += loss_fn(test_preds, y)\n",
        "\n",
        "              test_acc += accuracy_fn(preds = test_preds,\n",
        "                                      target = y)\n",
        "\n",
        "          # Average loss and accuracy per batch\n",
        "          test_loss /= len(data_loader)\n",
        "          test_acc /= len(data_loader)\n",
        "\n",
        "          print(f\"Test Loss: {test_loss:.5f} | Test Accuracy: {test_acc:.2f}%\")"
      ],
      "metadata": {
        "id": "loGu908zj0wW"
      },
      "execution_count": null,
      "outputs": []
    },
    {
      "cell_type": "markdown",
      "source": [
        "- Create a loop for a number of epochs.\n",
        "- Run these functions inside the loop.\n",
        "- Some people customize how often they do the testing step."
      ],
      "metadata": {
        "id": "yhhicqlqnU04"
      }
    },
    {
      "cell_type": "code",
      "source": [
        "from timeit import default_timer as timer"
      ],
      "metadata": {
        "id": "qGDsb--Roufo"
      },
      "execution_count": null,
      "outputs": []
    },
    {
      "cell_type": "code",
      "source": [
        "torch.manual_seed(42)\n",
        "\n",
        "train_start_time_gpu = timer()\n",
        "\n",
        "EPOCHS = 3\n",
        "\n",
        "for epoch in tqdm(range(EPOCHS)):\n",
        "\n",
        "    print(f\"Epoch: {epoch}\\n-------------\")\n",
        "\n",
        "    train_step(\n",
        "        model = model_1,\n",
        "        data_loader = train_dataloader,\n",
        "        loss_fn = loss_fn,\n",
        "        optimizer = optimizer,\n",
        "        accuracy_fn = accuracy_fn\n",
        "    )\n",
        "\n",
        "    test_step(\n",
        "        model = model_1,\n",
        "        data_loader = test_dataloader,\n",
        "        loss_fn = loss_fn,\n",
        "        accuracy_fn = accuracy_fn\n",
        "    )\n",
        "\n",
        "train_end_time_gpu = timer()\n",
        "\n",
        "total_train_time_model_1 = print_train_time(start = train_start_time_gpu,\n",
        "                                            end = train_end_time_gpu,\n",
        "                                            device = device)"
      ],
      "metadata": {
        "id": "yeQ2uAoa0tNE",
        "colab": {
          "base_uri": "https://localhost:8080/",
          "height": 307,
          "referenced_widgets": [
            "2917c7669fb8416ebbf11cce294509ba",
            "fff73c7caf0e4c61898902843d35e9c2",
            "ffe547a82785429483e36379564ada23",
            "e146f98d9c164bc6b6539d35f664e3aa",
            "89e35baf7706452b97708983fd45d2c9",
            "3ffe03e7a6c8400daa9b7d713a1f0086",
            "d884d05ef7754580aa2c724db1e872c0",
            "79b1a3e1054244dca62bb36da60455f3",
            "11812be16b0b40eaa326103436f303c7",
            "752d6e9c78bc4a9590dc9933ef4a7dcc",
            "c0904bc76cee41e3b4daa8b385732f64"
          ]
        },
        "outputId": "8a697ac4-8979-4cd0-eb9a-e964030847cb"
      },
      "execution_count": null,
      "outputs": [
        {
          "output_type": "display_data",
          "data": {
            "text/plain": [
              "  0%|          | 0/3 [00:00<?, ?it/s]"
            ],
            "application/vnd.jupyter.widget-view+json": {
              "version_major": 2,
              "version_minor": 0,
              "model_id": "2917c7669fb8416ebbf11cce294509ba"
            }
          },
          "metadata": {}
        },
        {
          "output_type": "stream",
          "name": "stdout",
          "text": [
            "Epoch: 0\n",
            "-------------\n",
            "Train Loss: 1.09199 | Train accuracy:  0.61%\n",
            "Test Loss: 0.95636 | Test Accuracy: 0.65%\n",
            "Epoch: 1\n",
            "-------------\n",
            "Train Loss: 0.78101 | Train accuracy:  0.72%\n",
            "Test Loss: 0.72227 | Test Accuracy: 0.74%\n",
            "Epoch: 2\n",
            "-------------\n",
            "Train Loss: 0.67027 | Train accuracy:  0.76%\n",
            "Test Loss: 0.68500 | Test Accuracy: 0.75%\n",
            "\n",
            "Train time on cuda: 36.363 seconds\n"
          ]
        }
      ]
    },
    {
      "cell_type": "markdown",
      "source": [
        "- The traininig time depends on the quality of the used hardware.\n",
        "- There is a time spent in transfering data from CPU to GPU.\n",
        "- So, GPU works best for large dataset because for smaller dataset this transfering time outwiegh its computing power benefit.\n"
      ],
      "metadata": {
        "id": "OcBrOVfzDqbf"
      }
    },
    {
      "cell_type": "code",
      "source": [
        "# Evaluate the model\n",
        "\n",
        "torch.manual_seed(42)\n",
        "\n",
        "model_1_eval_results = eval_model(model = model_1,\n",
        "                            data_loader = test_dataloader,\n",
        "                            loss_fn = loss_fn,\n",
        "                            accuracy_fn = accuracy_fn)\n",
        "model_1_eval_results"
      ],
      "metadata": {
        "colab": {
          "base_uri": "https://localhost:8080/"
        },
        "id": "DMkvL3IgDCMD",
        "outputId": "9a9a82b2-ff29-4946-8263-5c4b3807fbe7"
      },
      "execution_count": null,
      "outputs": [
        {
          "output_type": "execute_result",
          "data": {
            "text/plain": [
              "{'model_name': 'FashionMNISTModelV1',\n",
              " 'model_loss': 0.6850008964538574,\n",
              " 'model_accuracy': 0.7501996755599976}"
            ]
          },
          "metadata": {},
          "execution_count": 44
        }
      ]
    },
    {
      "cell_type": "code",
      "source": [
        "model_0_eval_results"
      ],
      "metadata": {
        "id": "xrBh5lJEvrI8",
        "outputId": "a0f6c025-600b-4110-e9db-8e217217fa2d",
        "colab": {
          "base_uri": "https://localhost:8080/"
        }
      },
      "execution_count": null,
      "outputs": [
        {
          "output_type": "execute_result",
          "data": {
            "text/plain": [
              "{'model_name': 'FashionMNISTModelV0',\n",
              " 'model_loss': 0.47663894295692444,\n",
              " 'model_accuracy': 0.8342651724815369}"
            ]
          },
          "metadata": {},
          "execution_count": 45
        }
      ]
    },
    {
      "cell_type": "markdown",
      "source": [
        "# CNN Model"
      ],
      "metadata": {
        "id": "6rCBSy1Nv_20"
      }
    },
    {
      "cell_type": "markdown",
      "source": [
        "- CNN is used to find patterns in visual data.\n",
        "- We will try the [TinyVGG](https://poloclub.github.io/cnn-explainer/).\n",
        "- The structure:\n",
        "  - Input layer -> [Convolutional layer -> activation layer -> pooling layer] -> output layer\n",
        "  - We can upscale and repeat: [Convolutional layer -> activation layer -> pooling layer]\n",
        "- Choosing a model depends on the data and the problem type:\n",
        "  - Structured (tabular) data: XGBoost, Random Forests\n",
        "  - Unstructured data: CNNs, Transformers"
      ],
      "metadata": {
        "id": "8jtsGG3lwFi1"
      }
    },
    {
      "cell_type": "code",
      "source": [
        "class FashionMNISTModelV2(nn.Module):\n",
        "    \"\"\"\n",
        "      Model architecture copying TinyVGG from: https://poloclub.github.io/cnn-explainer/\n",
        "    \"\"\"\n",
        "\n",
        "    def __init__(self, input_shape:int, hidden_units:int, output_shape:int):\n",
        "        super().__init__()\n",
        "\n",
        "        # block1 contains: two convolution layers and one max pooling layer\n",
        "        self.block1 = nn.Sequential(\n",
        "            nn.Conv2d(in_channels = input_shape, # Number of channels in the input image\n",
        "                      out_channels = hidden_units, # Number of channels produced by the convolution\n",
        "                      kernel_size = 3, # Convolution filter size\n",
        "                      stride = 1, # Step size that the convolution kernel takes at a time\n",
        "                      padding = 1), # Add padding to all four sides of the input\n",
        "            nn.ReLU(),\n",
        "            nn.Conv2d(in_channels = hidden_units,\n",
        "                      out_channels = hidden_units,\n",
        "                      stride = 1,\n",
        "                      kernel_size = 3,\n",
        "                      padding = 1),\n",
        "            nn.ReLU(),\n",
        "            nn.MaxPool2d(kernel_size = 2,\n",
        "                         stride = 2) # default stride takes the same values as kernel_size\n",
        "        )\n",
        "\n",
        "        # block2 is a duplicate of block1\n",
        "        self.block2 = nn.Sequential(\n",
        "            nn.Conv2d(hidden_units, hidden_units, kernel_size=3, padding=1),\n",
        "            nn.ReLU(),\n",
        "            nn.Conv2d(hidden_units, hidden_units, kernel_size=3, padding=1),\n",
        "            nn.ReLU(),\n",
        "            nn.MaxPool2d(2)\n",
        "        )\n",
        "\n",
        "        self.classifier = nn.Sequential(\n",
        "            nn.Flatten(),\n",
        "            nn.Linear(in_features = hidden_units*7*7,\n",
        "                      out_features = output_shape)\n",
        "        )\n",
        "\n",
        "    def forward(self, x:torch.Tensor):\n",
        "        x = self.block1(x)\n",
        "        x = self.block2(x)\n",
        "        return self.classifier(x)"
      ],
      "metadata": {
        "id": "WIHvPeJqMo5z"
      },
      "execution_count": null,
      "outputs": []
    },
    {
      "cell_type": "code",
      "source": [
        "torch.manual_seed(42)\n",
        "model_2 = FashionMNISTModelV2(input_shape = 1,\n",
        "                              hidden_units = 10,\n",
        "                              output_shape = len(class_names)).to(device)\n",
        "model_2"
      ],
      "metadata": {
        "colab": {
          "base_uri": "https://localhost:8080/"
        },
        "id": "jqwCqB92MJQR",
        "outputId": "00ad0b0e-1cec-4ee6-c46a-0922141477b7"
      },
      "execution_count": null,
      "outputs": [
        {
          "output_type": "execute_result",
          "data": {
            "text/plain": [
              "FashionMNISTModelV2(\n",
              "  (block1): Sequential(\n",
              "    (0): Conv2d(1, 10, kernel_size=(3, 3), stride=(1, 1), padding=(1, 1))\n",
              "    (1): ReLU()\n",
              "    (2): Conv2d(10, 10, kernel_size=(3, 3), stride=(1, 1), padding=(1, 1))\n",
              "    (3): ReLU()\n",
              "    (4): MaxPool2d(kernel_size=2, stride=2, padding=0, dilation=1, ceil_mode=False)\n",
              "  )\n",
              "  (block2): Sequential(\n",
              "    (0): Conv2d(10, 10, kernel_size=(3, 3), stride=(1, 1), padding=(1, 1))\n",
              "    (1): ReLU()\n",
              "    (2): Conv2d(10, 10, kernel_size=(3, 3), stride=(1, 1), padding=(1, 1))\n",
              "    (3): ReLU()\n",
              "    (4): MaxPool2d(kernel_size=2, stride=2, padding=0, dilation=1, ceil_mode=False)\n",
              "  )\n",
              "  (classifier): Sequential(\n",
              "    (0): Flatten(start_dim=1, end_dim=-1)\n",
              "    (1): Linear(in_features=490, out_features=10, bias=True)\n",
              "  )\n",
              ")"
            ]
          },
          "metadata": {},
          "execution_count": 47
        }
      ]
    },
    {
      "cell_type": "markdown",
      "source": [
        "- 2d in nn.Conv2d() refers to two diminsional data: height X width\n",
        "- There is alson nn.Conv1d() for 1D data such as text, and nn.Conv3d() for 3D objects.\n",
        "- We will test the model layers on a toy data."
      ],
      "metadata": {
        "id": "IklkK_6wM0mr"
      }
    },
    {
      "cell_type": "code",
      "source": [
        "torch.manual_seed(42)\n",
        "\n",
        "# Mimic the image batch by creating sample batch of random numbers with the same size\n",
        "img_mimic = torch.randn(size=(32, 3, 64, 64)) # [batch_sizse, color_channels, height, width]\n",
        "test_img = img_mimic[0]\n",
        "\n",
        "print(f\"Image batch shape: {img_mimic.shape} -> [batch_size, color_channels, height, width]\")\n",
        "print(f\"Single image shape: {test_img.shape} -> [color_channels, height, width]\")\n",
        "print(f\"Pixel values of a single image:\\n{test_img}\")"
      ],
      "metadata": {
        "id": "sRShGfAR-BXY",
        "colab": {
          "base_uri": "https://localhost:8080/"
        },
        "outputId": "34b3cf57-a455-43a9-dceb-b9bd5dc7a434"
      },
      "execution_count": null,
      "outputs": [
        {
          "output_type": "stream",
          "name": "stdout",
          "text": [
            "Image batch shape: torch.Size([32, 3, 64, 64]) -> [batch_size, color_channels, height, width]\n",
            "Single image shape: torch.Size([3, 64, 64]) -> [color_channels, height, width]\n",
            "Pixel values of a single image:\n",
            "tensor([[[ 1.9269,  1.4873,  0.9007,  ...,  1.8446, -1.1845,  1.3835],\n",
            "         [ 1.4451,  0.8564,  2.2181,  ...,  0.3399,  0.7200,  0.4114],\n",
            "         [ 1.9312,  1.0119, -1.4364,  ..., -0.5558,  0.7043,  0.7099],\n",
            "         ...,\n",
            "         [-0.5610, -0.4830,  0.4770,  ..., -0.2713, -0.9537, -0.6737],\n",
            "         [ 0.3076, -0.1277,  0.0366,  ..., -2.0060,  0.2824, -0.8111],\n",
            "         [-1.5486,  0.0485, -0.7712,  ..., -0.1403,  0.9416, -0.0118]],\n",
            "\n",
            "        [[-0.5197,  1.8524,  1.8365,  ...,  0.8935, -1.5114, -0.8515],\n",
            "         [ 2.0818,  1.0677, -1.4277,  ...,  1.6612, -2.6223, -0.4319],\n",
            "         [-0.1010, -0.4388, -1.9775,  ...,  0.2106,  0.2536, -0.7318],\n",
            "         ...,\n",
            "         [ 0.2779,  0.7342, -0.3736,  ..., -0.4601,  0.1815,  0.1850],\n",
            "         [ 0.7205, -0.2833,  0.0937,  ..., -0.1002, -2.3609,  2.2465],\n",
            "         [-1.3242, -0.1973,  0.2920,  ...,  0.5409,  0.6940,  1.8563]],\n",
            "\n",
            "        [[-0.7978,  1.0261,  1.1465,  ...,  1.2134,  0.9354, -0.0780],\n",
            "         [-1.4647, -1.9571,  0.1017,  ..., -1.9986, -0.7409,  0.7011],\n",
            "         [-1.3938,  0.8466, -1.7191,  ..., -1.1867,  0.1320,  0.3407],\n",
            "         ...,\n",
            "         [ 0.8206, -0.3745,  1.2499,  ..., -0.0676,  0.0385,  0.6335],\n",
            "         [-0.5589, -0.3393,  0.2347,  ...,  2.1181,  2.4569,  1.3083],\n",
            "         [-0.4092,  1.5199,  0.2401,  ..., -0.2558,  0.7870,  0.9924]]])\n"
          ]
        }
      ]
    },
    {
      "cell_type": "markdown",
      "source": [
        "### Convolution Layer: Dig Deeper"
      ],
      "metadata": {
        "id": "f4wGwIZiqXIB"
      }
    },
    {
      "cell_type": "code",
      "source": [
        "# Create a convolution layer with the same dimensions as TinyVGG\n",
        "\n",
        "torch.manual_seed(42)\n",
        "\n",
        "# 1\n",
        "conv_layer = nn.Conv2d(in_channels = 3,\n",
        "                       out_channels = 10,\n",
        "                       kernel_size = 3,\n",
        "                       stride = 1,\n",
        "                       padding = 0)"
      ],
      "metadata": {
        "id": "CLKmJ9e5O_VJ"
      },
      "execution_count": null,
      "outputs": []
    },
    {
      "cell_type": "code",
      "source": [
        "conv_layer(test_img).shape"
      ],
      "metadata": {
        "colab": {
          "base_uri": "https://localhost:8080/"
        },
        "id": "Fc7XnL7OPdvT",
        "outputId": "37d915a2-1ae3-4f71-a7fe-7561f9fc6025"
      },
      "execution_count": null,
      "outputs": [
        {
          "output_type": "execute_result",
          "data": {
            "text/plain": [
              "torch.Size([10, 62, 62])"
            ]
          },
          "metadata": {},
          "execution_count": 50
        }
      ]
    },
    {
      "cell_type": "code",
      "source": [
        "torch.manual_seed(42)\n",
        "\n",
        "# 2\n",
        "conv_layer_2 = nn.Conv2d(in_channels = 3,\n",
        "                         out_channels = 10,\n",
        "                         kernel_size = (3,9),\n",
        "                         stride = 3,\n",
        "                         padding = 0)"
      ],
      "metadata": {
        "id": "tALvXbwWYsp4"
      },
      "execution_count": null,
      "outputs": []
    },
    {
      "cell_type": "code",
      "source": [
        "conv_layer_2(test_img.unsqueeze(dim=0)).shape"
      ],
      "metadata": {
        "id": "fjqERKXqjKj3",
        "outputId": "bd5703e6-e0da-4125-84b0-858e27c792a6",
        "colab": {
          "base_uri": "https://localhost:8080/"
        }
      },
      "execution_count": null,
      "outputs": [
        {
          "output_type": "execute_result",
          "data": {
            "text/plain": [
              "torch.Size([1, 10, 21, 19])"
            ]
          },
          "metadata": {},
          "execution_count": 52
        }
      ]
    },
    {
      "cell_type": "markdown",
      "source": [
        "- The role of the convolution layer is to compress the information stored in the input image throuh the layer's internal parameters.\n",
        "- During the training of the network, the layer's internal parameters are updated to lower the loss function.\n",
        "- The layer's may calculate their parameter updates differently."
      ],
      "metadata": {
        "id": "_skc7bq8kBXb"
      }
    },
    {
      "cell_type": "code",
      "source": [
        "conv_layer.state_dict()"
      ],
      "metadata": {
        "id": "0QLeQLDAkAKT",
        "outputId": "67888af0-5963-4d9f-b9d6-958c1c59a5fc",
        "colab": {
          "base_uri": "https://localhost:8080/"
        }
      },
      "execution_count": null,
      "outputs": [
        {
          "output_type": "execute_result",
          "data": {
            "text/plain": [
              "OrderedDict([('weight',\n",
              "              tensor([[[[ 0.1471,  0.1597, -0.0451],\n",
              "                        [ 0.1768, -0.0422,  0.0388],\n",
              "                        [-0.0937,  0.1130,  0.1697]],\n",
              "              \n",
              "                       [[-0.1412,  0.1673,  0.0360],\n",
              "                        [ 0.1422,  0.0261,  0.0928],\n",
              "                        [-0.0272,  0.1484,  0.0284]],\n",
              "              \n",
              "                       [[-0.0898,  0.0491, -0.0887],\n",
              "                        [-0.0226, -0.0782,  0.1277],\n",
              "                        [-0.1519, -0.0887, -0.0543]]],\n",
              "              \n",
              "              \n",
              "                      [[[-0.1157,  0.0182, -0.1901],\n",
              "                        [ 0.1738, -0.1635,  0.1486],\n",
              "                        [ 0.0320, -0.0625,  0.1189]],\n",
              "              \n",
              "                       [[ 0.0300,  0.1555,  0.0210],\n",
              "                        [-0.0607,  0.0517, -0.0522],\n",
              "                        [ 0.0810,  0.1718,  0.1112]],\n",
              "              \n",
              "                       [[-0.0841,  0.1111,  0.0344],\n",
              "                        [ 0.0977, -0.1173, -0.1905],\n",
              "                        [-0.0744, -0.1476,  0.1579]]],\n",
              "              \n",
              "              \n",
              "                      [[[ 0.0554,  0.0797,  0.0609],\n",
              "                        [-0.0033,  0.1506, -0.1367],\n",
              "                        [ 0.0121, -0.1314,  0.0593]],\n",
              "              \n",
              "                       [[-0.0663,  0.0590, -0.0401],\n",
              "                        [ 0.1596, -0.1141, -0.1148],\n",
              "                        [-0.1148,  0.1731,  0.0641]],\n",
              "              \n",
              "                       [[ 0.1852, -0.1588, -0.1909],\n",
              "                        [-0.1506, -0.1295,  0.0780],\n",
              "                        [ 0.0689,  0.1599, -0.0994]]],\n",
              "              \n",
              "              \n",
              "                      [[[-0.1312,  0.1021, -0.0778],\n",
              "                        [ 0.1168, -0.0457,  0.1101],\n",
              "                        [-0.1495, -0.0971,  0.0587]],\n",
              "              \n",
              "                       [[ 0.0407, -0.0491,  0.1147],\n",
              "                        [ 0.1308, -0.1396, -0.1027],\n",
              "                        [ 0.1762, -0.0649, -0.0682]],\n",
              "              \n",
              "                       [[-0.1862, -0.1102,  0.0481],\n",
              "                        [-0.0254, -0.1397,  0.0045],\n",
              "                        [-0.1315, -0.1633, -0.1060]]],\n",
              "              \n",
              "              \n",
              "                      [[[-0.1684, -0.1225,  0.1924],\n",
              "                        [ 0.0363,  0.0593, -0.1795],\n",
              "                        [-0.1264, -0.0641,  0.0301]],\n",
              "              \n",
              "                       [[-0.1693, -0.0829, -0.1152],\n",
              "                        [ 0.0005, -0.0716, -0.0133],\n",
              "                        [-0.1304, -0.1321, -0.1123]],\n",
              "              \n",
              "                       [[-0.0659, -0.1519,  0.1614],\n",
              "                        [-0.0382,  0.1656,  0.0600],\n",
              "                        [-0.1630,  0.1332, -0.0530]]],\n",
              "              \n",
              "              \n",
              "                      [[[-0.0738, -0.1597, -0.1913],\n",
              "                        [ 0.0551, -0.0420,  0.0749],\n",
              "                        [-0.1579,  0.1429, -0.1413]],\n",
              "              \n",
              "                       [[-0.0332,  0.0402,  0.0994],\n",
              "                        [ 0.1554,  0.1753, -0.1526],\n",
              "                        [ 0.0484, -0.0828, -0.0211]],\n",
              "              \n",
              "                       [[-0.1440,  0.1753, -0.1412],\n",
              "                        [ 0.1029,  0.0676,  0.0625],\n",
              "                        [-0.1040,  0.1749,  0.0423]]],\n",
              "              \n",
              "              \n",
              "                      [[[ 0.0248, -0.1696,  0.0808],\n",
              "                        [-0.0289, -0.0882,  0.1653],\n",
              "                        [ 0.0429, -0.1065, -0.0974]],\n",
              "              \n",
              "                       [[-0.0092,  0.1075, -0.0492],\n",
              "                        [-0.1098, -0.0659, -0.1438],\n",
              "                        [ 0.0686,  0.1490, -0.1812]],\n",
              "              \n",
              "                       [[ 0.0447,  0.0994,  0.0349],\n",
              "                        [-0.0685,  0.1004,  0.1011],\n",
              "                        [ 0.0720, -0.0338, -0.0510]]],\n",
              "              \n",
              "              \n",
              "                      [[[ 0.0206, -0.0340, -0.0574],\n",
              "                        [ 0.1230,  0.1654, -0.0191],\n",
              "                        [-0.0431,  0.0028, -0.0115]],\n",
              "              \n",
              "                       [[ 0.0463,  0.0539, -0.1748],\n",
              "                        [-0.0710,  0.1621,  0.0750],\n",
              "                        [-0.0096, -0.1160, -0.1177]],\n",
              "              \n",
              "                       [[-0.1724, -0.0627,  0.0650],\n",
              "                        [ 0.1227,  0.0889, -0.1701],\n",
              "                        [-0.1157, -0.0304,  0.1862]]],\n",
              "              \n",
              "              \n",
              "                      [[[ 0.0278, -0.0498,  0.0796],\n",
              "                        [-0.0733, -0.1246,  0.1405],\n",
              "                        [-0.0875, -0.0386, -0.1915]],\n",
              "              \n",
              "                       [[ 0.1288,  0.1458,  0.0701],\n",
              "                        [-0.1342, -0.1899, -0.1563],\n",
              "                        [ 0.1435,  0.0924,  0.1619]],\n",
              "              \n",
              "                       [[ 0.1008,  0.0487, -0.0019],\n",
              "                        [-0.1464, -0.1649, -0.1800],\n",
              "                        [ 0.0788, -0.0945, -0.0387]]],\n",
              "              \n",
              "              \n",
              "                      [[[-0.1108, -0.0351, -0.1355],\n",
              "                        [-0.1257,  0.0638, -0.0572],\n",
              "                        [ 0.1188, -0.0617, -0.1412]],\n",
              "              \n",
              "                       [[-0.0340, -0.0933, -0.0589],\n",
              "                        [-0.1832,  0.1077, -0.1340],\n",
              "                        [ 0.0967,  0.0873,  0.1375]],\n",
              "              \n",
              "                       [[-0.1476,  0.1384, -0.0910],\n",
              "                        [ 0.0714,  0.1807, -0.0271],\n",
              "                        [-0.0015, -0.0443, -0.1607]]]])),\n",
              "             ('bias',\n",
              "              tensor([ 0.0924, -0.1910,  0.1195,  0.1440,  0.1820, -0.0454, -0.1581,  0.0433,\n",
              "                       0.1063, -0.1915]))])"
            ]
          },
          "metadata": {},
          "execution_count": 53
        }
      ]
    },
    {
      "cell_type": "code",
      "source": [
        "conv_layer_2.state_dict().keys()"
      ],
      "metadata": {
        "id": "ZhZw3EHgmqnl",
        "outputId": "fd233dd5-bf57-4fd1-b604-308a75f95902",
        "colab": {
          "base_uri": "https://localhost:8080/"
        }
      },
      "execution_count": null,
      "outputs": [
        {
          "output_type": "execute_result",
          "data": {
            "text/plain": [
              "odict_keys(['weight', 'bias'])"
            ]
          },
          "metadata": {},
          "execution_count": 54
        }
      ]
    },
    {
      "cell_type": "code",
      "source": [
        "print(f\"conv_layer weight's shape:\\n{conv_layer.weight.shape} [out_channels, in_channels, kernel_size, kernel_size]\")\n",
        "print(f\"conv_layer bias's shape:\\n{conv_layer.bias.shape} [out_channels]\")"
      ],
      "metadata": {
        "id": "4J7G9AZ7nI7B",
        "outputId": "024a9b02-a143-4f88-bd60-c662e47627f5",
        "colab": {
          "base_uri": "https://localhost:8080/"
        }
      },
      "execution_count": null,
      "outputs": [
        {
          "output_type": "stream",
          "name": "stdout",
          "text": [
            "conv_layer weight's shape:\n",
            "torch.Size([10, 3, 3, 3]) [out_channels, in_channels, kernel_size, kernel_size]\n",
            "conv_layer bias's shape:\n",
            "torch.Size([10]) [out_channels]\n"
          ]
        }
      ]
    },
    {
      "cell_type": "markdown",
      "source": [
        "### MaxPool Layer: Dig Deeper"
      ],
      "metadata": {
        "id": "xJmqF0iCpQYv"
      }
    },
    {
      "cell_type": "markdown",
      "source": [
        "- What does happen when you move data through MaxPool2d?"
      ],
      "metadata": {
        "id": "JOumTgKLrFul"
      }
    },
    {
      "cell_type": "code",
      "source": [
        "print(f'Test image original shape: {test_img.shape}')\n",
        "print(f'Test image with unsqueezed dimension: {test_img.unsqueeze(dim=0).shape}')\n",
        "\n",
        "# Sample MaxPool layer\n",
        "maxpool_layer = nn.MaxPool2d(kernel_size=3)\n",
        "\n",
        "# Passing to conv layer\n",
        "test_img_conv = conv_layer(test_img.unsqueeze(dim=0))\n",
        "print(f'Shape after passing through conv_layer: {test_img_conv.shape}')\n",
        "\n",
        "# Passing to the MaxPool\n",
        "test_img_conv_maxpool = maxpool_layer(test_img_conv)\n",
        "print(f'Shape after passing through conv_layer and MaxPool layer: {test_img_conv_maxpool.shape}')"
      ],
      "metadata": {
        "id": "EisK6kgsq1t-",
        "outputId": "fd57cc06-c482-42fe-ea51-d3a32c8603a7",
        "colab": {
          "base_uri": "https://localhost:8080/"
        }
      },
      "execution_count": null,
      "outputs": [
        {
          "output_type": "stream",
          "name": "stdout",
          "text": [
            "Test image original shape: torch.Size([3, 64, 64])\n",
            "Test image with unsqueezed dimension: torch.Size([1, 3, 64, 64])\n",
            "Shape after passing through conv_layer: torch.Size([1, 10, 62, 62])\n",
            "Shape after passing through conv_layer and MaxPool layer: torch.Size([1, 10, 20, 20])\n"
          ]
        }
      ]
    },
    {
      "cell_type": "markdown",
      "source": [
        "- Try MaxPool with a smaller tensor."
      ],
      "metadata": {
        "id": "r1v59KPl-oa-"
      }
    },
    {
      "cell_type": "code",
      "source": [
        "torch.manual_seed(42)\n",
        "\n",
        "# Random tensor: same number of dimensions, but different dimension values\n",
        "rand_tensor = torch.randn(size=(1, 1, 2, 2))\n",
        "print(f'Random tensor:\\n{rand_tensor}')\n",
        "print(f'Random tensor shape: {rand_tensor.shape}')\n",
        "\n",
        "maxpool_layer = nn.MaxPool2d(kernel_size=2)\n",
        "\n",
        "# Passing the random tensor to the maxpool layer\n",
        "maxpooled_tensor = maxpool_layer(rand_tensor)\n",
        "print(f\"\\nMaxPooled tensor:\\n{maxpooled_tensor} <- Notice that this is the maximum value in the original random tensor\")\n",
        "print(f\"MaxPooled tensor shape: {maxpooled_tensor.shape}\")"
      ],
      "metadata": {
        "id": "8681G5iEtr6p",
        "colab": {
          "base_uri": "https://localhost:8080/"
        },
        "outputId": "0a120050-dc33-43fb-a28f-c43429509e52"
      },
      "execution_count": null,
      "outputs": [
        {
          "output_type": "stream",
          "name": "stdout",
          "text": [
            "Random tensor:\n",
            "tensor([[[[0.3367, 0.1288],\n",
            "          [0.2345, 0.2303]]]])\n",
            "Random tensor shape: torch.Size([1, 1, 2, 2])\n",
            "\n",
            "MaxPooled tensor:\n",
            "tensor([[[[0.3367]]]]) <- Notice that this is the maximum value in the original random tensor\n",
            "MaxPooled tensor shape: torch.Size([1, 1, 1, 1])\n"
          ]
        }
      ]
    },
    {
      "cell_type": "markdown",
      "source": [
        "- Neural Networks Layers are technically compressing the data to a lower dimension.\n",
        "  - Find patterns in a set of numbers\n",
        "  - Represent thos patterns in a smaller set of numbers\n",
        "  - The new representation is still predictive because it retains a segnificant amount of the information\n",
        "- It can be said that Neural Networks interpret intilligence as compression."
      ],
      "metadata": {
        "id": "4HRmccu6BqeU"
      }
    },
    {
      "cell_type": "code",
      "source": [
        "# Using the AvgPool layer\n",
        "torch.manual_seed(42)\n",
        "\n",
        "t = torch.tensor(\n",
        "    [[[[1,2,3,4,5,6,7,8],\n",
        "       [1,2,3,4,5,6,7,8],\n",
        "       [1,2,3,4,5,6,7,8],\n",
        "       [1,2,3,4,5,6,7,8],\n",
        "       [1,2,3,4,5,6,7,8],\n",
        "       [1,2,3,4,5,6,7,8],\n",
        "       [1,2,3,4,5,6,7,8],\n",
        "       [1,2,3,4,5,6,7,8],]]],\n",
        "    dtype = torch.float\n",
        ")\n",
        "print(f'Our tensor {t.shape}')\n",
        "\n",
        "# rand_tensor = torch.randn(size=(1,1,8,8))\n",
        "# print(f'Our tensor:\\n{rand_tensor}')\n",
        "# print(f'Our tensor {rand_tensor.shape}')\n",
        "\n",
        "avgpool_layer = nn.AvgPool2d(kernel_size=4)\n",
        "\n",
        "# Passing the random tensor through the avgpool layer\n",
        "avgpooled_tensor = avgpool_layer(t)\n",
        "print(f'\\nAvgPooled tensor:\\n{avgpooled_tensor} <- we have the average value instead of the maximum value')\n",
        "print(f'AvgPooled tensor shape: {avgpooled_tensor.shape}')"
      ],
      "metadata": {
        "colab": {
          "base_uri": "https://localhost:8080/"
        },
        "id": "b5VAnaIWIwda",
        "outputId": "eca12492-c4fe-485b-ec10-7e06d23ddc91"
      },
      "execution_count": null,
      "outputs": [
        {
          "output_type": "stream",
          "name": "stdout",
          "text": [
            "Our tensor torch.Size([1, 1, 8, 8])\n",
            "\n",
            "AvgPooled tensor:\n",
            "tensor([[[[2.5000, 6.5000],\n",
            "          [2.5000, 6.5000]]]]) <- we have the average value instead of the maximum value\n",
            "AvgPooled tensor shape: torch.Size([1, 1, 2, 2])\n"
          ]
        }
      ]
    },
    {
      "cell_type": "markdown",
      "source": [
        "### Setting Up Loss function and Optimizer"
      ],
      "metadata": {
        "id": "M6ELrb9ZWwo6"
      }
    },
    {
      "cell_type": "markdown",
      "source": [
        "- For model_2"
      ],
      "metadata": {
        "id": "4W-3ENuyW-5v"
      }
    },
    {
      "cell_type": "code",
      "source": [
        "loss_fn = nn.CrossEntropyLoss()\n",
        "\n",
        "optimizer = torch.optim.SGD(\n",
        "    model_2.parameters(),\n",
        "    lr = 0.1\n",
        ")"
      ],
      "metadata": {
        "id": "Ld8gtb1wLcYK"
      },
      "execution_count": null,
      "outputs": []
    },
    {
      "cell_type": "markdown",
      "source": [
        "### Training and Testing model_2"
      ],
      "metadata": {
        "id": "F_7aaxiZYgKQ"
      }
    },
    {
      "cell_type": "markdown",
      "source": [
        "- Using our previously created functions\n",
        "- Measure time to compare with other models"
      ],
      "metadata": {
        "id": "7luOjMyBYtlW"
      }
    },
    {
      "cell_type": "code",
      "source": [
        "from timeit import default_timer as timer"
      ],
      "metadata": {
        "id": "KKCNtuhbYsyP"
      },
      "execution_count": null,
      "outputs": []
    },
    {
      "cell_type": "code",
      "source": [
        "torch.manual_seed(42)\n",
        "\n",
        "start_time_model_2 = timer()\n",
        "\n",
        "# Train and test loop\n",
        "EPOCHS = 3\n",
        "\n",
        "for epoch in tqdm(range(EPOCHS)):\n",
        "    print(f\"-----Epoch: {epoch}\\n-----\")\n",
        "\n",
        "    ### Train ###\n",
        "    train_step(\n",
        "        data_loader = train_dataloader,\n",
        "        model = model_2,\n",
        "        loss_fn = loss_fn,\n",
        "        optimizer = optimizer,\n",
        "        accuracy_fn = accuracy_fn,\n",
        "        device = device\n",
        "    )\n",
        "\n",
        "    ### Test ###\n",
        "    test_step(\n",
        "        data_loader = test_dataloader,\n",
        "        model = model_2,\n",
        "        loss_fn = loss_fn,\n",
        "        accuracy_fn = accuracy_fn,\n",
        "        device = device\n",
        "    )\n",
        "\n",
        "end_time_model_2 = timer()\n",
        "total_train_time_model_2 = print_train_time(\n",
        "    start = start_time_model_2,\n",
        "    end = end_time_model_2,\n",
        "    device = device\n",
        ")"
      ],
      "metadata": {
        "colab": {
          "base_uri": "https://localhost:8080/",
          "height": 49,
          "referenced_widgets": [
            "eeed479ae2d045aca9a0ca7ff24452dd",
            "71ec5ff267a64ba1bca28d6b73167e14",
            "807d8bdec506448fab79b1f83496b422",
            "25f93dc63de94baca81301ef250ebefd",
            "3a2999cf3c224f1090af12be42543e2b",
            "633002034e8c4e839fea40c541ca694b",
            "a53c7446708b4ffcb3f6a25af0285954",
            "d53f616163764207b58e759b571f3f9d",
            "c9af68f43de444648332cd2d1250551f",
            "df56c32def1542fbbe83c5bfd490487d",
            "99ea5c2c593242b6b0f51fca9a6abc81"
          ]
        },
        "id": "nMUF3y5bZade",
        "outputId": "844bdea0-b9e7-4d8c-fb25-264c29568c07"
      },
      "execution_count": null,
      "outputs": [
        {
          "output_type": "display_data",
          "data": {
            "text/plain": [
              "  0%|          | 0/3 [00:00<?, ?it/s]"
            ],
            "application/vnd.jupyter.widget-view+json": {
              "version_major": 2,
              "version_minor": 0,
              "model_id": "eeed479ae2d045aca9a0ca7ff24452dd"
            }
          },
          "metadata": {}
        }
      ]
    },
    {
      "cell_type": "code",
      "source": [
        "# Evaluate model_2 with test data\n",
        "model_2_eval_results = eval_model(\n",
        "    model = model_2,\n",
        "    data_loader = test_dataloader,\n",
        "    loss_fn = loss_fn,\n",
        "    accuracy_fn = accuracy_fn\n",
        ")\n",
        "model_2_eval_results"
      ],
      "metadata": {
        "id": "sLhvsN5n9XWL"
      },
      "execution_count": null,
      "outputs": []
    },
    {
      "cell_type": "markdown",
      "source": [
        "# Model Comparisons"
      ],
      "metadata": {
        "id": "d5geTctLzGiR"
      }
    },
    {
      "cell_type": "markdown",
      "source": [
        "- We now have 3 different models.\n",
        "  - Baseline Model: model_0\n",
        "  - Non-linear Model: model_1\n",
        "  - CNN Model: model_2"
      ],
      "metadata": {
        "id": "N5fRC_jUzOA-"
      }
    },
    {
      "cell_type": "code",
      "source": [
        "import pandas as pd"
      ],
      "metadata": {
        "id": "8RT_3NLu0wI3"
      },
      "execution_count": null,
      "outputs": []
    },
    {
      "cell_type": "code",
      "source": [
        "# Putting these models' results in a dataframe\n",
        "models_eval_results = pd.DataFrame(\n",
        "    [\n",
        "        model_0_eval_results,\n",
        "        model_1_eval_results,\n",
        "        model_2_eval_results\n",
        "    ],\n",
        "    [\n",
        "        total_train_time_model_0,\n",
        "        total_train_time_model_1,\n",
        "        total_train_time_model_2\n",
        "    ]\n",
        ")\n",
        "models_eval_results"
      ],
      "metadata": {
        "id": "nW9f-bc5zNLQ"
      },
      "execution_count": null,
      "outputs": []
    },
    {
      "cell_type": "markdown",
      "source": [
        "- Larger and more complex models perform better but at the cost of longer training time (slower speed performance).\n",
        "- This also relies on the hardware."
      ],
      "metadata": {
        "id": "p_hHfFwS3kFJ"
      }
    },
    {
      "cell_type": "code",
      "source": [
        "# Visualization of the results\n",
        "models_eval_results.set_index(\"model_name\")[\"model_loss\"].plot(kind=\"barh\")\n",
        "plt.xlabel(\"loss\")\n",
        "plt.ylabel(\"model\");"
      ],
      "metadata": {
        "id": "BVKP3f092izx"
      },
      "execution_count": null,
      "outputs": []
    },
    {
      "cell_type": "code",
      "source": [
        "# Visualization of the results\n",
        "models_eval_results.set_index(\"model_name\")[\"model_accuracy\"].plot(kind=\"barh\")\n",
        "plt.xlabel(\"accuracy\")\n",
        "plt.ylabel(\"model\");"
      ],
      "metadata": {
        "id": "zyHW4wZ9BglK"
      },
      "execution_count": null,
      "outputs": []
    },
    {
      "cell_type": "markdown",
      "source": [
        "# Choosing the best model"
      ],
      "metadata": {
        "id": "8UlrwgtkCZ62"
      }
    },
    {
      "cell_type": "markdown",
      "source": [
        "- Best model: model_2\n",
        "- It is a good idea to create a function to make predictions taking some data."
      ],
      "metadata": {
        "id": "YCLNzAguCjDZ"
      }
    },
    {
      "cell_type": "code",
      "source": [
        "def make_predictions(model: nn.Module,\n",
        "                     data: list,\n",
        "                     device: torch.device = device):\n",
        "\n",
        "    pred_probs = []\n",
        "\n",
        "    model.eval()\n",
        "    with torch.inference_mode():\n",
        "        for sample in data:\n",
        "            # sample preparation\n",
        "            sample = torch.unsqueeze(sample, dim=0).to(device, dtype=torch.float32)\n",
        "\n",
        "            # forward pass: outputs raw logits\n",
        "            pred_logits = model(sample)\n",
        "\n",
        "            # Get prediction probability\n",
        "            pred_prob = torch.softmax(pred_logits.squeeze(), dim=0)\n",
        "\n",
        "            pred_probs.append(pred_prob.cpu()) # It is better to get pred_prob off GPU for further calculations\n",
        "\n",
        "    return torch.stack(pred_probs) # torch.stack: turns list into tensor"
      ],
      "metadata": {
        "id": "XeWHafLzCU4S"
      },
      "execution_count": null,
      "outputs": []
    },
    {
      "cell_type": "code",
      "source": [
        "import random"
      ],
      "metadata": {
        "id": "beEztO-tI4hQ"
      },
      "execution_count": null,
      "outputs": []
    },
    {
      "cell_type": "code",
      "source": [
        "random.seed(42)\n",
        "\n",
        "test_samples = []\n",
        "test_labels = []\n",
        "\n",
        "for sample,label in random.sample(list(test_data), k=18): # k: number of samples\n",
        "    test_samples.append(sample)\n",
        "    test_labels.append(label)\n",
        "\n",
        "print(f\"Image shape of the test sample: {test_samples[0].shape}\")\n",
        "print(f\"Test sample label: {test_labels[0]} {class_names[test_labels[0]]}\")"
      ],
      "metadata": {
        "id": "Nt2qXMwlJFyc"
      },
      "execution_count": null,
      "outputs": []
    },
    {
      "cell_type": "code",
      "source": [
        "# Making predictions\n",
        "\n",
        "pred_probs = make_predictions(model = model_2,\n",
        "                              data = test_samples)\n",
        "print(pred_probs[:4])\n",
        "\n",
        "pred_classes = pred_probs.argmax(dim=1)\n",
        "print(\"\\n\"+str(pred_classes))"
      ],
      "metadata": {
        "id": "JbqAsu8dKPMq"
      },
      "execution_count": null,
      "outputs": []
    },
    {
      "cell_type": "code",
      "source": [
        "# compare test labels to predictions' labels\n",
        "# pred_classes, test_labels"
      ],
      "metadata": {
        "id": "QNZrh5tELC-e"
      },
      "execution_count": null,
      "outputs": []
    },
    {
      "cell_type": "code",
      "source": [
        "# Plot predictions\n",
        "plt.figure(figsize=(9,9))\n",
        "\n",
        "for i, sample in enumerate(test_samples):\n",
        "    # Create a subplot\n",
        "    plt.subplot(6, 3, i+1)\n",
        "\n",
        "    # Plot the target image\n",
        "    plt.imshow(sample.squeeze(), cmap=\"gray\")\n",
        "\n",
        "    # Get the predicted label\n",
        "    pred_label = class_names[pred_classes[i]]\n",
        "\n",
        "    # Get the true label\n",
        "    truth_label = class_names[test_labels[i]]\n",
        "\n",
        "    # Put proper title\n",
        "    title = f\"Pred: {pred_label} | Truth: {truth_label}\"\n",
        "\n",
        "    # Make green color for a correct prediction and red color for wrong one\n",
        "    if pred_label == truth_label:\n",
        "        plt.title(title, fontsize=10, c=\"g\")\n",
        "    else:\n",
        "        plt.title(title, fontsize=10, c=\"r\")\n",
        "\n",
        "    plt.axis(False);"
      ],
      "metadata": {
        "id": "MOo5CNhaVsys"
      },
      "execution_count": null,
      "outputs": []
    },
    {
      "cell_type": "markdown",
      "source": [
        "# Evalutation With A Confusion Matrix"
      ],
      "metadata": {
        "id": "H3bK1rQFApg9"
      }
    },
    {
      "cell_type": "markdown",
      "source": [
        "- Visual Metric\n",
        "- Shows the model's confusion between predictions and true labels."
      ],
      "metadata": {
        "id": "38iTrYfOBBm9"
      }
    },
    {
      "cell_type": "code",
      "source": [
        "from tqdm.auto import tqdm # Processing bar"
      ],
      "metadata": {
        "id": "FOvR5VM-AzrH"
      },
      "execution_count": null,
      "outputs": []
    },
    {
      "cell_type": "code",
      "source": [
        "# model_2 predictions\n",
        "\n",
        "y_preds = []\n",
        "model_2.eval()\n",
        "\n",
        "with torch.inference_mode():\n",
        "    for X, y in tqdm(test_dataloader, desc=\"Making Predictions\"):\n",
        "        X, y = X.to(device), y.to(device)\n",
        "        y_logits = model_2(X)\n",
        "        y_pred = torch.softmax(y_logits, dim=1).argmax(dim=1)\n",
        "        y_preds.append(y_pred.cpu())\n",
        "\n",
        "y_pred_tensor = torch.cat(y_preds)"
      ],
      "metadata": {
        "id": "IImhQXS-Chnx"
      },
      "execution_count": null,
      "outputs": []
    },
    {
      "cell_type": "code",
      "source": [
        "# Install functions needed for instantiating and visualizing the confusion matrix\n",
        "\n",
        "try:\n",
        "    # Check if the right version exists\n",
        "    import torchmetrics, mlxtend\n",
        "    print(f\"mlxtend version: {mlxtend.__version__}\")\n",
        "    assert int(mlxtend.__version__.split('.')[1]) >= 19 # This version is necessary\n",
        "except:\n",
        "    !pip install -q torchmetrics -U mlxtend\n",
        "    import torchmetrics, mlxtend\n",
        "    print(f\"mlxtend version: {mlxtend.__version__}\")"
      ],
      "metadata": {
        "id": "20YVZjzfFITY"
      },
      "execution_count": null,
      "outputs": []
    },
    {
      "cell_type": "markdown",
      "source": [
        "### Plot the confusion matrix"
      ],
      "metadata": {
        "id": "58NGdSLYWXi3"
      }
    },
    {
      "cell_type": "code",
      "source": [
        "from torchmetrics import ConfusionMatrix\n",
        "from mlxtend.plotting import plot_confusion_matrix"
      ],
      "metadata": {
        "id": "15wnBuuiJ86H"
      },
      "execution_count": null,
      "outputs": []
    },
    {
      "cell_type": "code",
      "source": [
        "cmatrix = ConfusionMatrix(num_classes = len(class_names), task = \"multiclass\") # Instance of the confusion matrix\n",
        "cmatrix_tensor = cmatrix(preds = y_pred_tensor,\n",
        "                         target = test_data.targets)"
      ],
      "metadata": {
        "id": "_7CUTfWiE04e"
      },
      "execution_count": null,
      "outputs": []
    },
    {
      "cell_type": "code",
      "source": [
        "fig, ax = plot_confusion_matrix(\n",
        "    conf_mat = cmatrix_tensor.numpy(),\n",
        "    class_names = class_names,\n",
        "    figsize = (10, 7)\n",
        ");"
      ],
      "metadata": {
        "id": "wGxQDV5OXjo4"
      },
      "execution_count": null,
      "outputs": []
    },
    {
      "cell_type": "markdown",
      "source": [
        "- Ideal model has values in the diagonal squares and zero everywhere else.\n",
        "- Our model performs pretty well.\n",
        "- It is clear that the problematic images are the ones with similar attributes like \"T-shirt/top\" and \"Shirt\".\n",
        "- In this way, we can detect the reason of the misbehave of the model and fix it better than using only one single metric."
      ],
      "metadata": {
        "id": "vWNmiqBWHtOA"
      }
    },
    {
      "cell_type": "markdown",
      "source": [
        "# Saving and loading best model"
      ],
      "metadata": {
        "id": "zansesZ6XRST"
      }
    },
    {
      "cell_type": "code",
      "source": [
        "from pathlib import Path"
      ],
      "metadata": {
        "id": "BEp7uENBW_VG"
      },
      "execution_count": null,
      "outputs": []
    },
    {
      "cell_type": "code",
      "source": [
        "# Model Directory\n",
        "MODEL_PATH = Path(\"models\")\n",
        "MODEL_PATH.mkdir(\n",
        "    parents = True, # Create parent directories if needed\n",
        "    exist_ok = True # Don't erro if models directory already exists\n",
        ")\n",
        "\n",
        "# Model Path\n",
        "MODEL_NAME = \"CNN_model_2.pth\"\n",
        "MODEL_SAVE_PATH = MODEL_PATH / MODEL_NAME\n",
        "\n",
        "# Model State Dict\n",
        "print(f\"Saving model to: {MODEL_SAVE_PATH}\")\n",
        "torch.save(obj = model_2.state_dict(), # Only saves state_dict\n",
        "          f = MODEL_SAVE_PATH)"
      ],
      "metadata": {
        "id": "nd8I-4fsh2y9",
        "outputId": "f2c5fa2b-f622-4199-ee38-e30cf02609c7",
        "colab": {
          "base_uri": "https://localhost:8080/",
          "height": 222
        }
      },
      "execution_count": null,
      "outputs": [
        {
          "output_type": "stream",
          "name": "stdout",
          "text": [
            "Saving model to: models/CNN_model_2.pth\n"
          ]
        },
        {
          "output_type": "error",
          "ename": "NameError",
          "evalue": "name 'model_2' is not defined",
          "traceback": [
            "\u001b[0;31m---------------------------------------------------------------------------\u001b[0m",
            "\u001b[0;31mNameError\u001b[0m                                 Traceback (most recent call last)",
            "\u001b[0;32m<ipython-input-7-a8a75a1e4d8f>\u001b[0m in \u001b[0;36m<cell line: 0>\u001b[0;34m()\u001b[0m\n\u001b[1;32m     12\u001b[0m \u001b[0;31m# Model State Dict\u001b[0m\u001b[0;34m\u001b[0m\u001b[0;34m\u001b[0m\u001b[0m\n\u001b[1;32m     13\u001b[0m \u001b[0mprint\u001b[0m\u001b[0;34m(\u001b[0m\u001b[0;34mf\"Saving model to: {MODEL_SAVE_PATH}\"\u001b[0m\u001b[0;34m)\u001b[0m\u001b[0;34m\u001b[0m\u001b[0;34m\u001b[0m\u001b[0m\n\u001b[0;32m---> 14\u001b[0;31m torch.save(obj = model_2.state_dict(), # Only saves state_dict\n\u001b[0m\u001b[1;32m     15\u001b[0m           f = MODEL_SAVE_PATH)\n",
            "\u001b[0;31mNameError\u001b[0m: name 'model_2' is not defined"
          ]
        }
      ]
    },
    {
      "cell_type": "code",
      "source": [
        "# Load the model\n",
        "loaded_model_2 = FashionMNISTModelV2(\n",
        "    input_shape = 1,\n",
        "    hidden_units = 10,\n",
        "    output_shape = 10\n",
        ")\n",
        "\n",
        "loaded_model_2.load_state_dict(torch.load(f=MODEL_SAVE_PATH))\n",
        "\n",
        "loaded_model_2 = loaded_model_2.to(device)"
      ],
      "metadata": {
        "id": "R8bYF5UckRAb"
      },
      "execution_count": null,
      "outputs": []
    },
    {
      "cell_type": "code",
      "source": [
        "# Evaluation\n",
        "torch.manual_seed(42)\n",
        "\n",
        "loaded_model_2_eval_results = eval_model(\n",
        "    model = loaded_model_2,\n",
        "    data_loader = test_dataloader,\n",
        "    loss_fn = loss_fn,\n",
        "    accuracy_fn = accuracy_fn\n",
        ")\n",
        "\n",
        "print(loaded_model_2_eval_results)\n",
        "print(model_2_eval_results)"
      ],
      "metadata": {
        "id": "Xh902yeslU8J"
      },
      "execution_count": null,
      "outputs": []
    },
    {
      "cell_type": "markdown",
      "source": [
        "- torch.isclose() checks if two models are close to each other (boolean output)."
      ],
      "metadata": {
        "id": "TA8f7cWkqNof"
      }
    },
    {
      "cell_type": "code",
      "source": [
        "torch.isclose(\n",
        "    input = torch.tensor(model_2_eval_results[\"model_loss\"]),\n",
        "    other = torch.tensor(loaded_model_2_eval_results[\"model_loss\"]),\n",
        "    atol = 1e-08, # Absolute Tolerance\n",
        "    rtol = 0.0001 # Relative Tolerance\n",
        ")"
      ],
      "metadata": {
        "id": "yuxbNtRTp1bp"
      },
      "execution_count": null,
      "outputs": []
    },
    {
      "cell_type": "markdown",
      "source": [
        "# Exercises Solutions"
      ],
      "metadata": {
        "id": "QbX9BkR1BExI"
      }
    },
    {
      "cell_type": "code",
      "source": [
        "!nvidia-smi # checks for gpu"
      ],
      "metadata": {
        "colab": {
          "base_uri": "https://localhost:8080/"
        },
        "id": "7lmqTB7wDiOU",
        "outputId": "fdb2844a-464b-4ef7-f598-7f72aeda0d29"
      },
      "execution_count": 2,
      "outputs": [
        {
          "output_type": "stream",
          "name": "stdout",
          "text": [
            "/bin/bash: line 1: nvidia-smi: command not found\n"
          ]
        }
      ]
    },
    {
      "cell_type": "code",
      "source": [
        "import torch\n",
        "print(torch.__version__)\n",
        "from torch import nn"
      ],
      "metadata": {
        "id": "J23A9i559Nf6",
        "outputId": "f6be6d58-f51b-4f2b-a49c-b0b7469c1b67",
        "colab": {
          "base_uri": "https://localhost:8080/"
        }
      },
      "execution_count": 3,
      "outputs": [
        {
          "output_type": "stream",
          "name": "stdout",
          "text": [
            "2.6.0+cu124\n"
          ]
        }
      ]
    },
    {
      "cell_type": "code",
      "source": [
        "device = \"cuda\" if torch.cuda.is_available() else \"cpu\""
      ],
      "metadata": {
        "id": "ivcjmWyvsa_T"
      },
      "execution_count": 4,
      "outputs": []
    },
    {
      "cell_type": "markdown",
      "source": [
        "### Q1: Three areas in industry where CV is used:\n",
        "  - Agriculture\n",
        "  - Self-driving Cars\n",
        "  - Multimodal GenAI"
      ],
      "metadata": {
        "id": "h6c1il4FCdpY"
      }
    },
    {
      "cell_type": "markdown",
      "source": [
        "### Q2: Overfitting in ML\n",
        "It is inability to generalize to unseen data although being highly accurate in training (The model overly memorized the training data)."
      ],
      "metadata": {
        "id": "38NhJeuhEqlH"
      }
    },
    {
      "cell_type": "markdown",
      "source": [
        "### Q3: To prevent overfitting\n",
        "  - Mixing training and testing data and increasing data size through augmentation techniques like flipping, rotation, adding artificial noise, .. etc to increase the diversity of the dataset.\n",
        "  - Using regularization: adding penalty term to the loss function to discourage the model from fitting too closely.\n",
        "  - Reducing complexity by using simpler model with less neurons or layers."
      ],
      "metadata": {
        "id": "icQm4oZyHh_f"
      }
    },
    {
      "cell_type": "markdown",
      "source": [
        "### Q5: loading dataset"
      ],
      "metadata": {
        "id": "HpdHOcAUNDMM"
      }
    },
    {
      "cell_type": "code",
      "source": [
        "import torchvision as tv"
      ],
      "metadata": {
        "id": "eNPwJm51saxP"
      },
      "execution_count": 5,
      "outputs": []
    },
    {
      "cell_type": "code",
      "source": [
        "mnist_train = tv.datasets.MNIST(\n",
        "    root = \"data\",\n",
        "    train = True,\n",
        "    download = True,\n",
        "    transform = tv.transforms.ToTensor(),\n",
        "    target_transform = None\n",
        ")\n",
        "\n",
        "mnist_test = tv.datasets.MNIST(\n",
        "    root = \"data\",\n",
        "    train = False,\n",
        "    download = True,\n",
        "    transform = tv.transforms.ToTensor(),\n",
        "    target_transform = None\n",
        ")"
      ],
      "metadata": {
        "id": "Zp4uS-x3K4cB",
        "colab": {
          "base_uri": "https://localhost:8080/"
        },
        "outputId": "1e85e31e-179c-466a-e731-8617d3ce8367"
      },
      "execution_count": 6,
      "outputs": [
        {
          "output_type": "stream",
          "name": "stderr",
          "text": [
            "100%|██████████| 9.91M/9.91M [00:00<00:00, 17.7MB/s]\n",
            "100%|██████████| 28.9k/28.9k [00:00<00:00, 482kB/s]\n",
            "100%|██████████| 1.65M/1.65M [00:00<00:00, 4.44MB/s]\n",
            "100%|██████████| 4.54k/4.54k [00:00<00:00, 4.02MB/s]\n"
          ]
        }
      ]
    },
    {
      "cell_type": "code",
      "source": [
        "mnist_train, mnist_test"
      ],
      "metadata": {
        "id": "qDOW03q-M4kA",
        "outputId": "42a05ca3-d6bb-4b1a-b9ec-80260ac64c3c",
        "colab": {
          "base_uri": "https://localhost:8080/"
        }
      },
      "execution_count": 7,
      "outputs": [
        {
          "output_type": "execute_result",
          "data": {
            "text/plain": [
              "(Dataset MNIST\n",
              "     Number of datapoints: 60000\n",
              "     Root location: data\n",
              "     Split: Train\n",
              "     StandardTransform\n",
              " Transform: ToTensor(),\n",
              " Dataset MNIST\n",
              "     Number of datapoints: 10000\n",
              "     Root location: data\n",
              "     Split: Test\n",
              "     StandardTransform\n",
              " Transform: ToTensor())"
            ]
          },
          "metadata": {},
          "execution_count": 7
        }
      ]
    },
    {
      "cell_type": "code",
      "source": [
        "mnist_train.classes"
      ],
      "metadata": {
        "id": "muF_skRrB0l4",
        "outputId": "bd05f84e-4c19-4a97-bf5b-9730e39f289d",
        "colab": {
          "base_uri": "https://localhost:8080/"
        }
      },
      "execution_count": 8,
      "outputs": [
        {
          "output_type": "execute_result",
          "data": {
            "text/plain": [
              "['0 - zero',\n",
              " '1 - one',\n",
              " '2 - two',\n",
              " '3 - three',\n",
              " '4 - four',\n",
              " '5 - five',\n",
              " '6 - six',\n",
              " '7 - seven',\n",
              " '8 - eight',\n",
              " '9 - nine']"
            ]
          },
          "metadata": {},
          "execution_count": 8
        }
      ]
    },
    {
      "cell_type": "markdown",
      "source": [
        "### Q6: Visualizations"
      ],
      "metadata": {
        "id": "iThm1O6nNG7y"
      }
    },
    {
      "cell_type": "code",
      "source": [
        "type(mnist_train[0])"
      ],
      "metadata": {
        "id": "3nr1piYe9sK8",
        "outputId": "6f330f36-7407-4cc4-b6de-6279f47dd1b8",
        "colab": {
          "base_uri": "https://localhost:8080/"
        }
      },
      "execution_count": 9,
      "outputs": [
        {
          "output_type": "execute_result",
          "data": {
            "text/plain": [
              "tuple"
            ]
          },
          "metadata": {},
          "execution_count": 9
        }
      ]
    },
    {
      "cell_type": "code",
      "source": [
        "import matplotlib.pyplot as plt"
      ],
      "metadata": {
        "id": "dJXALRO9-34m"
      },
      "execution_count": 10,
      "outputs": []
    },
    {
      "cell_type": "code",
      "source": [
        "# plot one image\n",
        "\n",
        "img0, target0 = mnist_train[0]\n",
        "plt.imshow(img0.squeeze(), cmap = \"gray\")\n",
        "plt.title(target0)"
      ],
      "metadata": {
        "id": "adQ0bDl8-Vq0",
        "outputId": "b84144a1-8db0-4e68-a61f-ab6f90ca5795",
        "colab": {
          "base_uri": "https://localhost:8080/",
          "height": 470
        }
      },
      "execution_count": 11,
      "outputs": [
        {
          "output_type": "execute_result",
          "data": {
            "text/plain": [
              "Text(0.5, 1.0, '5')"
            ]
          },
          "metadata": {},
          "execution_count": 11
        },
        {
          "output_type": "display_data",
          "data": {
            "text/plain": [
              "<Figure size 640x480 with 1 Axes>"
            ],
            "image/png": "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\n"
          },
          "metadata": {}
        }
      ]
    },
    {
      "cell_type": "code",
      "source": [
        "# plot several images\n",
        "\n",
        "torch.manual_seed(101)\n",
        "\n",
        "fig = plt.figure(figsize=(6,4))\n",
        "rows, cols = 2, 3\n",
        "\n",
        "for i in range(1, rows*cols+1):\n",
        "    idx = torch.randint(0, len(mnist_train), size=[1]).item()\n",
        "    img, target = mnist_train[idx]\n",
        "    fig.add_subplot(rows, cols, i)\n",
        "    plt.imshow(img.squeeze(), cmap=\"gray\")\n",
        "    plt.title(mnist_train.classes[target])\n",
        "    plt.axis(False);"
      ],
      "metadata": {
        "id": "4Y9DEbX-ApkA",
        "outputId": "110d291d-2dd1-4e5c-8ebe-2156e563fc31",
        "colab": {
          "base_uri": "https://localhost:8080/",
          "height": 364
        }
      },
      "execution_count": 12,
      "outputs": [
        {
          "output_type": "display_data",
          "data": {
            "text/plain": [
              "<Figure size 600x400 with 6 Axes>"
            ],
            "image/png": "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\n"
          },
          "metadata": {}
        }
      ]
    },
    {
      "cell_type": "markdown",
      "source": [
        "### Q7: Using Dataloaders"
      ],
      "metadata": {
        "id": "_qfVFnCIFP6y"
      }
    },
    {
      "cell_type": "code",
      "source": [
        "mnist_train_dataloader = torch.utils.data.DataLoader(\n",
        "    mnist_train,\n",
        "    batch_size = 32,\n",
        "    shuffle = True\n",
        ")\n",
        "\n",
        "mnist_test_dataloader = torch.utils.data.DataLoader(\n",
        "    mnist_test,\n",
        "    batch_size = 32,\n",
        "    shuffle = False\n",
        ")"
      ],
      "metadata": {
        "id": "3-HY4cRZFNbR"
      },
      "execution_count": 13,
      "outputs": []
    },
    {
      "cell_type": "markdown",
      "source": [
        "### Q8: Model Creation"
      ],
      "metadata": {
        "id": "N06uutbZnZGh"
      }
    },
    {
      "cell_type": "code",
      "source": [
        "class MNISTModel(nn.Module):\n",
        "\n",
        "  def __init__(self, in_shape: int, hidden_units: int, out_shape):\n",
        "    super().__init__()\n",
        "\n",
        "    self.block1 = nn.Sequential(\n",
        "        nn.Conv2d(in_channels = in_shape,\n",
        "                  out_channels = hidden_units,\n",
        "                  kernel_size = 3,\n",
        "                  stride = 1,\n",
        "                  padding = 1),\n",
        "        nn.ReLU(),\n",
        "        nn.Conv2d(in_channels = hidden_units,\n",
        "                  out_channels = hidden_units,\n",
        "                  kernel_size = 3,\n",
        "                  stride = 1,\n",
        "                  padding = 1),\n",
        "        nn.ReLU(),\n",
        "        nn.MaxPool2d(2)\n",
        "    )\n",
        "\n",
        "    self.block2 = nn.Sequential(\n",
        "        nn.Conv2d(in_channels = hidden_units,\n",
        "                  out_channels = hidden_units,\n",
        "                  kernel_size = 3,\n",
        "                  stride = 1,\n",
        "                  padding =1),\n",
        "        nn.ReLU(),\n",
        "        nn.Conv2d(in_channels = hidden_units,\n",
        "                  out_channels = hidden_units,\n",
        "                  kernel_size = 3,\n",
        "                  stride = 1,\n",
        "                  padding = 1),\n",
        "        nn.ReLU(),\n",
        "        nn.MaxPool2d(2)\n",
        "    )\n",
        "\n",
        "    self.classifier = nn.Sequential(\n",
        "        nn.Flatten(),\n",
        "        nn.Linear(in_features = hidden_units*7*7,\n",
        "                  out_features = out_shape)\n",
        "    )\n",
        "\n",
        "  def forward(self, X: torch.Tensor):\n",
        "    return self.classifier(self.block2(self.block1(X)))"
      ],
      "metadata": {
        "id": "AZzKHntDLqxr"
      },
      "execution_count": 14,
      "outputs": []
    },
    {
      "cell_type": "code",
      "source": [
        "torch.manual_seed(101)\n",
        "\n",
        "mnist_model = MNISTModel(\n",
        "    in_shape = 1,\n",
        "    hidden_units = 10,\n",
        "    out_shape = len(mnist_train.classes)\n",
        ").to(device)\n",
        "\n",
        "mnist_model"
      ],
      "metadata": {
        "id": "32j9kVj0E_fJ",
        "colab": {
          "base_uri": "https://localhost:8080/"
        },
        "outputId": "bd226651-461e-4df4-8f26-02e191fb581c"
      },
      "execution_count": 15,
      "outputs": [
        {
          "output_type": "execute_result",
          "data": {
            "text/plain": [
              "MNISTModel(\n",
              "  (block1): Sequential(\n",
              "    (0): Conv2d(1, 10, kernel_size=(3, 3), stride=(1, 1), padding=(1, 1))\n",
              "    (1): ReLU()\n",
              "    (2): Conv2d(10, 10, kernel_size=(3, 3), stride=(1, 1), padding=(1, 1))\n",
              "    (3): ReLU()\n",
              "    (4): MaxPool2d(kernel_size=2, stride=2, padding=0, dilation=1, ceil_mode=False)\n",
              "  )\n",
              "  (block2): Sequential(\n",
              "    (0): Conv2d(10, 10, kernel_size=(3, 3), stride=(1, 1), padding=(1, 1))\n",
              "    (1): ReLU()\n",
              "    (2): Conv2d(10, 10, kernel_size=(3, 3), stride=(1, 1), padding=(1, 1))\n",
              "    (3): ReLU()\n",
              "    (4): MaxPool2d(kernel_size=2, stride=2, padding=0, dilation=1, ceil_mode=False)\n",
              "  )\n",
              "  (classifier): Sequential(\n",
              "    (0): Flatten(start_dim=1, end_dim=-1)\n",
              "    (1): Linear(in_features=490, out_features=10, bias=True)\n",
              "  )\n",
              ")"
            ]
          },
          "metadata": {},
          "execution_count": 15
        }
      ]
    },
    {
      "cell_type": "code",
      "source": [
        "# mnist_model.state_dict()"
      ],
      "metadata": {
        "id": "-l2zTTlYvqSl"
      },
      "execution_count": 16,
      "outputs": []
    },
    {
      "cell_type": "code",
      "source": [
        "x = torch.rand(size=(1,28,28)).unsqueeze(dim=0).to(device)\n",
        "x.shape"
      ],
      "metadata": {
        "id": "_Ys8QFSfHVzK",
        "colab": {
          "base_uri": "https://localhost:8080/"
        },
        "outputId": "22dd2d0d-7a9b-412b-a0b6-535427607aa6"
      },
      "execution_count": 17,
      "outputs": [
        {
          "output_type": "execute_result",
          "data": {
            "text/plain": [
              "torch.Size([1, 1, 28, 28])"
            ]
          },
          "metadata": {},
          "execution_count": 17
        }
      ]
    },
    {
      "cell_type": "code",
      "source": [
        "# dummy forward pass\n",
        "\n",
        "mnist_model(x)"
      ],
      "metadata": {
        "id": "ZujlMZ1vH2rV",
        "colab": {
          "base_uri": "https://localhost:8080/"
        },
        "outputId": "d4006fd5-aded-4170-90f9-26e5fc95e009"
      },
      "execution_count": 18,
      "outputs": [
        {
          "output_type": "execute_result",
          "data": {
            "text/plain": [
              "tensor([[-0.0494,  0.0394,  0.0062,  0.0080, -0.0450,  0.0306, -0.0474, -0.0579,\n",
              "          0.0176, -0.0361]], grad_fn=<AddmmBackward0>)"
            ]
          },
          "metadata": {},
          "execution_count": 18
        }
      ]
    },
    {
      "cell_type": "code",
      "source": [
        "flatten_layer = nn.Flatten()\n",
        "flat_tensor = flatten_layer(torch.rand(size=(1,10,7,7)))\n",
        "print(type(flat_tensor))\n",
        "print(flat_tensor.shape)"
      ],
      "metadata": {
        "id": "lqCx_J6zPrKa",
        "colab": {
          "base_uri": "https://localhost:8080/"
        },
        "outputId": "f2aa5a32-befe-4c46-aaee-0a44584323d1"
      },
      "execution_count": 19,
      "outputs": [
        {
          "output_type": "stream",
          "name": "stdout",
          "text": [
            "<class 'torch.Tensor'>\n",
            "torch.Size([1, 490])\n"
          ]
        }
      ]
    },
    {
      "cell_type": "markdown",
      "source": [
        "### Q9: Training"
      ],
      "metadata": {
        "id": "YCnaVNc-QobG"
      }
    },
    {
      "cell_type": "code",
      "source": [
        "!pip install -q torchmetrics"
      ],
      "metadata": {
        "id": "1-crvDdu6kOM",
        "outputId": "eed40faf-77d7-41d3-9325-f52c7f64fd8e",
        "colab": {
          "base_uri": "https://localhost:8080/"
        }
      },
      "execution_count": 20,
      "outputs": [
        {
          "output_type": "stream",
          "name": "stdout",
          "text": [
            "\u001b[2K   \u001b[90m━━━━━━━━━━━━━━━━━━━━━━━━━━━━━━━━━━━━━━━━\u001b[0m \u001b[32m960.9/960.9 kB\u001b[0m \u001b[31m22.5 MB/s\u001b[0m eta \u001b[36m0:00:00\u001b[0m\n",
            "\u001b[2K   \u001b[90m━━━━━━━━━━━━━━━━━━━━━━━━━━━━━━━━━━━━━━━━\u001b[0m \u001b[32m363.4/363.4 MB\u001b[0m \u001b[31m4.5 MB/s\u001b[0m eta \u001b[36m0:00:00\u001b[0m\n",
            "\u001b[2K   \u001b[90m━━━━━━━━━━━━━━━━━━━━━━━━━━━━━━━━━━━━━━━━\u001b[0m \u001b[32m13.8/13.8 MB\u001b[0m \u001b[31m57.2 MB/s\u001b[0m eta \u001b[36m0:00:00\u001b[0m\n",
            "\u001b[2K   \u001b[90m━━━━━━━━━━━━━━━━━━━━━━━━━━━━━━━━━━━━━━━━\u001b[0m \u001b[32m24.6/24.6 MB\u001b[0m \u001b[31m33.1 MB/s\u001b[0m eta \u001b[36m0:00:00\u001b[0m\n",
            "\u001b[2K   \u001b[90m━━━━━━━━━━━━━━━━━━━━━━━━━━━━━━━━━━━━━━━━\u001b[0m \u001b[32m883.7/883.7 kB\u001b[0m \u001b[31m36.4 MB/s\u001b[0m eta \u001b[36m0:00:00\u001b[0m\n",
            "\u001b[2K   \u001b[90m━━━━━━━━━━━━━━━━━━━━━━━━━━━━━━━━━━━━━━━━\u001b[0m \u001b[32m664.8/664.8 MB\u001b[0m \u001b[31m1.5 MB/s\u001b[0m eta \u001b[36m0:00:00\u001b[0m\n",
            "\u001b[2K   \u001b[90m━━━━━━━━━━━━━━━━━━━━━━━━━━━━━━━━━━━━━━━━\u001b[0m \u001b[32m211.5/211.5 MB\u001b[0m \u001b[31m5.7 MB/s\u001b[0m eta \u001b[36m0:00:00\u001b[0m\n",
            "\u001b[2K   \u001b[90m━━━━━━━━━━━━━━━━━━━━━━━━━━━━━━━━━━━━━━━━\u001b[0m \u001b[32m56.3/56.3 MB\u001b[0m \u001b[31m12.1 MB/s\u001b[0m eta \u001b[36m0:00:00\u001b[0m\n",
            "\u001b[2K   \u001b[90m━━━━━━━━━━━━━━━━━━━━━━━━━━━━━━━━━━━━━━━━\u001b[0m \u001b[32m127.9/127.9 MB\u001b[0m \u001b[31m7.4 MB/s\u001b[0m eta \u001b[36m0:00:00\u001b[0m\n",
            "\u001b[2K   \u001b[90m━━━━━━━━━━━━━━━━━━━━━━━━━━━━━━━━━━━━━━━━\u001b[0m \u001b[32m207.5/207.5 MB\u001b[0m \u001b[31m6.6 MB/s\u001b[0m eta \u001b[36m0:00:00\u001b[0m\n",
            "\u001b[2K   \u001b[90m━━━━━━━━━━━━━━━━━━━━━━━━━━━━━━━━━━━━━━━━\u001b[0m \u001b[32m21.1/21.1 MB\u001b[0m \u001b[31m78.8 MB/s\u001b[0m eta \u001b[36m0:00:00\u001b[0m\n",
            "\u001b[?25h"
          ]
        }
      ]
    },
    {
      "cell_type": "code",
      "source": [
        "from tqdm import tqdm\n",
        "import torchmetrics"
      ],
      "metadata": {
        "id": "WuVJReKtp6Fc"
      },
      "execution_count": 21,
      "outputs": []
    },
    {
      "cell_type": "code",
      "source": [
        "cross_entropy = nn.CrossEntropyLoss()\n",
        "\n",
        "sgd_optim = torch.optim.SGD(\n",
        "    params = mnist_model.parameters(),\n",
        "    lr = 0.1\n",
        ")"
      ],
      "metadata": {
        "id": "X7yhVmFKXmZn"
      },
      "execution_count": 22,
      "outputs": []
    },
    {
      "cell_type": "code",
      "source": [
        "%%time\n",
        "\n",
        "EPOCHS = 10\n",
        "\n",
        "for epoch in tqdm(range(EPOCHS)):\n",
        "\n",
        "  ### Training Loop ###\n",
        "\n",
        "  train_loss = 0\n",
        "\n",
        "  for batch, (X,y) in enumerate(mnist_train_dataloader):\n",
        "\n",
        "    mnist_model.train()\n",
        "\n",
        "    X, y = X.to(device), y.to(device)\n",
        "\n",
        "    # Forward pass\n",
        "    train_pred = mnist_model(X)\n",
        "\n",
        "    # Loss calculation\n",
        "    loss = cross_entropy(train_pred, y)\n",
        "    train_loss += loss\n",
        "\n",
        "    # Zeroing the gradient\n",
        "    sgd_optim.zero_grad()\n",
        "\n",
        "    # Backpropagation\n",
        "    loss.backward()\n",
        "\n",
        "    # Optimizer step\n",
        "    sgd_optim.step()\n",
        "\n",
        "  # Normalizing train loss with the number of batches\n",
        "  train_loss /= len(mnist_train_dataloader)\n",
        "\n",
        "\n",
        "  ### Testing Loop ###\n",
        "\n",
        "  mnist_model.eval()\n",
        "\n",
        "  test_loss = 0\n",
        "\n",
        "  with torch.inference_mode():\n",
        "\n",
        "    for batch, (X,y) in enumerate(mnist_test_dataloader):\n",
        "\n",
        "      X, y = X.to(device), y.to(device)\n",
        "\n",
        "      # Forward pass\n",
        "      test_pred = mnist_model(X)\n",
        "\n",
        "      # Calculating Loss\n",
        "      loss = cross_entropy(test_pred, y)\n",
        "      test_loss += loss\n",
        "\n",
        "    # Normalizing test loss to the number of batches\n",
        "    test_loss /= len(mnist_test_dataloader)\n",
        "\n",
        "  print(f\"\\nEpoch: {epoch} | Train Loss: {train_loss:.3f} | Test Loss: {test_loss:.3f}\")"
      ],
      "metadata": {
        "id": "KMkFOsraYW2M",
        "colab": {
          "base_uri": "https://localhost:8080/"
        },
        "outputId": "a48e58f9-4043-4e41-c2ce-3035be7f8907"
      },
      "execution_count": 23,
      "outputs": [
        {
          "output_type": "stream",
          "name": "stderr",
          "text": [
            " 10%|█         | 1/10 [01:15<11:23, 75.95s/it]"
          ]
        },
        {
          "output_type": "stream",
          "name": "stdout",
          "text": [
            "\n",
            "Epoch: 0 | Train Loss: 0.330 | Test Loss: 0.083\n"
          ]
        },
        {
          "output_type": "stream",
          "name": "stderr",
          "text": [
            "\r 20%|██        | 2/10 [02:19<09:07, 68.49s/it]"
          ]
        },
        {
          "output_type": "stream",
          "name": "stdout",
          "text": [
            "\n",
            "Epoch: 1 | Train Loss: 0.075 | Test Loss: 0.054\n"
          ]
        },
        {
          "output_type": "stream",
          "name": "stderr",
          "text": [
            "\r 30%|███       | 3/10 [03:21<07:39, 65.57s/it]"
          ]
        },
        {
          "output_type": "stream",
          "name": "stdout",
          "text": [
            "\n",
            "Epoch: 2 | Train Loss: 0.060 | Test Loss: 0.054\n"
          ]
        },
        {
          "output_type": "stream",
          "name": "stderr",
          "text": [
            "\r 40%|████      | 4/10 [04:23<06:25, 64.26s/it]"
          ]
        },
        {
          "output_type": "stream",
          "name": "stdout",
          "text": [
            "\n",
            "Epoch: 3 | Train Loss: 0.050 | Test Loss: 0.054\n"
          ]
        },
        {
          "output_type": "stream",
          "name": "stderr",
          "text": [
            "\r 50%|█████     | 5/10 [05:28<05:23, 64.68s/it]"
          ]
        },
        {
          "output_type": "stream",
          "name": "stdout",
          "text": [
            "\n",
            "Epoch: 4 | Train Loss: 0.045 | Test Loss: 0.038\n"
          ]
        },
        {
          "output_type": "stream",
          "name": "stderr",
          "text": [
            "\r 60%|██████    | 6/10 [06:30<04:14, 63.69s/it]"
          ]
        },
        {
          "output_type": "stream",
          "name": "stdout",
          "text": [
            "\n",
            "Epoch: 5 | Train Loss: 0.041 | Test Loss: 0.040\n"
          ]
        },
        {
          "output_type": "stream",
          "name": "stderr",
          "text": [
            "\r 70%|███████   | 7/10 [07:32<03:09, 63.00s/it]"
          ]
        },
        {
          "output_type": "stream",
          "name": "stdout",
          "text": [
            "\n",
            "Epoch: 6 | Train Loss: 0.038 | Test Loss: 0.040\n"
          ]
        },
        {
          "output_type": "stream",
          "name": "stderr",
          "text": [
            "\r 80%|████████  | 8/10 [08:34<02:05, 62.79s/it]"
          ]
        },
        {
          "output_type": "stream",
          "name": "stdout",
          "text": [
            "\n",
            "Epoch: 7 | Train Loss: 0.036 | Test Loss: 0.043\n"
          ]
        },
        {
          "output_type": "stream",
          "name": "stderr",
          "text": [
            "\r 90%|█████████ | 9/10 [09:36<01:02, 62.61s/it]"
          ]
        },
        {
          "output_type": "stream",
          "name": "stdout",
          "text": [
            "\n",
            "Epoch: 8 | Train Loss: 0.033 | Test Loss: 0.040\n"
          ]
        },
        {
          "output_type": "stream",
          "name": "stderr",
          "text": [
            "100%|██████████| 10/10 [10:39<00:00, 63.93s/it]"
          ]
        },
        {
          "output_type": "stream",
          "name": "stdout",
          "text": [
            "\n",
            "Epoch: 9 | Train Loss: 0.031 | Test Loss: 0.036\n",
            "CPU times: user 10min 22s, sys: 2.89 s, total: 10min 25s\n",
            "Wall time: 10min 39s\n"
          ]
        },
        {
          "output_type": "stream",
          "name": "stderr",
          "text": [
            "\n"
          ]
        }
      ]
    },
    {
      "cell_type": "markdown",
      "source": [
        "### Q10: Infererence"
      ],
      "metadata": {
        "id": "ovzflTUNPig4"
      }
    },
    {
      "cell_type": "code",
      "source": [
        "def make_predictions(model: nn.Module,\n",
        "                     data: list,\n",
        "                     device: torch.device = device):\n",
        "\n",
        "  pred_probs = []\n",
        "\n",
        "  model.eval()\n",
        "  with torch.inference_mode():\n",
        "\n",
        "    for sample in data:\n",
        "\n",
        "      sample = torch.unsqueeze(sample, dim=0).to(device, dtype=torch.float32)\n",
        "\n",
        "      # Forward pass: get raw logists\n",
        "      pred_logits = model(sample)\n",
        "\n",
        "      # Get predictions\n",
        "      pred_prob = torch.softmax(pred_logits.squeeze(), dim=0)\n",
        "\n",
        "      pred_probs.append(pred_prob)\n",
        "\n",
        "  return torch.stack(pred_probs) # Turn list into tensor"
      ],
      "metadata": {
        "id": "Luly_dpEPaAn"
      },
      "execution_count": 24,
      "outputs": []
    },
    {
      "cell_type": "code",
      "source": [
        "import random"
      ],
      "metadata": {
        "id": "9BbogOXwQlhB"
      },
      "execution_count": 25,
      "outputs": []
    },
    {
      "cell_type": "code",
      "source": [
        "random.seed(101)\n",
        "\n",
        "test_samples = []\n",
        "test_labels = []\n",
        "\n",
        "for sample,label in random.sample(list(mnist_test), k=5):\n",
        "  test_samples.append(sample)\n",
        "  test_labels.append(label)\n",
        "\n",
        "# print(test_samples[0].shape)\n",
        "# print(mnist_test.classes[test_labels[0]])\n",
        "\n",
        "# Making predictions\n",
        "pred_probs = make_predictions(mnist_model,test_samples,device)\n",
        "print(pred_probs[:5])\n",
        "pred_classes = pred_probs.argmax(dim=1)\n",
        "print(\"\\n\"+str(pred_classes), \"\\n\"+str(test_labels))"
      ],
      "metadata": {
        "id": "bluz6BTS39VS",
        "colab": {
          "base_uri": "https://localhost:8080/"
        },
        "outputId": "a07f33a8-ce75-44fd-db32-d595ffe5d9c2"
      },
      "execution_count": 26,
      "outputs": [
        {
          "output_type": "stream",
          "name": "stdout",
          "text": [
            "tensor([[7.0529e-12, 1.0453e-08, 9.9999e-01, 2.5898e-06, 3.8718e-13, 2.8182e-14,\n",
            "         3.3498e-15, 1.4586e-09, 5.2025e-06, 1.2782e-11],\n",
            "        [8.5234e-13, 9.6818e-11, 2.7726e-09, 5.5925e-09, 4.0416e-05, 3.2221e-10,\n",
            "         3.4307e-14, 3.3975e-08, 1.3304e-08, 9.9996e-01],\n",
            "        [2.6015e-13, 3.4942e-17, 4.6402e-14, 2.7321e-09, 1.3998e-14, 1.0000e+00,\n",
            "         1.0309e-09, 7.5035e-21, 8.1201e-08, 3.8005e-09],\n",
            "        [1.0470e-12, 3.6899e-12, 1.6399e-04, 8.0788e-07, 2.0768e-14, 7.8275e-11,\n",
            "         6.9875e-15, 2.8134e-11, 9.9984e-01, 2.6331e-11],\n",
            "        [7.8102e-13, 2.9010e-10, 3.3471e-13, 1.3271e-15, 9.9998e-01, 4.6396e-11,\n",
            "         1.0612e-11, 6.1033e-12, 2.3002e-12, 1.5166e-05]])\n",
            "\n",
            "tensor([2, 9, 5, 8, 4]) \n",
            "[2, 9, 5, 8, 4]\n"
          ]
        }
      ]
    },
    {
      "cell_type": "code",
      "source": [
        "# Visualizing and comparing with the true labels\n",
        "\n",
        "plt.figure(figsize=(9,9))\n",
        "\n",
        "for i,sample in enumerate(test_samples):\n",
        "\n",
        "  plt.subplot(3,2,i+1)\n",
        "  plt.imshow(sample.squeeze(), cmap=\"gray\")\n",
        "\n",
        "  pred_label = mnist_test.classes[pred_classes[i]]\n",
        "  true_label = mnist_test.classes[test_labels[i]]\n",
        "\n",
        "  title = f\"Pred: {pred_label} | Truth: {true_label}\"\n",
        "\n",
        "  if pred_label == true_label:\n",
        "    plt.title(title, fontsize=10, c=\"g\")\n",
        "  else:\n",
        "    plt.title(title, fontsize=10, c=\"r\")\n",
        "\n",
        "  plt.axis(False)"
      ],
      "metadata": {
        "id": "vLnt0pLxXH9M",
        "colab": {
          "base_uri": "https://localhost:8080/",
          "height": 749
        },
        "outputId": "c322d3df-176d-4406-e90c-0d0c325012b0"
      },
      "execution_count": 27,
      "outputs": [
        {
          "output_type": "display_data",
          "data": {
            "text/plain": [
              "<Figure size 900x900 with 5 Axes>"
            ],
            "image/png": "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\n"
          },
          "metadata": {}
        }
      ]
    },
    {
      "cell_type": "markdown",
      "source": [
        "### Q11: Comparison using Confusion Matrix"
      ],
      "metadata": {
        "id": "hkGd2P_kQTu-"
      }
    },
    {
      "cell_type": "code",
      "source": [
        "test_samples = [sample for sample,_ in list(mnist_test)]\n",
        "\n",
        "pred_probs = make_predictions(mnist_model, test_samples, device)\n",
        "pred_labels = pred_probs.argmax(dim=1)\n",
        "print(pred_labels)\n",
        "print(mnist_test.targets)"
      ],
      "metadata": {
        "id": "a1VDHIVLsjgF",
        "colab": {
          "base_uri": "https://localhost:8080/"
        },
        "outputId": "6799ca19-6385-447e-d9bc-b9bf48f1b077"
      },
      "execution_count": 28,
      "outputs": [
        {
          "output_type": "stream",
          "name": "stdout",
          "text": [
            "tensor([7, 2, 1,  ..., 4, 5, 6])\n",
            "tensor([7, 2, 1,  ..., 4, 5, 6])\n"
          ]
        }
      ]
    },
    {
      "cell_type": "code",
      "source": [
        "# Install functions needed for making a confusion matrix\n",
        "\n",
        "try:\n",
        "  # Check that the right version installed\n",
        "  import mlxtend\n",
        "  print(f\"mlxtend version: {mlxtend.__version__}\")\n",
        "  assert int(mlxtend.__version__.split(\".\"))[1] >= 19\n",
        "except:\n",
        "  !pip install -U -q mlxtend\n",
        "  import mlxtend\n",
        "  print(f\"mlxtend version: {mlxtend.__version__}\")"
      ],
      "metadata": {
        "id": "lbUDsp8ENjbI",
        "colab": {
          "base_uri": "https://localhost:8080/"
        },
        "outputId": "2b18f762-9225-44e9-aa1f-0d89ca903f5d"
      },
      "execution_count": 29,
      "outputs": [
        {
          "output_type": "stream",
          "name": "stdout",
          "text": [
            "mlxtend version: 0.23.4\n",
            "mlxtend version: 0.23.4\n"
          ]
        }
      ]
    },
    {
      "cell_type": "code",
      "source": [
        "from torchmetrics import ConfusionMatrix\n",
        "from mlxtend.plotting import plot_confusion_matrix"
      ],
      "metadata": {
        "id": "gTfAde0TYbQ0"
      },
      "execution_count": 30,
      "outputs": []
    },
    {
      "cell_type": "code",
      "source": [
        "conf_matrix = ConfusionMatrix(num_classes = len(mnist_test.classes), task = \"multiclass\")\n",
        "conf_matrix_tensor = conf_matrix(preds = pred_labels,\n",
        "                                 target = mnist_test.targets)"
      ],
      "metadata": {
        "id": "phPGoomhaMlR"
      },
      "execution_count": 31,
      "outputs": []
    },
    {
      "cell_type": "code",
      "source": [
        "fig, ax = plot_confusion_matrix(conf_mat = conf_matrix_tensor.numpy(),\n",
        "                                figsize = (10, 7),\n",
        "                                class_names = mnist_test.classes\n",
        "                                );"
      ],
      "metadata": {
        "colab": {
          "base_uri": "https://localhost:8080/",
          "height": 660
        },
        "id": "vKGoo8EBWVv3",
        "outputId": "44c539fb-c420-4229-88e7-752cdfdfb07a"
      },
      "execution_count": 32,
      "outputs": [
        {
          "output_type": "display_data",
          "data": {
            "text/plain": [
              "<Figure size 1000x700 with 1 Axes>"
            ],
            "image/png": "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\n"
          },
          "metadata": {}
        }
      ]
    },
    {
      "cell_type": "markdown",
      "source": [
        "### Q12: Playing around with the convolution network"
      ],
      "metadata": {
        "id": "r5F8XuQeddB7"
      }
    },
    {
      "cell_type": "code",
      "source": [
        "torch.manual_seed(101)\n",
        "\n",
        "t = torch.rand(size = (1,3,64,64), device = device)\n",
        "t.shape"
      ],
      "metadata": {
        "colab": {
          "base_uri": "https://localhost:8080/"
        },
        "id": "bivZpkr8kkFj",
        "outputId": "86fff3b8-5d7c-4c3f-ece4-f726a9a131bf"
      },
      "execution_count": 33,
      "outputs": [
        {
          "output_type": "execute_result",
          "data": {
            "text/plain": [
              "torch.Size([1, 3, 64, 64])"
            ]
          },
          "metadata": {},
          "execution_count": 33
        }
      ]
    },
    {
      "cell_type": "code",
      "source": [
        "conv_layer = nn.Conv2d(in_channels = 3,\n",
        "                       out_channels = 20,\n",
        "                       kernel_size = 10,\n",
        "                       padding = 1,\n",
        "                       stride = 5)"
      ],
      "metadata": {
        "id": "vAzojA2QlSe3"
      },
      "execution_count": 34,
      "outputs": []
    },
    {
      "cell_type": "code",
      "source": [
        "conv_layer(t).shape"
      ],
      "metadata": {
        "colab": {
          "base_uri": "https://localhost:8080/"
        },
        "id": "pFYLGqjN6ZG9",
        "outputId": "b19d0c6d-3033-4658-e576-6d53783933ae"
      },
      "execution_count": 35,
      "outputs": [
        {
          "output_type": "execute_result",
          "data": {
            "text/plain": [
              "torch.Size([1, 20, 12, 12])"
            ]
          },
          "metadata": {},
          "execution_count": 35
        }
      ]
    },
    {
      "cell_type": "markdown",
      "source": [
        "### Q13: New FashionMNIST Model"
      ],
      "metadata": {
        "id": "KKJU9cM4WVVK"
      }
    },
    {
      "cell_type": "code",
      "source": [
        "fmnist_train = tv.datasets.FashionMNIST(\n",
        "    root = \"data\",\n",
        "    download = True,\n",
        "    train = True,\n",
        "    transform = tv.transforms.ToTensor(),\n",
        "    target_transform = None\n",
        ")\n",
        "\n",
        "fmnist_test = tv.datasets.FashionMNIST(\n",
        "    root = \"data\",\n",
        "    download = True,\n",
        "    train = False,\n",
        "    transform = tv.transforms.ToTensor(),\n",
        "    target_transform = None\n",
        ")"
      ],
      "metadata": {
        "id": "7duqxFbIeiSR",
        "colab": {
          "base_uri": "https://localhost:8080/"
        },
        "outputId": "14202720-e62e-4f6a-952e-65fe11f2d9fc"
      },
      "execution_count": 36,
      "outputs": [
        {
          "output_type": "stream",
          "name": "stderr",
          "text": [
            "100%|██████████| 26.4M/26.4M [00:02<00:00, 11.7MB/s]\n",
            "100%|██████████| 29.5k/29.5k [00:00<00:00, 208kB/s]\n",
            "100%|██████████| 4.42M/4.42M [00:01<00:00, 3.86MB/s]\n",
            "100%|██████████| 5.15k/5.15k [00:00<00:00, 10.9MB/s]\n"
          ]
        }
      ]
    },
    {
      "cell_type": "code",
      "source": [
        "class FashionMNISTModel(nn.Module):\n",
        "\n",
        "  def __init__(self, in_shape:int, hidden_units:int, out_shape:int):\n",
        "    super().__init__()\n",
        "\n",
        "    self.block1 = nn.Sequential(\n",
        "        nn.Conv2d(in_channels = in_shape,\n",
        "                  out_channels = hidden_units,\n",
        "                  kernel_size = 3,\n",
        "                  padding = 1,\n",
        "                  stride = 1),\n",
        "        nn.ReLU(),\n",
        "        nn.Conv2d(in_channels = hidden_units,\n",
        "                  out_channels = hidden_units,\n",
        "                  kernel_size = 3,\n",
        "                  padding = 1,\n",
        "                  stride = 1),\n",
        "        nn.ReLU(),\n",
        "        nn.MaxPool2d(2)\n",
        "    )\n",
        "\n",
        "    self.classifier = nn.Sequential(\n",
        "        nn.Flatten(),\n",
        "        nn.Linear(in_features = hidden_units*7*7,\n",
        "                  out_features = out_shape)\n",
        "    )\n",
        "\n",
        "  def forward(self, X:torch.tensor):\n",
        "    return self.classifier(self.block1(x))"
      ],
      "metadata": {
        "id": "CHKPlJ4uVlb9"
      },
      "execution_count": 44,
      "outputs": []
    },
    {
      "cell_type": "code",
      "source": [
        "torch.manual_seed(101)\n",
        "\n",
        "fmnist_model = FashionMNISTModel(\n",
        "    in_shape = 1,\n",
        "    hidden_units = 15,\n",
        "    out_shape = len(fmnist_train.classes)\n",
        ").to(device)\n",
        "\n",
        "fmnist_model"
      ],
      "metadata": {
        "id": "oe2gzOuEu_9s",
        "colab": {
          "base_uri": "https://localhost:8080/"
        },
        "outputId": "6c22c005-25dc-43bb-9d6b-feca04356d29"
      },
      "execution_count": 46,
      "outputs": [
        {
          "output_type": "execute_result",
          "data": {
            "text/plain": [
              "FashionMNISTModel(\n",
              "  (block1): Sequential(\n",
              "    (0): Conv2d(1, 15, kernel_size=(3, 3), stride=(1, 1), padding=(1, 1))\n",
              "    (1): ReLU()\n",
              "    (2): Conv2d(15, 15, kernel_size=(3, 3), stride=(1, 1), padding=(1, 1))\n",
              "    (3): ReLU()\n",
              "    (4): MaxPool2d(kernel_size=2, stride=2, padding=0, dilation=1, ceil_mode=False)\n",
              "  )\n",
              "  (classifier): Sequential(\n",
              "    (0): Flatten(start_dim=1, end_dim=-1)\n",
              "    (1): Linear(in_features=735, out_features=10, bias=True)\n",
              "  )\n",
              ")"
            ]
          },
          "metadata": {},
          "execution_count": 46
        }
      ]
    },
    {
      "cell_type": "code",
      "source": [],
      "metadata": {
        "id": "2cqJTtjUX1RX"
      },
      "execution_count": null,
      "outputs": []
    },
    {
      "cell_type": "markdown",
      "source": [
        "If you found something wrong, please contact me at: muhammadhelmymmo@gmail.com"
      ],
      "metadata": {
        "id": "0-jJS1UdIMTN"
      }
    }
  ]
}
