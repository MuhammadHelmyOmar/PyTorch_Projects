{
  "nbformat": 4,
  "nbformat_minor": 0,
  "metadata": {
    "colab": {
      "provenance": [],
      "gpuType": "T4",
      "authorship_tag": "ABX9TyMm3Kq+kXlm3FGieTu/iaWd"
    },
    "kernelspec": {
      "name": "python3",
      "display_name": "Python 3"
    },
    "language_info": {
      "name": "python"
    },
    "widgets": {
      "application/vnd.jupyter.widget-state+json": {
        "2cb4ff8406f642d3a1fd2f710f32472a": {
          "model_module": "@jupyter-widgets/controls",
          "model_name": "HBoxModel",
          "model_module_version": "1.5.0",
          "state": {
            "_dom_classes": [],
            "_model_module": "@jupyter-widgets/controls",
            "_model_module_version": "1.5.0",
            "_model_name": "HBoxModel",
            "_view_count": null,
            "_view_module": "@jupyter-widgets/controls",
            "_view_module_version": "1.5.0",
            "_view_name": "HBoxView",
            "box_style": "",
            "children": [
              "IPY_MODEL_daa1656943df4b08ab21653026ee7f7e",
              "IPY_MODEL_d6520324a97c4525a3aa75222007d7e2",
              "IPY_MODEL_8420d186ecef445a95eb2962bd9469b1"
            ],
            "layout": "IPY_MODEL_b54ce31b15484bb49fefde89816b6cab"
          }
        },
        "daa1656943df4b08ab21653026ee7f7e": {
          "model_module": "@jupyter-widgets/controls",
          "model_name": "HTMLModel",
          "model_module_version": "1.5.0",
          "state": {
            "_dom_classes": [],
            "_model_module": "@jupyter-widgets/controls",
            "_model_module_version": "1.5.0",
            "_model_name": "HTMLModel",
            "_view_count": null,
            "_view_module": "@jupyter-widgets/controls",
            "_view_module_version": "1.5.0",
            "_view_name": "HTMLView",
            "description": "",
            "description_tooltip": null,
            "layout": "IPY_MODEL_30cb5bea17b74d4f8657fa1fb13cf2b4",
            "placeholder": "​",
            "style": "IPY_MODEL_2cba8765e0b5491d8096ee959c9b7952",
            "value": "100%"
          }
        },
        "d6520324a97c4525a3aa75222007d7e2": {
          "model_module": "@jupyter-widgets/controls",
          "model_name": "FloatProgressModel",
          "model_module_version": "1.5.0",
          "state": {
            "_dom_classes": [],
            "_model_module": "@jupyter-widgets/controls",
            "_model_module_version": "1.5.0",
            "_model_name": "FloatProgressModel",
            "_view_count": null,
            "_view_module": "@jupyter-widgets/controls",
            "_view_module_version": "1.5.0",
            "_view_name": "ProgressView",
            "bar_style": "success",
            "description": "",
            "description_tooltip": null,
            "layout": "IPY_MODEL_eeb5115aff9645a8a0375481989ee870",
            "max": 3,
            "min": 0,
            "orientation": "horizontal",
            "style": "IPY_MODEL_90e8f50a740447abaffbef309e83ab95",
            "value": 3
          }
        },
        "8420d186ecef445a95eb2962bd9469b1": {
          "model_module": "@jupyter-widgets/controls",
          "model_name": "HTMLModel",
          "model_module_version": "1.5.0",
          "state": {
            "_dom_classes": [],
            "_model_module": "@jupyter-widgets/controls",
            "_model_module_version": "1.5.0",
            "_model_name": "HTMLModel",
            "_view_count": null,
            "_view_module": "@jupyter-widgets/controls",
            "_view_module_version": "1.5.0",
            "_view_name": "HTMLView",
            "description": "",
            "description_tooltip": null,
            "layout": "IPY_MODEL_65e219c349f1496fa696201f86c25646",
            "placeholder": "​",
            "style": "IPY_MODEL_07f56b61285a4da8ae3e96a525476c40",
            "value": " 3/3 [00:35&lt;00:00, 11.88s/it]"
          }
        },
        "b54ce31b15484bb49fefde89816b6cab": {
          "model_module": "@jupyter-widgets/base",
          "model_name": "LayoutModel",
          "model_module_version": "1.2.0",
          "state": {
            "_model_module": "@jupyter-widgets/base",
            "_model_module_version": "1.2.0",
            "_model_name": "LayoutModel",
            "_view_count": null,
            "_view_module": "@jupyter-widgets/base",
            "_view_module_version": "1.2.0",
            "_view_name": "LayoutView",
            "align_content": null,
            "align_items": null,
            "align_self": null,
            "border": null,
            "bottom": null,
            "display": null,
            "flex": null,
            "flex_flow": null,
            "grid_area": null,
            "grid_auto_columns": null,
            "grid_auto_flow": null,
            "grid_auto_rows": null,
            "grid_column": null,
            "grid_gap": null,
            "grid_row": null,
            "grid_template_areas": null,
            "grid_template_columns": null,
            "grid_template_rows": null,
            "height": null,
            "justify_content": null,
            "justify_items": null,
            "left": null,
            "margin": null,
            "max_height": null,
            "max_width": null,
            "min_height": null,
            "min_width": null,
            "object_fit": null,
            "object_position": null,
            "order": null,
            "overflow": null,
            "overflow_x": null,
            "overflow_y": null,
            "padding": null,
            "right": null,
            "top": null,
            "visibility": null,
            "width": null
          }
        },
        "30cb5bea17b74d4f8657fa1fb13cf2b4": {
          "model_module": "@jupyter-widgets/base",
          "model_name": "LayoutModel",
          "model_module_version": "1.2.0",
          "state": {
            "_model_module": "@jupyter-widgets/base",
            "_model_module_version": "1.2.0",
            "_model_name": "LayoutModel",
            "_view_count": null,
            "_view_module": "@jupyter-widgets/base",
            "_view_module_version": "1.2.0",
            "_view_name": "LayoutView",
            "align_content": null,
            "align_items": null,
            "align_self": null,
            "border": null,
            "bottom": null,
            "display": null,
            "flex": null,
            "flex_flow": null,
            "grid_area": null,
            "grid_auto_columns": null,
            "grid_auto_flow": null,
            "grid_auto_rows": null,
            "grid_column": null,
            "grid_gap": null,
            "grid_row": null,
            "grid_template_areas": null,
            "grid_template_columns": null,
            "grid_template_rows": null,
            "height": null,
            "justify_content": null,
            "justify_items": null,
            "left": null,
            "margin": null,
            "max_height": null,
            "max_width": null,
            "min_height": null,
            "min_width": null,
            "object_fit": null,
            "object_position": null,
            "order": null,
            "overflow": null,
            "overflow_x": null,
            "overflow_y": null,
            "padding": null,
            "right": null,
            "top": null,
            "visibility": null,
            "width": null
          }
        },
        "2cba8765e0b5491d8096ee959c9b7952": {
          "model_module": "@jupyter-widgets/controls",
          "model_name": "DescriptionStyleModel",
          "model_module_version": "1.5.0",
          "state": {
            "_model_module": "@jupyter-widgets/controls",
            "_model_module_version": "1.5.0",
            "_model_name": "DescriptionStyleModel",
            "_view_count": null,
            "_view_module": "@jupyter-widgets/base",
            "_view_module_version": "1.2.0",
            "_view_name": "StyleView",
            "description_width": ""
          }
        },
        "eeb5115aff9645a8a0375481989ee870": {
          "model_module": "@jupyter-widgets/base",
          "model_name": "LayoutModel",
          "model_module_version": "1.2.0",
          "state": {
            "_model_module": "@jupyter-widgets/base",
            "_model_module_version": "1.2.0",
            "_model_name": "LayoutModel",
            "_view_count": null,
            "_view_module": "@jupyter-widgets/base",
            "_view_module_version": "1.2.0",
            "_view_name": "LayoutView",
            "align_content": null,
            "align_items": null,
            "align_self": null,
            "border": null,
            "bottom": null,
            "display": null,
            "flex": null,
            "flex_flow": null,
            "grid_area": null,
            "grid_auto_columns": null,
            "grid_auto_flow": null,
            "grid_auto_rows": null,
            "grid_column": null,
            "grid_gap": null,
            "grid_row": null,
            "grid_template_areas": null,
            "grid_template_columns": null,
            "grid_template_rows": null,
            "height": null,
            "justify_content": null,
            "justify_items": null,
            "left": null,
            "margin": null,
            "max_height": null,
            "max_width": null,
            "min_height": null,
            "min_width": null,
            "object_fit": null,
            "object_position": null,
            "order": null,
            "overflow": null,
            "overflow_x": null,
            "overflow_y": null,
            "padding": null,
            "right": null,
            "top": null,
            "visibility": null,
            "width": null
          }
        },
        "90e8f50a740447abaffbef309e83ab95": {
          "model_module": "@jupyter-widgets/controls",
          "model_name": "ProgressStyleModel",
          "model_module_version": "1.5.0",
          "state": {
            "_model_module": "@jupyter-widgets/controls",
            "_model_module_version": "1.5.0",
            "_model_name": "ProgressStyleModel",
            "_view_count": null,
            "_view_module": "@jupyter-widgets/base",
            "_view_module_version": "1.2.0",
            "_view_name": "StyleView",
            "bar_color": null,
            "description_width": ""
          }
        },
        "65e219c349f1496fa696201f86c25646": {
          "model_module": "@jupyter-widgets/base",
          "model_name": "LayoutModel",
          "model_module_version": "1.2.0",
          "state": {
            "_model_module": "@jupyter-widgets/base",
            "_model_module_version": "1.2.0",
            "_model_name": "LayoutModel",
            "_view_count": null,
            "_view_module": "@jupyter-widgets/base",
            "_view_module_version": "1.2.0",
            "_view_name": "LayoutView",
            "align_content": null,
            "align_items": null,
            "align_self": null,
            "border": null,
            "bottom": null,
            "display": null,
            "flex": null,
            "flex_flow": null,
            "grid_area": null,
            "grid_auto_columns": null,
            "grid_auto_flow": null,
            "grid_auto_rows": null,
            "grid_column": null,
            "grid_gap": null,
            "grid_row": null,
            "grid_template_areas": null,
            "grid_template_columns": null,
            "grid_template_rows": null,
            "height": null,
            "justify_content": null,
            "justify_items": null,
            "left": null,
            "margin": null,
            "max_height": null,
            "max_width": null,
            "min_height": null,
            "min_width": null,
            "object_fit": null,
            "object_position": null,
            "order": null,
            "overflow": null,
            "overflow_x": null,
            "overflow_y": null,
            "padding": null,
            "right": null,
            "top": null,
            "visibility": null,
            "width": null
          }
        },
        "07f56b61285a4da8ae3e96a525476c40": {
          "model_module": "@jupyter-widgets/controls",
          "model_name": "DescriptionStyleModel",
          "model_module_version": "1.5.0",
          "state": {
            "_model_module": "@jupyter-widgets/controls",
            "_model_module_version": "1.5.0",
            "_model_name": "DescriptionStyleModel",
            "_view_count": null,
            "_view_module": "@jupyter-widgets/base",
            "_view_module_version": "1.2.0",
            "_view_name": "StyleView",
            "description_width": ""
          }
        },
        "41789f877e704ca48dbe3c1e4ee179f0": {
          "model_module": "@jupyter-widgets/controls",
          "model_name": "HBoxModel",
          "model_module_version": "1.5.0",
          "state": {
            "_dom_classes": [],
            "_model_module": "@jupyter-widgets/controls",
            "_model_module_version": "1.5.0",
            "_model_name": "HBoxModel",
            "_view_count": null,
            "_view_module": "@jupyter-widgets/controls",
            "_view_module_version": "1.5.0",
            "_view_name": "HBoxView",
            "box_style": "",
            "children": [
              "IPY_MODEL_889be33dc09849e1a5b03da8276af12b",
              "IPY_MODEL_2e218594f6cf44e0828c29c4208448ae",
              "IPY_MODEL_d1b7ca2c9ae549a98cca25d51cb92dc1"
            ],
            "layout": "IPY_MODEL_c6bd6fe9becd45e9bcd22852395f1fc3"
          }
        },
        "889be33dc09849e1a5b03da8276af12b": {
          "model_module": "@jupyter-widgets/controls",
          "model_name": "HTMLModel",
          "model_module_version": "1.5.0",
          "state": {
            "_dom_classes": [],
            "_model_module": "@jupyter-widgets/controls",
            "_model_module_version": "1.5.0",
            "_model_name": "HTMLModel",
            "_view_count": null,
            "_view_module": "@jupyter-widgets/controls",
            "_view_module_version": "1.5.0",
            "_view_name": "HTMLView",
            "description": "",
            "description_tooltip": null,
            "layout": "IPY_MODEL_94d4bec06025449481add6b44e4b6c38",
            "placeholder": "​",
            "style": "IPY_MODEL_7ab5bf5cceb64215a9018fa80b92b958",
            "value": "100%"
          }
        },
        "2e218594f6cf44e0828c29c4208448ae": {
          "model_module": "@jupyter-widgets/controls",
          "model_name": "FloatProgressModel",
          "model_module_version": "1.5.0",
          "state": {
            "_dom_classes": [],
            "_model_module": "@jupyter-widgets/controls",
            "_model_module_version": "1.5.0",
            "_model_name": "FloatProgressModel",
            "_view_count": null,
            "_view_module": "@jupyter-widgets/controls",
            "_view_module_version": "1.5.0",
            "_view_name": "ProgressView",
            "bar_style": "success",
            "description": "",
            "description_tooltip": null,
            "layout": "IPY_MODEL_5c7c225c31cb403daf90600e5a060961",
            "max": 3,
            "min": 0,
            "orientation": "horizontal",
            "style": "IPY_MODEL_86fd0844a0dc401cbb6296be369dfb3c",
            "value": 3
          }
        },
        "d1b7ca2c9ae549a98cca25d51cb92dc1": {
          "model_module": "@jupyter-widgets/controls",
          "model_name": "HTMLModel",
          "model_module_version": "1.5.0",
          "state": {
            "_dom_classes": [],
            "_model_module": "@jupyter-widgets/controls",
            "_model_module_version": "1.5.0",
            "_model_name": "HTMLModel",
            "_view_count": null,
            "_view_module": "@jupyter-widgets/controls",
            "_view_module_version": "1.5.0",
            "_view_name": "HTMLView",
            "description": "",
            "description_tooltip": null,
            "layout": "IPY_MODEL_a61911ef03f44215b24cb2024443d6aa",
            "placeholder": "​",
            "style": "IPY_MODEL_f3270320833f4163acaab76697384c3f",
            "value": " 3/3 [00:39&lt;00:00, 13.16s/it]"
          }
        },
        "c6bd6fe9becd45e9bcd22852395f1fc3": {
          "model_module": "@jupyter-widgets/base",
          "model_name": "LayoutModel",
          "model_module_version": "1.2.0",
          "state": {
            "_model_module": "@jupyter-widgets/base",
            "_model_module_version": "1.2.0",
            "_model_name": "LayoutModel",
            "_view_count": null,
            "_view_module": "@jupyter-widgets/base",
            "_view_module_version": "1.2.0",
            "_view_name": "LayoutView",
            "align_content": null,
            "align_items": null,
            "align_self": null,
            "border": null,
            "bottom": null,
            "display": null,
            "flex": null,
            "flex_flow": null,
            "grid_area": null,
            "grid_auto_columns": null,
            "grid_auto_flow": null,
            "grid_auto_rows": null,
            "grid_column": null,
            "grid_gap": null,
            "grid_row": null,
            "grid_template_areas": null,
            "grid_template_columns": null,
            "grid_template_rows": null,
            "height": null,
            "justify_content": null,
            "justify_items": null,
            "left": null,
            "margin": null,
            "max_height": null,
            "max_width": null,
            "min_height": null,
            "min_width": null,
            "object_fit": null,
            "object_position": null,
            "order": null,
            "overflow": null,
            "overflow_x": null,
            "overflow_y": null,
            "padding": null,
            "right": null,
            "top": null,
            "visibility": null,
            "width": null
          }
        },
        "94d4bec06025449481add6b44e4b6c38": {
          "model_module": "@jupyter-widgets/base",
          "model_name": "LayoutModel",
          "model_module_version": "1.2.0",
          "state": {
            "_model_module": "@jupyter-widgets/base",
            "_model_module_version": "1.2.0",
            "_model_name": "LayoutModel",
            "_view_count": null,
            "_view_module": "@jupyter-widgets/base",
            "_view_module_version": "1.2.0",
            "_view_name": "LayoutView",
            "align_content": null,
            "align_items": null,
            "align_self": null,
            "border": null,
            "bottom": null,
            "display": null,
            "flex": null,
            "flex_flow": null,
            "grid_area": null,
            "grid_auto_columns": null,
            "grid_auto_flow": null,
            "grid_auto_rows": null,
            "grid_column": null,
            "grid_gap": null,
            "grid_row": null,
            "grid_template_areas": null,
            "grid_template_columns": null,
            "grid_template_rows": null,
            "height": null,
            "justify_content": null,
            "justify_items": null,
            "left": null,
            "margin": null,
            "max_height": null,
            "max_width": null,
            "min_height": null,
            "min_width": null,
            "object_fit": null,
            "object_position": null,
            "order": null,
            "overflow": null,
            "overflow_x": null,
            "overflow_y": null,
            "padding": null,
            "right": null,
            "top": null,
            "visibility": null,
            "width": null
          }
        },
        "7ab5bf5cceb64215a9018fa80b92b958": {
          "model_module": "@jupyter-widgets/controls",
          "model_name": "DescriptionStyleModel",
          "model_module_version": "1.5.0",
          "state": {
            "_model_module": "@jupyter-widgets/controls",
            "_model_module_version": "1.5.0",
            "_model_name": "DescriptionStyleModel",
            "_view_count": null,
            "_view_module": "@jupyter-widgets/base",
            "_view_module_version": "1.2.0",
            "_view_name": "StyleView",
            "description_width": ""
          }
        },
        "5c7c225c31cb403daf90600e5a060961": {
          "model_module": "@jupyter-widgets/base",
          "model_name": "LayoutModel",
          "model_module_version": "1.2.0",
          "state": {
            "_model_module": "@jupyter-widgets/base",
            "_model_module_version": "1.2.0",
            "_model_name": "LayoutModel",
            "_view_count": null,
            "_view_module": "@jupyter-widgets/base",
            "_view_module_version": "1.2.0",
            "_view_name": "LayoutView",
            "align_content": null,
            "align_items": null,
            "align_self": null,
            "border": null,
            "bottom": null,
            "display": null,
            "flex": null,
            "flex_flow": null,
            "grid_area": null,
            "grid_auto_columns": null,
            "grid_auto_flow": null,
            "grid_auto_rows": null,
            "grid_column": null,
            "grid_gap": null,
            "grid_row": null,
            "grid_template_areas": null,
            "grid_template_columns": null,
            "grid_template_rows": null,
            "height": null,
            "justify_content": null,
            "justify_items": null,
            "left": null,
            "margin": null,
            "max_height": null,
            "max_width": null,
            "min_height": null,
            "min_width": null,
            "object_fit": null,
            "object_position": null,
            "order": null,
            "overflow": null,
            "overflow_x": null,
            "overflow_y": null,
            "padding": null,
            "right": null,
            "top": null,
            "visibility": null,
            "width": null
          }
        },
        "86fd0844a0dc401cbb6296be369dfb3c": {
          "model_module": "@jupyter-widgets/controls",
          "model_name": "ProgressStyleModel",
          "model_module_version": "1.5.0",
          "state": {
            "_model_module": "@jupyter-widgets/controls",
            "_model_module_version": "1.5.0",
            "_model_name": "ProgressStyleModel",
            "_view_count": null,
            "_view_module": "@jupyter-widgets/base",
            "_view_module_version": "1.2.0",
            "_view_name": "StyleView",
            "bar_color": null,
            "description_width": ""
          }
        },
        "a61911ef03f44215b24cb2024443d6aa": {
          "model_module": "@jupyter-widgets/base",
          "model_name": "LayoutModel",
          "model_module_version": "1.2.0",
          "state": {
            "_model_module": "@jupyter-widgets/base",
            "_model_module_version": "1.2.0",
            "_model_name": "LayoutModel",
            "_view_count": null,
            "_view_module": "@jupyter-widgets/base",
            "_view_module_version": "1.2.0",
            "_view_name": "LayoutView",
            "align_content": null,
            "align_items": null,
            "align_self": null,
            "border": null,
            "bottom": null,
            "display": null,
            "flex": null,
            "flex_flow": null,
            "grid_area": null,
            "grid_auto_columns": null,
            "grid_auto_flow": null,
            "grid_auto_rows": null,
            "grid_column": null,
            "grid_gap": null,
            "grid_row": null,
            "grid_template_areas": null,
            "grid_template_columns": null,
            "grid_template_rows": null,
            "height": null,
            "justify_content": null,
            "justify_items": null,
            "left": null,
            "margin": null,
            "max_height": null,
            "max_width": null,
            "min_height": null,
            "min_width": null,
            "object_fit": null,
            "object_position": null,
            "order": null,
            "overflow": null,
            "overflow_x": null,
            "overflow_y": null,
            "padding": null,
            "right": null,
            "top": null,
            "visibility": null,
            "width": null
          }
        },
        "f3270320833f4163acaab76697384c3f": {
          "model_module": "@jupyter-widgets/controls",
          "model_name": "DescriptionStyleModel",
          "model_module_version": "1.5.0",
          "state": {
            "_model_module": "@jupyter-widgets/controls",
            "_model_module_version": "1.5.0",
            "_model_name": "DescriptionStyleModel",
            "_view_count": null,
            "_view_module": "@jupyter-widgets/base",
            "_view_module_version": "1.2.0",
            "_view_name": "StyleView",
            "description_width": ""
          }
        },
        "c792f82bd1fe4774ad0fa60d365935ff": {
          "model_module": "@jupyter-widgets/controls",
          "model_name": "HBoxModel",
          "model_module_version": "1.5.0",
          "state": {
            "_dom_classes": [],
            "_model_module": "@jupyter-widgets/controls",
            "_model_module_version": "1.5.0",
            "_model_name": "HBoxModel",
            "_view_count": null,
            "_view_module": "@jupyter-widgets/controls",
            "_view_module_version": "1.5.0",
            "_view_name": "HBoxView",
            "box_style": "",
            "children": [
              "IPY_MODEL_cdd2b3e243f441e18f55e8b2a276743e",
              "IPY_MODEL_212b6a445dfc4251a6509f65dce42b35",
              "IPY_MODEL_2c26e412ae104e719354f993bfdbb348"
            ],
            "layout": "IPY_MODEL_186bec43352b4f62a8bf1c27da5759b6"
          }
        },
        "cdd2b3e243f441e18f55e8b2a276743e": {
          "model_module": "@jupyter-widgets/controls",
          "model_name": "HTMLModel",
          "model_module_version": "1.5.0",
          "state": {
            "_dom_classes": [],
            "_model_module": "@jupyter-widgets/controls",
            "_model_module_version": "1.5.0",
            "_model_name": "HTMLModel",
            "_view_count": null,
            "_view_module": "@jupyter-widgets/controls",
            "_view_module_version": "1.5.0",
            "_view_name": "HTMLView",
            "description": "",
            "description_tooltip": null,
            "layout": "IPY_MODEL_d8700d08a0ce468fbe52579dcdbfa726",
            "placeholder": "​",
            "style": "IPY_MODEL_c64b49a44360449eb87114467977a376",
            "value": "Making Predictions: 100%"
          }
        },
        "212b6a445dfc4251a6509f65dce42b35": {
          "model_module": "@jupyter-widgets/controls",
          "model_name": "FloatProgressModel",
          "model_module_version": "1.5.0",
          "state": {
            "_dom_classes": [],
            "_model_module": "@jupyter-widgets/controls",
            "_model_module_version": "1.5.0",
            "_model_name": "FloatProgressModel",
            "_view_count": null,
            "_view_module": "@jupyter-widgets/controls",
            "_view_module_version": "1.5.0",
            "_view_name": "ProgressView",
            "bar_style": "success",
            "description": "",
            "description_tooltip": null,
            "layout": "IPY_MODEL_86e94d4950324a5fb1b436ea964ce041",
            "max": 313,
            "min": 0,
            "orientation": "horizontal",
            "style": "IPY_MODEL_ca68a335a4694ea0ba19fb99c36b49e4",
            "value": 313
          }
        },
        "2c26e412ae104e719354f993bfdbb348": {
          "model_module": "@jupyter-widgets/controls",
          "model_name": "HTMLModel",
          "model_module_version": "1.5.0",
          "state": {
            "_dom_classes": [],
            "_model_module": "@jupyter-widgets/controls",
            "_model_module_version": "1.5.0",
            "_model_name": "HTMLModel",
            "_view_count": null,
            "_view_module": "@jupyter-widgets/controls",
            "_view_module_version": "1.5.0",
            "_view_name": "HTMLView",
            "description": "",
            "description_tooltip": null,
            "layout": "IPY_MODEL_1cc7a887693f4697b47eae1950c6b459",
            "placeholder": "​",
            "style": "IPY_MODEL_085977a64d6248479dec592a1ff3f9f8",
            "value": " 313/313 [00:01&lt;00:00, 159.53it/s]"
          }
        },
        "186bec43352b4f62a8bf1c27da5759b6": {
          "model_module": "@jupyter-widgets/base",
          "model_name": "LayoutModel",
          "model_module_version": "1.2.0",
          "state": {
            "_model_module": "@jupyter-widgets/base",
            "_model_module_version": "1.2.0",
            "_model_name": "LayoutModel",
            "_view_count": null,
            "_view_module": "@jupyter-widgets/base",
            "_view_module_version": "1.2.0",
            "_view_name": "LayoutView",
            "align_content": null,
            "align_items": null,
            "align_self": null,
            "border": null,
            "bottom": null,
            "display": null,
            "flex": null,
            "flex_flow": null,
            "grid_area": null,
            "grid_auto_columns": null,
            "grid_auto_flow": null,
            "grid_auto_rows": null,
            "grid_column": null,
            "grid_gap": null,
            "grid_row": null,
            "grid_template_areas": null,
            "grid_template_columns": null,
            "grid_template_rows": null,
            "height": null,
            "justify_content": null,
            "justify_items": null,
            "left": null,
            "margin": null,
            "max_height": null,
            "max_width": null,
            "min_height": null,
            "min_width": null,
            "object_fit": null,
            "object_position": null,
            "order": null,
            "overflow": null,
            "overflow_x": null,
            "overflow_y": null,
            "padding": null,
            "right": null,
            "top": null,
            "visibility": null,
            "width": null
          }
        },
        "d8700d08a0ce468fbe52579dcdbfa726": {
          "model_module": "@jupyter-widgets/base",
          "model_name": "LayoutModel",
          "model_module_version": "1.2.0",
          "state": {
            "_model_module": "@jupyter-widgets/base",
            "_model_module_version": "1.2.0",
            "_model_name": "LayoutModel",
            "_view_count": null,
            "_view_module": "@jupyter-widgets/base",
            "_view_module_version": "1.2.0",
            "_view_name": "LayoutView",
            "align_content": null,
            "align_items": null,
            "align_self": null,
            "border": null,
            "bottom": null,
            "display": null,
            "flex": null,
            "flex_flow": null,
            "grid_area": null,
            "grid_auto_columns": null,
            "grid_auto_flow": null,
            "grid_auto_rows": null,
            "grid_column": null,
            "grid_gap": null,
            "grid_row": null,
            "grid_template_areas": null,
            "grid_template_columns": null,
            "grid_template_rows": null,
            "height": null,
            "justify_content": null,
            "justify_items": null,
            "left": null,
            "margin": null,
            "max_height": null,
            "max_width": null,
            "min_height": null,
            "min_width": null,
            "object_fit": null,
            "object_position": null,
            "order": null,
            "overflow": null,
            "overflow_x": null,
            "overflow_y": null,
            "padding": null,
            "right": null,
            "top": null,
            "visibility": null,
            "width": null
          }
        },
        "c64b49a44360449eb87114467977a376": {
          "model_module": "@jupyter-widgets/controls",
          "model_name": "DescriptionStyleModel",
          "model_module_version": "1.5.0",
          "state": {
            "_model_module": "@jupyter-widgets/controls",
            "_model_module_version": "1.5.0",
            "_model_name": "DescriptionStyleModel",
            "_view_count": null,
            "_view_module": "@jupyter-widgets/base",
            "_view_module_version": "1.2.0",
            "_view_name": "StyleView",
            "description_width": ""
          }
        },
        "86e94d4950324a5fb1b436ea964ce041": {
          "model_module": "@jupyter-widgets/base",
          "model_name": "LayoutModel",
          "model_module_version": "1.2.0",
          "state": {
            "_model_module": "@jupyter-widgets/base",
            "_model_module_version": "1.2.0",
            "_model_name": "LayoutModel",
            "_view_count": null,
            "_view_module": "@jupyter-widgets/base",
            "_view_module_version": "1.2.0",
            "_view_name": "LayoutView",
            "align_content": null,
            "align_items": null,
            "align_self": null,
            "border": null,
            "bottom": null,
            "display": null,
            "flex": null,
            "flex_flow": null,
            "grid_area": null,
            "grid_auto_columns": null,
            "grid_auto_flow": null,
            "grid_auto_rows": null,
            "grid_column": null,
            "grid_gap": null,
            "grid_row": null,
            "grid_template_areas": null,
            "grid_template_columns": null,
            "grid_template_rows": null,
            "height": null,
            "justify_content": null,
            "justify_items": null,
            "left": null,
            "margin": null,
            "max_height": null,
            "max_width": null,
            "min_height": null,
            "min_width": null,
            "object_fit": null,
            "object_position": null,
            "order": null,
            "overflow": null,
            "overflow_x": null,
            "overflow_y": null,
            "padding": null,
            "right": null,
            "top": null,
            "visibility": null,
            "width": null
          }
        },
        "ca68a335a4694ea0ba19fb99c36b49e4": {
          "model_module": "@jupyter-widgets/controls",
          "model_name": "ProgressStyleModel",
          "model_module_version": "1.5.0",
          "state": {
            "_model_module": "@jupyter-widgets/controls",
            "_model_module_version": "1.5.0",
            "_model_name": "ProgressStyleModel",
            "_view_count": null,
            "_view_module": "@jupyter-widgets/base",
            "_view_module_version": "1.2.0",
            "_view_name": "StyleView",
            "bar_color": null,
            "description_width": ""
          }
        },
        "1cc7a887693f4697b47eae1950c6b459": {
          "model_module": "@jupyter-widgets/base",
          "model_name": "LayoutModel",
          "model_module_version": "1.2.0",
          "state": {
            "_model_module": "@jupyter-widgets/base",
            "_model_module_version": "1.2.0",
            "_model_name": "LayoutModel",
            "_view_count": null,
            "_view_module": "@jupyter-widgets/base",
            "_view_module_version": "1.2.0",
            "_view_name": "LayoutView",
            "align_content": null,
            "align_items": null,
            "align_self": null,
            "border": null,
            "bottom": null,
            "display": null,
            "flex": null,
            "flex_flow": null,
            "grid_area": null,
            "grid_auto_columns": null,
            "grid_auto_flow": null,
            "grid_auto_rows": null,
            "grid_column": null,
            "grid_gap": null,
            "grid_row": null,
            "grid_template_areas": null,
            "grid_template_columns": null,
            "grid_template_rows": null,
            "height": null,
            "justify_content": null,
            "justify_items": null,
            "left": null,
            "margin": null,
            "max_height": null,
            "max_width": null,
            "min_height": null,
            "min_width": null,
            "object_fit": null,
            "object_position": null,
            "order": null,
            "overflow": null,
            "overflow_x": null,
            "overflow_y": null,
            "padding": null,
            "right": null,
            "top": null,
            "visibility": null,
            "width": null
          }
        },
        "085977a64d6248479dec592a1ff3f9f8": {
          "model_module": "@jupyter-widgets/controls",
          "model_name": "DescriptionStyleModel",
          "model_module_version": "1.5.0",
          "state": {
            "_model_module": "@jupyter-widgets/controls",
            "_model_module_version": "1.5.0",
            "_model_name": "DescriptionStyleModel",
            "_view_count": null,
            "_view_module": "@jupyter-widgets/base",
            "_view_module_version": "1.2.0",
            "_view_name": "StyleView",
            "description_width": ""
          }
        }
      }
    },
    "accelerator": "GPU"
  },
  "cells": [
    {
      "cell_type": "markdown",
      "source": [
        "# Intro"
      ],
      "metadata": {
        "id": "gMPqHeI6KW28"
      }
    },
    {
      "cell_type": "markdown",
      "source": [
        " - We can define computer vision as the art of teaching a computer to see.\n",
        " - Types of Computer Vision tasks:\n",
        "  - Binary Classification\n",
        "  - Multi-class Classification\n",
        "  - Object Detection\n",
        "  - Panoptic segmentation"
      ],
      "metadata": {
        "id": "bvtGZMCEMpVq"
      }
    },
    {
      "cell_type": "markdown",
      "source": [
        "# CV Libraries in PyTorch"
      ],
      "metadata": {
        "id": "XAI_-BwlJWFX"
      }
    },
    {
      "cell_type": "markdown",
      "source": [
        "- ***torchvision*** contains:\n",
        "  - Datasets\n",
        "  - Model architectures\n",
        "  - Image transformations\n",
        "- ***torchvision.datasets*** contains:\n",
        "  - CV datasets\n",
        "  - series of base classes for making custom datasets\n",
        "- ***torchvision.models*** contains:\n",
        "  - CV model architectures\n",
        "- ***torchvision.transforms*** contains:\n",
        "  - common image transformations (turning images into numbers, or processing or augmenting images)\n",
        "---\n",
        "- ***torch.utils.data.Dataset***: base dataset class for PyTorch\n",
        "- ***torch.utils.data.Dataloader***: creates a Python iterable over a dataset\n",
        "\n",
        "These last two classes aren't only for CV tasks, but they can deal with many different data types."
      ],
      "metadata": {
        "id": "0DYLs3IyJbmL"
      }
    },
    {
      "cell_type": "code",
      "execution_count": 1,
      "metadata": {
        "colab": {
          "base_uri": "https://localhost:8080/"
        },
        "id": "adJBl6dJKTHG",
        "outputId": "f16aff6f-0d4b-4a8c-a24b-700c684e3730"
      },
      "outputs": [
        {
          "output_type": "stream",
          "name": "stdout",
          "text": [
            "torch version: 2.5.1+cu121\n",
            "torchvision version: 0.20.1+cu121\n"
          ]
        }
      ],
      "source": [
        "# import dependencies\n",
        "\n",
        "import torch\n",
        "from torch import nn\n",
        "import torchvision\n",
        "from torchvision import datasets\n",
        "from torchvision.transforms import ToTensor\n",
        "import matplotlib.pyplot as plt\n",
        "\n",
        "print(f\"torch version: {torch.__version__}\\ntorchvision version: {torchvision.__version__}\")"
      ]
    },
    {
      "cell_type": "markdown",
      "source": [
        "# Getting a dataset"
      ],
      "metadata": {
        "id": "dWU9Kf1Neowm"
      }
    },
    {
      "cell_type": "markdown",
      "source": [
        "- CV dataset: FashionMNIST contains grayscale images of 10 different kinds of clothing.\n",
        "- MNIST: Modified National Institute of Standards and Technology\n",
        "- Multiclass problem\n",
        "- Our task is to identify the type of clothing in an image.\n"
      ],
      "metadata": {
        "id": "5DUdib25eq84"
      }
    },
    {
      "cell_type": "code",
      "source": [
        "# Training data\n",
        "train_data = datasets.FashionMNIST(\n",
        "    root = \"data\", # root directory\n",
        "    download= True, # download data to the root directory\n",
        "    train= True, # get the training set\n",
        "    transform= ToTensor(), # transform a PIL image to tensor\n",
        "    target_transform= None # if you want to transform the labels too\n",
        ")\n",
        "\n",
        "test_data = datasets.FashionMNIST(\n",
        "    root=\"data\",\n",
        "    download=True,\n",
        "    train= False,\n",
        "    transform= ToTensor()\n",
        ")"
      ],
      "metadata": {
        "id": "08xqQcGwuCug",
        "colab": {
          "base_uri": "https://localhost:8080/"
        },
        "outputId": "9411860a-3dea-425c-8ad3-5502b4e08779"
      },
      "execution_count": 2,
      "outputs": [
        {
          "output_type": "stream",
          "name": "stdout",
          "text": [
            "Downloading http://fashion-mnist.s3-website.eu-central-1.amazonaws.com/train-images-idx3-ubyte.gz\n",
            "Downloading http://fashion-mnist.s3-website.eu-central-1.amazonaws.com/train-images-idx3-ubyte.gz to data/FashionMNIST/raw/train-images-idx3-ubyte.gz\n"
          ]
        },
        {
          "output_type": "stream",
          "name": "stderr",
          "text": [
            "100%|██████████| 26.4M/26.4M [00:02<00:00, 12.3MB/s]\n"
          ]
        },
        {
          "output_type": "stream",
          "name": "stdout",
          "text": [
            "Extracting data/FashionMNIST/raw/train-images-idx3-ubyte.gz to data/FashionMNIST/raw\n",
            "\n",
            "Downloading http://fashion-mnist.s3-website.eu-central-1.amazonaws.com/train-labels-idx1-ubyte.gz\n",
            "Downloading http://fashion-mnist.s3-website.eu-central-1.amazonaws.com/train-labels-idx1-ubyte.gz to data/FashionMNIST/raw/train-labels-idx1-ubyte.gz\n"
          ]
        },
        {
          "output_type": "stream",
          "name": "stderr",
          "text": [
            "100%|██████████| 29.5k/29.5k [00:00<00:00, 212kB/s]\n"
          ]
        },
        {
          "output_type": "stream",
          "name": "stdout",
          "text": [
            "Extracting data/FashionMNIST/raw/train-labels-idx1-ubyte.gz to data/FashionMNIST/raw\n",
            "\n",
            "Downloading http://fashion-mnist.s3-website.eu-central-1.amazonaws.com/t10k-images-idx3-ubyte.gz\n",
            "Downloading http://fashion-mnist.s3-website.eu-central-1.amazonaws.com/t10k-images-idx3-ubyte.gz to data/FashionMNIST/raw/t10k-images-idx3-ubyte.gz\n"
          ]
        },
        {
          "output_type": "stream",
          "name": "stderr",
          "text": [
            "100%|██████████| 4.42M/4.42M [00:01<00:00, 3.90MB/s]\n"
          ]
        },
        {
          "output_type": "stream",
          "name": "stdout",
          "text": [
            "Extracting data/FashionMNIST/raw/t10k-images-idx3-ubyte.gz to data/FashionMNIST/raw\n",
            "\n",
            "Downloading http://fashion-mnist.s3-website.eu-central-1.amazonaws.com/t10k-labels-idx1-ubyte.gz\n",
            "Downloading http://fashion-mnist.s3-website.eu-central-1.amazonaws.com/t10k-labels-idx1-ubyte.gz to data/FashionMNIST/raw/t10k-labels-idx1-ubyte.gz\n"
          ]
        },
        {
          "output_type": "stream",
          "name": "stderr",
          "text": [
            "100%|██████████| 5.15k/5.15k [00:00<00:00, 21.3MB/s]"
          ]
        },
        {
          "output_type": "stream",
          "name": "stdout",
          "text": [
            "Extracting data/FashionMNIST/raw/t10k-labels-idx1-ubyte.gz to data/FashionMNIST/raw\n",
            "\n"
          ]
        },
        {
          "output_type": "stream",
          "name": "stderr",
          "text": [
            "\n"
          ]
        }
      ]
    },
    {
      "cell_type": "code",
      "source": [
        "image, label = train_data[0]\n",
        "image, label"
      ],
      "metadata": {
        "colab": {
          "base_uri": "https://localhost:8080/"
        },
        "id": "2pLqYKfsTaNn",
        "outputId": "c1812b29-dba1-4009-d12d-e5ec7899d1bb"
      },
      "execution_count": 3,
      "outputs": [
        {
          "output_type": "execute_result",
          "data": {
            "text/plain": [
              "(tensor([[[0.0000, 0.0000, 0.0000, 0.0000, 0.0000, 0.0000, 0.0000, 0.0000,\n",
              "           0.0000, 0.0000, 0.0000, 0.0000, 0.0000, 0.0000, 0.0000, 0.0000,\n",
              "           0.0000, 0.0000, 0.0000, 0.0000, 0.0000, 0.0000, 0.0000, 0.0000,\n",
              "           0.0000, 0.0000, 0.0000, 0.0000],\n",
              "          [0.0000, 0.0000, 0.0000, 0.0000, 0.0000, 0.0000, 0.0000, 0.0000,\n",
              "           0.0000, 0.0000, 0.0000, 0.0000, 0.0000, 0.0000, 0.0000, 0.0000,\n",
              "           0.0000, 0.0000, 0.0000, 0.0000, 0.0000, 0.0000, 0.0000, 0.0000,\n",
              "           0.0000, 0.0000, 0.0000, 0.0000],\n",
              "          [0.0000, 0.0000, 0.0000, 0.0000, 0.0000, 0.0000, 0.0000, 0.0000,\n",
              "           0.0000, 0.0000, 0.0000, 0.0000, 0.0000, 0.0000, 0.0000, 0.0000,\n",
              "           0.0000, 0.0000, 0.0000, 0.0000, 0.0000, 0.0000, 0.0000, 0.0000,\n",
              "           0.0000, 0.0000, 0.0000, 0.0000],\n",
              "          [0.0000, 0.0000, 0.0000, 0.0000, 0.0000, 0.0000, 0.0000, 0.0000,\n",
              "           0.0000, 0.0000, 0.0000, 0.0000, 0.0039, 0.0000, 0.0000, 0.0510,\n",
              "           0.2863, 0.0000, 0.0000, 0.0039, 0.0157, 0.0000, 0.0000, 0.0000,\n",
              "           0.0000, 0.0039, 0.0039, 0.0000],\n",
              "          [0.0000, 0.0000, 0.0000, 0.0000, 0.0000, 0.0000, 0.0000, 0.0000,\n",
              "           0.0000, 0.0000, 0.0000, 0.0000, 0.0118, 0.0000, 0.1412, 0.5333,\n",
              "           0.4980, 0.2431, 0.2118, 0.0000, 0.0000, 0.0000, 0.0039, 0.0118,\n",
              "           0.0157, 0.0000, 0.0000, 0.0118],\n",
              "          [0.0000, 0.0000, 0.0000, 0.0000, 0.0000, 0.0000, 0.0000, 0.0000,\n",
              "           0.0000, 0.0000, 0.0000, 0.0000, 0.0235, 0.0000, 0.4000, 0.8000,\n",
              "           0.6902, 0.5255, 0.5647, 0.4824, 0.0902, 0.0000, 0.0000, 0.0000,\n",
              "           0.0000, 0.0471, 0.0392, 0.0000],\n",
              "          [0.0000, 0.0000, 0.0000, 0.0000, 0.0000, 0.0000, 0.0000, 0.0000,\n",
              "           0.0000, 0.0000, 0.0000, 0.0000, 0.0000, 0.0000, 0.6078, 0.9255,\n",
              "           0.8118, 0.6980, 0.4196, 0.6118, 0.6314, 0.4275, 0.2510, 0.0902,\n",
              "           0.3020, 0.5098, 0.2824, 0.0588],\n",
              "          [0.0000, 0.0000, 0.0000, 0.0000, 0.0000, 0.0000, 0.0000, 0.0000,\n",
              "           0.0000, 0.0000, 0.0000, 0.0039, 0.0000, 0.2706, 0.8118, 0.8745,\n",
              "           0.8549, 0.8471, 0.8471, 0.6392, 0.4980, 0.4745, 0.4784, 0.5725,\n",
              "           0.5529, 0.3451, 0.6745, 0.2588],\n",
              "          [0.0000, 0.0000, 0.0000, 0.0000, 0.0000, 0.0000, 0.0000, 0.0000,\n",
              "           0.0000, 0.0039, 0.0039, 0.0039, 0.0000, 0.7843, 0.9098, 0.9098,\n",
              "           0.9137, 0.8980, 0.8745, 0.8745, 0.8431, 0.8353, 0.6431, 0.4980,\n",
              "           0.4824, 0.7686, 0.8980, 0.0000],\n",
              "          [0.0000, 0.0000, 0.0000, 0.0000, 0.0000, 0.0000, 0.0000, 0.0000,\n",
              "           0.0000, 0.0000, 0.0000, 0.0000, 0.0000, 0.7176, 0.8824, 0.8471,\n",
              "           0.8745, 0.8941, 0.9216, 0.8902, 0.8784, 0.8706, 0.8784, 0.8667,\n",
              "           0.8745, 0.9608, 0.6784, 0.0000],\n",
              "          [0.0000, 0.0000, 0.0000, 0.0000, 0.0000, 0.0000, 0.0000, 0.0000,\n",
              "           0.0000, 0.0000, 0.0000, 0.0000, 0.0000, 0.7569, 0.8941, 0.8549,\n",
              "           0.8353, 0.7765, 0.7059, 0.8314, 0.8235, 0.8275, 0.8353, 0.8745,\n",
              "           0.8627, 0.9529, 0.7922, 0.0000],\n",
              "          [0.0000, 0.0000, 0.0000, 0.0000, 0.0000, 0.0000, 0.0000, 0.0000,\n",
              "           0.0000, 0.0039, 0.0118, 0.0000, 0.0471, 0.8588, 0.8627, 0.8314,\n",
              "           0.8549, 0.7529, 0.6627, 0.8902, 0.8157, 0.8549, 0.8784, 0.8314,\n",
              "           0.8863, 0.7725, 0.8196, 0.2039],\n",
              "          [0.0000, 0.0000, 0.0000, 0.0000, 0.0000, 0.0000, 0.0000, 0.0000,\n",
              "           0.0000, 0.0000, 0.0235, 0.0000, 0.3882, 0.9569, 0.8706, 0.8627,\n",
              "           0.8549, 0.7961, 0.7765, 0.8667, 0.8431, 0.8353, 0.8706, 0.8627,\n",
              "           0.9608, 0.4667, 0.6549, 0.2196],\n",
              "          [0.0000, 0.0000, 0.0000, 0.0000, 0.0000, 0.0000, 0.0000, 0.0000,\n",
              "           0.0000, 0.0157, 0.0000, 0.0000, 0.2157, 0.9255, 0.8941, 0.9020,\n",
              "           0.8941, 0.9412, 0.9098, 0.8353, 0.8549, 0.8745, 0.9176, 0.8510,\n",
              "           0.8510, 0.8196, 0.3608, 0.0000],\n",
              "          [0.0000, 0.0000, 0.0039, 0.0157, 0.0235, 0.0275, 0.0078, 0.0000,\n",
              "           0.0000, 0.0000, 0.0000, 0.0000, 0.9294, 0.8863, 0.8510, 0.8745,\n",
              "           0.8706, 0.8588, 0.8706, 0.8667, 0.8471, 0.8745, 0.8980, 0.8431,\n",
              "           0.8549, 1.0000, 0.3020, 0.0000],\n",
              "          [0.0000, 0.0118, 0.0000, 0.0000, 0.0000, 0.0000, 0.0000, 0.0000,\n",
              "           0.0000, 0.2431, 0.5686, 0.8000, 0.8941, 0.8118, 0.8353, 0.8667,\n",
              "           0.8549, 0.8157, 0.8275, 0.8549, 0.8784, 0.8745, 0.8588, 0.8431,\n",
              "           0.8784, 0.9569, 0.6235, 0.0000],\n",
              "          [0.0000, 0.0000, 0.0000, 0.0000, 0.0706, 0.1725, 0.3216, 0.4196,\n",
              "           0.7412, 0.8941, 0.8627, 0.8706, 0.8510, 0.8863, 0.7843, 0.8039,\n",
              "           0.8275, 0.9020, 0.8784, 0.9176, 0.6902, 0.7373, 0.9804, 0.9725,\n",
              "           0.9137, 0.9333, 0.8431, 0.0000],\n",
              "          [0.0000, 0.2235, 0.7333, 0.8157, 0.8784, 0.8667, 0.8784, 0.8157,\n",
              "           0.8000, 0.8392, 0.8157, 0.8196, 0.7843, 0.6235, 0.9608, 0.7569,\n",
              "           0.8078, 0.8745, 1.0000, 1.0000, 0.8667, 0.9176, 0.8667, 0.8275,\n",
              "           0.8627, 0.9098, 0.9647, 0.0000],\n",
              "          [0.0118, 0.7922, 0.8941, 0.8784, 0.8667, 0.8275, 0.8275, 0.8392,\n",
              "           0.8039, 0.8039, 0.8039, 0.8627, 0.9412, 0.3137, 0.5882, 1.0000,\n",
              "           0.8980, 0.8667, 0.7373, 0.6039, 0.7490, 0.8235, 0.8000, 0.8196,\n",
              "           0.8706, 0.8941, 0.8824, 0.0000],\n",
              "          [0.3843, 0.9137, 0.7765, 0.8235, 0.8706, 0.8980, 0.8980, 0.9176,\n",
              "           0.9765, 0.8627, 0.7608, 0.8431, 0.8510, 0.9451, 0.2549, 0.2863,\n",
              "           0.4157, 0.4588, 0.6588, 0.8588, 0.8667, 0.8431, 0.8510, 0.8745,\n",
              "           0.8745, 0.8784, 0.8980, 0.1137],\n",
              "          [0.2941, 0.8000, 0.8314, 0.8000, 0.7569, 0.8039, 0.8275, 0.8824,\n",
              "           0.8471, 0.7255, 0.7725, 0.8078, 0.7765, 0.8353, 0.9412, 0.7647,\n",
              "           0.8902, 0.9608, 0.9373, 0.8745, 0.8549, 0.8314, 0.8196, 0.8706,\n",
              "           0.8627, 0.8667, 0.9020, 0.2627],\n",
              "          [0.1882, 0.7961, 0.7176, 0.7608, 0.8353, 0.7725, 0.7255, 0.7451,\n",
              "           0.7608, 0.7529, 0.7922, 0.8392, 0.8588, 0.8667, 0.8627, 0.9255,\n",
              "           0.8824, 0.8471, 0.7804, 0.8078, 0.7294, 0.7098, 0.6941, 0.6745,\n",
              "           0.7098, 0.8039, 0.8078, 0.4510],\n",
              "          [0.0000, 0.4784, 0.8588, 0.7569, 0.7020, 0.6706, 0.7176, 0.7686,\n",
              "           0.8000, 0.8235, 0.8353, 0.8118, 0.8275, 0.8235, 0.7843, 0.7686,\n",
              "           0.7608, 0.7490, 0.7647, 0.7490, 0.7765, 0.7529, 0.6902, 0.6118,\n",
              "           0.6549, 0.6941, 0.8235, 0.3608],\n",
              "          [0.0000, 0.0000, 0.2902, 0.7412, 0.8314, 0.7490, 0.6863, 0.6745,\n",
              "           0.6863, 0.7098, 0.7255, 0.7373, 0.7412, 0.7373, 0.7569, 0.7765,\n",
              "           0.8000, 0.8196, 0.8235, 0.8235, 0.8275, 0.7373, 0.7373, 0.7608,\n",
              "           0.7529, 0.8471, 0.6667, 0.0000],\n",
              "          [0.0078, 0.0000, 0.0000, 0.0000, 0.2588, 0.7843, 0.8706, 0.9294,\n",
              "           0.9373, 0.9490, 0.9647, 0.9529, 0.9569, 0.8667, 0.8627, 0.7569,\n",
              "           0.7490, 0.7020, 0.7137, 0.7137, 0.7098, 0.6902, 0.6510, 0.6588,\n",
              "           0.3882, 0.2275, 0.0000, 0.0000],\n",
              "          [0.0000, 0.0000, 0.0000, 0.0000, 0.0000, 0.0000, 0.0000, 0.1569,\n",
              "           0.2392, 0.1725, 0.2824, 0.1608, 0.1373, 0.0000, 0.0000, 0.0000,\n",
              "           0.0000, 0.0000, 0.0000, 0.0000, 0.0000, 0.0000, 0.0000, 0.0000,\n",
              "           0.0000, 0.0000, 0.0000, 0.0000],\n",
              "          [0.0000, 0.0000, 0.0000, 0.0000, 0.0000, 0.0000, 0.0000, 0.0000,\n",
              "           0.0000, 0.0000, 0.0000, 0.0000, 0.0000, 0.0000, 0.0000, 0.0000,\n",
              "           0.0000, 0.0000, 0.0000, 0.0000, 0.0000, 0.0000, 0.0000, 0.0000,\n",
              "           0.0000, 0.0000, 0.0000, 0.0000],\n",
              "          [0.0000, 0.0000, 0.0000, 0.0000, 0.0000, 0.0000, 0.0000, 0.0000,\n",
              "           0.0000, 0.0000, 0.0000, 0.0000, 0.0000, 0.0000, 0.0000, 0.0000,\n",
              "           0.0000, 0.0000, 0.0000, 0.0000, 0.0000, 0.0000, 0.0000, 0.0000,\n",
              "           0.0000, 0.0000, 0.0000, 0.0000]]]),\n",
              " 9)"
            ]
          },
          "metadata": {},
          "execution_count": 3
        }
      ]
    },
    {
      "cell_type": "markdown",
      "source": [
        "### Shapes of input and output"
      ],
      "metadata": {
        "id": "lPV_ZuA_k-L5"
      }
    },
    {
      "cell_type": "markdown",
      "source": [
        "- We have a tensor leading to one lablel.\n"
      ],
      "metadata": {
        "id": "CtN7hy9-lKKh"
      }
    },
    {
      "cell_type": "code",
      "source": [
        "image.shape"
      ],
      "metadata": {
        "colab": {
          "base_uri": "https://localhost:8080/"
        },
        "id": "hgYmAMVhTjqa",
        "outputId": "3bc763e8-3579-40fb-90db-e4f373e4a7a1"
      },
      "execution_count": 4,
      "outputs": [
        {
          "output_type": "execute_result",
          "data": {
            "text/plain": [
              "torch.Size([1, 28, 28])"
            ]
          },
          "metadata": {},
          "execution_count": 4
        }
      ]
    },
    {
      "cell_type": "markdown",
      "source": [
        "- This corresponds to: [color_channels=1, height=28, width=28]; referred to as CHW\n",
        "- Sometimes images are represented as HWC instead.\n",
        "- N stands for number of images in NCHW or NHWC.\n",
        "- NCHW is the default that PyTorch generally expects.\n",
        "- However, PyTorch states that NHWC is the best practice for better performance when data is large."
      ],
      "metadata": {
        "id": "HSaBRncMlbHl"
      }
    },
    {
      "cell_type": "code",
      "source": [
        "train_data, test_data"
      ],
      "metadata": {
        "colab": {
          "base_uri": "https://localhost:8080/"
        },
        "id": "bpm3VK_4lmaT",
        "outputId": "67b6b6fb-d056-446f-a782-413795cb00ca"
      },
      "execution_count": 5,
      "outputs": [
        {
          "output_type": "execute_result",
          "data": {
            "text/plain": [
              "(Dataset FashionMNIST\n",
              "     Number of datapoints: 60000\n",
              "     Root location: data\n",
              "     Split: Train\n",
              "     StandardTransform\n",
              " Transform: ToTensor(),\n",
              " Dataset FashionMNIST\n",
              "     Number of datapoints: 10000\n",
              "     Root location: data\n",
              "     Split: Test\n",
              "     StandardTransform\n",
              " Transform: ToTensor())"
            ]
          },
          "metadata": {},
          "execution_count": 5
        }
      ]
    },
    {
      "cell_type": "code",
      "source": [
        "len(train_data.data), len(train_data.targets)"
      ],
      "metadata": {
        "colab": {
          "base_uri": "https://localhost:8080/"
        },
        "id": "jlsVVwKM0fId",
        "outputId": "cf5f4e19-1c3b-4e51-de7e-058bdd9c42ea"
      },
      "execution_count": 6,
      "outputs": [
        {
          "output_type": "execute_result",
          "data": {
            "text/plain": [
              "(60000, 60000)"
            ]
          },
          "metadata": {},
          "execution_count": 6
        }
      ]
    },
    {
      "cell_type": "code",
      "source": [
        "len(test_data.data), len(test_data.targets)"
      ],
      "metadata": {
        "colab": {
          "base_uri": "https://localhost:8080/"
        },
        "id": "6rr0fFvm0fnx",
        "outputId": "d3824c9c-0e5c-45dd-bcf9-4f8aca8aebe4"
      },
      "execution_count": 7,
      "outputs": [
        {
          "output_type": "execute_result",
          "data": {
            "text/plain": [
              "(10000, 10000)"
            ]
          },
          "metadata": {},
          "execution_count": 7
        }
      ]
    },
    {
      "cell_type": "code",
      "source": [
        "train_data.classes"
      ],
      "metadata": {
        "colab": {
          "base_uri": "https://localhost:8080/"
        },
        "id": "WDyb2PtmZQ3d",
        "outputId": "28ea03dd-0318-41e8-cfa4-5aa206c342a4"
      },
      "execution_count": 8,
      "outputs": [
        {
          "output_type": "execute_result",
          "data": {
            "text/plain": [
              "['T-shirt/top',\n",
              " 'Trouser',\n",
              " 'Pullover',\n",
              " 'Dress',\n",
              " 'Coat',\n",
              " 'Sandal',\n",
              " 'Shirt',\n",
              " 'Sneaker',\n",
              " 'Bag',\n",
              " 'Ankle boot']"
            ]
          },
          "metadata": {},
          "execution_count": 8
        }
      ]
    },
    {
      "cell_type": "markdown",
      "source": [
        "### Data Visualization"
      ],
      "metadata": {
        "id": "xCGTqApR5DHC"
      }
    },
    {
      "cell_type": "code",
      "source": [
        "import matplotlib.pyplot as plt"
      ],
      "metadata": {
        "id": "eyBvLfz_5lGp"
      },
      "execution_count": 9,
      "outputs": []
    },
    {
      "cell_type": "code",
      "source": [
        "image, label = train_data[1]\n",
        "print(f\"Image shape: {image.shape}\")\n",
        "plt.imshow(image.squeeze())\n",
        "plt.title(label)"
      ],
      "metadata": {
        "colab": {
          "base_uri": "https://localhost:8080/",
          "height": 489
        },
        "id": "IAj01toF5L5_",
        "outputId": "01292e88-db3b-49f0-eddf-015bfd9efbaa"
      },
      "execution_count": 10,
      "outputs": [
        {
          "output_type": "stream",
          "name": "stdout",
          "text": [
            "Image shape: torch.Size([1, 28, 28])\n"
          ]
        },
        {
          "output_type": "execute_result",
          "data": {
            "text/plain": [
              "Text(0.5, 1.0, '0')"
            ]
          },
          "metadata": {},
          "execution_count": 10
        },
        {
          "output_type": "display_data",
          "data": {
            "text/plain": [
              "<Figure size 640x480 with 1 Axes>"
            ],
            "image/png": "[encoded data removed]"
          },
          "metadata": {}
        }
      ]
    },
    {
      "cell_type": "code",
      "source": [
        "# using the grayscale\n",
        "\n",
        "plt.imshow(image.squeeze(), cmap=\"gray\")\n",
        "plt.title(train_data.classes[label])"
      ],
      "metadata": {
        "colab": {
          "base_uri": "https://localhost:8080/",
          "height": 470
        },
        "id": "kpGHmhYO6osD",
        "outputId": "d8e3d378-eb57-4172-a46a-d84281b6c911"
      },
      "execution_count": 11,
      "outputs": [
        {
          "output_type": "execute_result",
          "data": {
            "text/plain": [
              "Text(0.5, 1.0, 'T-shirt/top')"
            ]
          },
          "metadata": {},
          "execution_count": 11
        },
        {
          "output_type": "display_data",
          "data": {
            "text/plain": [
              "<Figure size 640x480 with 1 Axes>"
            ],
            "image/png": "[encoded data removed]"
          },
          "metadata": {}
        }
      ]
    },
    {
      "cell_type": "code",
      "source": [
        "# plotting more images\n",
        "\n",
        "torch.manual_seed(42)\n",
        "\n",
        "fig = plt.figure(figsize=(9,9))\n",
        "rows, cols = 4, 4\n",
        "\n",
        "for i in range(1, rows*cols+1):\n",
        "    random_idx = torch.randint(0, len(train_data), size=[1]).item()\n",
        "    img, label = train_data[random_idx]\n",
        "    fig.add_subplot(rows, cols, i)\n",
        "    plt.imshow(img.squeeze(), cmap=\"gray\")\n",
        "    plt.title(train_data.classes[label])\n",
        "    plt.axis(False);"
      ],
      "metadata": {
        "colab": {
          "base_uri": "https://localhost:8080/",
          "height": 663
        },
        "id": "ijFChqeSamEn",
        "outputId": "90f66abb-55f3-4560-a866-0797a1ccaa89"
      },
      "execution_count": 12,
      "outputs": [
        {
          "output_type": "display_data",
          "data": {
            "text/plain": [
              "<Figure size 900x900 with 16 Axes>"
            ],
            "image/png": "[encoded data removed]"
          },
          "metadata": {}
        }
      ]
    },
    {
      "cell_type": "markdown",
      "source": [
        "- Find patterns based on the pixels values.\n",
        "- 60,000 is considered a small dataset in deep learning.\n",
        "- Goal: classify each image."
      ],
      "metadata": {
        "id": "6zwxRYigsGsz"
      }
    },
    {
      "cell_type": "markdown",
      "source": [
        "# Create DataLoader"
      ],
      "metadata": {
        "id": "iCNiYNnO2Jtp"
      }
    },
    {
      "cell_type": "markdown",
      "source": [
        "- DataLoader helps load data into a model for training and inference.\n",
        "- Large dataset are turned into smaller chunks called mini-batches.\n",
        "- This is computationally more efficient while dealing with large datasets.\n",
        "- *batch_size* Hyperparameter: You can use it to adjust the mini-batches size. 32 is a good start and powers of 2 are used often."
      ],
      "metadata": {
        "id": "A1EjGR1a2OFq"
      }
    },
    {
      "cell_type": "code",
      "source": [
        "from torch.utils.data import DataLoader"
      ],
      "metadata": {
        "id": "nhOAOicSr94L"
      },
      "execution_count": 13,
      "outputs": []
    },
    {
      "cell_type": "code",
      "source": [
        "BATCH_SIZE = 32\n",
        "\n",
        "train_dataloader = DataLoader(\n",
        "    dataset=train_data,\n",
        "    batch_size=BATCH_SIZE,\n",
        "    shuffle=True\n",
        ")\n",
        "\n",
        "test_dataloader = DataLoader(\n",
        "    dataset=test_data,\n",
        "    batch_size=BATCH_SIZE,\n",
        "    shuffle=False\n",
        ")"
      ],
      "metadata": {
        "id": "4J9JbUswr9pS"
      },
      "execution_count": 14,
      "outputs": []
    },
    {
      "cell_type": "code",
      "execution_count": 15,
      "metadata": {
        "colab": {
          "base_uri": "https://localhost:8080/"
        },
        "outputId": "15815bea-0f5d-4e8e-b566-1732ff43e3a1",
        "id": "2JVuP9BosFee"
      },
      "outputs": [
        {
          "output_type": "stream",
          "name": "stdout",
          "text": [
            "<torch.utils.data.dataloader.DataLoader object at 0x7d8c72a27d50> <torch.utils.data.dataloader.DataLoader object at 0x7d8c72c9f790>\n"
          ]
        }
      ],
      "source": [
        "print(train_dataloader, test_dataloader)"
      ]
    },
    {
      "cell_type": "code",
      "execution_count": 16,
      "metadata": {
        "colab": {
          "base_uri": "https://localhost:8080/"
        },
        "id": "DQWjOhMrZ6Lj",
        "outputId": "b6bddae4-92c8-4912-e0fb-4798a8f178e6"
      },
      "outputs": [
        {
          "output_type": "stream",
          "name": "stdout",
          "text": [
            "1875 32\n",
            "313 32\n"
          ]
        }
      ],
      "source": [
        "print(len(train_dataloader), BATCH_SIZE)\n",
        "print(len(test_dataloader), BATCH_SIZE)"
      ]
    },
    {
      "cell_type": "code",
      "execution_count": 17,
      "metadata": {
        "colab": {
          "base_uri": "https://localhost:8080/"
        },
        "id": "Hm-kCOBGaPSl",
        "outputId": "5637cb6e-ff0e-4dc6-bcfa-9463862343f0"
      },
      "outputs": [
        {
          "output_type": "execute_result",
          "data": {
            "text/plain": [
              "(torch.Size([32, 1, 28, 28]), torch.Size([32]))"
            ]
          },
          "metadata": {},
          "execution_count": 17
        }
      ],
      "source": [
        "train_features_batch, train_labels_batch = next(iter(train_dataloader))\n",
        "train_features_batch.shape, train_labels_batch.shape"
      ]
    },
    {
      "cell_type": "code",
      "execution_count": 18,
      "metadata": {
        "colab": {
          "base_uri": "https://localhost:8080/",
          "height": 465
        },
        "id": "W8kb1kXljo_n",
        "outputId": "d6737c61-6e71-453f-de7a-84e6cfe563fe"
      },
      "outputs": [
        {
          "output_type": "stream",
          "name": "stdout",
          "text": [
            "Image size: torch.Size([1, 28, 28])\n",
            "Label: 6\n"
          ]
        },
        {
          "output_type": "display_data",
          "data": {
            "text/plain": [
              "<Figure size 640x480 with 1 Axes>"
            ],
            "image/png": "[encoded data removed]"
          },
          "metadata": {}
        }
      ],
      "source": [
        "# Check one sample\n",
        "\n",
        "torch.manual_seed(42)\n",
        "\n",
        "rand_idx = torch.randint(0, len(train_features_batch), size=[1]).item()\n",
        "img, label = train_features_batch[rand_idx], train_labels_batch[rand_idx]\n",
        "plt.imshow(img.squeeze(), cmap=\"gray\")\n",
        "plt.title(train_data.classes[label])\n",
        "plt.axis(\"off\");\n",
        "print(f\"Image size: {img.shape}\")\n",
        "print(f\"Label: {label}\")"
      ]
    },
    {
      "cell_type": "markdown",
      "metadata": {
        "id": "8huySYGLi0ET"
      },
      "source": [
        "# Baseline Model"
      ]
    },
    {
      "cell_type": "markdown",
      "metadata": {
        "id": "9g4uk3a3i7En"
      },
      "source": [
        "- Using *nn.Module* to build the baseline model (simplest imagined model).\n",
        "- Start with the baseline model then add more complications to it subsequently as needed.\n",
        "- *nn.Flaten()* layer is used to compress the dimensions of image data (tensor) into a single long vector."
      ]
    },
    {
      "cell_type": "code",
      "execution_count": 19,
      "metadata": {
        "colab": {
          "base_uri": "https://localhost:8080/"
        },
        "id": "FJwl7rVMPsjD",
        "outputId": "6c9dfd83-db7e-4325-c970-842ba7bf5f8a"
      },
      "outputs": [
        {
          "output_type": "stream",
          "name": "stdout",
          "text": [
            "Shape before flattening: torch.Size([1, 28, 28]) -> [color_channels, height, width]\n",
            "Shape before flattening: torch.Size([1, 784]) -> [color_channels, height*width]\n"
          ]
        }
      ],
      "source": [
        "# Try nn.Flaten()\n",
        "\n",
        "x = train_features_batch[0]\n",
        "\n",
        "output = nn.Flatten()(x)\n",
        "\n",
        "print(f\"Shape before flattening: {x.shape} -> [color_channels, height, width]\")\n",
        "print(f\"Shape before flattening: {output.shape} -> [color_channels, height*width]\")"
      ]
    },
    {
      "cell_type": "code",
      "source": [
        "from torch import nn"
      ],
      "metadata": {
        "id": "qh-ZafQP96EJ"
      },
      "execution_count": 20,
      "outputs": []
    },
    {
      "cell_type": "code",
      "source": [
        "class FashionMNISTModelV0(nn.Module):\n",
        "    def __init__(self, input_shape:int, hidden_units:int, output_shape:int):\n",
        "        super().__init__()\n",
        "        self.layers_stack= nn.Sequential(\n",
        "            nn.Flatten(),\n",
        "            nn.Linear(in_features= input_shape, out_features= hidden_units),\n",
        "            nn.Linear(in_features= hidden_units, out_features= output_shape)\n",
        "        )\n",
        "\n",
        "    def forward(self, x):\n",
        "        return self.layers_stack(x)"
      ],
      "metadata": {
        "id": "s_KSpiGd-9uG"
      },
      "execution_count": 21,
      "outputs": []
    },
    {
      "cell_type": "code",
      "source": [
        "class_names= train_data.classes\n",
        "class_names"
      ],
      "metadata": {
        "colab": {
          "base_uri": "https://localhost:8080/"
        },
        "id": "oipg-6_lP_un",
        "outputId": "435e3de6-55e8-425a-b302-dcfb23bc861a"
      },
      "execution_count": 22,
      "outputs": [
        {
          "output_type": "execute_result",
          "data": {
            "text/plain": [
              "['T-shirt/top',\n",
              " 'Trouser',\n",
              " 'Pullover',\n",
              " 'Dress',\n",
              " 'Coat',\n",
              " 'Sandal',\n",
              " 'Shirt',\n",
              " 'Sneaker',\n",
              " 'Bag',\n",
              " 'Ankle boot']"
            ]
          },
          "metadata": {},
          "execution_count": 22
        }
      ]
    },
    {
      "cell_type": "code",
      "source": [
        "# Instantiate a model\n",
        "torch.manual_seed(42)\n",
        "\n",
        "model_0= FashionMNISTModelV0(\n",
        "    input_shape= 784,\n",
        "    hidden_units= 10,\n",
        "    output_shape= len(class_names)\n",
        ")\n",
        "\n",
        "model_0.to(\"cpu\")"
      ],
      "metadata": {
        "colab": {
          "base_uri": "https://localhost:8080/"
        },
        "id": "5CiNpSCTPvSk",
        "outputId": "e12139c4-e262-4079-9a58-305f1741fb81"
      },
      "execution_count": 23,
      "outputs": [
        {
          "output_type": "execute_result",
          "data": {
            "text/plain": [
              "FashionMNISTModelV0(\n",
              "  (layers_stack): Sequential(\n",
              "    (0): Flatten(start_dim=1, end_dim=-1)\n",
              "    (1): Linear(in_features=784, out_features=10, bias=True)\n",
              "    (2): Linear(in_features=10, out_features=10, bias=True)\n",
              "  )\n",
              ")"
            ]
          },
          "metadata": {},
          "execution_count": 23
        }
      ]
    },
    {
      "cell_type": "markdown",
      "source": [
        "### Setup loss, optimizer, and evaluation metrics"
      ],
      "metadata": {
        "id": "VFlZ-EtMQmhx"
      }
    },
    {
      "cell_type": "markdown",
      "source": [
        "- Summon helper functions."
      ],
      "metadata": {
        "id": "F0A59A4iWej9"
      }
    },
    {
      "cell_type": "code",
      "source": [
        "import requests\n",
        "from pathlib import Path"
      ],
      "metadata": {
        "id": "iVGy4c4QQlFb"
      },
      "execution_count": 24,
      "outputs": []
    },
    {
      "cell_type": "code",
      "source": [
        "if Path(\"helper_functions.py\").is_file():\n",
        "    print(\"helper_funtions.py already exists.\")\n",
        "else:\n",
        "    print(\"Downloading helper_functions.py\")\n",
        "    request= requests.get(\"https://raw.githubusercontent.com/mrdbourke/pytorch-deep-learning/main/helper_functions.py\") # raw github url\n",
        "    with open(\"helper_functions.py\", \"wb\") as f:\n",
        "        f.write(request.content)"
      ],
      "metadata": {
        "colab": {
          "base_uri": "https://localhost:8080/"
        },
        "id": "Xw8WrXq9WpOh",
        "outputId": "564bb656-b544-4569-8ef1-cf4019bfa2d9"
      },
      "execution_count": 25,
      "outputs": [
        {
          "output_type": "stream",
          "name": "stdout",
          "text": [
            "Downloading helper_functions.py\n"
          ]
        }
      ]
    },
    {
      "cell_type": "code",
      "source": [
        "!pip install -q torchmetrics"
      ],
      "metadata": {
        "id": "IZUt_EVliUdk",
        "colab": {
          "base_uri": "https://localhost:8080/"
        },
        "outputId": "c70123f2-87de-4d8a-d27d-137fe64682aa"
      },
      "execution_count": 26,
      "outputs": [
        {
          "output_type": "stream",
          "name": "stdout",
          "text": [
            "\u001b[?25l   \u001b[90m━━━━━━━━━━━━━━━━━━━━━━━━━━━━━━━━━━━━━━━━\u001b[0m \u001b[32m0.0/927.3 kB\u001b[0m \u001b[31m?\u001b[0m eta \u001b[36m-:--:--\u001b[0m\r\u001b[2K   \u001b[91m━━━━━━━━━━━━━━━━━━━━━━━━━━━━━━━━━━━━━━━\u001b[0m\u001b[91m╸\u001b[0m \u001b[32m921.6/927.3 kB\u001b[0m \u001b[31m34.2 MB/s\u001b[0m eta \u001b[36m0:00:01\u001b[0m\r\u001b[2K   \u001b[90m━━━━━━━━━━━━━━━━━━━━━━━━━━━━━━━━━━━━━━━━\u001b[0m \u001b[32m927.3/927.3 kB\u001b[0m \u001b[31m20.7 MB/s\u001b[0m eta \u001b[36m0:00:00\u001b[0m\n",
            "\u001b[?25h"
          ]
        }
      ]
    },
    {
      "cell_type": "code",
      "source": [
        "import torchmetrics"
      ],
      "metadata": {
        "id": "vnWUdqVliJq2"
      },
      "execution_count": 27,
      "outputs": []
    },
    {
      "cell_type": "code",
      "source": [
        "loss_fn= nn.CrossEntropyLoss()\n",
        "optimizer= torch.optim.SGD(params= model_0.parameters(), lr= 0.1)\n",
        "accuracy_fn= torchmetrics.Accuracy(task= \"multiclass\", num_classes= len(class_names)).to(\"cpu\")"
      ],
      "metadata": {
        "id": "48CmCTDKXkoY"
      },
      "execution_count": 28,
      "outputs": []
    },
    {
      "cell_type": "markdown",
      "source": [
        "### Measure time of our experiments"
      ],
      "metadata": {
        "id": "BkGbZvWPjDUb"
      }
    },
    {
      "cell_type": "markdown",
      "source": [
        "- We can compare time of training on CPU vs GPU."
      ],
      "metadata": {
        "id": "s3hf62PQ9TAO"
      }
    },
    {
      "cell_type": "code",
      "source": [
        "from timeit import default_timer as timer"
      ],
      "metadata": {
        "id": "nXNPKPbXjCnb"
      },
      "execution_count": 29,
      "outputs": []
    },
    {
      "cell_type": "code",
      "source": [
        "def print_train_time(start: float, end:float, device: torch.device= None):\n",
        "    \"\"\"Prints difference between start and end time.\n",
        "\n",
        "    Args:\n",
        "        start (float): start time of computation.\n",
        "        end (float): end time of computation.\n",
        "        device ([type], optional): device in which the computation is running on (None is the default).\n",
        "    \"\"\"\n",
        "\n",
        "    total_time= end - start\n",
        "    print(f\"\\nTrain time on {device}: {total_time:.3f} seconds\")\n",
        "    return total_time"
      ],
      "metadata": {
        "id": "WTQWWgsB9sEG"
      },
      "execution_count": 30,
      "outputs": []
    },
    {
      "cell_type": "markdown",
      "source": [
        "### Training"
      ],
      "metadata": {
        "id": "VoI7-zGRsrbY"
      }
    },
    {
      "cell_type": "markdown",
      "source": [
        "- Since we are dealing with batches, there will be nested loops.\n",
        "- Loss and evaluation metrics will be calculated per batch instead of the whole dataset. So, at the end, we divide the loss and evaluation metric by the number of batches (normalization)."
      ],
      "metadata": {
        "id": "TAEozyWms_VG"
      }
    },
    {
      "cell_type": "code",
      "source": [
        "from tqdm.auto import tqdm # Gives progress bar"
      ],
      "metadata": {
        "id": "7mE0rizv-SEJ"
      },
      "execution_count": 31,
      "outputs": []
    },
    {
      "cell_type": "code",
      "source": [
        "torch.manual_seed(42)\n",
        "train_start_time_cpu = timer()\n",
        "\n",
        "EPOCHS= 3 # small number for faster training\n",
        "\n",
        "for epoch in range(EPOCHS):\n",
        "\n",
        "    print(f\"Epoch: {epoch}\\n-------\")\n",
        "\n",
        "    ### Training ###\n",
        "\n",
        "    train_loss= 0\n",
        "\n",
        "    for batch, (X,y) in enumerate(train_dataloader):\n",
        "\n",
        "        model_0.train()\n",
        "\n",
        "        train_pred = model_0(X)\n",
        "\n",
        "        curr_loss = loss_fn(train_pred, y)\n",
        "        train_loss += curr_loss\n",
        "\n",
        "        optimizer.zero_grad()\n",
        "\n",
        "        curr_loss.backward()\n",
        "\n",
        "        optimizer.step()\n",
        "\n",
        "        if batch % 400 == 0:\n",
        "            print(f\"Looked at {batch*len(X)}/{len(train_dataloader.dataset)} samples\")\n",
        "\n",
        "    # Calculate average train loss per batch\n",
        "    train_loss /= len(train_dataloader)\n",
        "\n",
        "    ### Testing ###\n",
        "\n",
        "    test_loss, test_acc = 0, 0  # to accumulate tesing loss and accuracy\n",
        "\n",
        "    model_0.eval()\n",
        "\n",
        "    with torch.inference_mode():\n",
        "\n",
        "        for X,y in test_dataloader:\n",
        "\n",
        "            test_pred = model_0(X)\n",
        "\n",
        "            test_loss += loss_fn(test_pred, y)\n",
        "\n",
        "            test_acc += accuracy_fn(\n",
        "                preds = test_pred,\n",
        "                target = y\n",
        "            )\n",
        "\n",
        "        # Calculate avergae test loss per batch\n",
        "        test_loss /= len(test_dataloader)\n",
        "\n",
        "        # Calculate average accuracy per batch\n",
        "        test_acc /= len(test_dataloader)\n",
        "\n",
        "    print(f\"\\nTrain loss: {train_loss:.5f} | Test loss: {test_loss:0.5f} | Accuracy: {test_acc:0.5f}\")\n",
        "\n",
        "train_end_time_cpu = timer()\n",
        "\n",
        "total_train_time_model_0 = print_train_time(\n",
        "    start = train_start_time_cpu,\n",
        "    end = train_end_time_cpu,\n",
        "    device = str(next(model_0.parameters()).device)\n",
        ")"
      ],
      "metadata": {
        "id": "D1NCg3q00Jzr",
        "colab": {
          "base_uri": "https://localhost:8080/"
        },
        "outputId": "317a9d5f-6d79-434e-8737-013ef9f1e070"
      },
      "execution_count": 32,
      "outputs": [
        {
          "output_type": "stream",
          "name": "stdout",
          "text": [
            "Epoch: 0\n",
            "-------\n",
            "Looked at 0/60000 samples\n",
            "Looked at 12800/60000 samples\n",
            "Looked at 25600/60000 samples\n",
            "Looked at 38400/60000 samples\n",
            "Looked at 51200/60000 samples\n",
            "\n",
            "Train loss: 0.59039 | Test loss: 0.50954 | Accuracy: 0.82039\n",
            "Epoch: 1\n",
            "-------\n",
            "Looked at 0/60000 samples\n",
            "Looked at 12800/60000 samples\n",
            "Looked at 25600/60000 samples\n",
            "Looked at 38400/60000 samples\n",
            "Looked at 51200/60000 samples\n",
            "\n",
            "Train loss: 0.47633 | Test loss: 0.47989 | Accuracy: 0.83197\n",
            "Epoch: 2\n",
            "-------\n",
            "Looked at 0/60000 samples\n",
            "Looked at 12800/60000 samples\n",
            "Looked at 25600/60000 samples\n",
            "Looked at 38400/60000 samples\n",
            "Looked at 51200/60000 samples\n",
            "\n",
            "Train loss: 0.45503 | Test loss: 0.47664 | Accuracy: 0.83427\n",
            "\n",
            "Train time on cpu: 34.283 seconds\n"
          ]
        }
      ]
    },
    {
      "cell_type": "markdown",
      "source": [
        "### Inference and evaluation"
      ],
      "metadata": {
        "id": "EWVLkIUrAyfI"
      }
    },
    {
      "cell_type": "markdown",
      "source": [
        "- Create a function that takes:\n",
        "  1. a trained model\n",
        "  2. dataloader\n",
        "  3. loss function\n",
        "  4. accuracy function\n",
        "- The function should use the data in the dataloader and the model to make predictions and then evaluate those predictions with the loss and accuracy functions.\n",
        "- Use the results of this function to compare different models.\n"
      ],
      "metadata": {
        "id": "UrQV2VxyBaFK"
      }
    },
    {
      "cell_type": "code",
      "source": [
        "import torch"
      ],
      "metadata": {
        "id": "VmpmoA1LKx3q"
      },
      "execution_count": 33,
      "outputs": []
    },
    {
      "cell_type": "code",
      "source": [
        "# Turning the code to the device-agnostic mode\n",
        "\n",
        "device= torch.device(\"cuda\" if torch.cuda.is_available() else \"cpu\")\n",
        "device"
      ],
      "metadata": {
        "id": "glP3gvZ0dVVR",
        "colab": {
          "base_uri": "https://localhost:8080/"
        },
        "outputId": "c03b40b3-3b25-45fc-ecc3-7308cc115990"
      },
      "execution_count": 34,
      "outputs": [
        {
          "output_type": "execute_result",
          "data": {
            "text/plain": [
              "device(type='cuda')"
            ]
          },
          "metadata": {},
          "execution_count": 34
        }
      ]
    },
    {
      "cell_type": "code",
      "source": [
        "torch.manual_seed(42)\n",
        "\n",
        "def eval_model(model: torch.nn.Module,\n",
        "               data_loader: torch.utils.data.DataLoader,\n",
        "               loss_fn: torch.nn.Module,\n",
        "               accuracy_fn: torchmetrics,\n",
        "               device: torch.device = device):\n",
        "\n",
        "    \"\"\"Returns a dictionary contains the model's predictions on the data_loader.\n",
        "\n",
        "    Args:\n",
        "        model (torch.nn.Module): A PyTorch model capable of making predictions on the data_loader\n",
        "        data_loader (torch.utils.data.DataLoader): The target dataset to predict on.\n",
        "        loss_fn (torch.nn.Module): A function to calculate the loss for the model's predictions.\n",
        "        accuracy_fn (torchmetrics): A function to calculate accuracy between the model's predictions and the true labels.\n",
        "        device (str, optional): Target device to compute on. Default is device.\n",
        "\n",
        "    Returns:\n",
        "        (dict): The resulting predictions of the model on the dataloader.\n",
        "    \"\"\"\n",
        "\n",
        "    loss, acc = 0, 0\n",
        "\n",
        "    model.eval()\n",
        "\n",
        "    model.to(device)\n",
        "    loss_fn.to(device)\n",
        "    accuracy_fn.to(device)\n",
        "\n",
        "    with torch.inference_mode():\n",
        "        for X, y in data_loader:\n",
        "            X, y = X.to(device), y.to(device)\n",
        "            preds = model(X)\n",
        "            loss += loss_fn(preds, y)\n",
        "            acc += accuracy_fn(\n",
        "                preds = preds,\n",
        "                target = y\n",
        "            )\n",
        "\n",
        "        # Average loss and accuracy per batch\n",
        "        loss /= len(data_loader)\n",
        "        acc /= len(data_loader)\n",
        "\n",
        "    return {\n",
        "        \"model_name\": model.__class__.__name__,\n",
        "        \"model_loss\": loss.item(),\n",
        "        \"model_accuracy\": acc.item()\n",
        "    }"
      ],
      "metadata": {
        "id": "Zy_f-RHGXn_p"
      },
      "execution_count": 35,
      "outputs": []
    },
    {
      "cell_type": "code",
      "source": [
        "# Evaluate model_0\n",
        "\n",
        "model_0_eval_results = eval_model(\n",
        "    model = model_0,\n",
        "    data_loader = test_dataloader,\n",
        "    loss_fn = loss_fn,\n",
        "    accuracy_fn = accuracy_fn\n",
        ")\n",
        "\n",
        "model_0_eval_results"
      ],
      "metadata": {
        "colab": {
          "base_uri": "https://localhost:8080/"
        },
        "id": "W_blxD-TFd6C",
        "outputId": "7c4c1945-1bc5-467e-e677-ed93618b1ef6"
      },
      "execution_count": 36,
      "outputs": [
        {
          "output_type": "execute_result",
          "data": {
            "text/plain": [
              "{'model_name': 'FashionMNISTModelV0',\n",
              " 'model_loss': 0.47663894295692444,\n",
              " 'model_accuracy': 0.8342651724815369}"
            ]
          },
          "metadata": {},
          "execution_count": 36
        }
      ]
    },
    {
      "cell_type": "markdown",
      "source": [
        "# Non-linear Model"
      ],
      "metadata": {
        "id": "-tZyARB_GPk_"
      }
    },
    {
      "cell_type": "markdown",
      "source": [
        "- Does our data need non-linearity?\n",
        "  - Linear = straight\n",
        "  - Non-linear = non-straight"
      ],
      "metadata": {
        "id": "fT8ZBMNZsWG4"
      }
    },
    {
      "cell_type": "code",
      "source": [
        "class FashionMNISTModelV1(nn.Module):\n",
        "\n",
        "    def __init__(self, input_shape:int, hidden_units:int, output_shape:int):\n",
        "        super().__init__()\n",
        "        self.layers_stack = nn.Sequential(\n",
        "            nn.Flatten(),\n",
        "            nn.Linear(in_features=input_shape, out_features=hidden_units),\n",
        "            nn.ReLU(),\n",
        "            nn.Linear(in_features=hidden_units, out_features=output_shape),\n",
        "            nn.ReLU()\n",
        "        )\n",
        "\n",
        "    def forward(self, x:torch.Tensor):\n",
        "        return self.layers_stack(x)"
      ],
      "metadata": {
        "id": "2fmv4r6ReZcS"
      },
      "execution_count": 37,
      "outputs": []
    },
    {
      "cell_type": "markdown",
      "source": [
        "- In ML, it is a good practice to start with a baseline model then experiment changing one thing after another.\n",
        "- This time, we added non-linear functions."
      ],
      "metadata": {
        "id": "xCiWQW6kRZLJ"
      }
    },
    {
      "cell_type": "code",
      "source": [
        "# Instantiate model_1\n",
        "\n",
        "torch.manual_seed(42)\n",
        "\n",
        "model_1 = FashionMNISTModelV1(\n",
        "    input_shape = 784,\n",
        "    hidden_units = 10,\n",
        "    output_shape = len(class_names)\n",
        ").to(device)\n",
        "\n",
        "next(model_1.parameters()).device"
      ],
      "metadata": {
        "id": "WNEMiUqSRLGG",
        "outputId": "f6e10517-fc42-4a3f-cdc8-92f8a9ccbc03",
        "colab": {
          "base_uri": "https://localhost:8080/"
        }
      },
      "execution_count": 38,
      "outputs": [
        {
          "output_type": "execute_result",
          "data": {
            "text/plain": [
              "device(type='cuda', index=0)"
            ]
          },
          "metadata": {},
          "execution_count": 38
        }
      ]
    },
    {
      "cell_type": "markdown",
      "source": [
        "### Setup loss, optimizer, and evaluation metrics"
      ],
      "metadata": {
        "id": "uFTbDmcig820"
      }
    },
    {
      "cell_type": "code",
      "source": [
        "loss_fn = nn.CrossEntropyLoss()\n",
        "\n",
        "optimizer = torch.optim.SGD(\n",
        "    params = model_1.parameters(),\n",
        "    lr = 0.1\n",
        ")\n",
        "\n",
        "accuracy_fn = torchmetrics.Accuracy(\n",
        "    task = \"multiclass\",\n",
        "    num_classes = len(class_names)\n",
        ").to(device)"
      ],
      "metadata": {
        "id": "CLdO2ygPhN_N"
      },
      "execution_count": 39,
      "outputs": []
    },
    {
      "cell_type": "markdown",
      "source": [
        "### Wrapping up training and testing loops"
      ],
      "metadata": {
        "id": "SV8_T8sb1Irq"
      }
    },
    {
      "cell_type": "markdown",
      "source": [
        "- Create functions that can be repeatedly called:\n",
        "  - train_step() will take:\n",
        "    - model\n",
        "    - DataLoader\n",
        "    - loss function\n",
        "    - optimizer\n",
        "  - test_step() will take:\n",
        "    - model\n",
        "    - DataLoader\n",
        "    - loss function\n",
        "    - evaluation function"
      ],
      "metadata": {
        "id": "ad5WqmLP3c0h"
      }
    },
    {
      "cell_type": "code",
      "source": [
        "def train_step(model: torch.nn.Module,\n",
        "          data_loader: torch.utils.data.DataLoader,\n",
        "          loss_fn: torch.nn.Module,\n",
        "          optimizer: torch.optim.Optimizer,\n",
        "          accuracy_fn: torchmetrics.Metric,\n",
        "          device: torch.device = device):\n",
        "      \"\"\"Loop through train data to train your model\"\"\"\n",
        "\n",
        "      train_loss, train_acc = 0,0\n",
        "      model.to(device)\n",
        "\n",
        "      for batch, (X,y) in enumerate(data_loader):\n",
        "\n",
        "          X, y = X.to(device), y.to(device)\n",
        "\n",
        "          train_preds = model(X)\n",
        "\n",
        "          curr_loss = loss_fn(train_preds, y)\n",
        "          train_loss += curr_loss\n",
        "          train_acc += accuracy_fn(preds = train_preds,\n",
        "                                   target = y)\n",
        "\n",
        "          optimizer.zero_grad()\n",
        "\n",
        "          curr_loss.backward()\n",
        "\n",
        "          optimizer.step()\n",
        "\n",
        "      # Average loss and accuracy\n",
        "\n",
        "      train_loss /= len(data_loader)\n",
        "      train_acc /= len(data_loader)\n",
        "\n",
        "      print(f\"Train Loss: {train_loss:.5f} | Train accuracy:  {train_acc:.2f}%\")"
      ],
      "metadata": {
        "id": "Phn0FtoV3b1k"
      },
      "execution_count": 40,
      "outputs": []
    },
    {
      "cell_type": "code",
      "source": [
        "def test_step(model: torch.nn.Module,\n",
        "         data_loader: torch.utils.data.DataLoader,\n",
        "         loss_fn: torch.nn.Module,\n",
        "         accuracy_fn: torchmetrics.Metric,\n",
        "         device: torch.device = device):\n",
        "      \"\"\"Testing loop\"\"\"\n",
        "\n",
        "      test_loss, test_acc = 0, 0\n",
        "      model.to(device)\n",
        "      model.eval()\n",
        "\n",
        "      with torch.inference_mode():\n",
        "\n",
        "          for X, y in data_loader:\n",
        "\n",
        "              X, y = X.to(device), y.to(device)\n",
        "\n",
        "              test_preds = model(X)\n",
        "\n",
        "              test_loss += loss_fn(test_preds, y)\n",
        "\n",
        "              test_acc += accuracy_fn(preds = test_preds,\n",
        "                                      target = y)\n",
        "\n",
        "          # Average loss and accuracy per batch\n",
        "          test_loss /= len(data_loader)\n",
        "          test_acc /= len(data_loader)\n",
        "\n",
        "          print(f\"Test Loss: {test_loss:.5f} | Test Accuracy: {test_acc:.2f}%\")"
      ],
      "metadata": {
        "id": "loGu908zj0wW"
      },
      "execution_count": 41,
      "outputs": []
    },
    {
      "cell_type": "markdown",
      "source": [
        "- Create a loop for a number of epochs.\n",
        "- Run these functions inside the loop.\n",
        "- Some people customize how often they do the testing step."
      ],
      "metadata": {
        "id": "yhhicqlqnU04"
      }
    },
    {
      "cell_type": "code",
      "source": [
        "from timeit import default_timer as timer"
      ],
      "metadata": {
        "id": "qGDsb--Roufo"
      },
      "execution_count": 42,
      "outputs": []
    },
    {
      "cell_type": "code",
      "source": [
        "torch.manual_seed(42)\n",
        "\n",
        "train_start_time_gpu = timer()\n",
        "\n",
        "EPOCHS = 3\n",
        "\n",
        "for epoch in tqdm(range(EPOCHS)):\n",
        "\n",
        "    print(f\"Epoch: {epoch}\\n-------------\")\n",
        "\n",
        "    train_step(\n",
        "        model = model_1,\n",
        "        data_loader = train_dataloader,\n",
        "        loss_fn = loss_fn,\n",
        "        optimizer = optimizer,\n",
        "        accuracy_fn = accuracy_fn\n",
        "    )\n",
        "\n",
        "    test_step(\n",
        "        model = model_1,\n",
        "        data_loader = test_dataloader,\n",
        "        loss_fn = loss_fn,\n",
        "        accuracy_fn = accuracy_fn\n",
        "    )\n",
        "\n",
        "train_end_time_gpu = timer()\n",
        "\n",
        "total_train_time_model_1 = print_train_time(start = train_start_time_gpu,\n",
        "                                            end = train_end_time_gpu,\n",
        "                                            device = device)"
      ],
      "metadata": {
        "id": "yeQ2uAoa0tNE",
        "colab": {
          "base_uri": "https://localhost:8080/",
          "height": 307,
          "referenced_widgets": [
            "2cb4ff8406f642d3a1fd2f710f32472a",
            "daa1656943df4b08ab21653026ee7f7e",
            "d6520324a97c4525a3aa75222007d7e2",
            "8420d186ecef445a95eb2962bd9469b1",
            "b54ce31b15484bb49fefde89816b6cab",
            "30cb5bea17b74d4f8657fa1fb13cf2b4",
            "2cba8765e0b5491d8096ee959c9b7952",
            "eeb5115aff9645a8a0375481989ee870",
            "90e8f50a740447abaffbef309e83ab95",
            "65e219c349f1496fa696201f86c25646",
            "07f56b61285a4da8ae3e96a525476c40"
          ]
        },
        "outputId": "b80e839f-eddc-4476-e0b0-b5085335d6d9"
      },
      "execution_count": 43,
      "outputs": [
        {
          "output_type": "display_data",
          "data": {
            "text/plain": [
              "  0%|          | 0/3 [00:00<?, ?it/s]"
            ],
            "application/vnd.jupyter.widget-view+json": {
              "version_major": 2,
              "version_minor": 0,
              "model_id": "2cb4ff8406f642d3a1fd2f710f32472a"
            }
          },
          "metadata": {}
        },
        {
          "output_type": "stream",
          "name": "stdout",
          "text": [
            "Epoch: 0\n",
            "-------------\n",
            "Train Loss: 1.09199 | Train accuracy:  0.61%\n",
            "Test Loss: 0.95636 | Test Accuracy: 0.65%\n",
            "Epoch: 1\n",
            "-------------\n",
            "Train Loss: 0.78101 | Train accuracy:  0.72%\n",
            "Test Loss: 0.72227 | Test Accuracy: 0.74%\n",
            "Epoch: 2\n",
            "-------------\n",
            "Train Loss: 0.67027 | Train accuracy:  0.76%\n",
            "Test Loss: 0.68500 | Test Accuracy: 0.75%\n",
            "\n",
            "Train time on cuda: 35.354 seconds\n"
          ]
        }
      ]
    },
    {
      "cell_type": "markdown",
      "source": [
        "- The traininig time depends on the quality of the used hardware.\n",
        "- There is a time spent in transfering data from CPU to GPU.\n",
        "- So, GPU works best for large dataset because for smaller dataset this transfering time outwiegh its computing power benefit.\n"
      ],
      "metadata": {
        "id": "OcBrOVfzDqbf"
      }
    },
    {
      "cell_type": "code",
      "source": [
        "# Evaluate the model\n",
        "\n",
        "torch.manual_seed(42)\n",
        "\n",
        "model_1_eval_results = eval_model(model = model_1,\n",
        "                            data_loader = test_dataloader,\n",
        "                            loss_fn = loss_fn,\n",
        "                            accuracy_fn = accuracy_fn)\n",
        "model_1_eval_results"
      ],
      "metadata": {
        "colab": {
          "base_uri": "https://localhost:8080/"
        },
        "id": "DMkvL3IgDCMD",
        "outputId": "f39b2e2a-00e7-4ef2-fe8d-9f66701f222b"
      },
      "execution_count": 44,
      "outputs": [
        {
          "output_type": "execute_result",
          "data": {
            "text/plain": [
              "{'model_name': 'FashionMNISTModelV1',\n",
              " 'model_loss': 0.6850008964538574,\n",
              " 'model_accuracy': 0.7501996755599976}"
            ]
          },
          "metadata": {},
          "execution_count": 44
        }
      ]
    },
    {
      "cell_type": "code",
      "source": [
        "model_0_eval_results"
      ],
      "metadata": {
        "id": "xrBh5lJEvrI8",
        "outputId": "3be0791a-c159-4509-e5d1-74a94676dcae",
        "colab": {
          "base_uri": "https://localhost:8080/"
        }
      },
      "execution_count": 45,
      "outputs": [
        {
          "output_type": "execute_result",
          "data": {
            "text/plain": [
              "{'model_name': 'FashionMNISTModelV0',\n",
              " 'model_loss': 0.47663894295692444,\n",
              " 'model_accuracy': 0.8342651724815369}"
            ]
          },
          "metadata": {},
          "execution_count": 45
        }
      ]
    },
    {
      "cell_type": "markdown",
      "source": [
        "# CNN Model"
      ],
      "metadata": {
        "id": "6rCBSy1Nv_20"
      }
    },
    {
      "cell_type": "markdown",
      "source": [
        "- CNN is used to find patterns in visual data.\n",
        "- We will try the [TinyVGG](https://poloclub.github.io/cnn-explainer/).\n",
        "- The structure:\n",
        "  - Input layer -> [Convolutional layer -> activation layer -> pooling layer] -> output layer\n",
        "  - We can upscale and repeat: [Convolutional layer -> activation layer -> pooling layer]\n",
        "- Choosing a model depends on the data and the problem type:\n",
        "  - Structured (tabular) data: XGBoost, Random Forests\n",
        "  - Unstructured data: CNNs, Transformers"
      ],
      "metadata": {
        "id": "8jtsGG3lwFi1"
      }
    },
    {
      "cell_type": "code",
      "source": [
        "class FashionMNISTModelV2(nn.Module):\n",
        "    \"\"\"\n",
        "      Model architecture copying TinyVGG from: https://poloclub.github.io/cnn-explainer/\n",
        "    \"\"\"\n",
        "\n",
        "    def __init__(self, input_shape:int, hidden_units:int, output_shape:int):\n",
        "        super().__init__()\n",
        "\n",
        "        # block1 contains: two convolution layers and one max pooling layer\n",
        "        self.block1 = nn.Sequential(\n",
        "            nn.Conv2d(in_channels = input_shape, # Number of channels in the input image\n",
        "                      out_channels = hidden_units, # Number of channels produced by the convolution\n",
        "                      kernel_size = 3, # Convolution filter size\n",
        "                      stride = 1, # Step size that the convolution kernel takes at a time\n",
        "                      padding = 1), # Add padding to all four sides of the input\n",
        "            nn.ReLU(),\n",
        "            nn.Conv2d(in_channels = hidden_units,\n",
        "                      out_channels = hidden_units,\n",
        "                      stride = 1,\n",
        "                      kernel_size = 3,\n",
        "                      padding = 1),\n",
        "            nn.ReLU(),\n",
        "            nn.MaxPool2d(kernel_size = 2,\n",
        "                         stride = 2) # default stride takes the same values as kernel_size\n",
        "        )\n",
        "\n",
        "        # block2 is a duplicate of block1\n",
        "        self.block2 = nn.Sequential(\n",
        "            nn.Conv2d(hidden_units, hidden_units, kernel_size=3, padding=1),\n",
        "            nn.ReLU(),\n",
        "            nn.Conv2d(hidden_units, hidden_units, kernel_size=3, padding=1),\n",
        "            nn.ReLU(),\n",
        "            nn.MaxPool2d(2)\n",
        "        )\n",
        "\n",
        "        self.classifier = nn.Sequential(\n",
        "            nn.Flatten(),\n",
        "            nn.Linear(in_features = hidden_units*7*7,\n",
        "                      out_features = output_shape)\n",
        "        )\n",
        "\n",
        "    def forward(self, x:torch.Tensor):\n",
        "        x = self.block1(x)\n",
        "        x = self.block2(x)\n",
        "        return self.classifier(x)"
      ],
      "metadata": {
        "id": "WIHvPeJqMo5z"
      },
      "execution_count": 46,
      "outputs": []
    },
    {
      "cell_type": "code",
      "source": [
        "torch.manual_seed(42)\n",
        "model_2 = FashionMNISTModelV2(input_shape = 1,\n",
        "                              hidden_units = 10,\n",
        "                              output_shape = len(class_names)).to(device)\n",
        "model_2"
      ],
      "metadata": {
        "colab": {
          "base_uri": "https://localhost:8080/"
        },
        "id": "jqwCqB92MJQR",
        "outputId": "be7da16f-d112-4cbf-b75b-0489ca177985"
      },
      "execution_count": 47,
      "outputs": [
        {
          "output_type": "execute_result",
          "data": {
            "text/plain": [
              "FashionMNISTModelV2(\n",
              "  (block1): Sequential(\n",
              "    (0): Conv2d(1, 10, kernel_size=(3, 3), stride=(1, 1), padding=(1, 1))\n",
              "    (1): ReLU()\n",
              "    (2): Conv2d(10, 10, kernel_size=(3, 3), stride=(1, 1), padding=(1, 1))\n",
              "    (3): ReLU()\n",
              "    (4): MaxPool2d(kernel_size=2, stride=2, padding=0, dilation=1, ceil_mode=False)\n",
              "  )\n",
              "  (block2): Sequential(\n",
              "    (0): Conv2d(10, 10, kernel_size=(3, 3), stride=(1, 1), padding=(1, 1))\n",
              "    (1): ReLU()\n",
              "    (2): Conv2d(10, 10, kernel_size=(3, 3), stride=(1, 1), padding=(1, 1))\n",
              "    (3): ReLU()\n",
              "    (4): MaxPool2d(kernel_size=2, stride=2, padding=0, dilation=1, ceil_mode=False)\n",
              "  )\n",
              "  (classifier): Sequential(\n",
              "    (0): Flatten(start_dim=1, end_dim=-1)\n",
              "    (1): Linear(in_features=490, out_features=10, bias=True)\n",
              "  )\n",
              ")"
            ]
          },
          "metadata": {},
          "execution_count": 47
        }
      ]
    },
    {
      "cell_type": "markdown",
      "source": [
        "- 2d in nn.Conv2d() refers to two diminsional data: height X width\n",
        "- There is alson nn.Conv1d() for 1D data such as text, and nn.Conv3d() for 3D objects.\n",
        "- We will test the model layers on a toy data."
      ],
      "metadata": {
        "id": "IklkK_6wM0mr"
      }
    },
    {
      "cell_type": "code",
      "source": [
        "torch.manual_seed(42)\n",
        "\n",
        "# Mimic the image batch by creating sample batch of random numbers with the same size\n",
        "img_mimic = torch.randn(size=(32, 3, 64, 64)) # [batch_sizse, color_channels, height, width]\n",
        "test_img = img_mimic[0]\n",
        "\n",
        "print(f\"Image batch shape: {img_mimic.shape} -> [batch_size, color_channels, height, width]\")\n",
        "print(f\"Single image shape: {test_img.shape} -> [color_channels, height, width]\")\n",
        "print(f\"Pixel values of a single image:\\n{test_img}\")"
      ],
      "metadata": {
        "id": "sRShGfAR-BXY",
        "colab": {
          "base_uri": "https://localhost:8080/"
        },
        "outputId": "2678d766-2d2a-4b71-a014-24009d35b448"
      },
      "execution_count": 48,
      "outputs": [
        {
          "output_type": "stream",
          "name": "stdout",
          "text": [
            "Image batch shape: torch.Size([32, 3, 64, 64]) -> [batch_size, color_channels, height, width]\n",
            "Single image shape: torch.Size([3, 64, 64]) -> [color_channels, height, width]\n",
            "Pixel values of a single image:\n",
            "tensor([[[ 1.9269,  1.4873,  0.9007,  ...,  1.8446, -1.1845,  1.3835],\n",
            "         [ 1.4451,  0.8564,  2.2181,  ...,  0.3399,  0.7200,  0.4114],\n",
            "         [ 1.9312,  1.0119, -1.4364,  ..., -0.5558,  0.7043,  0.7099],\n",
            "         ...,\n",
            "         [-0.5610, -0.4830,  0.4770,  ..., -0.2713, -0.9537, -0.6737],\n",
            "         [ 0.3076, -0.1277,  0.0366,  ..., -2.0060,  0.2824, -0.8111],\n",
            "         [-1.5486,  0.0485, -0.7712,  ..., -0.1403,  0.9416, -0.0118]],\n",
            "\n",
            "        [[-0.5197,  1.8524,  1.8365,  ...,  0.8935, -1.5114, -0.8515],\n",
            "         [ 2.0818,  1.0677, -1.4277,  ...,  1.6612, -2.6223, -0.4319],\n",
            "         [-0.1010, -0.4388, -1.9775,  ...,  0.2106,  0.2536, -0.7318],\n",
            "         ...,\n",
            "         [ 0.2779,  0.7342, -0.3736,  ..., -0.4601,  0.1815,  0.1850],\n",
            "         [ 0.7205, -0.2833,  0.0937,  ..., -0.1002, -2.3609,  2.2465],\n",
            "         [-1.3242, -0.1973,  0.2920,  ...,  0.5409,  0.6940,  1.8563]],\n",
            "\n",
            "        [[-0.7978,  1.0261,  1.1465,  ...,  1.2134,  0.9354, -0.0780],\n",
            "         [-1.4647, -1.9571,  0.1017,  ..., -1.9986, -0.7409,  0.7011],\n",
            "         [-1.3938,  0.8466, -1.7191,  ..., -1.1867,  0.1320,  0.3407],\n",
            "         ...,\n",
            "         [ 0.8206, -0.3745,  1.2499,  ..., -0.0676,  0.0385,  0.6335],\n",
            "         [-0.5589, -0.3393,  0.2347,  ...,  2.1181,  2.4569,  1.3083],\n",
            "         [-0.4092,  1.5199,  0.2401,  ..., -0.2558,  0.7870,  0.9924]]])\n"
          ]
        }
      ]
    },
    {
      "cell_type": "markdown",
      "source": [
        "### Convolution Layer: Dig Deeper"
      ],
      "metadata": {
        "id": "f4wGwIZiqXIB"
      }
    },
    {
      "cell_type": "code",
      "source": [
        "# Create a convolution layer with the same dimensions as TinyVGG\n",
        "\n",
        "torch.manual_seed(42)\n",
        "\n",
        "# 1\n",
        "conv_layer = nn.Conv2d(in_channels = 3,\n",
        "                       out_channels = 10,\n",
        "                       kernel_size = 3,\n",
        "                       stride = 1,\n",
        "                       padding = 0)"
      ],
      "metadata": {
        "id": "CLKmJ9e5O_VJ"
      },
      "execution_count": 49,
      "outputs": []
    },
    {
      "cell_type": "code",
      "source": [
        "conv_layer(test_img).shape"
      ],
      "metadata": {
        "colab": {
          "base_uri": "https://localhost:8080/"
        },
        "id": "Fc7XnL7OPdvT",
        "outputId": "6779da04-165d-4266-e15f-4745a74dbe3c"
      },
      "execution_count": 50,
      "outputs": [
        {
          "output_type": "execute_result",
          "data": {
            "text/plain": [
              "torch.Size([10, 62, 62])"
            ]
          },
          "metadata": {},
          "execution_count": 50
        }
      ]
    },
    {
      "cell_type": "code",
      "source": [
        "torch.manual_seed(42)\n",
        "\n",
        "# 2\n",
        "conv_layer_2 = nn.Conv2d(in_channels = 3,\n",
        "                         out_channels = 10,\n",
        "                         kernel_size = (3,9),\n",
        "                         stride = 3,\n",
        "                         padding = 0)"
      ],
      "metadata": {
        "id": "tALvXbwWYsp4"
      },
      "execution_count": 51,
      "outputs": []
    },
    {
      "cell_type": "code",
      "source": [
        "conv_layer_2(test_img.unsqueeze(dim=0)).shape"
      ],
      "metadata": {
        "id": "fjqERKXqjKj3",
        "outputId": "e1b9fb85-79b8-4396-9fee-0d496d871bae",
        "colab": {
          "base_uri": "https://localhost:8080/"
        }
      },
      "execution_count": 52,
      "outputs": [
        {
          "output_type": "execute_result",
          "data": {
            "text/plain": [
              "torch.Size([1, 10, 21, 19])"
            ]
          },
          "metadata": {},
          "execution_count": 52
        }
      ]
    },
    {
      "cell_type": "markdown",
      "source": [
        "- The role of the convolution layer is to compress the information stored in the input image throuh the layer's internal parameters.\n",
        "- During the training of the network, the layer's internal parameters are updated to lower the loss function.\n",
        "- The layer's may calculate their parameter updates differently."
      ],
      "metadata": {
        "id": "_skc7bq8kBXb"
      }
    },
    {
      "cell_type": "code",
      "source": [
        "conv_layer.state_dict()"
      ],
      "metadata": {
        "id": "0QLeQLDAkAKT",
        "outputId": "46df0c58-2479-48b0-9238-879f441e270a",
        "colab": {
          "base_uri": "https://localhost:8080/"
        }
      },
      "execution_count": 53,
      "outputs": [
        {
          "output_type": "execute_result",
          "data": {
            "text/plain": [
              "OrderedDict([('weight',\n",
              "              tensor([[[[ 0.1471,  0.1597, -0.0451],\n",
              "                        [ 0.1768, -0.0422,  0.0388],\n",
              "                        [-0.0937,  0.1130,  0.1697]],\n",
              "              \n",
              "                       [[-0.1412,  0.1673,  0.0360],\n",
              "                        [ 0.1422,  0.0261,  0.0928],\n",
              "                        [-0.0272,  0.1484,  0.0284]],\n",
              "              \n",
              "                       [[-0.0898,  0.0491, -0.0887],\n",
              "                        [-0.0226, -0.0782,  0.1277],\n",
              "                        [-0.1519, -0.0887, -0.0543]]],\n",
              "              \n",
              "              \n",
              "                      [[[-0.1157,  0.0182, -0.1901],\n",
              "                        [ 0.1738, -0.1635,  0.1486],\n",
              "                        [ 0.0320, -0.0625,  0.1189]],\n",
              "              \n",
              "                       [[ 0.0300,  0.1555,  0.0210],\n",
              "                        [-0.0607,  0.0517, -0.0522],\n",
              "                        [ 0.0810,  0.1718,  0.1112]],\n",
              "              \n",
              "                       [[-0.0841,  0.1111,  0.0344],\n",
              "                        [ 0.0977, -0.1173, -0.1905],\n",
              "                        [-0.0744, -0.1476,  0.1579]]],\n",
              "              \n",
              "              \n",
              "                      [[[ 0.0554,  0.0797,  0.0609],\n",
              "                        [-0.0033,  0.1506, -0.1367],\n",
              "                        [ 0.0121, -0.1314,  0.0593]],\n",
              "              \n",
              "                       [[-0.0663,  0.0590, -0.0401],\n",
              "                        [ 0.1596, -0.1141, -0.1148],\n",
              "                        [-0.1148,  0.1731,  0.0641]],\n",
              "              \n",
              "                       [[ 0.1852, -0.1588, -0.1909],\n",
              "                        [-0.1506, -0.1295,  0.0780],\n",
              "                        [ 0.0689,  0.1599, -0.0994]]],\n",
              "              \n",
              "              \n",
              "                      [[[-0.1312,  0.1021, -0.0778],\n",
              "                        [ 0.1168, -0.0457,  0.1101],\n",
              "                        [-0.1495, -0.0971,  0.0587]],\n",
              "              \n",
              "                       [[ 0.0407, -0.0491,  0.1147],\n",
              "                        [ 0.1308, -0.1396, -0.1027],\n",
              "                        [ 0.1762, -0.0649, -0.0682]],\n",
              "              \n",
              "                       [[-0.1862, -0.1102,  0.0481],\n",
              "                        [-0.0254, -0.1397,  0.0045],\n",
              "                        [-0.1315, -0.1633, -0.1060]]],\n",
              "              \n",
              "              \n",
              "                      [[[-0.1684, -0.1225,  0.1924],\n",
              "                        [ 0.0363,  0.0593, -0.1795],\n",
              "                        [-0.1264, -0.0641,  0.0301]],\n",
              "              \n",
              "                       [[-0.1693, -0.0829, -0.1152],\n",
              "                        [ 0.0005, -0.0716, -0.0133],\n",
              "                        [-0.1304, -0.1321, -0.1123]],\n",
              "              \n",
              "                       [[-0.0659, -0.1519,  0.1614],\n",
              "                        [-0.0382,  0.1656,  0.0600],\n",
              "                        [-0.1630,  0.1332, -0.0530]]],\n",
              "              \n",
              "              \n",
              "                      [[[-0.0738, -0.1597, -0.1913],\n",
              "                        [ 0.0551, -0.0420,  0.0749],\n",
              "                        [-0.1579,  0.1429, -0.1413]],\n",
              "              \n",
              "                       [[-0.0332,  0.0402,  0.0994],\n",
              "                        [ 0.1554,  0.1753, -0.1526],\n",
              "                        [ 0.0484, -0.0828, -0.0211]],\n",
              "              \n",
              "                       [[-0.1440,  0.1753, -0.1412],\n",
              "                        [ 0.1029,  0.0676,  0.0625],\n",
              "                        [-0.1040,  0.1749,  0.0423]]],\n",
              "              \n",
              "              \n",
              "                      [[[ 0.0248, -0.1696,  0.0808],\n",
              "                        [-0.0289, -0.0882,  0.1653],\n",
              "                        [ 0.0429, -0.1065, -0.0974]],\n",
              "              \n",
              "                       [[-0.0092,  0.1075, -0.0492],\n",
              "                        [-0.1098, -0.0659, -0.1438],\n",
              "                        [ 0.0686,  0.1490, -0.1812]],\n",
              "              \n",
              "                       [[ 0.0447,  0.0994,  0.0349],\n",
              "                        [-0.0685,  0.1004,  0.1011],\n",
              "                        [ 0.0720, -0.0338, -0.0510]]],\n",
              "              \n",
              "              \n",
              "                      [[[ 0.0206, -0.0340, -0.0574],\n",
              "                        [ 0.1230,  0.1654, -0.0191],\n",
              "                        [-0.0431,  0.0028, -0.0115]],\n",
              "              \n",
              "                       [[ 0.0463,  0.0539, -0.1748],\n",
              "                        [-0.0710,  0.1621,  0.0750],\n",
              "                        [-0.0096, -0.1160, -0.1177]],\n",
              "              \n",
              "                       [[-0.1724, -0.0627,  0.0650],\n",
              "                        [ 0.1227,  0.0889, -0.1701],\n",
              "                        [-0.1157, -0.0304,  0.1862]]],\n",
              "              \n",
              "              \n",
              "                      [[[ 0.0278, -0.0498,  0.0796],\n",
              "                        [-0.0733, -0.1246,  0.1405],\n",
              "                        [-0.0875, -0.0386, -0.1915]],\n",
              "              \n",
              "                       [[ 0.1288,  0.1458,  0.0701],\n",
              "                        [-0.1342, -0.1899, -0.1563],\n",
              "                        [ 0.1435,  0.0924,  0.1619]],\n",
              "              \n",
              "                       [[ 0.1008,  0.0487, -0.0019],\n",
              "                        [-0.1464, -0.1649, -0.1800],\n",
              "                        [ 0.0788, -0.0945, -0.0387]]],\n",
              "              \n",
              "              \n",
              "                      [[[-0.1108, -0.0351, -0.1355],\n",
              "                        [-0.1257,  0.0638, -0.0572],\n",
              "                        [ 0.1188, -0.0617, -0.1412]],\n",
              "              \n",
              "                       [[-0.0340, -0.0933, -0.0589],\n",
              "                        [-0.1832,  0.1077, -0.1340],\n",
              "                        [ 0.0967,  0.0873,  0.1375]],\n",
              "              \n",
              "                       [[-0.1476,  0.1384, -0.0910],\n",
              "                        [ 0.0714,  0.1807, -0.0271],\n",
              "                        [-0.0015, -0.0443, -0.1607]]]])),\n",
              "             ('bias',\n",
              "              tensor([ 0.0924, -0.1910,  0.1195,  0.1440,  0.1820, -0.0454, -0.1581,  0.0433,\n",
              "                       0.1063, -0.1915]))])"
            ]
          },
          "metadata": {},
          "execution_count": 53
        }
      ]
    },
    {
      "cell_type": "code",
      "source": [
        "conv_layer_2.state_dict().keys()"
      ],
      "metadata": {
        "id": "ZhZw3EHgmqnl",
        "outputId": "0480500c-d43e-4109-ce4a-8dcdd321ab49",
        "colab": {
          "base_uri": "https://localhost:8080/"
        }
      },
      "execution_count": 54,
      "outputs": [
        {
          "output_type": "execute_result",
          "data": {
            "text/plain": [
              "odict_keys(['weight', 'bias'])"
            ]
          },
          "metadata": {},
          "execution_count": 54
        }
      ]
    },
    {
      "cell_type": "code",
      "source": [
        "print(f\"conv_layer weight's shape:\\n{conv_layer.weight.shape} [out_channels, in_channels, kernel_size, kernel_size]\")\n",
        "print(f\"conv_layer bias's shape:\\n{conv_layer.bias.shape} [out_channels]\")"
      ],
      "metadata": {
        "id": "4J7G9AZ7nI7B",
        "outputId": "46bd3f97-d8cd-4eaf-9539-50b0374a4dad",
        "colab": {
          "base_uri": "https://localhost:8080/"
        }
      },
      "execution_count": 55,
      "outputs": [
        {
          "output_type": "stream",
          "name": "stdout",
          "text": [
            "conv_layer weight's shape:\n",
            "torch.Size([10, 3, 3, 3]) [out_channels, in_channels, kernel_size, kernel_size]\n",
            "conv_layer bias's shape:\n",
            "torch.Size([10]) [out_channels]\n"
          ]
        }
      ]
    },
    {
      "cell_type": "markdown",
      "source": [
        "### MaxPool Layer: Dig Deeper"
      ],
      "metadata": {
        "id": "xJmqF0iCpQYv"
      }
    },
    {
      "cell_type": "markdown",
      "source": [
        "- What does happen when you move data through MaxPool2d?"
      ],
      "metadata": {
        "id": "JOumTgKLrFul"
      }
    },
    {
      "cell_type": "code",
      "source": [
        "print(f'Test image original shape: {test_img.shape}')\n",
        "print(f'Test image with unsqueezed dimension: {test_img.unsqueeze(dim=0).shape}')\n",
        "\n",
        "# Sample MaxPool layer\n",
        "maxpool_layer = nn.MaxPool2d(kernel_size=3)\n",
        "\n",
        "# Passing to conv layer\n",
        "test_img_conv = conv_layer(test_img.unsqueeze(dim=0))\n",
        "print(f'Shape after passing through conv_layer: {test_img_conv.shape}')\n",
        "\n",
        "# Passing to the MaxPool\n",
        "test_img_conv_maxpool = maxpool_layer(test_img_conv)\n",
        "print(f'Shape after passing through conv_layer and MaxPool layer: {test_img_conv_maxpool.shape}')"
      ],
      "metadata": {
        "id": "EisK6kgsq1t-",
        "outputId": "c2e84871-0346-4f8a-da20-162481f1760a",
        "colab": {
          "base_uri": "https://localhost:8080/"
        }
      },
      "execution_count": 56,
      "outputs": [
        {
          "output_type": "stream",
          "name": "stdout",
          "text": [
            "Test image original shape: torch.Size([3, 64, 64])\n",
            "Test image with unsqueezed dimension: torch.Size([1, 3, 64, 64])\n",
            "Shape after passing through conv_layer: torch.Size([1, 10, 62, 62])\n",
            "Shape after passing through conv_layer and MaxPool layer: torch.Size([1, 10, 20, 20])\n"
          ]
        }
      ]
    },
    {
      "cell_type": "markdown",
      "source": [
        "- Try MaxPool with a smaller tensor."
      ],
      "metadata": {
        "id": "r1v59KPl-oa-"
      }
    },
    {
      "cell_type": "code",
      "source": [
        "torch.manual_seed(42)\n",
        "\n",
        "# Random tensor: same number of dimensions, but different dimension values\n",
        "rand_tensor = torch.randn(size=(1, 1, 2, 2))\n",
        "print(f'Random tensor:\\n{rand_tensor}')\n",
        "print(f'Random tensor shape: {rand_tensor.shape}')\n",
        "\n",
        "maxpool_layer = nn.MaxPool2d(kernel_size=2)\n",
        "\n",
        "# Passing the random tensor to the maxpool layer\n",
        "maxpooled_tensor = maxpool_layer(rand_tensor)\n",
        "print(f\"\\nMaxPooled tensor:\\n{maxpooled_tensor} <- Notice that this is the maximum value in the original random tensor\")\n",
        "print(f\"MaxPooled tensor shape: {maxpooled_tensor.shape}\")"
      ],
      "metadata": {
        "id": "8681G5iEtr6p",
        "colab": {
          "base_uri": "https://localhost:8080/"
        },
        "outputId": "fac373cf-a568-4c0e-b89b-862040e21ddd"
      },
      "execution_count": 57,
      "outputs": [
        {
          "output_type": "stream",
          "name": "stdout",
          "text": [
            "Random tensor:\n",
            "tensor([[[[0.3367, 0.1288],\n",
            "          [0.2345, 0.2303]]]])\n",
            "Random tensor shape: torch.Size([1, 1, 2, 2])\n",
            "\n",
            "MaxPooled tensor:\n",
            "tensor([[[[0.3367]]]]) <- Notice that this is the maximum value in the original random tensor\n",
            "MaxPooled tensor shape: torch.Size([1, 1, 1, 1])\n"
          ]
        }
      ]
    },
    {
      "cell_type": "markdown",
      "source": [
        "- Neural Networks Layers are technically compressing the data to a lower dimension.\n",
        "  - Find patterns in a set of numbers\n",
        "  - Represent thos patterns in a smaller set of numbers\n",
        "  - The new representation is still predictive because it retains a segnificant amount of the information\n",
        "- It can be said that Neural Networks interpret intilligence as compression."
      ],
      "metadata": {
        "id": "4HRmccu6BqeU"
      }
    },
    {
      "cell_type": "code",
      "source": [
        "# Using the AvgPool layer\n",
        "torch.manual_seed(42)\n",
        "\n",
        "t = torch.tensor(\n",
        "    [[[[1,2,3,4,5,6,7,8],\n",
        "       [1,2,3,4,5,6,7,8],\n",
        "       [1,2,3,4,5,6,7,8],\n",
        "       [1,2,3,4,5,6,7,8],\n",
        "       [1,2,3,4,5,6,7,8],\n",
        "       [1,2,3,4,5,6,7,8],\n",
        "       [1,2,3,4,5,6,7,8],\n",
        "       [1,2,3,4,5,6,7,8],]]],\n",
        "    dtype = torch.float\n",
        ")\n",
        "print(f'Our tensor {t.shape}')\n",
        "\n",
        "# rand_tensor = torch.randn(size=(1,1,8,8))\n",
        "# print(f'Our tensor:\\n{rand_tensor}')\n",
        "# print(f'Our tensor {rand_tensor.shape}')\n",
        "\n",
        "avgpool_layer = nn.AvgPool2d(kernel_size=4)\n",
        "\n",
        "# Passing the random tensor through the avgpool layer\n",
        "avgpooled_tensor = avgpool_layer(t)\n",
        "print(f'\\nAvgPooled tensor:\\n{avgpooled_tensor} <- we have the average value instead of the maximum value')\n",
        "print(f'AvgPooled tensor shape: {avgpooled_tensor.shape}')"
      ],
      "metadata": {
        "colab": {
          "base_uri": "https://localhost:8080/"
        },
        "id": "b5VAnaIWIwda",
        "outputId": "55b17e48-be03-481f-f891-35412511433e"
      },
      "execution_count": 58,
      "outputs": [
        {
          "output_type": "stream",
          "name": "stdout",
          "text": [
            "Our tensor torch.Size([1, 1, 8, 8])\n",
            "\n",
            "AvgPooled tensor:\n",
            "tensor([[[[2.5000, 6.5000],\n",
            "          [2.5000, 6.5000]]]]) <- we have the average value instead of the maximum value\n",
            "AvgPooled tensor shape: torch.Size([1, 1, 2, 2])\n"
          ]
        }
      ]
    },
    {
      "cell_type": "markdown",
      "source": [
        "### Setting Up Loss function and Optimizer"
      ],
      "metadata": {
        "id": "M6ELrb9ZWwo6"
      }
    },
    {
      "cell_type": "markdown",
      "source": [
        "- For model_2"
      ],
      "metadata": {
        "id": "4W-3ENuyW-5v"
      }
    },
    {
      "cell_type": "code",
      "source": [
        "loss_fn = nn.CrossEntropyLoss()\n",
        "\n",
        "optimizer = torch.optim.SGD(\n",
        "    model_2.parameters(),\n",
        "    lr = 0.1\n",
        ")"
      ],
      "metadata": {
        "id": "Ld8gtb1wLcYK"
      },
      "execution_count": 59,
      "outputs": []
    },
    {
      "cell_type": "markdown",
      "source": [
        "### Training and Testing model_2"
      ],
      "metadata": {
        "id": "F_7aaxiZYgKQ"
      }
    },
    {
      "cell_type": "markdown",
      "source": [
        "- Using our previously created functions\n",
        "- Measure time to compare with other models"
      ],
      "metadata": {
        "id": "7luOjMyBYtlW"
      }
    },
    {
      "cell_type": "code",
      "source": [
        "from timeit import default_timer as timer"
      ],
      "metadata": {
        "id": "KKCNtuhbYsyP"
      },
      "execution_count": 60,
      "outputs": []
    },
    {
      "cell_type": "code",
      "source": [
        "torch.manual_seed(42)\n",
        "\n",
        "start_time_model_2 = timer()\n",
        "\n",
        "# Train and test loop\n",
        "EPOCHS = 3\n",
        "\n",
        "for epoch in tqdm(range(EPOCHS)):\n",
        "    print(f\"-----Epoch: {epoch}\\n-----\")\n",
        "\n",
        "    ### Train ###\n",
        "    train_step(\n",
        "        data_loader = train_dataloader,\n",
        "        model = model_2,\n",
        "        loss_fn = loss_fn,\n",
        "        optimizer = optimizer,\n",
        "        accuracy_fn = accuracy_fn,\n",
        "        device = device\n",
        "    )\n",
        "\n",
        "    ### Test ###\n",
        "    test_step(\n",
        "        data_loader = test_dataloader,\n",
        "        model = model_2,\n",
        "        loss_fn = loss_fn,\n",
        "        accuracy_fn = accuracy_fn,\n",
        "        device = device\n",
        "    )\n",
        "\n",
        "end_time_model_2 = timer()\n",
        "total_train_time_model_2 = print_train_time(\n",
        "    start = start_time_model_2,\n",
        "    end = end_time_model_2,\n",
        "    device = device\n",
        ")"
      ],
      "metadata": {
        "colab": {
          "base_uri": "https://localhost:8080/",
          "height": 307,
          "referenced_widgets": [
            "41789f877e704ca48dbe3c1e4ee179f0",
            "889be33dc09849e1a5b03da8276af12b",
            "2e218594f6cf44e0828c29c4208448ae",
            "d1b7ca2c9ae549a98cca25d51cb92dc1",
            "c6bd6fe9becd45e9bcd22852395f1fc3",
            "94d4bec06025449481add6b44e4b6c38",
            "7ab5bf5cceb64215a9018fa80b92b958",
            "5c7c225c31cb403daf90600e5a060961",
            "86fd0844a0dc401cbb6296be369dfb3c",
            "a61911ef03f44215b24cb2024443d6aa",
            "f3270320833f4163acaab76697384c3f"
          ]
        },
        "id": "nMUF3y5bZade",
        "outputId": "bcc8ee0e-48e4-40e6-eb0f-086a1026a25e"
      },
      "execution_count": 61,
      "outputs": [
        {
          "output_type": "display_data",
          "data": {
            "text/plain": [
              "  0%|          | 0/3 [00:00<?, ?it/s]"
            ],
            "application/vnd.jupyter.widget-view+json": {
              "version_major": 2,
              "version_minor": 0,
              "model_id": "41789f877e704ca48dbe3c1e4ee179f0"
            }
          },
          "metadata": {}
        },
        {
          "output_type": "stream",
          "name": "stdout",
          "text": [
            "-----Epoch: 0\n",
            "-----\n",
            "Train Loss: 0.58868 | Train accuracy:  0.79%\n",
            "Test Loss: 0.39185 | Test Accuracy: 0.86%\n",
            "-----Epoch: 1\n",
            "-----\n",
            "Train Loss: 0.36047 | Train accuracy:  0.87%\n",
            "Test Loss: 0.35335 | Test Accuracy: 0.87%\n",
            "-----Epoch: 2\n",
            "-----\n",
            "Train Loss: 0.32493 | Train accuracy:  0.88%\n",
            "Test Loss: 0.32385 | Test Accuracy: 0.88%\n",
            "\n",
            "Train time on cuda: 39.703 seconds\n"
          ]
        }
      ]
    },
    {
      "cell_type": "code",
      "source": [
        "# Evaluate model_2 with test data\n",
        "model_2_eval_results = eval_model(\n",
        "    model = model_2,\n",
        "    data_loader = test_dataloader,\n",
        "    loss_fn = loss_fn,\n",
        "    accuracy_fn = accuracy_fn\n",
        ")\n",
        "model_2_eval_results"
      ],
      "metadata": {
        "id": "sLhvsN5n9XWL",
        "colab": {
          "base_uri": "https://localhost:8080/"
        },
        "outputId": "f590dedb-6ba9-4ca8-8001-4f8936be5422"
      },
      "execution_count": 62,
      "outputs": [
        {
          "output_type": "execute_result",
          "data": {
            "text/plain": [
              "{'model_name': 'FashionMNISTModelV2',\n",
              " 'model_loss': 0.3238508105278015,\n",
              " 'model_accuracy': 0.881589412689209}"
            ]
          },
          "metadata": {},
          "execution_count": 62
        }
      ]
    },
    {
      "cell_type": "markdown",
      "source": [
        "# Model Comparisons"
      ],
      "metadata": {
        "id": "d5geTctLzGiR"
      }
    },
    {
      "cell_type": "markdown",
      "source": [
        "- We now have 3 different models.\n",
        "  - Baseline Model: model_0\n",
        "  - Non-linear Model: model_1\n",
        "  - CNN Model: model_2"
      ],
      "metadata": {
        "id": "N5fRC_jUzOA-"
      }
    },
    {
      "cell_type": "code",
      "source": [
        "import pandas as pd"
      ],
      "metadata": {
        "id": "8RT_3NLu0wI3"
      },
      "execution_count": 63,
      "outputs": []
    },
    {
      "cell_type": "code",
      "source": [
        "# Putting these models' results in a dataframe\n",
        "models_eval_results = pd.DataFrame(\n",
        "    [\n",
        "        model_0_eval_results,\n",
        "        model_1_eval_results,\n",
        "        model_2_eval_results\n",
        "    ],\n",
        "    [\n",
        "        total_train_time_model_0,\n",
        "        total_train_time_model_1,\n",
        "        total_train_time_model_2\n",
        "    ]\n",
        ")\n",
        "models_eval_results"
      ],
      "metadata": {
        "colab": {
          "base_uri": "https://localhost:8080/",
          "height": 143
        },
        "id": "nW9f-bc5zNLQ",
        "outputId": "45eab8aa-0600-4112-dc36-215deec52b8e"
      },
      "execution_count": 64,
      "outputs": [
        {
          "output_type": "execute_result",
          "data": {
            "text/plain": [
              "                    model_name  model_loss  model_accuracy\n",
              "34.283174  FashionMNISTModelV0    0.476639        0.834265\n",
              "35.354297  FashionMNISTModelV1    0.685001        0.750200\n",
              "39.703421  FashionMNISTModelV2    0.323851        0.881589"
            ],
            "text/html": [
              "\n",
              "  <div id=\"df-ab10c3aa-bc6a-4631-8918-12582028eb8a\" class=\"colab-df-container\">\n",
              "    <div>\n",
              "<style scoped>\n",
              "    .dataframe tbody tr th:only-of-type {\n",
              "        vertical-align: middle;\n",
              "    }\n",
              "\n",
              "    .dataframe tbody tr th {\n",
              "        vertical-align: top;\n",
              "    }\n",
              "\n",
              "    .dataframe thead th {\n",
              "        text-align: right;\n",
              "    }\n",
              "</style>\n",
              "<table border=\"1\" class=\"dataframe\">\n",
              "  <thead>\n",
              "    <tr style=\"text-align: right;\">\n",
              "      <th></th>\n",
              "      <th>model_name</th>\n",
              "      <th>model_loss</th>\n",
              "      <th>model_accuracy</th>\n",
              "    </tr>\n",
              "  </thead>\n",
              "  <tbody>\n",
              "    <tr>\n",
              "      <th>34.283174</th>\n",
              "      <td>FashionMNISTModelV0</td>\n",
              "      <td>0.476639</td>\n",
              "      <td>0.834265</td>\n",
              "    </tr>\n",
              "    <tr>\n",
              "      <th>35.354297</th>\n",
              "      <td>FashionMNISTModelV1</td>\n",
              "      <td>0.685001</td>\n",
              "      <td>0.750200</td>\n",
              "    </tr>\n",
              "    <tr>\n",
              "      <th>39.703421</th>\n",
              "      <td>FashionMNISTModelV2</td>\n",
              "      <td>0.323851</td>\n",
              "      <td>0.881589</td>\n",
              "    </tr>\n",
              "  </tbody>\n",
              "</table>\n",
              "</div>\n",
              "    <div class=\"colab-df-buttons\">\n",
              "\n",
              "  <div class=\"colab-df-container\">\n",
              "    <button class=\"colab-df-convert\" onclick=\"convertToInteractive('df-ab10c3aa-bc6a-4631-8918-12582028eb8a')\"\n",
              "            title=\"Convert this dataframe to an interactive table.\"\n",
              "            style=\"display:none;\">\n",
              "\n",
              "  <svg xmlns=\"http://www.w3.org/2000/svg\" height=\"24px\" viewBox=\"0 -960 960 960\">\n",
              "    <path d=\"M120-120v-720h720v720H120Zm60-500h600v-160H180v160Zm220 220h160v-160H400v160Zm0 220h160v-160H400v160ZM180-400h160v-160H180v160Zm440 0h160v-160H620v160ZM180-180h160v-160H180v160Zm440 0h160v-160H620v160Z\"/>\n",
              "  </svg>\n",
              "    </button>\n",
              "\n",
              "  <style>\n",
              "    .colab-df-container {\n",
              "      display:flex;\n",
              "      gap: 12px;\n",
              "    }\n",
              "\n",
              "    .colab-df-convert {\n",
              "      background-color: #E8F0FE;\n",
              "      border: none;\n",
              "      border-radius: 50%;\n",
              "      cursor: pointer;\n",
              "      display: none;\n",
              "      fill: #1967D2;\n",
              "      height: 32px;\n",
              "      padding: 0 0 0 0;\n",
              "      width: 32px;\n",
              "    }\n",
              "\n",
              "    .colab-df-convert:hover {\n",
              "      background-color: #E2EBFA;\n",
              "      box-shadow: 0px 1px 2px rgba(60, 64, 67, 0.3), 0px 1px 3px 1px rgba(60, 64, 67, 0.15);\n",
              "      fill: #174EA6;\n",
              "    }\n",
              "\n",
              "    .colab-df-buttons div {\n",
              "      margin-bottom: 4px;\n",
              "    }\n",
              "\n",
              "    [theme=dark] .colab-df-convert {\n",
              "      background-color: #3B4455;\n",
              "      fill: #D2E3FC;\n",
              "    }\n",
              "\n",
              "    [theme=dark] .colab-df-convert:hover {\n",
              "      background-color: #434B5C;\n",
              "      box-shadow: 0px 1px 3px 1px rgba(0, 0, 0, 0.15);\n",
              "      filter: drop-shadow(0px 1px 2px rgba(0, 0, 0, 0.3));\n",
              "      fill: #FFFFFF;\n",
              "    }\n",
              "  </style>\n",
              "\n",
              "    <script>\n",
              "      const buttonEl =\n",
              "        document.querySelector('#df-ab10c3aa-bc6a-4631-8918-12582028eb8a button.colab-df-convert');\n",
              "      buttonEl.style.display =\n",
              "        google.colab.kernel.accessAllowed ? 'block' : 'none';\n",
              "\n",
              "      async function convertToInteractive(key) {\n",
              "        const element = document.querySelector('#df-ab10c3aa-bc6a-4631-8918-12582028eb8a');\n",
              "        const dataTable =\n",
              "          await google.colab.kernel.invokeFunction('convertToInteractive',\n",
              "                                                    [key], {});\n",
              "        if (!dataTable) return;\n",
              "\n",
              "        const docLinkHtml = 'Like what you see? Visit the ' +\n",
              "          '<a target=\"_blank\" href=https://colab.research.google.com/notebooks/data_table.ipynb>data table notebook</a>'\n",
              "          + ' to learn more about interactive tables.';\n",
              "        element.innerHTML = '';\n",
              "        dataTable['output_type'] = 'display_data';\n",
              "        await google.colab.output.renderOutput(dataTable, element);\n",
              "        const docLink = document.createElement('div');\n",
              "        docLink.innerHTML = docLinkHtml;\n",
              "        element.appendChild(docLink);\n",
              "      }\n",
              "    </script>\n",
              "  </div>\n",
              "\n",
              "\n",
              "<div id=\"df-ca644817-57cd-4887-b5ef-0f668efef326\">\n",
              "  <button class=\"colab-df-quickchart\" onclick=\"quickchart('df-ca644817-57cd-4887-b5ef-0f668efef326')\"\n",
              "            title=\"Suggest charts\"\n",
              "            style=\"display:none;\">\n",
              "\n",
              "<svg xmlns=\"http://www.w3.org/2000/svg\" height=\"24px\"viewBox=\"0 0 24 24\"\n",
              "     width=\"24px\">\n",
              "    <g>\n",
              "        <path d=\"M19 3H5c-1.1 0-2 .9-2 2v14c0 1.1.9 2 2 2h14c1.1 0 2-.9 2-2V5c0-1.1-.9-2-2-2zM9 17H7v-7h2v7zm4 0h-2V7h2v10zm4 0h-2v-4h2v4z\"/>\n",
              "    </g>\n",
              "</svg>\n",
              "  </button>\n",
              "\n",
              "<style>\n",
              "  .colab-df-quickchart {\n",
              "      --bg-color: #E8F0FE;\n",
              "      --fill-color: #1967D2;\n",
              "      --hover-bg-color: #E2EBFA;\n",
              "      --hover-fill-color: #174EA6;\n",
              "      --disabled-fill-color: #AAA;\n",
              "      --disabled-bg-color: #DDD;\n",
              "  }\n",
              "\n",
              "  [theme=dark] .colab-df-quickchart {\n",
              "      --bg-color: #3B4455;\n",
              "      --fill-color: #D2E3FC;\n",
              "      --hover-bg-color: #434B5C;\n",
              "      --hover-fill-color: #FFFFFF;\n",
              "      --disabled-bg-color: #3B4455;\n",
              "      --disabled-fill-color: #666;\n",
              "  }\n",
              "\n",
              "  .colab-df-quickchart {\n",
              "    background-color: var(--bg-color);\n",
              "    border: none;\n",
              "    border-radius: 50%;\n",
              "    cursor: pointer;\n",
              "    display: none;\n",
              "    fill: var(--fill-color);\n",
              "    height: 32px;\n",
              "    padding: 0;\n",
              "    width: 32px;\n",
              "  }\n",
              "\n",
              "  .colab-df-quickchart:hover {\n",
              "    background-color: var(--hover-bg-color);\n",
              "    box-shadow: 0 1px 2px rgba(60, 64, 67, 0.3), 0 1px 3px 1px rgba(60, 64, 67, 0.15);\n",
              "    fill: var(--button-hover-fill-color);\n",
              "  }\n",
              "\n",
              "  .colab-df-quickchart-complete:disabled,\n",
              "  .colab-df-quickchart-complete:disabled:hover {\n",
              "    background-color: var(--disabled-bg-color);\n",
              "    fill: var(--disabled-fill-color);\n",
              "    box-shadow: none;\n",
              "  }\n",
              "\n",
              "  .colab-df-spinner {\n",
              "    border: 2px solid var(--fill-color);\n",
              "    border-color: transparent;\n",
              "    border-bottom-color: var(--fill-color);\n",
              "    animation:\n",
              "      spin 1s steps(1) infinite;\n",
              "  }\n",
              "\n",
              "  @keyframes spin {\n",
              "    0% {\n",
              "      border-color: transparent;\n",
              "      border-bottom-color: var(--fill-color);\n",
              "      border-left-color: var(--fill-color);\n",
              "    }\n",
              "    20% {\n",
              "      border-color: transparent;\n",
              "      border-left-color: var(--fill-color);\n",
              "      border-top-color: var(--fill-color);\n",
              "    }\n",
              "    30% {\n",
              "      border-color: transparent;\n",
              "      border-left-color: var(--fill-color);\n",
              "      border-top-color: var(--fill-color);\n",
              "      border-right-color: var(--fill-color);\n",
              "    }\n",
              "    40% {\n",
              "      border-color: transparent;\n",
              "      border-right-color: var(--fill-color);\n",
              "      border-top-color: var(--fill-color);\n",
              "    }\n",
              "    60% {\n",
              "      border-color: transparent;\n",
              "      border-right-color: var(--fill-color);\n",
              "    }\n",
              "    80% {\n",
              "      border-color: transparent;\n",
              "      border-right-color: var(--fill-color);\n",
              "      border-bottom-color: var(--fill-color);\n",
              "    }\n",
              "    90% {\n",
              "      border-color: transparent;\n",
              "      border-bottom-color: var(--fill-color);\n",
              "    }\n",
              "  }\n",
              "</style>\n",
              "\n",
              "  <script>\n",
              "    async function quickchart(key) {\n",
              "      const quickchartButtonEl =\n",
              "        document.querySelector('#' + key + ' button');\n",
              "      quickchartButtonEl.disabled = true;  // To prevent multiple clicks.\n",
              "      quickchartButtonEl.classList.add('colab-df-spinner');\n",
              "      try {\n",
              "        const charts = await google.colab.kernel.invokeFunction(\n",
              "            'suggestCharts', [key], {});\n",
              "      } catch (error) {\n",
              "        console.error('Error during call to suggestCharts:', error);\n",
              "      }\n",
              "      quickchartButtonEl.classList.remove('colab-df-spinner');\n",
              "      quickchartButtonEl.classList.add('colab-df-quickchart-complete');\n",
              "    }\n",
              "    (() => {\n",
              "      let quickchartButtonEl =\n",
              "        document.querySelector('#df-ca644817-57cd-4887-b5ef-0f668efef326 button');\n",
              "      quickchartButtonEl.style.display =\n",
              "        google.colab.kernel.accessAllowed ? 'block' : 'none';\n",
              "    })();\n",
              "  </script>\n",
              "</div>\n",
              "\n",
              "  <div id=\"id_bf2ec6d7-7c58-43dd-b183-e2f4f4ca2c58\">\n",
              "    <style>\n",
              "      .colab-df-generate {\n",
              "        background-color: #E8F0FE;\n",
              "        border: none;\n",
              "        border-radius: 50%;\n",
              "        cursor: pointer;\n",
              "        display: none;\n",
              "        fill: #1967D2;\n",
              "        height: 32px;\n",
              "        padding: 0 0 0 0;\n",
              "        width: 32px;\n",
              "      }\n",
              "\n",
              "      .colab-df-generate:hover {\n",
              "        background-color: #E2EBFA;\n",
              "        box-shadow: 0px 1px 2px rgba(60, 64, 67, 0.3), 0px 1px 3px 1px rgba(60, 64, 67, 0.15);\n",
              "        fill: #174EA6;\n",
              "      }\n",
              "\n",
              "      [theme=dark] .colab-df-generate {\n",
              "        background-color: #3B4455;\n",
              "        fill: #D2E3FC;\n",
              "      }\n",
              "\n",
              "      [theme=dark] .colab-df-generate:hover {\n",
              "        background-color: #434B5C;\n",
              "        box-shadow: 0px 1px 3px 1px rgba(0, 0, 0, 0.15);\n",
              "        filter: drop-shadow(0px 1px 2px rgba(0, 0, 0, 0.3));\n",
              "        fill: #FFFFFF;\n",
              "      }\n",
              "    </style>\n",
              "    <button class=\"colab-df-generate\" onclick=\"generateWithVariable('models_eval_results')\"\n",
              "            title=\"Generate code using this dataframe.\"\n",
              "            style=\"display:none;\">\n",
              "\n",
              "  <svg xmlns=\"http://www.w3.org/2000/svg\" height=\"24px\"viewBox=\"0 0 24 24\"\n",
              "       width=\"24px\">\n",
              "    <path d=\"M7,19H8.4L18.45,9,17,7.55,7,17.6ZM5,21V16.75L18.45,3.32a2,2,0,0,1,2.83,0l1.4,1.43a1.91,1.91,0,0,1,.58,1.4,1.91,1.91,0,0,1-.58,1.4L9.25,21ZM18.45,9,17,7.55Zm-12,3A5.31,5.31,0,0,0,4.9,8.1,5.31,5.31,0,0,0,1,6.5,5.31,5.31,0,0,0,4.9,4.9,5.31,5.31,0,0,0,6.5,1,5.31,5.31,0,0,0,8.1,4.9,5.31,5.31,0,0,0,12,6.5,5.46,5.46,0,0,0,6.5,12Z\"/>\n",
              "  </svg>\n",
              "    </button>\n",
              "    <script>\n",
              "      (() => {\n",
              "      const buttonEl =\n",
              "        document.querySelector('#id_bf2ec6d7-7c58-43dd-b183-e2f4f4ca2c58 button.colab-df-generate');\n",
              "      buttonEl.style.display =\n",
              "        google.colab.kernel.accessAllowed ? 'block' : 'none';\n",
              "\n",
              "      buttonEl.onclick = () => {\n",
              "        google.colab.notebook.generateWithVariable('models_eval_results');\n",
              "      }\n",
              "      })();\n",
              "    </script>\n",
              "  </div>\n",
              "\n",
              "    </div>\n",
              "  </div>\n"
            ],
            "application/vnd.google.colaboratory.intrinsic+json": {
              "type": "dataframe",
              "variable_name": "models_eval_results",
              "summary": "{\n  \"name\": \"models_eval_results\",\n  \"rows\": 3,\n  \"fields\": [\n    {\n      \"column\": \"model_name\",\n      \"properties\": {\n        \"dtype\": \"string\",\n        \"num_unique_values\": 3,\n        \"samples\": [\n          \"FashionMNISTModelV0\",\n          \"FashionMNISTModelV1\",\n          \"FashionMNISTModelV2\"\n        ],\n        \"semantic_type\": \"\",\n        \"description\": \"\"\n      }\n    },\n    {\n      \"column\": \"model_loss\",\n      \"properties\": {\n        \"dtype\": \"number\",\n        \"std\": 0.18128628447873768,\n        \"min\": 0.3238508105278015,\n        \"max\": 0.6850008964538574,\n        \"num_unique_values\": 3,\n        \"samples\": [\n          0.47663894295692444,\n          0.6850008964538574,\n          0.3238508105278015\n        ],\n        \"semantic_type\": \"\",\n        \"description\": \"\"\n      }\n    },\n    {\n      \"column\": \"model_accuracy\",\n      \"properties\": {\n        \"dtype\": \"number\",\n        \"std\": 0.06654554143189217,\n        \"min\": 0.7501996755599976,\n        \"max\": 0.881589412689209,\n        \"num_unique_values\": 3,\n        \"samples\": [\n          0.8342651724815369,\n          0.7501996755599976,\n          0.881589412689209\n        ],\n        \"semantic_type\": \"\",\n        \"description\": \"\"\n      }\n    }\n  ]\n}"
            }
          },
          "metadata": {},
          "execution_count": 64
        }
      ]
    },
    {
      "cell_type": "markdown",
      "source": [
        "- Larger and more complex models perform better but at the cost of longer training time (slower speed performance).\n",
        "- This also relies on the hardware."
      ],
      "metadata": {
        "id": "p_hHfFwS3kFJ"
      }
    },
    {
      "cell_type": "code",
      "source": [
        "# Visualization of the results\n",
        "models_eval_results.set_index(\"model_name\")[\"model_loss\"].plot(kind=\"barh\")\n",
        "plt.xlabel(\"loss\")\n",
        "plt.ylabel(\"model\");"
      ],
      "metadata": {
        "colab": {
          "base_uri": "https://localhost:8080/",
          "height": 405
        },
        "id": "BVKP3f092izx",
        "outputId": "f830f3cc-afa6-4eb7-f9d0-d780ee600488"
      },
      "execution_count": 65,
      "outputs": [
        {
          "output_type": "display_data",
          "data": {
            "text/plain": [
              "<Figure size 640x480 with 1 Axes>"
            ],
            "image/png": "[encoded data removed]"
          },
          "metadata": {}
        }
      ]
    },
    {
      "cell_type": "code",
      "source": [
        "# Visualization of the results\n",
        "models_eval_results.set_index(\"model_name\")[\"model_accuracy\"].plot(kind=\"barh\")\n",
        "plt.xlabel(\"accuracy\")\n",
        "plt.ylabel(\"model\");"
      ],
      "metadata": {
        "colab": {
          "base_uri": "https://localhost:8080/",
          "height": 405
        },
        "id": "zyHW4wZ9BglK",
        "outputId": "b9b18c9c-4351-439c-b89f-92b1d6c94237"
      },
      "execution_count": 66,
      "outputs": [
        {
          "output_type": "display_data",
          "data": {
            "text/plain": [
              "<Figure size 640x480 with 1 Axes>"
            ],
            "image/png": "[encoded data removed]"
          },
          "metadata": {}
        }
      ]
    },
    {
      "cell_type": "markdown",
      "source": [
        "# Choosing the best model"
      ],
      "metadata": {
        "id": "8UlrwgtkCZ62"
      }
    },
    {
      "cell_type": "markdown",
      "source": [
        "- Best model: model_2\n",
        "- It is a good idea to create a function to make predictions taking some data."
      ],
      "metadata": {
        "id": "YCLNzAguCjDZ"
      }
    },
    {
      "cell_type": "code",
      "source": [
        "def make_predictions(model: nn.Module,\n",
        "                     data: list,\n",
        "                     device: torch.device = device):\n",
        "\n",
        "    pred_probs = []\n",
        "\n",
        "    model.eval()\n",
        "    with torch.inference_mode():\n",
        "        for sample in data:\n",
        "            # sample preparation\n",
        "            sample = torch.unsqueeze(sample, dim=0).to(device)\n",
        "\n",
        "            # forward pass: outputs raw logits\n",
        "            pred_logits = model(sample)\n",
        "\n",
        "            # Get prediction probability\n",
        "            pred_prob = torch.softmax(pred_logits.squeeze(), dim=0)\n",
        "\n",
        "            pred_probs.append(pred_prob.cpu()) # It is better to get pred_prob off GPU for further calculations\n",
        "\n",
        "    return torch.stack(pred_probs) # torch.stack: turns list into tensor"
      ],
      "metadata": {
        "id": "XeWHafLzCU4S"
      },
      "execution_count": 67,
      "outputs": []
    },
    {
      "cell_type": "code",
      "source": [
        "import random"
      ],
      "metadata": {
        "id": "beEztO-tI4hQ"
      },
      "execution_count": 68,
      "outputs": []
    },
    {
      "cell_type": "code",
      "source": [
        "random.seed(42)\n",
        "\n",
        "test_samples = []\n",
        "test_labels = []\n",
        "\n",
        "for sample, label in random.sample(list(test_data), k=18): # k: number of samples\n",
        "    test_samples.append(sample)\n",
        "    test_labels.append(label)\n",
        "\n",
        "print(f\"Image shape of the test sample: {test_samples[0].shape}\")\n",
        "print(f\"Test sample label: {test_labels[0]} {class_names[test_labels[0]]}\")"
      ],
      "metadata": {
        "colab": {
          "base_uri": "https://localhost:8080/"
        },
        "id": "Nt2qXMwlJFyc",
        "outputId": "e98b11d9-ec58-4ddf-935c-9e49b3849ee1"
      },
      "execution_count": 69,
      "outputs": [
        {
          "output_type": "stream",
          "name": "stdout",
          "text": [
            "Image shape of the test sample: torch.Size([1, 28, 28])\n",
            "Test sample label: 5 Sandal\n"
          ]
        }
      ]
    },
    {
      "cell_type": "code",
      "source": [
        "# Making predictions\n",
        "\n",
        "pred_probs = make_predictions(model = model_2,\n",
        "                              data = test_samples)\n",
        "print(pred_probs[:4])\n",
        "\n",
        "pred_classes = pred_probs.argmax(dim=1)\n",
        "print(\"\\n\"+str(pred_classes))"
      ],
      "metadata": {
        "colab": {
          "base_uri": "https://localhost:8080/"
        },
        "id": "JbqAsu8dKPMq",
        "outputId": "842f7e64-2544-4954-8acf-16e1a56d0029"
      },
      "execution_count": 70,
      "outputs": [
        {
          "output_type": "stream",
          "name": "stdout",
          "text": [
            "tensor([[7.1457e-08, 2.1357e-09, 6.2326e-09, 5.6817e-08, 1.3452e-09, 9.9996e-01,\n",
            "         1.5420e-08, 7.1560e-06, 2.4934e-05, 8.3641e-06],\n",
            "        [1.2148e-01, 3.8149e-01, 4.6408e-03, 5.1014e-02, 1.1214e-01, 9.0493e-05,\n",
            "         3.2798e-01, 2.7714e-04, 4.2588e-04, 4.4953e-04],\n",
            "        [9.1832e-06, 3.0677e-07, 1.4048e-05, 4.5492e-06, 5.2476e-06, 2.4432e-04,\n",
            "         6.5450e-06, 8.6032e-01, 9.2485e-04, 1.3847e-01],\n",
            "        [6.1463e-04, 1.0548e-04, 9.8089e-02, 1.3127e-03, 8.9855e-01, 3.7060e-06,\n",
            "         9.2484e-04, 2.1205e-05, 3.7032e-04, 1.1663e-05]])\n",
            "\n",
            "tensor([5, 1, 7, 4, 3, 0, 4, 7, 1, 9, 7, 2, 0, 1, 0, 3, 5, 4])\n"
          ]
        }
      ]
    },
    {
      "cell_type": "code",
      "source": [
        "# compare test labels to predictions' labels\n",
        "# pred_classes, test_labels"
      ],
      "metadata": {
        "id": "QNZrh5tELC-e"
      },
      "execution_count": 71,
      "outputs": []
    },
    {
      "cell_type": "code",
      "source": [
        "# Plot predictions\n",
        "plt.figure(figsize=(9,9))\n",
        "\n",
        "for i, sample in enumerate(test_samples):\n",
        "    # Create a subplot\n",
        "    plt.subplot(6, 3, i+1)\n",
        "\n",
        "    # Plot the target image\n",
        "    plt.imshow(sample.squeeze(), cmap=\"gray\")\n",
        "\n",
        "    # Get the predicted label\n",
        "    pred_label = class_names[pred_classes[i]]\n",
        "\n",
        "    # Get the truth label\n",
        "    truth_label = class_names[test_labels[i]]\n",
        "\n",
        "    # Put proper title\n",
        "    title = f\"Pred: {pred_label} | Truth: {truth_label}\"\n",
        "\n",
        "    # Make green color for a correct prediction and red color for wrong one\n",
        "    if pred_label == truth_label:\n",
        "        plt.title(title, fontsize=10, c=\"g\")\n",
        "    else:\n",
        "        plt.title(title, fontsize=10, c=\"r\")\n",
        "\n",
        "    plt.axis(False);"
      ],
      "metadata": {
        "id": "MOo5CNhaVsys",
        "outputId": "345d77c4-1ecb-4be5-a9dc-10873d059530",
        "colab": {
          "base_uri": "https://localhost:8080/",
          "height": 627
        }
      },
      "execution_count": 72,
      "outputs": [
        {
          "output_type": "display_data",
          "data": {
            "text/plain": [
              "<Figure size 900x900 with 18 Axes>"
            ],
            "image/png": "[encoded data removed]"
          },
          "metadata": {}
        }
      ]
    },
    {
      "cell_type": "markdown",
      "source": [
        "# Evalutation With A Confusion Matrix"
      ],
      "metadata": {
        "id": "H3bK1rQFApg9"
      }
    },
    {
      "cell_type": "markdown",
      "source": [
        "- Visual Metric\n",
        "- Shows the model's confusion between predictions and true labels."
      ],
      "metadata": {
        "id": "38iTrYfOBBm9"
      }
    },
    {
      "cell_type": "code",
      "source": [
        "from tqdm.auto import tqdm # Processing bar"
      ],
      "metadata": {
        "id": "FOvR5VM-AzrH"
      },
      "execution_count": 73,
      "outputs": []
    },
    {
      "cell_type": "code",
      "source": [
        "# model_2 predictions\n",
        "\n",
        "y_preds = []\n",
        "model_2.eval()\n",
        "\n",
        "with torch.inference_mode():\n",
        "    for X, y in tqdm(test_dataloader, desc=\"Making Predictions\"):\n",
        "        X, y = X.to(device), y.to(device)\n",
        "        y_logits = model_2(X)\n",
        "        y_pred = torch.softmax(y_logits, dim=1).argmax(dim=1)\n",
        "        y_preds.append(y_pred.cpu())\n",
        "\n",
        "y_pred_tensor = torch.cat(y_preds)"
      ],
      "metadata": {
        "id": "IImhQXS-Chnx",
        "outputId": "1823f77a-fbe6-412c-e7cd-b7e1e7911ced",
        "colab": {
          "base_uri": "https://localhost:8080/",
          "height": 49,
          "referenced_widgets": [
            "c792f82bd1fe4774ad0fa60d365935ff",
            "cdd2b3e243f441e18f55e8b2a276743e",
            "212b6a445dfc4251a6509f65dce42b35",
            "2c26e412ae104e719354f993bfdbb348",
            "186bec43352b4f62a8bf1c27da5759b6",
            "d8700d08a0ce468fbe52579dcdbfa726",
            "c64b49a44360449eb87114467977a376",
            "86e94d4950324a5fb1b436ea964ce041",
            "ca68a335a4694ea0ba19fb99c36b49e4",
            "1cc7a887693f4697b47eae1950c6b459",
            "085977a64d6248479dec592a1ff3f9f8"
          ]
        }
      },
      "execution_count": 87,
      "outputs": [
        {
          "output_type": "display_data",
          "data": {
            "text/plain": [
              "Making Predictions:   0%|          | 0/313 [00:00<?, ?it/s]"
            ],
            "application/vnd.jupyter.widget-view+json": {
              "version_major": 2,
              "version_minor": 0,
              "model_id": "c792f82bd1fe4774ad0fa60d365935ff"
            }
          },
          "metadata": {}
        }
      ]
    },
    {
      "cell_type": "code",
      "source": [],
      "metadata": {
        "id": "20YVZjzfFITY"
      },
      "execution_count": null,
      "outputs": []
    },
    {
      "cell_type": "code",
      "source": [
        "g1 = torch.tensor([1,2,3])\n",
        "g2 = torch.tensor([1,2,3])\n",
        "gg = torch.cat([g1,g2])"
      ],
      "metadata": {
        "id": "jVLndKAuEE8E"
      },
      "execution_count": 83,
      "outputs": []
    },
    {
      "cell_type": "code",
      "source": [
        "gg"
      ],
      "metadata": {
        "id": "_7CUTfWiE04e",
        "outputId": "bfd4d642-952a-4b95-a757-d20cb66527ac",
        "colab": {
          "base_uri": "https://localhost:8080/"
        }
      },
      "execution_count": 84,
      "outputs": [
        {
          "output_type": "execute_result",
          "data": {
            "text/plain": [
              "tensor([1, 2, 3, 1, 2, 3])"
            ]
          },
          "metadata": {},
          "execution_count": 84
        }
      ]
    },
    {
      "cell_type": "markdown",
      "source": [
        "If you found something wrong, please contact me at: muhammadhelmymmo@gmail.com"
      ],
      "metadata": {
        "id": "0-jJS1UdIMTN"
      }
    }
  ]
}