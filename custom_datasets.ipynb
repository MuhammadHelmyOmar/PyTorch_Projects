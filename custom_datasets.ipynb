{
  "nbformat": 4,
  "nbformat_minor": 0,
  "metadata": {
    "colab": {
      "provenance": [],
      "toc_visible": true,
      "authorship_tag": "ABX9TyP2+lHXS6yYUi1G8JfQ5k5M",
      "include_colab_link": true
    },
    "kernelspec": {
      "name": "python3",
      "display_name": "Python 3"
    },
    "language_info": {
      "name": "python"
    }
  },
  "cells": [
    {
      "cell_type": "markdown",
      "metadata": {
        "id": "view-in-github",
        "colab_type": "text"
      },
      "source": [
        "<a href=\"https://colab.research.google.com/github/MuhammadHelmyOmar/PyTorch_Projects/blob/main/custom_datasets.ipynb\" target=\"_parent\"><img src=\"https://colab.research.google.com/assets/colab-badge.svg\" alt=\"Open In Colab\"/></a>"
      ]
    },
    {
      "cell_type": "markdown",
      "source": [
        "# Recap"
      ],
      "metadata": {
        "id": "mCcUgmhR43El"
      }
    },
    {
      "cell_type": "markdown",
      "source": [
        "Steps to solve a machine learning problem:\n",
        "1. Find a dataset\n",
        "2. Turn the dataset into numbers\n",
        "3. Create a model or find a pretrained one to extract the patterns in the data for prediction"
      ],
      "metadata": {
        "id": "oTdoQWu0STDs"
      }
    },
    {
      "cell_type": "markdown",
      "source": [
        "# Intro"
      ],
      "metadata": {
        "id": "3N6AP54GtHtG"
      }
    },
    {
      "cell_type": "markdown",
      "source": [
        "- Custom Data: a collection of data relating to your problem.\n",
        "- PyTorch provides functions to load in different custom datasets in the **TorchVision**, **TorchText**, **TorchAudio**, and **TorchRec** domain libraries.\n",
        "- If the previous functions are not enough, we can subclass **torch.utils.data.Dataset** and customize it to our needs.\n",
        "- In this notebook, we will not use an in-built PyTorch dataset.\n",
        "- We will load a custom dataset and train a model on it.\n",
        "\n"
      ],
      "metadata": {
        "id": "ZeI28jrvtkIv"
      }
    },
    {
      "cell_type": "markdown",
      "source": [
        "# Setting up environment"
      ],
      "metadata": {
        "id": "Q4xG5UcCJV5I"
      }
    },
    {
      "cell_type": "code",
      "source": [
        "import torch\n",
        "from torch import nn\n",
        "\n",
        "torch.__version__"
      ],
      "metadata": {
        "id": "dbquGT-bJlA2",
        "colab": {
          "base_uri": "https://localhost:8080/",
          "height": 35
        },
        "outputId": "eb8817b4-09ac-4183-b95e-e6cf43c2fdfc"
      },
      "execution_count": 1,
      "outputs": [
        {
          "output_type": "execute_result",
          "data": {
            "text/plain": [
              "'2.6.0+cu124'"
            ],
            "application/vnd.google.colaboratory.intrinsic+json": {
              "type": "string"
            }
          },
          "metadata": {},
          "execution_count": 1
        }
      ]
    },
    {
      "cell_type": "code",
      "execution_count": 2,
      "metadata": {
        "id": "SKYl1-Xj3UNh",
        "colab": {
          "base_uri": "https://localhost:8080/",
          "height": 35
        },
        "outputId": "f3e92522-5998-47da-e266-e80acda360a5"
      },
      "outputs": [
        {
          "output_type": "execute_result",
          "data": {
            "text/plain": [
              "'cpu'"
            ],
            "application/vnd.google.colaboratory.intrinsic+json": {
              "type": "string"
            }
          },
          "metadata": {},
          "execution_count": 2
        }
      ],
      "source": [
        "# Using a device-agnostic code is a best practice in DL\n",
        "\n",
        "device = \"cuda\" if torch.cuda.is_available() else \"cpu\"\n",
        "device"
      ]
    },
    {
      "cell_type": "markdown",
      "source": [
        "# Setting up Data"
      ],
      "metadata": {
        "id": "JCnUOmmkTnih"
      }
    },
    {
      "cell_type": "markdown",
      "source": [
        "- Start with existing data.\n",
        "- We will use a subset of the [Food-101](https://data.vision.ee.ethz.ch/cvl/datasets_extra/food-101/) dataset.\n",
        "- Food-101 splits to:\n",
        "    - 1000 images of 101 different kinds of foods = 101,000 total images\n",
        "    - 750,750 for training and 250,250 for testing\n",
        "- Food-101 is included in PyTorch now."
      ],
      "metadata": {
        "id": "ufL3yhUZT68y"
      }
    },
    {
      "cell_type": "markdown",
      "source": [
        "## Formatting the custom data"
      ],
      "metadata": {
        "id": "YbcWeywwfwXf"
      }
    },
    {
      "cell_type": "markdown",
      "source": [
        "- We will start with three food classes: Sushi, Pizza, and Steak."
      ],
      "metadata": {
        "id": "kPSKrmxifz0Q"
      }
    },
    {
      "cell_type": "markdown",
      "source": [
        "### Data Creation"
      ],
      "metadata": {
        "id": "XKKnosGSZHc5"
      }
    },
    {
      "cell_type": "code",
      "source": [
        "# import torchvision as tv\n",
        "# import pathlib # Setting up data directory\n",
        "\n",
        "# tv.__version__\n",
        "# data_dir = pathlib.Path(\"../data\")"
      ],
      "metadata": {
        "id": "S_WwLuIkgsNH"
      },
      "execution_count": 3,
      "outputs": []
    },
    {
      "cell_type": "code",
      "source": [
        "# train_data = tv.datasets.Food101(root = data_dir,\n",
        "#                          split = \"train\",\n",
        "#                          download = True)\n",
        "\n",
        "# test_data = tv.datasets.Food101(root = data_dir,\n",
        "#                                 split = \"test\",\n",
        "#                                 download = True)"
      ],
      "metadata": {
        "id": "6wopWbj5ow6n"
      },
      "execution_count": 4,
      "outputs": []
    },
    {
      "cell_type": "code",
      "source": [
        "# train_data, test_data"
      ],
      "metadata": {
        "id": "iBfEyeGRpAlg"
      },
      "execution_count": 5,
      "outputs": []
    },
    {
      "cell_type": "code",
      "source": [
        "# class_names = train_data.classes\n",
        "# print(len(class_names))\n",
        "# class_names[:20]"
      ],
      "metadata": {
        "id": "rZq54tf_JYFL"
      },
      "execution_count": 6,
      "outputs": []
    },
    {
      "cell_type": "code",
      "source": [
        "# # View a sample image\n",
        "\n",
        "# print(class_names[train_data[1000][1]])\n",
        "# train_data[1000][0]"
      ],
      "metadata": {
        "id": "NdRdlml1Jlhc"
      },
      "execution_count": 7,
      "outputs": []
    },
    {
      "cell_type": "markdown",
      "source": [
        "### Subseting appropriate classes"
      ],
      "metadata": {
        "id": "oRWUJ6tvZLRs"
      }
    },
    {
      "cell_type": "markdown",
      "source": [
        "- Copy 10% random images of the specified classes to a separate folders."
      ],
      "metadata": {
        "id": "gFAZ820jZV91"
      }
    },
    {
      "cell_type": "code",
      "source": [
        "# import random"
      ],
      "metadata": {
        "id": "VFEBP_PpY5sF"
      },
      "execution_count": 8,
      "outputs": []
    },
    {
      "cell_type": "code",
      "source": [
        "# data_path = data_dir / \"food-101\" / \"images\"\n",
        "# target_classes = [\"pizza\", \"steak\", \"sushi\"]\n",
        "\n",
        "# DATA_AMOUNT = 0.1\n",
        "\n",
        "# def get_subset(data_path,\n",
        "#                data_splits = ['train', 'test'],\n",
        "#                target_classes = ['pizza', 'steak', 'sushi'],\n",
        "#                amount = 0.1,\n",
        "#                seed = 42):\n",
        "\n",
        "#     random.seed(seed)\n",
        "#     label_splits = {}\n",
        "\n",
        "#     for data_split in data_splits:\n",
        "\n",
        "#         print(f\"[INFO] Creating {data_split} split..\")\n",
        "\n",
        "#         label_path = data_dir / \"food-101\" / \"meta\" / f\"{data_split}.txt\"\n",
        "#         with open(label_path, 'r') as f:\n",
        "#             labels = [line.strip(\"\\n\") for line in f.readlines() if line.split(\"/\")[0] in target_classes]\n",
        "\n",
        "#         # Extracting a random subset\n",
        "#         n_samples = round(amount * len(labels))\n",
        "#         print(f\"[INFO] Extracting random subset of {n_samples} images for {data_split}..\")\n",
        "#         sample_images = random.sample(labels, k = n_samples)\n",
        "\n",
        "#         # Apply full path\n",
        "#         image_paths = [pathlib.Path(str(data_path / sample_image) + \".jpg\") for sample_image in sample_images]\n",
        "#         label_splits[data_split] = image_paths\n",
        "\n",
        "#     return label_splits"
      ],
      "metadata": {
        "id": "4qLFQoQFvtnu"
      },
      "execution_count": 9,
      "outputs": []
    },
    {
      "cell_type": "code",
      "source": [
        "# label_splits = get_subset(data_path = data_path, amount = DATA_AMOUNT)\n",
        "# label_splits.keys(), label_splits['test'][:14]"
      ],
      "metadata": {
        "id": "zzcbKM9LW9R3"
      },
      "execution_count": 10,
      "outputs": []
    },
    {
      "cell_type": "markdown",
      "source": [
        "### Moving images to dedicated folders"
      ],
      "metadata": {
        "id": "KWeNgS22nCK8"
      }
    },
    {
      "cell_type": "code",
      "source": [
        "# # Create target directory path\n",
        "# target_dir_name = f\"../data/pizza_steak_sushi_{str(int(DATA_AMOUNT*100))}_precent\"\n",
        "# print(f\"Creating directory: '{target_dir_name}'\")\n",
        "\n",
        "# # Set up the directories\n",
        "# target_dir = pathlib.Path(target_dir_name)\n",
        "# # Make the directories\n",
        "# target_dir.mkdir(parents = True, exist_ok = True)"
      ],
      "metadata": {
        "id": "PTgOibBFXXHu"
      },
      "execution_count": 11,
      "outputs": []
    },
    {
      "cell_type": "code",
      "source": [
        "# print(target_dir)"
      ],
      "metadata": {
        "id": "qy7pngqLGQz3"
      },
      "execution_count": 12,
      "outputs": []
    },
    {
      "cell_type": "code",
      "source": [
        "# import shutil # Stands for shell utilities and provides some operations on files"
      ],
      "metadata": {
        "id": "Tc1mCz-V6-Vo"
      },
      "execution_count": 13,
      "outputs": []
    },
    {
      "cell_type": "code",
      "source": [
        "# for data_split in label_splits.keys():\n",
        "#     for image_path in label_splits[str(data_split)]:\n",
        "#         dest_dir = target_dir / data_split / image_path.parent.stem / image_path.name\n",
        "\n",
        "#         if not dest_dir.parent.is_dir():\n",
        "#             dest_dir.parent.mkdir(parents=True, exist_ok=True)\n",
        "\n",
        "#         print(f\"[INFO] Copying {image_path} to {dest_dir}..\")\n",
        "#         shutil.copy2(image_path, dest_dir) # Copyting files while preserving metadata"
      ],
      "metadata": {
        "id": "attYzGFxFhKI"
      },
      "execution_count": 14,
      "outputs": []
    },
    {
      "cell_type": "code",
      "source": [
        "# Trace directories\n",
        "\n",
        "def trace_dir(dir_path):\n",
        "    \"\"\"\n",
        "    Walk through directories printing its contents.\n",
        "\n",
        "    Args:\n",
        "        dir_path (str): target directory\n",
        "\n",
        "    Returns:\n",
        "        A print out of:\n",
        "            number of subdirectories in dir_path\n",
        "            number of images (files) in each subdirectory\n",
        "            number of each subdirectory\n",
        "    \"\"\"\n",
        "\n",
        "    import os\n",
        "\n",
        "    for subdir_path, subdir_names, file_names in os.walk(dir_path):\n",
        "        print(f\"There are {len(subdir_names)} and {len(file_names)} images in '{subdir_path}'\")"
      ],
      "metadata": {
        "id": "qdaOA09GXGBC"
      },
      "execution_count": 15,
      "outputs": []
    },
    {
      "cell_type": "code",
      "source": [
        "# trace_dir(target_dir)"
      ],
      "metadata": {
        "id": "7-tHqVTchTEm"
      },
      "execution_count": 16,
      "outputs": []
    },
    {
      "cell_type": "markdown",
      "source": [
        "### Zipping up images folder"
      ],
      "metadata": {
        "id": "JMwPG4xKo_8X"
      }
    },
    {
      "cell_type": "code",
      "source": [
        "# zip_file_name = data_dir / f\"pizza_steak_sushi_{str(int(DATA_AMOUNT*100))}_percent\"\n",
        "\n",
        "# shutil.make_archive(zip_file_name,\n",
        "#                     format = 'zip',\n",
        "#                     root_dir = target_dir)"
      ],
      "metadata": {
        "id": "FOYniYGnn8gy"
      },
      "execution_count": 17,
      "outputs": []
    },
    {
      "cell_type": "code",
      "source": [
        "# !ls -la ../data/"
      ],
      "metadata": {
        "id": "pBzrWMNvvzXY"
      },
      "execution_count": 18,
      "outputs": []
    },
    {
      "cell_type": "code",
      "source": [
        "# !mkdir -p pizza_sushi_steak\n",
        "# !unzip ../data/pizza_steak_sushi_10_percent.zip -d pizza_sushi_steak"
      ],
      "metadata": {
        "id": "3iAr5tLov6S5"
      },
      "execution_count": 19,
      "outputs": []
    },
    {
      "cell_type": "code",
      "source": [
        "# !ls"
      ],
      "metadata": {
        "id": "KHbYHmsKweQv"
      },
      "execution_count": 20,
      "outputs": []
    },
    {
      "cell_type": "markdown",
      "source": [
        "## Download the formatted data directly from github"
      ],
      "metadata": {
        "id": "O083MbXBHHDP"
      }
    },
    {
      "cell_type": "code",
      "source": [
        "import requests # To deal with HTTP requests from web services and APIs\n",
        "import zipfile\n",
        "from pathlib import Path"
      ],
      "metadata": {
        "id": "J9wmBDYlH0kO"
      },
      "execution_count": 21,
      "outputs": []
    },
    {
      "cell_type": "code",
      "source": [
        "# Setting up path to the data\n",
        "data_path = Path(\"data/\")\n",
        "images_path = data_path / \"pizza_steak_sushi\"\n",
        "\n",
        "if images_path.is_dir():\n",
        "    print(f'{images_path} directory exists.')\n",
        "else:\n",
        "    print(f'{images_path} not found.. creating one..')\n",
        "    images_path.mkdir(parents=True, exist_ok=True)\n",
        "\n",
        "    # Download data\n",
        "    with open(data_path / \"pizza_steak_sushi.zip\", \"wb\") as f:\n",
        "        request = requests.get(\"https://github.com/mrdbourke/pytorch-deep-learning/raw/main/data/pizza_steak_sushi.zip\")\n",
        "        print(f\"Downloading data..\")\n",
        "        f.write(request.content)\n",
        "\n",
        "    # Unzipping data\n",
        "    with zipfile.ZipFile(data_path / \"pizza_steak_sushi.zip\", 'r') as zip_ref:\n",
        "        print(f\"Unzipping data..\")\n",
        "        zip_ref.extractall(images_path)"
      ],
      "metadata": {
        "colab": {
          "base_uri": "https://localhost:8080/"
        },
        "id": "PwWeS1dySgQn",
        "outputId": "456c6b2a-1a1e-4685-e156-f14abcad5257"
      },
      "execution_count": 22,
      "outputs": [
        {
          "output_type": "stream",
          "name": "stdout",
          "text": [
            "data/pizza_steak_sushi not found.. creating one..\n",
            "Downloading data..\n",
            "Unzipping data..\n"
          ]
        }
      ]
    },
    {
      "cell_type": "markdown",
      "source": [
        "## Data Preparation"
      ],
      "metadata": {
        "id": "rxqRZZTSqboM"
      }
    },
    {
      "cell_type": "markdown",
      "source": [
        "- Inspect the data and think what you want to do with it.\n",
        "- Image classes exist in seperate directories named after the class name.\n",
        "- Turn this data into a dataset compatible with PyTorch."
      ],
      "metadata": {
        "id": "2zAwl2wvxduw"
      }
    },
    {
      "cell_type": "code",
      "source": [
        "trace_dir(dir_path = images_path)"
      ],
      "metadata": {
        "colab": {
          "base_uri": "https://localhost:8080/"
        },
        "id": "EtTx1HJHNZpY",
        "outputId": "39c387d1-72ea-487c-ce9e-7a36142b931d"
      },
      "execution_count": 23,
      "outputs": [
        {
          "output_type": "stream",
          "name": "stdout",
          "text": [
            "There are 2 and 0 images in 'data/pizza_steak_sushi'\n",
            "There are 3 and 0 images in 'data/pizza_steak_sushi/test'\n",
            "There are 0 and 31 images in 'data/pizza_steak_sushi/test/sushi'\n",
            "There are 0 and 25 images in 'data/pizza_steak_sushi/test/pizza'\n",
            "There are 0 and 19 images in 'data/pizza_steak_sushi/test/steak'\n",
            "There are 3 and 0 images in 'data/pizza_steak_sushi/train'\n",
            "There are 0 and 72 images in 'data/pizza_steak_sushi/train/sushi'\n",
            "There are 0 and 78 images in 'data/pizza_steak_sushi/train/pizza'\n",
            "There are 0 and 75 images in 'data/pizza_steak_sushi/train/steak'\n"
          ]
        }
      ]
    },
    {
      "cell_type": "markdown",
      "source": [
        "- The average total number of images for the test data is 25 images.\n",
        "- The average total number of images for the train data is 75 images."
      ],
      "metadata": {
        "id": "mSu4wCZvN57b"
      }
    },
    {
      "cell_type": "code",
      "source": [
        "train_dir = images_path / 'train'\n",
        "test_dir = images_path / 'test'\n",
        "\n",
        "train_dir, test_dir"
      ],
      "metadata": {
        "id": "Tf7G4vyCNfkc",
        "colab": {
          "base_uri": "https://localhost:8080/"
        },
        "outputId": "9ce34403-edc8-42a1-ea89-fc205a15c178"
      },
      "execution_count": 24,
      "outputs": [
        {
          "output_type": "execute_result",
          "data": {
            "text/plain": [
              "(PosixPath('data/pizza_steak_sushi/train'),\n",
              " PosixPath('data/pizza_steak_sushi/test'))"
            ]
          },
          "metadata": {},
          "execution_count": 24
        }
      ]
    },
    {
      "cell_type": "markdown",
      "source": [
        "### Visualing Images"
      ],
      "metadata": {
        "id": "9VFMOikun2Qt"
      }
    },
    {
      "cell_type": "code",
      "source": [
        "import random\n",
        "\n",
        "random.seed(42)"
      ],
      "metadata": {
        "id": "7-7Xei1Wn9Hr"
      },
      "execution_count": 25,
      "outputs": []
    },
    {
      "cell_type": "code",
      "source": [
        "# Get all image paths\n",
        "images_paths = list(images_path.glob(\"*/*/*.jpg\"))\n",
        "\n"
      ],
      "metadata": {
        "id": "InT54EGz35_i",
        "outputId": "640aa9bc-8660-41bc-aecc-bf5b1525538b",
        "colab": {
          "base_uri": "https://localhost:8080/"
        }
      },
      "execution_count": 34,
      "outputs": [
        {
          "output_type": "execute_result",
          "data": {
            "text/plain": [
              "[PosixPath('data/pizza_steak_sushi/test/sushi/175783.jpg'),\n",
              " PosixPath('data/pizza_steak_sushi/test/sushi/1680893.jpg'),\n",
              " PosixPath('data/pizza_steak_sushi/test/sushi/684266.jpg'),\n",
              " PosixPath('data/pizza_steak_sushi/test/sushi/1245193.jpg'),\n",
              " PosixPath('data/pizza_steak_sushi/test/sushi/3196729.jpg'),\n",
              " PosixPath('data/pizza_steak_sushi/test/sushi/343036.jpg'),\n",
              " PosixPath('data/pizza_steak_sushi/test/sushi/858157.jpg'),\n",
              " PosixPath('data/pizza_steak_sushi/test/sushi/1742201.jpg'),\n",
              " PosixPath('data/pizza_steak_sushi/test/sushi/1230335.jpg'),\n",
              " PosixPath('data/pizza_steak_sushi/test/sushi/2540511.jpg'),\n",
              " PosixPath('data/pizza_steak_sushi/test/sushi/719108.jpg'),\n",
              " PosixPath('data/pizza_steak_sushi/test/sushi/2394442.jpg'),\n",
              " PosixPath('data/pizza_steak_sushi/test/sushi/2715127.jpg'),\n",
              " PosixPath('data/pizza_steak_sushi/test/sushi/1172255.jpg'),\n",
              " PosixPath('data/pizza_steak_sushi/test/sushi/3177743.jpg'),\n",
              " PosixPath('data/pizza_steak_sushi/test/sushi/887831.jpg'),\n",
              " PosixPath('data/pizza_steak_sushi/test/sushi/499605.jpg'),\n",
              " PosixPath('data/pizza_steak_sushi/test/sushi/3837522.jpg'),\n",
              " PosixPath('data/pizza_steak_sushi/test/sushi/479711.jpg'),\n",
              " PosixPath('data/pizza_steak_sushi/test/sushi/2741434.jpg'),\n",
              " PosixPath('data/pizza_steak_sushi/test/sushi/2276986.jpg'),\n",
              " PosixPath('data/pizza_steak_sushi/test/sushi/1987407.jpg'),\n",
              " PosixPath('data/pizza_steak_sushi/test/sushi/207578.jpg'),\n",
              " PosixPath('data/pizza_steak_sushi/test/sushi/1434806.jpg'),\n",
              " PosixPath('data/pizza_steak_sushi/test/sushi/2190404.jpg'),\n",
              " PosixPath('data/pizza_steak_sushi/test/sushi/988559.jpg'),\n",
              " PosixPath('data/pizza_steak_sushi/test/sushi/3806282.jpg'),\n",
              " PosixPath('data/pizza_steak_sushi/test/sushi/2521706.jpg'),\n",
              " PosixPath('data/pizza_steak_sushi/test/sushi/2385731.jpg'),\n",
              " PosixPath('data/pizza_steak_sushi/test/sushi/1600999.jpg'),\n",
              " PosixPath('data/pizza_steak_sushi/test/sushi/46797.jpg'),\n",
              " PosixPath('data/pizza_steak_sushi/test/pizza/1925494.jpg'),\n",
              " PosixPath('data/pizza_steak_sushi/test/pizza/1687143.jpg'),\n",
              " PosixPath('data/pizza_steak_sushi/test/pizza/2019408.jpg'),\n",
              " PosixPath('data/pizza_steak_sushi/test/pizza/398345.jpg'),\n",
              " PosixPath('data/pizza_steak_sushi/test/pizza/2218680.jpg'),\n",
              " PosixPath('data/pizza_steak_sushi/test/pizza/416067.jpg'),\n",
              " PosixPath('data/pizza_steak_sushi/test/pizza/344397.jpg'),\n",
              " PosixPath('data/pizza_steak_sushi/test/pizza/2003290.jpg'),\n",
              " PosixPath('data/pizza_steak_sushi/test/pizza/2124579.jpg'),\n",
              " PosixPath('data/pizza_steak_sushi/test/pizza/309892.jpg'),\n",
              " PosixPath('data/pizza_steak_sushi/test/pizza/2111981.jpg'),\n",
              " PosixPath('data/pizza_steak_sushi/test/pizza/648055.jpg'),\n",
              " PosixPath('data/pizza_steak_sushi/test/pizza/930553.jpg'),\n",
              " PosixPath('data/pizza_steak_sushi/test/pizza/3475871.jpg'),\n",
              " PosixPath('data/pizza_steak_sushi/test/pizza/1503858.jpg'),\n",
              " PosixPath('data/pizza_steak_sushi/test/pizza/1152100.jpg'),\n",
              " PosixPath('data/pizza_steak_sushi/test/pizza/2236338.jpg'),\n",
              " PosixPath('data/pizza_steak_sushi/test/pizza/3092704.jpg'),\n",
              " PosixPath('data/pizza_steak_sushi/test/pizza/971934.jpg'),\n",
              " PosixPath('data/pizza_steak_sushi/test/pizza/714866.jpg'),\n",
              " PosixPath('data/pizza_steak_sushi/test/pizza/195160.jpg'),\n",
              " PosixPath('data/pizza_steak_sushi/test/pizza/194643.jpg'),\n",
              " PosixPath('data/pizza_steak_sushi/test/pizza/540882.jpg'),\n",
              " PosixPath('data/pizza_steak_sushi/test/pizza/2508636.jpg'),\n",
              " PosixPath('data/pizza_steak_sushi/test/pizza/2871261.jpg'),\n",
              " PosixPath('data/pizza_steak_sushi/test/steak/1882831.jpg'),\n",
              " PosixPath('data/pizza_steak_sushi/test/steak/894825.jpg'),\n",
              " PosixPath('data/pizza_steak_sushi/test/steak/1302563.jpg'),\n",
              " PosixPath('data/pizza_steak_sushi/test/steak/966174.jpg'),\n",
              " PosixPath('data/pizza_steak_sushi/test/steak/2117351.jpg'),\n",
              " PosixPath('data/pizza_steak_sushi/test/steak/502076.jpg'),\n",
              " PosixPath('data/pizza_steak_sushi/test/steak/673127.jpg'),\n",
              " PosixPath('data/pizza_steak_sushi/test/steak/1285886.jpg'),\n",
              " PosixPath('data/pizza_steak_sushi/test/steak/27415.jpg'),\n",
              " PosixPath('data/pizza_steak_sushi/test/steak/2144308.jpg'),\n",
              " PosixPath('data/pizza_steak_sushi/test/steak/690177.jpg'),\n",
              " PosixPath('data/pizza_steak_sushi/test/steak/1868005.jpg'),\n",
              " PosixPath('data/pizza_steak_sushi/test/steak/3873283.jpg'),\n",
              " PosixPath('data/pizza_steak_sushi/test/steak/3424937.jpg'),\n",
              " PosixPath('data/pizza_steak_sushi/test/steak/100274.jpg'),\n",
              " PosixPath('data/pizza_steak_sushi/test/steak/354513.jpg'),\n",
              " PosixPath('data/pizza_steak_sushi/test/steak/1016217.jpg'),\n",
              " PosixPath('data/pizza_steak_sushi/test/steak/1627703.jpg'),\n",
              " PosixPath('data/pizza_steak_sushi/test/steak/296375.jpg'),\n",
              " PosixPath('data/pizza_steak_sushi/train/sushi/3251688.jpg'),\n",
              " PosixPath('data/pizza_steak_sushi/train/sushi/2019344.jpg'),\n",
              " PosixPath('data/pizza_steak_sushi/train/sushi/1209865.jpg'),\n",
              " PosixPath('data/pizza_steak_sushi/train/sushi/542188.jpg'),\n",
              " PosixPath('data/pizza_steak_sushi/train/sushi/1575445.jpg'),\n",
              " PosixPath('data/pizza_steak_sushi/train/sushi/748830.jpg'),\n",
              " PosixPath('data/pizza_steak_sushi/train/sushi/1615453.jpg'),\n",
              " PosixPath('data/pizza_steak_sushi/train/sushi/840444.jpg'),\n",
              " PosixPath('data/pizza_steak_sushi/train/sushi/2873571.jpg'),\n",
              " PosixPath('data/pizza_steak_sushi/train/sushi/2021381.jpg'),\n",
              " PosixPath('data/pizza_steak_sushi/train/sushi/390178.jpg'),\n",
              " PosixPath('data/pizza_steak_sushi/train/sushi/1138695.jpg'),\n",
              " PosixPath('data/pizza_steak_sushi/train/sushi/3107839.jpg'),\n",
              " PosixPath('data/pizza_steak_sushi/train/sushi/1571146.jpg'),\n",
              " PosixPath('data/pizza_steak_sushi/train/sushi/268990.jpg'),\n",
              " PosixPath('data/pizza_steak_sushi/train/sushi/843815.jpg'),\n",
              " PosixPath('data/pizza_steak_sushi/train/sushi/2871052.jpg'),\n",
              " PosixPath('data/pizza_steak_sushi/train/sushi/377047.jpg'),\n",
              " PosixPath('data/pizza_steak_sushi/train/sushi/3004029.jpg'),\n",
              " PosixPath('data/pizza_steak_sushi/train/sushi/3579071.jpg'),\n",
              " PosixPath('data/pizza_steak_sushi/train/sushi/794647.jpg'),\n",
              " PosixPath('data/pizza_steak_sushi/train/sushi/2120573.jpg'),\n",
              " PosixPath('data/pizza_steak_sushi/train/sushi/2590819.jpg'),\n",
              " PosixPath('data/pizza_steak_sushi/train/sushi/2004525.jpg'),\n",
              " PosixPath('data/pizza_steak_sushi/train/sushi/17704.jpg'),\n",
              " PosixPath('data/pizza_steak_sushi/train/sushi/14046.jpg'),\n",
              " PosixPath('data/pizza_steak_sushi/train/sushi/1129338.jpg'),\n",
              " PosixPath('data/pizza_steak_sushi/train/sushi/700405.jpg'),\n",
              " PosixPath('data/pizza_steak_sushi/train/sushi/169392.jpg'),\n",
              " PosixPath('data/pizza_steak_sushi/train/sushi/1214108.jpg'),\n",
              " PosixPath('data/pizza_steak_sushi/train/sushi/1552504.jpg'),\n",
              " PosixPath('data/pizza_steak_sushi/train/sushi/3360232.jpg'),\n",
              " PosixPath('data/pizza_steak_sushi/train/sushi/2980779.jpg'),\n",
              " PosixPath('data/pizza_steak_sushi/train/sushi/1551817.jpg'),\n",
              " PosixPath('data/pizza_steak_sushi/train/sushi/1232045.jpg'),\n",
              " PosixPath('data/pizza_steak_sushi/train/sushi/497686.jpg'),\n",
              " PosixPath('data/pizza_steak_sushi/train/sushi/307738.jpg'),\n",
              " PosixPath('data/pizza_steak_sushi/train/sushi/2720223.jpg'),\n",
              " PosixPath('data/pizza_steak_sushi/train/sushi/2267190.jpg'),\n",
              " PosixPath('data/pizza_steak_sushi/train/sushi/1280119.jpg'),\n",
              " PosixPath('data/pizza_steak_sushi/train/sushi/2017378.jpg'),\n",
              " PosixPath('data/pizza_steak_sushi/train/sushi/1221830.jpg'),\n",
              " PosixPath('data/pizza_steak_sushi/train/sushi/773725.jpg'),\n",
              " PosixPath('data/pizza_steak_sushi/train/sushi/686426.jpg'),\n",
              " PosixPath('data/pizza_steak_sushi/train/sushi/2641778.jpg'),\n",
              " PosixPath('data/pizza_steak_sushi/train/sushi/2175561.jpg'),\n",
              " PosixPath('data/pizza_steak_sushi/train/sushi/148799.jpg'),\n",
              " PosixPath('data/pizza_steak_sushi/train/sushi/929471.jpg'),\n",
              " PosixPath('data/pizza_steak_sushi/train/sushi/3360207.jpg'),\n",
              " PosixPath('data/pizza_steak_sushi/train/sushi/1957449.jpg'),\n",
              " PosixPath('data/pizza_steak_sushi/train/sushi/3737197.jpg'),\n",
              " PosixPath('data/pizza_steak_sushi/train/sushi/1070104.jpg'),\n",
              " PosixPath('data/pizza_steak_sushi/train/sushi/2323548.jpg'),\n",
              " PosixPath('data/pizza_steak_sushi/train/sushi/3081701.jpg'),\n",
              " PosixPath('data/pizza_steak_sushi/train/sushi/2021685.jpg'),\n",
              " PosixPath('data/pizza_steak_sushi/train/sushi/2574453.jpg'),\n",
              " PosixPath('data/pizza_steak_sushi/train/sushi/2674024.jpg'),\n",
              " PosixPath('data/pizza_steak_sushi/train/sushi/765684.jpg'),\n",
              " PosixPath('data/pizza_steak_sushi/train/sushi/2797464.jpg'),\n",
              " PosixPath('data/pizza_steak_sushi/train/sushi/855721.jpg'),\n",
              " PosixPath('data/pizza_steak_sushi/train/sushi/93139.jpg'),\n",
              " PosixPath('data/pizza_steak_sushi/train/sushi/170385.jpg'),\n",
              " PosixPath('data/pizza_steak_sushi/train/sushi/3353428.jpg'),\n",
              " PosixPath('data/pizza_steak_sushi/train/sushi/385154.jpg'),\n",
              " PosixPath('data/pizza_steak_sushi/train/sushi/200025.jpg'),\n",
              " PosixPath('data/pizza_steak_sushi/train/sushi/3426958.jpg'),\n",
              " PosixPath('data/pizza_steak_sushi/train/sushi/2813454.jpg'),\n",
              " PosixPath('data/pizza_steak_sushi/train/sushi/821108.jpg'),\n",
              " PosixPath('data/pizza_steak_sushi/train/sushi/424994.jpg'),\n",
              " PosixPath('data/pizza_steak_sushi/train/sushi/2492146.jpg'),\n",
              " PosixPath('data/pizza_steak_sushi/train/sushi/121940.jpg'),\n",
              " PosixPath('data/pizza_steak_sushi/train/sushi/710379.jpg'),\n",
              " PosixPath('data/pizza_steak_sushi/train/pizza/1008844.jpg'),\n",
              " PosixPath('data/pizza_steak_sushi/train/pizza/2885050.jpg'),\n",
              " PosixPath('data/pizza_steak_sushi/train/pizza/2811032.jpg'),\n",
              " PosixPath('data/pizza_steak_sushi/train/pizza/220190.jpg'),\n",
              " PosixPath('data/pizza_steak_sushi/train/pizza/2924941.jpg'),\n",
              " PosixPath('data/pizza_steak_sushi/train/pizza/764429.jpg'),\n",
              " PosixPath('data/pizza_steak_sushi/train/pizza/1899785.jpg'),\n",
              " PosixPath('data/pizza_steak_sushi/train/pizza/2121603.jpg'),\n",
              " PosixPath('data/pizza_steak_sushi/train/pizza/3821701.jpg'),\n",
              " PosixPath('data/pizza_steak_sushi/train/pizza/3589437.jpg'),\n",
              " PosixPath('data/pizza_steak_sushi/train/pizza/218711.jpg'),\n",
              " PosixPath('data/pizza_steak_sushi/train/pizza/1105700.jpg'),\n",
              " PosixPath('data/pizza_steak_sushi/train/pizza/3269634.jpg'),\n",
              " PosixPath('data/pizza_steak_sushi/train/pizza/1524655.jpg'),\n",
              " PosixPath('data/pizza_steak_sushi/train/pizza/2493954.jpg'),\n",
              " PosixPath('data/pizza_steak_sushi/train/pizza/1633289.jpg'),\n",
              " PosixPath('data/pizza_steak_sushi/train/pizza/38349.jpg'),\n",
              " PosixPath('data/pizza_steak_sushi/train/pizza/2154394.jpg'),\n",
              " PosixPath('data/pizza_steak_sushi/train/pizza/2885796.jpg'),\n",
              " PosixPath('data/pizza_steak_sushi/train/pizza/2451169.jpg'),\n",
              " PosixPath('data/pizza_steak_sushi/train/pizza/3699992.jpg'),\n",
              " PosixPath('data/pizza_steak_sushi/train/pizza/3109486.jpg'),\n",
              " PosixPath('data/pizza_steak_sushi/train/pizza/2426686.jpg'),\n",
              " PosixPath('data/pizza_steak_sushi/train/pizza/1089334.jpg'),\n",
              " PosixPath('data/pizza_steak_sushi/train/pizza/2190018.jpg'),\n",
              " PosixPath('data/pizza_steak_sushi/train/pizza/3860002.jpg'),\n",
              " PosixPath('data/pizza_steak_sushi/train/pizza/12301.jpg'),\n",
              " PosixPath('data/pizza_steak_sushi/train/pizza/1649276.jpg'),\n",
              " PosixPath('data/pizza_steak_sushi/train/pizza/2760984.jpg'),\n",
              " PosixPath('data/pizza_steak_sushi/train/pizza/2569760.jpg'),\n",
              " PosixPath('data/pizza_steak_sushi/train/pizza/2702825.jpg'),\n",
              " PosixPath('data/pizza_steak_sushi/train/pizza/3018077.jpg'),\n",
              " PosixPath('data/pizza_steak_sushi/train/pizza/393658.jpg'),\n",
              " PosixPath('data/pizza_steak_sushi/train/pizza/68684.jpg'),\n",
              " PosixPath('data/pizza_steak_sushi/train/pizza/3196721.jpg'),\n",
              " PosixPath('data/pizza_steak_sushi/train/pizza/786995.jpg'),\n",
              " PosixPath('data/pizza_steak_sushi/train/pizza/5764.jpg'),\n",
              " PosixPath('data/pizza_steak_sushi/train/pizza/300869.jpg'),\n",
              " PosixPath('data/pizza_steak_sushi/train/pizza/715169.jpg'),\n",
              " PosixPath('data/pizza_steak_sushi/train/pizza/1654444.jpg'),\n",
              " PosixPath('data/pizza_steak_sushi/train/pizza/1572608.jpg'),\n",
              " PosixPath('data/pizza_steak_sushi/train/pizza/765799.jpg'),\n",
              " PosixPath('data/pizza_steak_sushi/train/pizza/667309.jpg'),\n",
              " PosixPath('data/pizza_steak_sushi/train/pizza/2992084.jpg'),\n",
              " PosixPath('data/pizza_steak_sushi/train/pizza/2382016.jpg'),\n",
              " PosixPath('data/pizza_steak_sushi/train/pizza/3530210.jpg'),\n",
              " PosixPath('data/pizza_steak_sushi/train/pizza/2026009.jpg'),\n",
              " PosixPath('data/pizza_steak_sushi/train/pizza/2285942.jpg'),\n",
              " PosixPath('data/pizza_steak_sushi/train/pizza/2576168.jpg'),\n",
              " PosixPath('data/pizza_steak_sushi/train/pizza/1968947.jpg'),\n",
              " PosixPath('data/pizza_steak_sushi/train/pizza/928670.jpg'),\n",
              " PosixPath('data/pizza_steak_sushi/train/pizza/2687575.jpg'),\n",
              " PosixPath('data/pizza_steak_sushi/train/pizza/1285298.jpg'),\n",
              " PosixPath('data/pizza_steak_sushi/train/pizza/702165.jpg'),\n",
              " PosixPath('data/pizza_steak_sushi/train/pizza/1044789.jpg'),\n",
              " PosixPath('data/pizza_steak_sushi/train/pizza/3338774.jpg'),\n",
              " PosixPath('data/pizza_steak_sushi/train/pizza/29417.jpg'),\n",
              " PosixPath('data/pizza_steak_sushi/train/pizza/320570.jpg'),\n",
              " PosixPath('data/pizza_steak_sushi/train/pizza/3281494.jpg'),\n",
              " PosixPath('data/pizza_steak_sushi/train/pizza/2330965.jpg'),\n",
              " PosixPath('data/pizza_steak_sushi/train/pizza/1033251.jpg'),\n",
              " PosixPath('data/pizza_steak_sushi/train/pizza/138855.jpg'),\n",
              " PosixPath('data/pizza_steak_sushi/train/pizza/1412034.jpg'),\n",
              " PosixPath('data/pizza_steak_sushi/train/pizza/244505.jpg'),\n",
              " PosixPath('data/pizza_steak_sushi/train/pizza/2228322.jpg'),\n",
              " PosixPath('data/pizza_steak_sushi/train/pizza/2291093.jpg'),\n",
              " PosixPath('data/pizza_steak_sushi/train/pizza/3441394.jpg'),\n",
              " PosixPath('data/pizza_steak_sushi/train/pizza/853441.jpg'),\n",
              " PosixPath('data/pizza_steak_sushi/train/pizza/2821048.jpg'),\n",
              " PosixPath('data/pizza_steak_sushi/train/pizza/2428085.jpg'),\n",
              " PosixPath('data/pizza_steak_sushi/train/pizza/2800325.jpg'),\n",
              " PosixPath('data/pizza_steak_sushi/train/pizza/1947572.jpg'),\n",
              " PosixPath('data/pizza_steak_sushi/train/pizza/2785084.jpg'),\n",
              " PosixPath('data/pizza_steak_sushi/train/pizza/618348.jpg'),\n",
              " PosixPath('data/pizza_steak_sushi/train/pizza/1660415.jpg'),\n",
              " PosixPath('data/pizza_steak_sushi/train/pizza/3505182.jpg'),\n",
              " PosixPath('data/pizza_steak_sushi/train/pizza/741883.jpg'),\n",
              " PosixPath('data/pizza_steak_sushi/train/pizza/739735.jpg'),\n",
              " PosixPath('data/pizza_steak_sushi/train/steak/165639.jpg'),\n",
              " PosixPath('data/pizza_steak_sushi/train/steak/2017387.jpg'),\n",
              " PosixPath('data/pizza_steak_sushi/train/steak/1937872.jpg'),\n",
              " PosixPath('data/pizza_steak_sushi/train/steak/1382427.jpg'),\n",
              " PosixPath('data/pizza_steak_sushi/train/steak/1264154.jpg'),\n",
              " PosixPath('data/pizza_steak_sushi/train/steak/355715.jpg'),\n",
              " PosixPath('data/pizza_steak_sushi/train/steak/1598345.jpg'),\n",
              " PosixPath('data/pizza_steak_sushi/train/steak/1257104.jpg'),\n",
              " PosixPath('data/pizza_steak_sushi/train/steak/461689.jpg'),\n",
              " PosixPath('data/pizza_steak_sushi/train/steak/339891.jpg'),\n",
              " PosixPath('data/pizza_steak_sushi/train/steak/3074367.jpg'),\n",
              " PosixPath('data/pizza_steak_sushi/train/steak/2979061.jpg'),\n",
              " PosixPath('data/pizza_steak_sushi/train/steak/735441.jpg'),\n",
              " PosixPath('data/pizza_steak_sushi/train/steak/256592.jpg'),\n",
              " PosixPath('data/pizza_steak_sushi/train/steak/2825100.jpg'),\n",
              " PosixPath('data/pizza_steak_sushi/train/steak/421476.jpg'),\n",
              " PosixPath('data/pizza_steak_sushi/train/steak/1621763.jpg'),\n",
              " PosixPath('data/pizza_steak_sushi/train/steak/2881783.jpg'),\n",
              " PosixPath('data/pizza_steak_sushi/train/steak/1413972.jpg'),\n",
              " PosixPath('data/pizza_steak_sushi/train/steak/1761285.jpg'),\n",
              " PosixPath('data/pizza_steak_sushi/train/steak/482022.jpg'),\n",
              " PosixPath('data/pizza_steak_sushi/train/steak/2707522.jpg'),\n",
              " PosixPath('data/pizza_steak_sushi/train/steak/3142674.jpg'),\n",
              " PosixPath('data/pizza_steak_sushi/train/steak/3142045.jpg'),\n",
              " PosixPath('data/pizza_steak_sushi/train/steak/2614189.jpg'),\n",
              " PosixPath('data/pizza_steak_sushi/train/steak/2614649.jpg'),\n",
              " PosixPath('data/pizza_steak_sushi/train/steak/3245622.jpg'),\n",
              " PosixPath('data/pizza_steak_sushi/train/steak/2629750.jpg'),\n",
              " PosixPath('data/pizza_steak_sushi/train/steak/443210.jpg'),\n",
              " PosixPath('data/pizza_steak_sushi/train/steak/3727036.jpg'),\n",
              " PosixPath('data/pizza_steak_sushi/train/steak/239025.jpg'),\n",
              " PosixPath('data/pizza_steak_sushi/train/steak/3577618.jpg'),\n",
              " PosixPath('data/pizza_steak_sushi/train/steak/100135.jpg'),\n",
              " PosixPath('data/pizza_steak_sushi/train/steak/914570.jpg'),\n",
              " PosixPath('data/pizza_steak_sushi/train/steak/2287136.jpg'),\n",
              " PosixPath('data/pizza_steak_sushi/train/steak/167069.jpg'),\n",
              " PosixPath('data/pizza_steak_sushi/train/steak/830007.jpg'),\n",
              " PosixPath('data/pizza_steak_sushi/train/steak/1976160.jpg'),\n",
              " PosixPath('data/pizza_steak_sushi/train/steak/1624747.jpg'),\n",
              " PosixPath('data/pizza_steak_sushi/train/steak/2013535.jpg'),\n",
              " PosixPath('data/pizza_steak_sushi/train/steak/2087958.jpg'),\n",
              " PosixPath('data/pizza_steak_sushi/train/steak/1961025.jpg'),\n",
              " PosixPath('data/pizza_steak_sushi/train/steak/2606444.jpg'),\n",
              " PosixPath('data/pizza_steak_sushi/train/steak/1839481.jpg'),\n",
              " PosixPath('data/pizza_steak_sushi/train/steak/1787505.jpg'),\n",
              " PosixPath('data/pizza_steak_sushi/train/steak/231296.jpg'),\n",
              " PosixPath('data/pizza_steak_sushi/train/steak/2222018.jpg'),\n",
              " PosixPath('data/pizza_steak_sushi/train/steak/214320.jpg'),\n",
              " PosixPath('data/pizza_steak_sushi/train/steak/75537.jpg'),\n",
              " PosixPath('data/pizza_steak_sushi/train/steak/2254705.jpg'),\n",
              " PosixPath('data/pizza_steak_sushi/train/steak/2648423.jpg'),\n",
              " PosixPath('data/pizza_steak_sushi/train/steak/1225762.jpg'),\n",
              " PosixPath('data/pizza_steak_sushi/train/steak/1966300.jpg'),\n",
              " PosixPath('data/pizza_steak_sushi/train/steak/2603058.jpg'),\n",
              " PosixPath('data/pizza_steak_sushi/train/steak/3857508.jpg'),\n",
              " PosixPath('data/pizza_steak_sushi/train/steak/2628106.jpg'),\n",
              " PosixPath('data/pizza_steak_sushi/train/steak/2878151.jpg'),\n",
              " PosixPath('data/pizza_steak_sushi/train/steak/1849463.jpg'),\n",
              " PosixPath('data/pizza_steak_sushi/train/steak/922752.jpg'),\n",
              " PosixPath('data/pizza_steak_sushi/train/steak/1615395.jpg'),\n",
              " PosixPath('data/pizza_steak_sushi/train/steak/97656.jpg'),\n",
              " PosixPath('data/pizza_steak_sushi/train/steak/2561199.jpg'),\n",
              " PosixPath('data/pizza_steak_sushi/train/steak/2880035.jpg'),\n",
              " PosixPath('data/pizza_steak_sushi/train/steak/3518960.jpg'),\n",
              " PosixPath('data/pizza_steak_sushi/train/steak/234626.jpg'),\n",
              " PosixPath('data/pizza_steak_sushi/train/steak/1736968.jpg'),\n",
              " PosixPath('data/pizza_steak_sushi/train/steak/176508.jpg'),\n",
              " PosixPath('data/pizza_steak_sushi/train/steak/937133.jpg'),\n",
              " PosixPath('data/pizza_steak_sushi/train/steak/2129685.jpg'),\n",
              " PosixPath('data/pizza_steak_sushi/train/steak/2324994.jpg'),\n",
              " PosixPath('data/pizza_steak_sushi/train/steak/2163079.jpg'),\n",
              " PosixPath('data/pizza_steak_sushi/train/steak/225990.jpg'),\n",
              " PosixPath('data/pizza_steak_sushi/train/steak/1647351.jpg'),\n",
              " PosixPath('data/pizza_steak_sushi/train/steak/560503.jpg'),\n",
              " PosixPath('data/pizza_steak_sushi/train/steak/3727491.jpg')]"
            ]
          },
          "metadata": {},
          "execution_count": 34
        }
      ]
    }
  ]
}